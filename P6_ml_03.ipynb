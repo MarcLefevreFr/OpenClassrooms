{
  "nbformat": 4,
  "nbformat_minor": 0,
  "metadata": {
    "colab": {
      "name": "P6_ml_03.ipynb",
      "provenance": [],
      "machine_shape": "hm",
      "authorship_tag": "ABX9TyPnAz9WkixgBQ16nfg/wpBN",
      "include_colab_link": true
    },
    "kernelspec": {
      "name": "python3",
      "display_name": "Python 3"
    },
    "language_info": {
      "name": "python"
    },
    "accelerator": "GPU"
  },
  "cells": [
    {
      "cell_type": "markdown",
      "metadata": {
        "id": "view-in-github",
        "colab_type": "text"
      },
      "source": [
        "<a href=\"https://colab.research.google.com/github/MarcLefevreFr/OpenClassrooms/blob/master/P6_ml_03.ipynb\" target=\"_parent\"><img src=\"https://colab.research.google.com/assets/colab-badge.svg\" alt=\"Open In Colab\"/></a>"
      ]
    },
    {
      "cell_type": "markdown",
      "metadata": {
        "id": "PA6if26ETSOo"
      },
      "source": [
        "### **Préliminaires**<br>**Import :**<br>- google drive<br>- données<br>- bibliothèques python"
      ]
    },
    {
      "cell_type": "code",
      "metadata": {
        "colab": {
          "base_uri": "https://localhost:8080/"
        },
        "id": "Bz20z_tOS6M7",
        "outputId": "54dfd976-8464-4ff4-8ec5-fab4b7a37986"
      },
      "source": [
        "# instal google drive\n",
        "from google.colab import drive\n",
        "\n",
        "drive.mount(\"/content/drive\")"
      ],
      "execution_count": 4,
      "outputs": [
        {
          "output_type": "stream",
          "text": [
            "Mounted at /content/drive\n"
          ],
          "name": "stdout"
        }
      ]
    },
    {
      "cell_type": "code",
      "metadata": {
        "colab": {
          "base_uri": "https://localhost:8080/"
        },
        "id": "dAosIB9qTBTJ",
        "outputId": "72e6893f-b7fe-453a-b1e1-cec9be973654"
      },
      "source": [
        "# récupe des zip d'images et extractions\n",
        "import shutil\n",
        "import os\n",
        "import zipfile\n",
        "from time import time\n",
        "\n",
        "start = time()\n",
        "cwd = os.getcwd()\n",
        "\n",
        "shutil.copy(os.path.join(\"drive/MyDrive/P6/Data/\", \"test.zip\"), cwd)\n",
        "shutil.copy(os.path.join(\"drive/MyDrive/P6/Data/\", \"train.zip\"), cwd)\n",
        "\n",
        "# données \"low\" = image originales mais juste les 30 première classes\n",
        "shutil.copy(os.path.join(\"drive/MyDrive/P6/Data/\", \"test_light.zip\"), cwd)\n",
        "shutil.copy(os.path.join(\"drive/MyDrive/P6/Data/\", \"train_light.zip\"), cwd)\n",
        "\n",
        "\n",
        "\n",
        "with zipfile.ZipFile(cwd + \"/test.zip\", 'r') as zip_ref :\n",
        "    zip_ref.extractall(cwd)\n",
        "\n",
        "with zipfile.ZipFile(cwd + \"/train.zip\", 'r') as zip_ref :\n",
        "    zip_ref.extractall(cwd)\n",
        "\n",
        "with zipfile.ZipFile(cwd + \"/test_light.zip\", 'r') as zip_ref :\n",
        "    zip_ref.extractall(cwd)\n",
        "\n",
        "with zipfile.ZipFile(cwd + \"/train_light.zip\", 'r') as zip_ref :\n",
        "    zip_ref.extractall(cwd)\n",
        "\n",
        "print(f\"Import & extraction des data : {time()-start:.0f} secondes.\")"
      ],
      "execution_count": 5,
      "outputs": [
        {
          "output_type": "stream",
          "text": [
            "Import & extraction des data : 78 secondes.\n"
          ],
          "name": "stdout"
        }
      ]
    },
    {
      "cell_type": "code",
      "metadata": {
        "colab": {
          "base_uri": "https://localhost:8080/"
        },
        "id": "Wo_BAHyTTBVs",
        "outputId": "3962ac11-ffdb-44ac-c896-cadad6c6a500"
      },
      "source": [
        "# vérif\n",
        "import os\n",
        "# chemin des répertoires contenant les photos\n",
        "PATH_TRAIN = \"train\"\n",
        "PATH_TRAIN_l = \"train_light\"\n",
        "PATH_TEST = \"test\"\n",
        "PATH_TEST_l = \"test_light\"\n",
        "\n",
        "len(os.listdir(PATH_TRAIN)), len(os.listdir(PATH_TEST)), len(os.listdir(PATH_TRAIN_l)), len(os.listdir(PATH_TEST_l))"
      ],
      "execution_count": 6,
      "outputs": [
        {
          "output_type": "execute_result",
          "data": {
            "text/plain": [
              "(120, 120, 30, 30)"
            ]
          },
          "metadata": {
            "tags": []
          },
          "execution_count": 6
        }
      ]
    },
    {
      "cell_type": "code",
      "metadata": {
        "id": "2hh0wl7-TBYV"
      },
      "source": [
        "# Import python\n",
        "from PIL import Image, ImageOps\n",
        "import matplotlib.pyplot as plt\n",
        "import numpy as np\n",
        "import scipy.io\n",
        "import PIL.ImageOps as ops\n",
        "import os\n",
        "import pickle\n",
        "import random as rd\n",
        "from time import time\n",
        "\n",
        "import tensorflow as tf\n",
        "\n",
        "from tensorflow.keras.models import Sequential\n",
        "from tensorflow.keras.layers import Flatten, Dense, Dropout, Activation, Conv2D, MaxPooling2D, GlobalMaxPool2D\n",
        "from tensorflow.keras.callbacks import ModelCheckpoint\n",
        "from tensorflow.keras.preprocessing import image_dataset_from_directory\n",
        "from tensorflow.keras.preprocessing.image import ImageDataGenerator"
      ],
      "execution_count": 45,
      "outputs": []
    },
    {
      "cell_type": "code",
      "metadata": {
        "id": "J-ToyHlBTBbQ"
      },
      "source": [
        ""
      ],
      "execution_count": null,
      "outputs": []
    },
    {
      "cell_type": "markdown",
      "metadata": {
        "id": "BnAOngetrQhp"
      },
      "source": [
        "## **Fonctions utiles**"
      ]
    },
    {
      "cell_type": "code",
      "metadata": {
        "id": "Faiii1fyrVSY"
      },
      "source": [
        "def modelize(model, nb_epochs, train_gen, val_gen, train_steps, val_steps, mod_name, opti = \"adam\", verbose = 0):\n",
        "\n",
        "    model.compile(loss='categorical_crossentropy',\n",
        "                  optimizer = opti,\n",
        "                  metrics=['accuracy', ])\n",
        "\n",
        "    start = time()\n",
        "\n",
        "    history = model.fit(train_gen,\n",
        "                        steps_per_epoch = train_steps,\n",
        "                        epochs = nb_epochs,\n",
        "                        validation_data = val_gen,\n",
        "                        validation_steps = val_steps,\n",
        "                        verbose = verbose)\n",
        "    \n",
        "    model.save_weights(\"drive/MyDrive/P6/Data/models/\" + mod_name + \".h5\")\n",
        "    pickle.dump(history.history, open(\"drive/MyDrive/P6/Data/models/\" + mod_name + \"_hist.pickle\", \"wb\" ))\n",
        "\n",
        "    fig = plt.figure(figsize = (10,4))\n",
        "\n",
        "    train_acc = history.history[\"accuracy\"]\n",
        "    val_acc = history.history[\"val_accuracy\"]\n",
        "    \n",
        "    plt.plot(range(1, nb_epochs+1), train_acc, 'b', label='Train acc', color = \"red\")\n",
        "    plt.plot(range(1, nb_epochs+1), val_acc, 'b', label='Validation acc', color = \"blue\")\n",
        "    plt.title('Train & validation accuracies - ' + mod_name)\n",
        "    plt.xlabel(\"Epochs\")\n",
        "    plt.ylabel(\"Accuracy\")\n",
        "    plt.legend()\n",
        "\n",
        "    print(f\"Temps d'entrainements pour {nb_epochs} epochs : {time()-start:.0f} secondes.\")\n",
        "    print(f\"Meilleure train_acc = {np.max(train_acc):.2f}, meilleure val_acc = {np.max(val_acc):.2f}\")\n",
        "    print()\n",
        "\n",
        "    plt.show()"
      ],
      "execution_count": 25,
      "outputs": []
    },
    {
      "cell_type": "code",
      "metadata": {
        "id": "NypW48QaTF91"
      },
      "source": [
        "def create_generator(batch, train_folder, size = (100, 100)):\n",
        "\n",
        "    generators = []\n",
        "\n",
        "    train_datagen = ImageDataGenerator(rescale = 1./255#, # normalisation\n",
        "                                    #rotation_range = 15,\n",
        "                                    #horizontal_flip=True,\n",
        "                                    #validation_split = 0.2\n",
        "                                    )\n",
        "\n",
        "    val_datagen = ImageDataGenerator(rescale = 1./255,\n",
        "                                    rotation_range = 10,\n",
        "                                    zoom_range = 0.1,\n",
        "                                    fill_mode = \"reflect\"\n",
        "                                    )\n",
        "\n",
        "    train_gen = train_datagen.flow_from_directory(train_folder,\n",
        "                                                target_size = size,\n",
        "                                                batch_size = batch,\n",
        "                                                class_mode = \"categorical\",\n",
        "                                                seed = SEED,\n",
        "                                                interpolation = \"nearest\"\n",
        "                                                )\n",
        "\n",
        "    val_gen = val_datagen.flow_from_directory(train_folder,\n",
        "                                            target_size = size,\n",
        "                                            batch_size = batch,\n",
        "                                            class_mode = \"categorical\",\n",
        "                                            seed = SEED,\n",
        "                                            interpolation = \"nearest\"\n",
        "                                            )\n",
        "    \n",
        "    return train_gen, val_gen\n",
        "\n",
        "\n",
        "def create_test_generators(batch, test_folder, size = (100, 100)):\n",
        "\n",
        "    # générateur d'images test, juste la normalisation\n",
        "    test_datagen = ImageDataGenerator(rescale = 1./255)\n",
        "\n",
        "    test_gen = train_datagen.flow_from_directory(test_folder,\n",
        "                                                target_size = size,\n",
        "                                                batch_size = batch,\n",
        "                                                class_mode = \"categorical\",\n",
        "                                                seed = SEED,\n",
        "                                                interpolation = \"nearest\"\n",
        "                                                )\n",
        "    \n",
        "    return test_gen\n",
        "\n",
        "    # RECUP DU DICO DES CLASSES :\n",
        "    # ---> mon_generator.class_indices"
      ],
      "execution_count": 26,
      "outputs": []
    },
    {
      "cell_type": "code",
      "metadata": {
        "id": "QgnBhvyPTBeD"
      },
      "source": [
        "BATCH = 32\n",
        "SEED = 47\n",
        "NB_TRAIN = 74137 # nb original\n",
        "NB_TRAIN_light = 4917 # nb original\n",
        "\n",
        "TRAIN_STEPS = NB_TRAIN // BATCH\n",
        "TRAIN_STEPS_light = NB_TRAIN_light // BATCH\n",
        "\n",
        "VAL_STEPS = TRAIN_STEPS // 5\n",
        "VAL_STEPS_light = TRAIN_STEPS_light // 5\n",
        "\n",
        "#print(TRAIN_STEPS, VAL_STEPS)"
      ],
      "execution_count": 27,
      "outputs": []
    },
    {
      "cell_type": "code",
      "metadata": {
        "id": "vnAioufVvBIU"
      },
      "source": [
        ""
      ],
      "execution_count": null,
      "outputs": []
    },
    {
      "cell_type": "markdown",
      "metadata": {
        "id": "Ui5yapFyvKu-"
      },
      "source": [
        "### **Mise en pratique**"
      ]
    },
    {
      "cell_type": "markdown",
      "metadata": {
        "id": "xeic1KUZhwPh"
      },
      "source": [
        "### **Modèle_1 baseline - mode light (30 classes / 1/4 des samples)**"
      ]
    },
    {
      "cell_type": "code",
      "metadata": {
        "id": "N-2ioOh-h4UK"
      },
      "source": [
        "# on commence léger. Pour ce début d'étude on travaille sur des données réduites.\n",
        "# à la fin on aura environ 80000 images pour 120 classes (après data augmentée...) (600+ images par classes)\n",
        "# on commence ici avec 5000 images pour 30 classes (166 images par classes)\n",
        "\n",
        "\n",
        "# création du modèle 30 NEURONES SEULEMENT DANS LE RESEAU DENSE\n",
        "\n",
        "def create_model_1():\n",
        "\n",
        "    model = Sequential()\n",
        "\n",
        "    model.add(Conv2D(64, (3,3), input_shape = (100,100, 3)))\n",
        "    model.add(Activation(\"relu\"))\n",
        "    model.add(MaxPooling2D(pool_size=(2, 2)))\n",
        "    model.add(Dropout(0.1))\n",
        "\n",
        "    model.add(Conv2D(64, (3,3)))\n",
        "    model.add(Activation(\"relu\"))\n",
        "    model.add(MaxPooling2D(pool_size=(2, 2)))\n",
        "    model.add(Dropout(0.1))\n",
        "\n",
        "    model.add(Conv2D(32, (3,3)))\n",
        "    model.add(Activation(\"relu\"))\n",
        "    model.add(MaxPooling2D(pool_size=(2, 2)))\n",
        "    model.add(Dropout(0.1))\n",
        "\n",
        "    model.add(Conv2D(32, (3,3)))\n",
        "    model.add(Activation(\"relu\"))\n",
        "    model.add(MaxPooling2D(pool_size=(2, 2)))\n",
        "    model.add(Dropout(0.1))\n",
        "\n",
        "    model.add(Flatten())\n",
        "\n",
        "    model.add(Dense(30))\n",
        "    model.add(Activation(\"relu\"))\n",
        "    model.add(Dropout(0.1))\n",
        "\n",
        "    model.add(Dense(30))\n",
        "    model.add(Activation(\"softmax\"))\n",
        "\n",
        "    return model"
      ],
      "execution_count": 28,
      "outputs": []
    },
    {
      "cell_type": "code",
      "metadata": {
        "colab": {
          "base_uri": "https://localhost:8080/"
        },
        "id": "F7GRifPZh40V",
        "outputId": "d9dc22d1-c046-46d7-f240-bff46f56e72f"
      },
      "source": [
        "model_1 = create_model_1()\n",
        "model_1.summary()"
      ],
      "execution_count": 29,
      "outputs": [
        {
          "output_type": "stream",
          "text": [
            "Model: \"sequential_5\"\n",
            "_________________________________________________________________\n",
            "Layer (type)                 Output Shape              Param #   \n",
            "=================================================================\n",
            "conv2d_20 (Conv2D)           (None, 98, 98, 64)        1792      \n",
            "_________________________________________________________________\n",
            "activation_30 (Activation)   (None, 98, 98, 64)        0         \n",
            "_________________________________________________________________\n",
            "max_pooling2d_20 (MaxPooling (None, 49, 49, 64)        0         \n",
            "_________________________________________________________________\n",
            "dropout_18 (Dropout)         (None, 49, 49, 64)        0         \n",
            "_________________________________________________________________\n",
            "conv2d_21 (Conv2D)           (None, 47, 47, 64)        36928     \n",
            "_________________________________________________________________\n",
            "activation_31 (Activation)   (None, 47, 47, 64)        0         \n",
            "_________________________________________________________________\n",
            "max_pooling2d_21 (MaxPooling (None, 23, 23, 64)        0         \n",
            "_________________________________________________________________\n",
            "dropout_19 (Dropout)         (None, 23, 23, 64)        0         \n",
            "_________________________________________________________________\n",
            "conv2d_22 (Conv2D)           (None, 21, 21, 32)        18464     \n",
            "_________________________________________________________________\n",
            "activation_32 (Activation)   (None, 21, 21, 32)        0         \n",
            "_________________________________________________________________\n",
            "max_pooling2d_22 (MaxPooling (None, 10, 10, 32)        0         \n",
            "_________________________________________________________________\n",
            "dropout_20 (Dropout)         (None, 10, 10, 32)        0         \n",
            "_________________________________________________________________\n",
            "conv2d_23 (Conv2D)           (None, 8, 8, 32)          9248      \n",
            "_________________________________________________________________\n",
            "activation_33 (Activation)   (None, 8, 8, 32)          0         \n",
            "_________________________________________________________________\n",
            "max_pooling2d_23 (MaxPooling (None, 4, 4, 32)          0         \n",
            "_________________________________________________________________\n",
            "dropout_21 (Dropout)         (None, 4, 4, 32)          0         \n",
            "_________________________________________________________________\n",
            "flatten_5 (Flatten)          (None, 512)               0         \n",
            "_________________________________________________________________\n",
            "dense_10 (Dense)             (None, 30)                15390     \n",
            "_________________________________________________________________\n",
            "activation_34 (Activation)   (None, 30)                0         \n",
            "_________________________________________________________________\n",
            "dropout_22 (Dropout)         (None, 30)                0         \n",
            "_________________________________________________________________\n",
            "dense_11 (Dense)             (None, 30)                930       \n",
            "_________________________________________________________________\n",
            "activation_35 (Activation)   (None, 30)                0         \n",
            "=================================================================\n",
            "Total params: 82,752\n",
            "Trainable params: 82,752\n",
            "Non-trainable params: 0\n",
            "_________________________________________________________________\n"
          ],
          "name": "stdout"
        }
      ]
    },
    {
      "cell_type": "code",
      "metadata": {
        "id": "iyUaUhgMB49n",
        "colab": {
          "base_uri": "https://localhost:8080/"
        },
        "outputId": "35d080be-b09f-4d61-cf22-9d090856009a"
      },
      "source": [
        "train_gen, val_gen = create_generator(BATCH, PATH_TRAIN_l)"
      ],
      "execution_count": 36,
      "outputs": [
        {
          "output_type": "stream",
          "text": [
            "Found 4917 images belonging to 30 classes.\n",
            "Found 4917 images belonging to 30 classes.\n"
          ],
          "name": "stdout"
        }
      ]
    },
    {
      "cell_type": "code",
      "metadata": {
        "colab": {
          "base_uri": "https://localhost:8080/",
          "height": 351
        },
        "id": "371amiafiFwb",
        "outputId": "54ff0939-2e02-42b8-cd8d-b114226c6ad6"
      },
      "source": [
        "modelize(model_1, 50, train_gen_1, val_gen_1,  TRAIN_STEPS_light, VAL_STEPS_light, \"mod_light_1\")"
      ],
      "execution_count": 32,
      "outputs": [
        {
          "output_type": "stream",
          "text": [
            "Temps d'entrainements pour 50 epochs : 859 secondes.\n",
            "Meilleure train_acc = 0.50, meilleure val_acc = 0.49\n",
            "\n"
          ],
          "name": "stdout"
        },
        {
          "output_type": "display_data",
          "data": {
            "image/png": "[encoded data removed]",
            "text/plain": [
              "<Figure size 720x288 with 1 Axes>"
            ]
          },
          "metadata": {
            "tags": [],
            "needs_background": "light"
          }
        }
      ]
    },
    {
      "cell_type": "code",
      "metadata": {
        "id": "-Pz-bLvPiF2q"
      },
      "source": [
        ""
      ],
      "execution_count": null,
      "outputs": []
    },
    {
      "cell_type": "markdown",
      "metadata": {
        "id": "z8KkzSCNIsY3"
      },
      "source": [
        "## **Modèle 2, structure différente - light**<br><br>Comme observé sur certains modèles, on augmente le nombre de filtres des couches de convolutions...\n",
        "\n",
        "\n"
      ]
    },
    {
      "cell_type": "code",
      "metadata": {
        "id": "ELV_h1aJB5A4"
      },
      "source": [
        "def create_model_2():\n",
        "\n",
        "    model = Sequential()\n",
        "\n",
        "    model.add(Conv2D(32, (3,3), input_shape = (100,100, 3)))\n",
        "    model.add(Activation(\"relu\"))\n",
        "    model.add(MaxPooling2D(pool_size=(2, 2)))\n",
        "    model.add(Dropout(0.1))\n",
        "\n",
        "    model.add(Conv2D(32, (3,3)))\n",
        "    model.add(Activation(\"relu\"))\n",
        "    model.add(MaxPooling2D(pool_size=(2, 2)))\n",
        "    model.add(Dropout(0.1))\n",
        "\n",
        "    model.add(Conv2D(64, (3,3)))\n",
        "    model.add(Activation(\"relu\"))\n",
        "    model.add(MaxPooling2D(pool_size=(2, 2)))\n",
        "    model.add(Dropout(0.1))\n",
        "\n",
        "    model.add(Conv2D(64, (3,3)))\n",
        "    model.add(Activation(\"relu\"))\n",
        "    model.add(MaxPooling2D(pool_size=(2, 2)))\n",
        "    model.add(Dropout(0.1))\n",
        "\n",
        "    model.add(Flatten())\n",
        "\n",
        "    model.add(Dense(30))\n",
        "    model.add(Activation(\"relu\"))\n",
        "    model.add(Dropout(0.1))\n",
        "\n",
        "    model.add(Dense(30))\n",
        "    model.add(Activation(\"softmax\"))\n",
        "\n",
        "    return model"
      ],
      "execution_count": 33,
      "outputs": []
    },
    {
      "cell_type": "code",
      "metadata": {
        "id": "F4YHfLcEB5Ez",
        "colab": {
          "base_uri": "https://localhost:8080/"
        },
        "outputId": "ed5a2edc-6f17-49cb-c494-7b39346ed067"
      },
      "source": [
        "model_2 = create_model_2()\n",
        "model_2.summary()"
      ],
      "execution_count": 34,
      "outputs": [
        {
          "output_type": "stream",
          "text": [
            "Model: \"sequential_6\"\n",
            "_________________________________________________________________\n",
            "Layer (type)                 Output Shape              Param #   \n",
            "=================================================================\n",
            "conv2d_24 (Conv2D)           (None, 98, 98, 32)        896       \n",
            "_________________________________________________________________\n",
            "activation_36 (Activation)   (None, 98, 98, 32)        0         \n",
            "_________________________________________________________________\n",
            "max_pooling2d_24 (MaxPooling (None, 49, 49, 32)        0         \n",
            "_________________________________________________________________\n",
            "dropout_23 (Dropout)         (None, 49, 49, 32)        0         \n",
            "_________________________________________________________________\n",
            "conv2d_25 (Conv2D)           (None, 47, 47, 32)        9248      \n",
            "_________________________________________________________________\n",
            "activation_37 (Activation)   (None, 47, 47, 32)        0         \n",
            "_________________________________________________________________\n",
            "max_pooling2d_25 (MaxPooling (None, 23, 23, 32)        0         \n",
            "_________________________________________________________________\n",
            "dropout_24 (Dropout)         (None, 23, 23, 32)        0         \n",
            "_________________________________________________________________\n",
            "conv2d_26 (Conv2D)           (None, 21, 21, 64)        18496     \n",
            "_________________________________________________________________\n",
            "activation_38 (Activation)   (None, 21, 21, 64)        0         \n",
            "_________________________________________________________________\n",
            "max_pooling2d_26 (MaxPooling (None, 10, 10, 64)        0         \n",
            "_________________________________________________________________\n",
            "dropout_25 (Dropout)         (None, 10, 10, 64)        0         \n",
            "_________________________________________________________________\n",
            "conv2d_27 (Conv2D)           (None, 8, 8, 64)          36928     \n",
            "_________________________________________________________________\n",
            "activation_39 (Activation)   (None, 8, 8, 64)          0         \n",
            "_________________________________________________________________\n",
            "max_pooling2d_27 (MaxPooling (None, 4, 4, 64)          0         \n",
            "_________________________________________________________________\n",
            "dropout_26 (Dropout)         (None, 4, 4, 64)          0         \n",
            "_________________________________________________________________\n",
            "flatten_6 (Flatten)          (None, 1024)              0         \n",
            "_________________________________________________________________\n",
            "dense_12 (Dense)             (None, 30)                30750     \n",
            "_________________________________________________________________\n",
            "activation_40 (Activation)   (None, 30)                0         \n",
            "_________________________________________________________________\n",
            "dropout_27 (Dropout)         (None, 30)                0         \n",
            "_________________________________________________________________\n",
            "dense_13 (Dense)             (None, 30)                930       \n",
            "_________________________________________________________________\n",
            "activation_41 (Activation)   (None, 30)                0         \n",
            "=================================================================\n",
            "Total params: 97,248\n",
            "Trainable params: 97,248\n",
            "Non-trainable params: 0\n",
            "_________________________________________________________________\n"
          ],
          "name": "stdout"
        }
      ]
    },
    {
      "cell_type": "code",
      "metadata": {
        "id": "lmWHMul_B5H7",
        "colab": {
          "base_uri": "https://localhost:8080/",
          "height": 351
        },
        "outputId": "6953bbf3-9c24-489e-882f-0c0fa7fae9c9"
      },
      "source": [
        "modelize(model_2, 50, train_gen, val_gen,  TRAIN_STEPS_light, VAL_STEPS_light, \"mod_light_2\")"
      ],
      "execution_count": 37,
      "outputs": [
        {
          "output_type": "stream",
          "text": [
            "Temps d'entrainements pour 50 epochs : 855 secondes.\n",
            "Meilleure train_acc = 0.59, meilleure val_acc = 0.52\n",
            "\n"
          ],
          "name": "stdout"
        },
        {
          "output_type": "display_data",
          "data": {
            "image/png": "[encoded data removed]",
            "text/plain": [
              "<Figure size 720x288 with 1 Axes>"
            ]
          },
          "metadata": {
            "tags": [],
            "needs_background": "light"
          }
        }
      ]
    },
    {
      "cell_type": "code",
      "metadata": {
        "id": "jp7UmDAUB5LK"
      },
      "source": [
        "# Léger mieux des résultats"
      ],
      "execution_count": null,
      "outputs": []
    },
    {
      "cell_type": "code",
      "metadata": {
        "id": "YhIfnh_R6MhQ"
      },
      "source": [
        ""
      ],
      "execution_count": null,
      "outputs": []
    },
    {
      "cell_type": "markdown",
      "metadata": {
        "id": "fk-JOxIvicjR"
      },
      "source": [
        "Même type de courbe avec un léger décrochement de la val_acc (début d'overfitting...).<br>Par contre en lui même le changement de \"structure\" du réseau, avec une augmentation du nombre de filtres sur la fin de la partie convolution du modèle, produit une augmentation spectaculaire des résultats..."
      ]
    },
    {
      "cell_type": "code",
      "metadata": {
        "id": "iuKgnIaDB5OH"
      },
      "source": [
        ""
      ],
      "execution_count": null,
      "outputs": []
    },
    {
      "cell_type": "markdown",
      "metadata": {
        "id": "GSx4P1bBOYNS"
      },
      "source": [
        "## **Modèle 3, - light**<br>On enlève le dernier maxpooling qui réduit trop la taille de l'output du bloc conv"
      ]
    },
    {
      "cell_type": "code",
      "metadata": {
        "id": "4OsV_iNeB5RF"
      },
      "source": [
        "def create_model_3():\n",
        "\n",
        "    model = Sequential()\n",
        "\n",
        "    model.add(Conv2D(32, (3,3), input_shape = (100,100, 3)))\n",
        "    model.add(Activation(\"relu\"))\n",
        "    model.add(MaxPooling2D(pool_size=(2, 2)))\n",
        "    model.add(Dropout(0.1))\n",
        "\n",
        "    model.add(Conv2D(32, (3,3)))\n",
        "    model.add(Activation(\"relu\"))\n",
        "    model.add(MaxPooling2D(pool_size=(2, 2)))\n",
        "    model.add(Dropout(0.1))\n",
        "\n",
        "    model.add(Conv2D(64, (3,3)))\n",
        "    model.add(Activation(\"relu\"))\n",
        "    model.add(MaxPooling2D(pool_size=(2, 2)))\n",
        "    model.add(Dropout(0.1))\n",
        "\n",
        "    model.add(Conv2D(64, (3,3)))\n",
        "    model.add(Activation(\"relu\"))\n",
        "    #model.add(MaxPooling2D(pool_size=(2, 2)))\n",
        "    model.add(Dropout(0.1))\n",
        "\n",
        "    model.add(Flatten())\n",
        "\n",
        "    model.add(Dense(30))\n",
        "    model.add(Activation(\"relu\"))\n",
        "    model.add(Dropout(0.1))\n",
        "\n",
        "    model.add(Dense(30))\n",
        "    model.add(Activation(\"softmax\"))\n",
        "\n",
        "    return model"
      ],
      "execution_count": 38,
      "outputs": []
    },
    {
      "cell_type": "code",
      "metadata": {
        "id": "HKUSPjohB5UM",
        "colab": {
          "base_uri": "https://localhost:8080/"
        },
        "outputId": "0756caf1-e1cc-4284-e7b0-0b443801a468"
      },
      "source": [
        "model_3 = create_model_3()\n",
        "model_3.summary()\n",
        "# ca va doubler le nb de paramètres du modèle..."
      ],
      "execution_count": 39,
      "outputs": [
        {
          "output_type": "stream",
          "text": [
            "Model: \"sequential_7\"\n",
            "_________________________________________________________________\n",
            "Layer (type)                 Output Shape              Param #   \n",
            "=================================================================\n",
            "conv2d_28 (Conv2D)           (None, 98, 98, 32)        896       \n",
            "_________________________________________________________________\n",
            "activation_42 (Activation)   (None, 98, 98, 32)        0         \n",
            "_________________________________________________________________\n",
            "max_pooling2d_28 (MaxPooling (None, 49, 49, 32)        0         \n",
            "_________________________________________________________________\n",
            "dropout_28 (Dropout)         (None, 49, 49, 32)        0         \n",
            "_________________________________________________________________\n",
            "conv2d_29 (Conv2D)           (None, 47, 47, 32)        9248      \n",
            "_________________________________________________________________\n",
            "activation_43 (Activation)   (None, 47, 47, 32)        0         \n",
            "_________________________________________________________________\n",
            "max_pooling2d_29 (MaxPooling (None, 23, 23, 32)        0         \n",
            "_________________________________________________________________\n",
            "dropout_29 (Dropout)         (None, 23, 23, 32)        0         \n",
            "_________________________________________________________________\n",
            "conv2d_30 (Conv2D)           (None, 21, 21, 64)        18496     \n",
            "_________________________________________________________________\n",
            "activation_44 (Activation)   (None, 21, 21, 64)        0         \n",
            "_________________________________________________________________\n",
            "max_pooling2d_30 (MaxPooling (None, 10, 10, 64)        0         \n",
            "_________________________________________________________________\n",
            "dropout_30 (Dropout)         (None, 10, 10, 64)        0         \n",
            "_________________________________________________________________\n",
            "conv2d_31 (Conv2D)           (None, 8, 8, 64)          36928     \n",
            "_________________________________________________________________\n",
            "activation_45 (Activation)   (None, 8, 8, 64)          0         \n",
            "_________________________________________________________________\n",
            "dropout_31 (Dropout)         (None, 8, 8, 64)          0         \n",
            "_________________________________________________________________\n",
            "flatten_7 (Flatten)          (None, 4096)              0         \n",
            "_________________________________________________________________\n",
            "dense_14 (Dense)             (None, 30)                122910    \n",
            "_________________________________________________________________\n",
            "activation_46 (Activation)   (None, 30)                0         \n",
            "_________________________________________________________________\n",
            "dropout_32 (Dropout)         (None, 30)                0         \n",
            "_________________________________________________________________\n",
            "dense_15 (Dense)             (None, 30)                930       \n",
            "_________________________________________________________________\n",
            "activation_47 (Activation)   (None, 30)                0         \n",
            "=================================================================\n",
            "Total params: 189,408\n",
            "Trainable params: 189,408\n",
            "Non-trainable params: 0\n",
            "_________________________________________________________________\n"
          ],
          "name": "stdout"
        }
      ]
    },
    {
      "cell_type": "code",
      "metadata": {
        "id": "KHdSer_VB5XD",
        "colab": {
          "base_uri": "https://localhost:8080/"
        },
        "outputId": "5c076a8f-6aca-4e09-fb79-7e91e7f3e8fe"
      },
      "source": [
        "# augmentation du nb de paramètres à entrainer"
      ],
      "execution_count": null,
      "outputs": [
        {
          "output_type": "stream",
          "text": [
            "Found 4917 images belonging to 30 classes.\n",
            "Found 4917 images belonging to 30 classes.\n"
          ],
          "name": "stdout"
        }
      ]
    },
    {
      "cell_type": "code",
      "metadata": {
        "id": "-IUdy1aWB5Zs",
        "colab": {
          "base_uri": "https://localhost:8080/",
          "height": 351
        },
        "outputId": "3da62482-cb7e-4596-ba45-c5d7680a700e"
      },
      "source": [
        "modelize(model_3, 60, train_gen, val_gen,  TRAIN_STEPS_light, VAL_STEPS_light, \"mod_light_3\")"
      ],
      "execution_count": 40,
      "outputs": [
        {
          "output_type": "stream",
          "text": [
            "Temps d'entrainements pour 60 epochs : 1024 secondes.\n",
            "Meilleure train_acc = 0.84, meilleure val_acc = 0.75\n",
            "\n"
          ],
          "name": "stdout"
        },
        {
          "output_type": "display_data",
          "data": {
            "image/png": "[encoded data removed]",
            "text/plain": [
              "<Figure size 720x288 with 1 Axes>"
            ]
          },
          "metadata": {
            "tags": [],
            "needs_background": "light"
          }
        }
      ]
    },
    {
      "cell_type": "code",
      "metadata": {
        "id": "DeEGDw9VB51p"
      },
      "source": [
        "# mieux spectaculaire des résultats, la taille d'output de la partie convo était trop petite..."
      ],
      "execution_count": null,
      "outputs": []
    },
    {
      "cell_type": "markdown",
      "metadata": {
        "id": "dfWGcuTnbi-N"
      },
      "source": [
        "## **Modèle 4, - light**<br>Global Max Pooling"
      ]
    },
    {
      "cell_type": "code",
      "metadata": {
        "id": "sb3Gk4AsB54f"
      },
      "source": [
        "def create_model_4():\n",
        "\n",
        "    model = Sequential()\n",
        "\n",
        "    model.add(Conv2D(32, (3,3), input_shape = (100,100, 3)))\n",
        "    model.add(Activation(\"relu\"))\n",
        "    model.add(MaxPooling2D(pool_size=(2, 2)))\n",
        "    model.add(Dropout(0.1))\n",
        "\n",
        "    model.add(Conv2D(32, (3,3)))\n",
        "    model.add(Activation(\"relu\"))\n",
        "    model.add(MaxPooling2D(pool_size=(2, 2)))\n",
        "    model.add(Dropout(0.1))\n",
        "\n",
        "    model.add(Conv2D(64, (3,3)))\n",
        "    model.add(Activation(\"relu\"))\n",
        "    model.add(MaxPooling2D(pool_size=(2, 2)))\n",
        "    model.add(Dropout(0.1))\n",
        "\n",
        "    model.add(Conv2D(64, (3,3)))\n",
        "    model.add(Activation(\"relu\"))\n",
        "    #model.add(MaxPooling2D(pool_size=(2, 2)))\n",
        "    model.add(Dropout(0.1))\n",
        "\n",
        "    #model.add(Flatten())\n",
        "    model.add(GlobalMaxPool2D())\n",
        "\n",
        "    model.add(Dense(30))\n",
        "    model.add(Activation(\"relu\"))\n",
        "    model.add(Dropout(0.1))\n",
        "\n",
        "    model.add(Dense(30))\n",
        "    model.add(Activation(\"softmax\"))\n",
        "\n",
        "    return model"
      ],
      "execution_count": 46,
      "outputs": []
    },
    {
      "cell_type": "code",
      "metadata": {
        "id": "9GpQN6JfB57l",
        "colab": {
          "base_uri": "https://localhost:8080/"
        },
        "outputId": "2076b30f-f261-4dc5-f617-d07abfb9228b"
      },
      "source": [
        "model_4 = create_model_4()\n",
        "model_4.summary()"
      ],
      "execution_count": 47,
      "outputs": [
        {
          "output_type": "stream",
          "text": [
            "Model: \"sequential_9\"\n",
            "_________________________________________________________________\n",
            "Layer (type)                 Output Shape              Param #   \n",
            "=================================================================\n",
            "conv2d_36 (Conv2D)           (None, 98, 98, 32)        896       \n",
            "_________________________________________________________________\n",
            "activation_52 (Activation)   (None, 98, 98, 32)        0         \n",
            "_________________________________________________________________\n",
            "max_pooling2d_34 (MaxPooling (None, 49, 49, 32)        0         \n",
            "_________________________________________________________________\n",
            "dropout_37 (Dropout)         (None, 49, 49, 32)        0         \n",
            "_________________________________________________________________\n",
            "conv2d_37 (Conv2D)           (None, 47, 47, 32)        9248      \n",
            "_________________________________________________________________\n",
            "activation_53 (Activation)   (None, 47, 47, 32)        0         \n",
            "_________________________________________________________________\n",
            "max_pooling2d_35 (MaxPooling (None, 23, 23, 32)        0         \n",
            "_________________________________________________________________\n",
            "dropout_38 (Dropout)         (None, 23, 23, 32)        0         \n",
            "_________________________________________________________________\n",
            "conv2d_38 (Conv2D)           (None, 21, 21, 64)        18496     \n",
            "_________________________________________________________________\n",
            "activation_54 (Activation)   (None, 21, 21, 64)        0         \n",
            "_________________________________________________________________\n",
            "max_pooling2d_36 (MaxPooling (None, 10, 10, 64)        0         \n",
            "_________________________________________________________________\n",
            "dropout_39 (Dropout)         (None, 10, 10, 64)        0         \n",
            "_________________________________________________________________\n",
            "conv2d_39 (Conv2D)           (None, 8, 8, 64)          36928     \n",
            "_________________________________________________________________\n",
            "activation_55 (Activation)   (None, 8, 8, 64)          0         \n",
            "_________________________________________________________________\n",
            "dropout_40 (Dropout)         (None, 8, 8, 64)          0         \n",
            "_________________________________________________________________\n",
            "global_max_pooling2d (Global (None, 64)                0         \n",
            "_________________________________________________________________\n",
            "dense_16 (Dense)             (None, 30)                1950      \n",
            "_________________________________________________________________\n",
            "activation_56 (Activation)   (None, 30)                0         \n",
            "_________________________________________________________________\n",
            "dropout_41 (Dropout)         (None, 30)                0         \n",
            "_________________________________________________________________\n",
            "dense_17 (Dense)             (None, 30)                930       \n",
            "_________________________________________________________________\n",
            "activation_57 (Activation)   (None, 30)                0         \n",
            "=================================================================\n",
            "Total params: 68,448\n",
            "Trainable params: 68,448\n",
            "Non-trainable params: 0\n",
            "_________________________________________________________________\n"
          ],
          "name": "stdout"
        }
      ]
    },
    {
      "cell_type": "code",
      "metadata": {
        "id": "ZVMj-FnFB5-K",
        "colab": {
          "base_uri": "https://localhost:8080/",
          "height": 351
        },
        "outputId": "6f456863-5977-419f-dc43-efe215a26a24"
      },
      "source": [
        "modelize(model_4, 50, train_gen, val_gen,  TRAIN_STEPS_light, VAL_STEPS_light, \"mod_light_4\")"
      ],
      "execution_count": 49,
      "outputs": [
        {
          "output_type": "stream",
          "text": [
            "Temps d'entrainements pour 50 epochs : 859 secondes.\n",
            "Meilleure train_acc = 0.54, meilleure val_acc = 0.46\n",
            "\n"
          ],
          "name": "stdout"
        },
        {
          "output_type": "display_data",
          "data": {
            "image/png": "[encoded data removed]",
            "text/plain": [
              "<Figure size 720x288 with 1 Axes>"
            ]
          },
          "metadata": {
            "tags": [],
            "needs_background": "light"
          }
        }
      ]
    },
    {
      "cell_type": "code",
      "metadata": {
        "id": "xK1XMZwFvBN4"
      },
      "source": [
        "# Foireux"
      ],
      "execution_count": null,
      "outputs": []
    },
    {
      "cell_type": "markdown",
      "metadata": {
        "id": "jnGCRPgvjs15"
      },
      "source": [
        "## **Modèle 5, - changement d'optimizer** et retour model_3"
      ]
    },
    {
      "cell_type": "code",
      "metadata": {
        "id": "EMI8FR-wvBQ4",
        "colab": {
          "base_uri": "https://localhost:8080/"
        },
        "outputId": "49100252-b323-4317-a1c8-e2ec2a2e17bc"
      },
      "source": [
        "model_5 = create_model_3()\n",
        "model_5.summary()"
      ],
      "execution_count": 50,
      "outputs": [
        {
          "output_type": "stream",
          "text": [
            "Model: \"sequential_10\"\n",
            "_________________________________________________________________\n",
            "Layer (type)                 Output Shape              Param #   \n",
            "=================================================================\n",
            "conv2d_40 (Conv2D)           (None, 98, 98, 32)        896       \n",
            "_________________________________________________________________\n",
            "activation_58 (Activation)   (None, 98, 98, 32)        0         \n",
            "_________________________________________________________________\n",
            "max_pooling2d_37 (MaxPooling (None, 49, 49, 32)        0         \n",
            "_________________________________________________________________\n",
            "dropout_42 (Dropout)         (None, 49, 49, 32)        0         \n",
            "_________________________________________________________________\n",
            "conv2d_41 (Conv2D)           (None, 47, 47, 32)        9248      \n",
            "_________________________________________________________________\n",
            "activation_59 (Activation)   (None, 47, 47, 32)        0         \n",
            "_________________________________________________________________\n",
            "max_pooling2d_38 (MaxPooling (None, 23, 23, 32)        0         \n",
            "_________________________________________________________________\n",
            "dropout_43 (Dropout)         (None, 23, 23, 32)        0         \n",
            "_________________________________________________________________\n",
            "conv2d_42 (Conv2D)           (None, 21, 21, 64)        18496     \n",
            "_________________________________________________________________\n",
            "activation_60 (Activation)   (None, 21, 21, 64)        0         \n",
            "_________________________________________________________________\n",
            "max_pooling2d_39 (MaxPooling (None, 10, 10, 64)        0         \n",
            "_________________________________________________________________\n",
            "dropout_44 (Dropout)         (None, 10, 10, 64)        0         \n",
            "_________________________________________________________________\n",
            "conv2d_43 (Conv2D)           (None, 8, 8, 64)          36928     \n",
            "_________________________________________________________________\n",
            "activation_61 (Activation)   (None, 8, 8, 64)          0         \n",
            "_________________________________________________________________\n",
            "dropout_45 (Dropout)         (None, 8, 8, 64)          0         \n",
            "_________________________________________________________________\n",
            "flatten_8 (Flatten)          (None, 4096)              0         \n",
            "_________________________________________________________________\n",
            "dense_18 (Dense)             (None, 30)                122910    \n",
            "_________________________________________________________________\n",
            "activation_62 (Activation)   (None, 30)                0         \n",
            "_________________________________________________________________\n",
            "dropout_46 (Dropout)         (None, 30)                0         \n",
            "_________________________________________________________________\n",
            "dense_19 (Dense)             (None, 30)                930       \n",
            "_________________________________________________________________\n",
            "activation_63 (Activation)   (None, 30)                0         \n",
            "=================================================================\n",
            "Total params: 189,408\n",
            "Trainable params: 189,408\n",
            "Non-trainable params: 0\n",
            "_________________________________________________________________\n"
          ],
          "name": "stdout"
        }
      ]
    },
    {
      "cell_type": "code",
      "metadata": {
        "id": "EiQSZUM-vBTv",
        "colab": {
          "base_uri": "https://localhost:8080/",
          "height": 351
        },
        "outputId": "89ce6e84-bd23-4653-d8f4-4b9a7a38435a"
      },
      "source": [
        "modelize(model_5, 50, train_gen, val_gen,  TRAIN_STEPS_light, VAL_STEPS_light, \"mod_light_5\", \"RMSprop\")"
      ],
      "execution_count": 51,
      "outputs": [
        {
          "output_type": "stream",
          "text": [
            "Temps d'entrainements pour 50 epochs : 853 secondes.\n",
            "Meilleure train_acc = 0.86, meilleure val_acc = 0.81\n",
            "\n"
          ],
          "name": "stdout"
        },
        {
          "output_type": "display_data",
          "data": {
            "image/png": "[encoded data removed]",
            "text/plain": [
              "<Figure size 720x288 with 1 Axes>"
            ]
          },
          "metadata": {
            "tags": [],
            "needs_background": "light"
          }
        }
      ]
    },
    {
      "cell_type": "code",
      "metadata": {
        "id": "aVg1M8edvBZO"
      },
      "source": [
        "# Meilleur résultats 81 !!! On va garder l'optimisation \"RMSprop\""
      ],
      "execution_count": null,
      "outputs": []
    },
    {
      "cell_type": "markdown",
      "metadata": {
        "id": "cRS8jgQaqjmF"
      },
      "source": [
        "## **Modèle 6, - batch 64** et retour model_3"
      ]
    },
    {
      "cell_type": "code",
      "metadata": {
        "id": "QupvdglIvBb1"
      },
      "source": [
        "## **Modèle 6, - batch 64**"
      ],
      "execution_count": 52,
      "outputs": []
    },
    {
      "cell_type": "code",
      "metadata": {
        "id": "3WrL8uSovBec",
        "colab": {
          "base_uri": "https://localhost:8080/"
        },
        "outputId": "89180724-e193-4d80-fc60-965ce49fc2d3"
      },
      "source": [
        "BATCH = 64\n",
        "SEED = 47\n",
        "NB_TRAIN = 74137 # nb original\n",
        "NB_TRAIN_light = 4917 # nb original\n",
        "\n",
        "TRAIN_STEPS = NB_TRAIN // BATCH\n",
        "TRAIN_STEPS_light = NB_TRAIN_light // BATCH\n",
        "\n",
        "VAL_STEPS = TRAIN_STEPS // 5\n",
        "VAL_STEPS_light = TRAIN_STEPS_light // 5\n",
        "\n",
        "train_gen_6, val_gen_6 = create_generator(BATCH, PATH_TRAIN_l)"
      ],
      "execution_count": 56,
      "outputs": [
        {
          "output_type": "stream",
          "text": [
            "Found 4917 images belonging to 30 classes.\n",
            "Found 4917 images belonging to 30 classes.\n"
          ],
          "name": "stdout"
        }
      ]
    },
    {
      "cell_type": "code",
      "metadata": {
        "id": "e1S-HsGxwgxf"
      },
      "source": [
        "model_6 = create_model_3()"
      ],
      "execution_count": 58,
      "outputs": []
    },
    {
      "cell_type": "code",
      "metadata": {
        "id": "0T3eAwJ5vBhJ",
        "colab": {
          "base_uri": "https://localhost:8080/",
          "height": 351
        },
        "outputId": "3ce7a05a-ed57-43c9-f0ec-31f158707793"
      },
      "source": [
        "modelize(model_6, 50, train_gen_6, val_gen_6,  TRAIN_STEPS_light, VAL_STEPS_light, \"mod_light_6\", \"RMSprop\")"
      ],
      "execution_count": 59,
      "outputs": [
        {
          "output_type": "stream",
          "text": [
            "Temps d'entrainements pour 50 epochs : 847 secondes.\n",
            "Meilleure train_acc = 0.85, meilleure val_acc = 0.78\n",
            "\n"
          ],
          "name": "stdout"
        },
        {
          "output_type": "display_data",
          "data": {
            "image/png": "[encoded data removed]",
            "text/plain": [
              "<Figure size 720x288 with 1 Axes>"
            ]
          },
          "metadata": {
            "tags": [],
            "needs_background": "light"
          }
        }
      ]
    },
    {
      "cell_type": "code",
      "metadata": {
        "id": "rQXxMXsKvBj5"
      },
      "source": [
        ""
      ],
      "execution_count": null,
      "outputs": []
    },
    {
      "cell_type": "code",
      "metadata": {
        "id": "F2gOZ4javBm3"
      },
      "source": [
        ""
      ],
      "execution_count": null,
      "outputs": []
    },
    {
      "cell_type": "code",
      "metadata": {
        "id": "VhZ2KYcirVVj"
      },
      "source": [
        ""
      ],
      "execution_count": null,
      "outputs": []
    },
    {
      "cell_type": "code",
      "metadata": {
        "id": "MVtjxFQDrVYt"
      },
      "source": [
        ""
      ],
      "execution_count": null,
      "outputs": []
    },
    {
      "cell_type": "code",
      "metadata": {
        "id": "dCoGSdNDrVcD"
      },
      "source": [
        ""
      ],
      "execution_count": null,
      "outputs": []
    },
    {
      "cell_type": "code",
      "metadata": {
        "id": "VIFNLckirVfe"
      },
      "source": [
        ""
      ],
      "execution_count": null,
      "outputs": []
    },
    {
      "cell_type": "markdown",
      "metadata": {
        "id": "WeVdI6IX4qqA"
      },
      "source": [
        "### Full model"
      ]
    },
    {
      "cell_type": "markdown",
      "metadata": {
        "id": "4Bxl5Bks41VW"
      },
      "source": [
        "Model_3 + rmsprop + couches à 120 classes + full training"
      ]
    },
    {
      "cell_type": "code",
      "metadata": {
        "id": "iULZzOxhqUEl"
      },
      "source": [
        ""
      ],
      "execution_count": null,
      "outputs": []
    },
    {
      "cell_type": "code",
      "metadata": {
        "id": "O-FKFMMrqUH9"
      },
      "source": [
        "def create_model_3_full():\n",
        "\n",
        "    model = Sequential()\n",
        "\n",
        "    model.add(Conv2D(32, (3,3), input_shape = (100,100, 3)))\n",
        "    model.add(Activation(\"relu\"))\n",
        "    model.add(MaxPooling2D(pool_size=(2, 2)))\n",
        "    model.add(Dropout(0.1))\n",
        "\n",
        "    model.add(Conv2D(32, (3,3)))\n",
        "    model.add(Activation(\"relu\"))\n",
        "    model.add(MaxPooling2D(pool_size=(2, 2)))\n",
        "    model.add(Dropout(0.1))\n",
        "\n",
        "    model.add(Conv2D(64, (3,3)))\n",
        "    model.add(Activation(\"relu\"))\n",
        "    model.add(MaxPooling2D(pool_size=(2, 2)))\n",
        "    model.add(Dropout(0.1))\n",
        "\n",
        "    model.add(Conv2D(64, (3,3)))\n",
        "    model.add(Activation(\"relu\"))\n",
        "    #model.add(MaxPooling2D(pool_size=(2, 2)))\n",
        "    model.add(Dropout(0.1))\n",
        "\n",
        "    model.add(Flatten())\n",
        "\n",
        "    model.add(Dense(120))\n",
        "    model.add(Activation(\"relu\"))\n",
        "    model.add(Dropout(0.1))\n",
        "\n",
        "    model.add(Dense(120))\n",
        "    model.add(Activation(\"softmax\"))\n",
        "\n",
        "    return model"
      ],
      "execution_count": 60,
      "outputs": []
    },
    {
      "cell_type": "code",
      "metadata": {
        "id": "h6UBCJ_6qULC",
        "colab": {
          "base_uri": "https://localhost:8080/"
        },
        "outputId": "00637118-ef89-4b28-b772-9afa5b539029"
      },
      "source": [
        "model_3_full = create_model_3_full()\n",
        "model_3_full.summary()"
      ],
      "execution_count": 61,
      "outputs": [
        {
          "output_type": "stream",
          "text": [
            "Model: \"sequential_13\"\n",
            "_________________________________________________________________\n",
            "Layer (type)                 Output Shape              Param #   \n",
            "=================================================================\n",
            "conv2d_52 (Conv2D)           (None, 98, 98, 32)        896       \n",
            "_________________________________________________________________\n",
            "activation_76 (Activation)   (None, 98, 98, 32)        0         \n",
            "_________________________________________________________________\n",
            "max_pooling2d_46 (MaxPooling (None, 49, 49, 32)        0         \n",
            "_________________________________________________________________\n",
            "dropout_57 (Dropout)         (None, 49, 49, 32)        0         \n",
            "_________________________________________________________________\n",
            "conv2d_53 (Conv2D)           (None, 47, 47, 32)        9248      \n",
            "_________________________________________________________________\n",
            "activation_77 (Activation)   (None, 47, 47, 32)        0         \n",
            "_________________________________________________________________\n",
            "max_pooling2d_47 (MaxPooling (None, 23, 23, 32)        0         \n",
            "_________________________________________________________________\n",
            "dropout_58 (Dropout)         (None, 23, 23, 32)        0         \n",
            "_________________________________________________________________\n",
            "conv2d_54 (Conv2D)           (None, 21, 21, 64)        18496     \n",
            "_________________________________________________________________\n",
            "activation_78 (Activation)   (None, 21, 21, 64)        0         \n",
            "_________________________________________________________________\n",
            "max_pooling2d_48 (MaxPooling (None, 10, 10, 64)        0         \n",
            "_________________________________________________________________\n",
            "dropout_59 (Dropout)         (None, 10, 10, 64)        0         \n",
            "_________________________________________________________________\n",
            "conv2d_55 (Conv2D)           (None, 8, 8, 64)          36928     \n",
            "_________________________________________________________________\n",
            "activation_79 (Activation)   (None, 8, 8, 64)          0         \n",
            "_________________________________________________________________\n",
            "dropout_60 (Dropout)         (None, 8, 8, 64)          0         \n",
            "_________________________________________________________________\n",
            "flatten_11 (Flatten)         (None, 4096)              0         \n",
            "_________________________________________________________________\n",
            "dense_24 (Dense)             (None, 120)               491640    \n",
            "_________________________________________________________________\n",
            "activation_80 (Activation)   (None, 120)               0         \n",
            "_________________________________________________________________\n",
            "dropout_61 (Dropout)         (None, 120)               0         \n",
            "_________________________________________________________________\n",
            "dense_25 (Dense)             (None, 120)               14520     \n",
            "_________________________________________________________________\n",
            "activation_81 (Activation)   (None, 120)               0         \n",
            "=================================================================\n",
            "Total params: 571,728\n",
            "Trainable params: 571,728\n",
            "Non-trainable params: 0\n",
            "_________________________________________________________________\n"
          ],
          "name": "stdout"
        }
      ]
    },
    {
      "cell_type": "code",
      "metadata": {
        "id": "iff8T2woqUN-",
        "colab": {
          "base_uri": "https://localhost:8080/"
        },
        "outputId": "91203161-aff9-4d53-f287-224d1ef11cf4"
      },
      "source": [
        "BATCH = 32\n",
        "SEED = 47\n",
        "NB_TRAIN = 74137 # nb original\n",
        "NB_TRAIN_light = 4917 # nb original\n",
        "\n",
        "TRAIN_STEPS = NB_TRAIN // BATCH\n",
        "TRAIN_STEPS_light = NB_TRAIN_light // BATCH\n",
        "\n",
        "VAL_STEPS = TRAIN_STEPS // 5\n",
        "VAL_STEPS_light = TRAIN_STEPS_light // 5\n",
        "\n",
        "\n",
        "train_gen_full, val_gen_full = create_generator(BATCH, PATH_TRAIN)"
      ],
      "execution_count": 62,
      "outputs": [
        {
          "output_type": "stream",
          "text": [
            "Found 74137 images belonging to 120 classes.\n",
            "Found 74137 images belonging to 120 classes.\n"
          ],
          "name": "stdout"
        }
      ]
    },
    {
      "cell_type": "code",
      "metadata": {
        "id": "0ApL8yupqUQ4",
        "colab": {
          "base_uri": "https://localhost:8080/",
          "height": 538
        },
        "outputId": "c51facea-263c-4385-908d-6cb5574827b8"
      },
      "source": [
        "modelize(model_3_full, 5, train_gen_full, val_gen_full,  TRAIN_STEPS, VAL_STEPS, \"mod_3_full\", \"RMSprop\", 1)"
      ],
      "execution_count": 66,
      "outputs": [
        {
          "output_type": "stream",
          "text": [
            "Epoch 1/5\n",
            "2316/2316 [==============================] - 219s 94ms/step - loss: 3.2931 - accuracy: 0.2156 - val_loss: 3.6329 - val_accuracy: 0.1913\n",
            "Epoch 2/5\n",
            "2316/2316 [==============================] - 218s 94ms/step - loss: 3.2749 - accuracy: 0.2173 - val_loss: 3.4021 - val_accuracy: 0.2055\n",
            "Epoch 3/5\n",
            "2316/2316 [==============================] - 217s 94ms/step - loss: 3.3206 - accuracy: 0.2141 - val_loss: 3.3950 - val_accuracy: 0.1969\n",
            "Epoch 4/5\n",
            "2316/2316 [==============================] - 219s 94ms/step - loss: 3.3496 - accuracy: 0.2056 - val_loss: 3.3021 - val_accuracy: 0.2118\n",
            "Epoch 5/5\n",
            "2316/2316 [==============================] - 218s 94ms/step - loss: 3.3822 - accuracy: 0.2047 - val_loss: 3.3230 - val_accuracy: 0.2103\n",
            "Temps d'entrainements pour 5 epochs : 1090 secondes.\n",
            "Meilleure train_acc = 0.21, meilleure val_acc = 0.21\n",
            "\n"
          ],
          "name": "stdout"
        },
        {
          "output_type": "display_data",
          "data": {
            "image/png": "[encoded data removed]",
            "text/plain": [
              "<Figure size 720x288 with 1 Axes>"
            ]
          },
          "metadata": {
            "tags": [],
            "needs_background": "light"
          }
        }
      ]
    },
    {
      "cell_type": "code",
      "metadata": {
        "id": "IXNovSlMqUTr"
      },
      "source": [
        "# à 220 sec l'epoch, on part sur du 3h d'entrainement pour du 50 epochs, faire modélisation en fin de projet..."
      ],
      "execution_count": null,
      "outputs": []
    },
    {
      "cell_type": "code",
      "metadata": {
        "id": "bdwJ9znSqUW3",
        "colab": {
          "base_uri": "https://localhost:8080/"
        },
        "outputId": "9b1d524f-633e-4014-86ce-ab885d70068c"
      },
      "source": [
        "(50*220)/3600"
      ],
      "execution_count": 69,
      "outputs": [
        {
          "output_type": "execute_result",
          "data": {
            "text/plain": [
              "3.0555555555555554"
            ]
          },
          "metadata": {
            "tags": []
          },
          "execution_count": 69
        }
      ]
    },
    {
      "cell_type": "code",
      "metadata": {
        "id": "KrXBVTsxqUaC"
      },
      "source": [
        ""
      ],
      "execution_count": null,
      "outputs": []
    },
    {
      "cell_type": "code",
      "metadata": {
        "id": "BCFDZzmtqUdC"
      },
      "source": [
        ""
      ],
      "execution_count": null,
      "outputs": []
    },
    {
      "cell_type": "code",
      "metadata": {
        "id": "SwdrkPObqUgO"
      },
      "source": [
        ""
      ],
      "execution_count": null,
      "outputs": []
    },
    {
      "cell_type": "code",
      "metadata": {
        "id": "PlMcwR_6TGSi"
      },
      "source": [
        ""
      ],
      "execution_count": null,
      "outputs": []
    },
    {
      "cell_type": "code",
      "metadata": {
        "id": "nSgKhzBpTGVZ"
      },
      "source": [
        ""
      ],
      "execution_count": null,
      "outputs": []
    },
    {
      "cell_type": "code",
      "metadata": {
        "id": "xrDlQWUETGYM"
      },
      "source": [
        ""
      ],
      "execution_count": null,
      "outputs": []
    },
    {
      "cell_type": "code",
      "metadata": {
        "id": "H0Lfwm-QTGa9"
      },
      "source": [
        ""
      ],
      "execution_count": null,
      "outputs": []
    },
    {
      "cell_type": "code",
      "metadata": {
        "id": "S9m0YqkgTGdy"
      },
      "source": [
        ""
      ],
      "execution_count": null,
      "outputs": []
    },
    {
      "cell_type": "code",
      "metadata": {
        "id": "E0w7bsH9TGhD"
      },
      "source": [
        ""
      ],
      "execution_count": null,
      "outputs": []
    },
    {
      "cell_type": "code",
      "metadata": {
        "id": "lqi4R8uLTGj7"
      },
      "source": [
        ""
      ],
      "execution_count": null,
      "outputs": []
    },
    {
      "cell_type": "code",
      "metadata": {
        "id": "fwNB9TAwTGnT"
      },
      "source": [
        ""
      ],
      "execution_count": null,
      "outputs": []
    }
  ]
}