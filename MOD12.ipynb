{
 "cells": [
  {
   "cell_type": "code",
   "execution_count": null,
   "metadata": {},
   "outputs": [],
   "source": [
    "import dill\n",
    "dill.load_session('Data/MOD09.db')"
   ]
  },
  {
   "cell_type": "code",
   "execution_count": null,
   "metadata": {},
   "outputs": [],
   "source": [
    "https://github.com/MarcLefevreFr/OpenClassrooms"
   ]
  },
  {
   "cell_type": "code",
   "execution_count": 1,
   "metadata": {},
   "outputs": [],
   "source": [
    "import pandas as pd\n",
    "import numpy as np\n",
    "import matplotlib.pyplot as plt\n",
    "import seaborn as sns\n",
    "import pickle\n",
    "import xgboost\n",
    "import sklearn\n",
    "import marko\n",
    "#import shap\n",
    "from time import time\n",
    "from feat_positive_construction import auto_search\n",
    "from category_encoders.target_encoder import TargetEncoder\n",
    "\n",
    "from sklearn.ensemble import GradientBoostingRegressor, AdaBoostRegressor, RandomForestRegressor, BaggingRegressor\n",
    "from sklearn.tree import DecisionTreeRegressor\n",
    "from sklearn.model_selection import train_test_split, validation_curve, learning_curve\n",
    "from sklearn.preprocessing import OneHotEncoder, StandardScaler, LabelEncoder, OrdinalEncoder\n",
    "from sklearn.linear_model import LinearRegression, Lasso, Ridge, SGDRegressor\n",
    "from sklearn.dummy import DummyRegressor\n",
    "from sklearn.metrics import r2_score, mean_squared_log_error, mean_absolute_error\n",
    "from sklearn.svm import SVR\n",
    "from sklearn.model_selection import GridSearchCV, KFold, cross_validate, RandomizedSearchCV\n",
    "from sklearn.decomposition import PCA\n",
    "#from sklearn.ensemble import ExtraTreesRegressor\n",
    "from sklearn.pipeline import make_pipeline\n",
    "from sklearn.compose import make_column_transformer\n",
    "from sklearn.preprocessing import FunctionTransformer\n",
    "from sklearn.feature_selection import RFECV\n",
    "from itertools import combinations\n",
    "\n",
    "pd.options.display.max_columns = 60"
   ]
  },
  {
   "cell_type": "markdown",
   "metadata": {},
   "source": [
    " "
   ]
  },
  {
   "cell_type": "markdown",
   "metadata": {},
   "source": [
    "# 1 - APPROCHE EN COMMENCANT DIRECTEMENT PAR DONNEES TRANSFORMEES LOG + STD"
   ]
  },
  {
   "cell_type": "markdown",
   "metadata": {},
   "source": [
    "# test avec OHE"
   ]
  },
  {
   "cell_type": "code",
   "execution_count": 2,
   "metadata": {},
   "outputs": [],
   "source": [
    "# choix des métriques : temps, MAE (mois sensible aux outliers) et R2\n",
    "LISTE_COL = [\"Model\", \"Fit_Time\", \"Score_time\", \"MAE\", \"RMSLE\", \"R2\"] \n",
    "\n",
    "SCORING = [\"neg_mean_absolute_error\", \"neg_mean_squared_log_error\", \"r2\"]\n",
    "\n",
    "SEED = 45\n",
    "\n",
    "K = 5\n",
    "\n",
    "df_res = pd.DataFrame(columns = LISTE_COL)\n",
    "df_no = pd.DataFrame(columns = LISTE_COL)\n",
    "\n",
    "X = pickle.load(open(\"Data/X.pickle\", \"rb\"))\n",
    "y = pickle.load(open(\"Data/y.pickle\", \"rb\"))\n",
    "\n",
    "X_no = pickle.load(open(\"Data/X_no.pickle\", \"rb\"))\n",
    "y_no = pickle.load(open(\"Data/y_no.pickle\", \"rb\"))\n",
    "\n",
    "# On drop EnergyStarScore pour la création des modèles car :\n",
    "# - il nécessiterait soit de restreindre les données\n",
    "# - soit de procéder à des imputations qui pourraient nuire à la pertinence de sa discussion.\n",
    "\n",
    "# X avec EnergyStar\n",
    "X_es = X.copy()\n",
    "\n",
    "X = X.drop(\"ENERGYSTARScore\", axis = 1)\n",
    "X_no = X_no.drop(\"ENERGYSTARScore\", axis = 1)\n",
    "\n",
    "num_feat = np.array(X.columns[X.dtypes != \"category\"])\n",
    "cat_feat = np.array(X.columns[X.dtypes == \"category\"])\n",
    "\n",
    "# le premier modèle que nous créons est celui de SiteEnergyUse\n",
    "y = y[\"SiteEnergyUseWN(kBtu)\"]\n",
    "y_no = y_no[\"SiteEnergyUseWN(kBtu)\"]\n",
    "\n",
    "y = y.transform(np.log1p)\n",
    "y_no = y_no.transform(np.log1p)"
   ]
  },
  {
   "cell_type": "code",
   "execution_count": 3,
   "metadata": {},
   "outputs": [],
   "source": [
    "log_trans = FunctionTransformer(np.log1p)\n",
    "\n",
    "ohe = OneHotEncoder(handle_unknown = \"ignore\")\n",
    "\n",
    "pipe_num = make_pipeline(log_trans, StandardScaler())\n",
    "\n",
    "pipe_cat = make_pipeline(ohe)\n",
    "\n",
    "\n",
    "prepro = make_column_transformer((pipe_num, num_feat), \n",
    "                                 (pipe_cat, cat_feat))\n",
    "\n",
    "#prepro_num = make_column_transformer((pipe_num, num_feat))"
   ]
  },
  {
   "cell_type": "code",
   "execution_count": 4,
   "metadata": {},
   "outputs": [],
   "source": [
    "linear_reg = make_pipeline(prepro, LinearRegression())\n",
    "ridge_reg = make_pipeline(prepro, Ridge())\n",
    "lasso_reg = make_pipeline(prepro, Lasso())\n",
    "sgd_reg = make_pipeline(prepro, SGDRegressor())\n",
    "sv_reg = make_pipeline(prepro, SVR())\n",
    "dt_reg = make_pipeline(prepro, DecisionTreeRegressor())\n",
    "random_forest_reg = make_pipeline(prepro, RandomForestRegressor())\n",
    "ada_reg = make_pipeline(prepro, AdaBoostRegressor())\n",
    "bag_reg = make_pipeline(prepro, BaggingRegressor(base_estimator = DecisionTreeRegressor()))\n",
    "gb_reg = make_pipeline(prepro, GradientBoostingRegressor())\n",
    "xgb_reg = make_pipeline(prepro, xgboost.XGBRegressor(random_state = SEED))\n",
    "\n",
    "modz = {\"Linear_Reg\" : linear_reg,\n",
    "        \"Ridge_Reg\" : ridge_reg,\n",
    "        \"Lasso_Reg\" : lasso_reg,\n",
    "        \"sgd_Reg\" : sgd_reg,\n",
    "        \"SV_Reg\" : sv_reg,\n",
    "        \"dt_Reg\" : dt_reg,\n",
    "        \"Random_Forest_Reg\" : random_forest_reg,\n",
    "        \"Adaboost_Reg\" : ada_reg,\n",
    "        \"Bagging_Reg\" : bag_reg,\n",
    "        \"GB_Reg\" : gb_reg,\n",
    "        \"XGB_Reg\" : xgb_reg\n",
    "       }"
   ]
  },
  {
   "cell_type": "code",
   "execution_count": 5,
   "metadata": {},
   "outputs": [],
   "source": [
    "def modelize(model, model_name, X, y, return_model = False , graph = False, k = K) :\n",
    "        \n",
    "    resultats = []\n",
    "    \n",
    "    kf = KFold(k, random_state = SEED)\n",
    "    \n",
    "    cv_res = cross_validate(model, X, y, scoring = SCORING, cv = kf)\n",
    "\n",
    "    resultats.append(model_name)\n",
    "    resultats.append(cv_res[\"fit_time\"].sum())\n",
    "    resultats.append(cv_res[\"score_time\"].sum())\n",
    "    resultats.append(-cv_res['test_neg_mean_absolute_error'].mean())\n",
    "    resultats.append(np.sqrt(-cv_res['test_neg_mean_squared_log_error'].mean()))\n",
    "    resultats.append(cv_res['test_r2'].mean())\n",
    "    \n",
    "\n",
    "    if graph :\n",
    "\n",
    "        pred = cross_val_predict(mod, X, v, cv = kf)\n",
    "\n",
    "        error = np.abs(target - pred)\n",
    "\n",
    "        fig = plt.figure(figsize = (8, 8))\n",
    "        plt.subplot(2,2,1)\n",
    "        plt.scatter(target, pred, color = \"coral\")\n",
    "        plt.subplot(2,2,2)\n",
    "        plt.hist(error, bins = 50)\n",
    "        plt.show()\n",
    "            \n",
    "#         i += 1\n",
    "    new_row = {k:v for k, v in zip(LISTE_COL, resultats)}\n",
    "\n",
    "    if return_model :\n",
    "        \n",
    "        return new_row, model.fit(X, y)\n",
    "        \n",
    "    else :        \n",
    "    \n",
    "    #df = df.append(new_row, ignore_index = True)\n",
    "    #print(new_row)    \n",
    "        return new_row"
   ]
  },
  {
   "cell_type": "markdown",
   "metadata": {},
   "source": [
    "## 1ere modélisation"
   ]
  },
  {
   "cell_type": "code",
   "execution_count": 16,
   "metadata": {},
   "outputs": [
    {
     "data": {
      "text/html": [
       "<div>\n",
       "<style scoped>\n",
       "    .dataframe tbody tr th:only-of-type {\n",
       "        vertical-align: middle;\n",
       "    }\n",
       "\n",
       "    .dataframe tbody tr th {\n",
       "        vertical-align: top;\n",
       "    }\n",
       "\n",
       "    .dataframe thead th {\n",
       "        text-align: right;\n",
       "    }\n",
       "</style>\n",
       "<table border=\"1\" class=\"dataframe\">\n",
       "  <thead>\n",
       "    <tr style=\"text-align: right;\">\n",
       "      <th></th>\n",
       "      <th>Model</th>\n",
       "      <th>Fit_Time</th>\n",
       "      <th>Score_time</th>\n",
       "      <th>MAE</th>\n",
       "      <th>RMSLE</th>\n",
       "      <th>R2</th>\n",
       "    </tr>\n",
       "  </thead>\n",
       "  <tbody>\n",
       "    <tr>\n",
       "      <th>0</th>\n",
       "      <td>Linear_Reg</td>\n",
       "      <td>0.511029</td>\n",
       "      <td>0.047003</td>\n",
       "      <td>0.385290</td>\n",
       "      <td>0.035932</td>\n",
       "      <td>0.691318</td>\n",
       "    </tr>\n",
       "    <tr>\n",
       "      <th>1</th>\n",
       "      <td>Ridge_Reg</td>\n",
       "      <td>0.170010</td>\n",
       "      <td>0.048002</td>\n",
       "      <td>0.376535</td>\n",
       "      <td>0.034976</td>\n",
       "      <td>0.708025</td>\n",
       "    </tr>\n",
       "    <tr>\n",
       "      <th>2</th>\n",
       "      <td>Lasso_Reg</td>\n",
       "      <td>0.134008</td>\n",
       "      <td>0.044003</td>\n",
       "      <td>0.950983</td>\n",
       "      <td>0.076509</td>\n",
       "      <td>-0.368205</td>\n",
       "    </tr>\n",
       "    <tr>\n",
       "      <th>3</th>\n",
       "      <td>sgd_Reg</td>\n",
       "      <td>0.234013</td>\n",
       "      <td>0.047003</td>\n",
       "      <td>0.428637</td>\n",
       "      <td>0.039417</td>\n",
       "      <td>0.630168</td>\n",
       "    </tr>\n",
       "    <tr>\n",
       "      <th>4</th>\n",
       "      <td>SV_Reg</td>\n",
       "      <td>2.497143</td>\n",
       "      <td>0.457026</td>\n",
       "      <td>0.384475</td>\n",
       "      <td>0.036806</td>\n",
       "      <td>0.681193</td>\n",
       "    </tr>\n",
       "    <tr>\n",
       "      <th>5</th>\n",
       "      <td>dt_Reg</td>\n",
       "      <td>0.703041</td>\n",
       "      <td>0.048002</td>\n",
       "      <td>0.540331</td>\n",
       "      <td>0.049901</td>\n",
       "      <td>0.404400</td>\n",
       "    </tr>\n",
       "    <tr>\n",
       "      <th>6</th>\n",
       "      <td>Random_Forest_Reg</td>\n",
       "      <td>43.374481</td>\n",
       "      <td>0.147008</td>\n",
       "      <td>0.402569</td>\n",
       "      <td>0.038024</td>\n",
       "      <td>0.656492</td>\n",
       "    </tr>\n",
       "    <tr>\n",
       "      <th>7</th>\n",
       "      <td>Adaboost_Reg</td>\n",
       "      <td>1.540088</td>\n",
       "      <td>0.103006</td>\n",
       "      <td>0.515682</td>\n",
       "      <td>0.044671</td>\n",
       "      <td>0.509685</td>\n",
       "    </tr>\n",
       "    <tr>\n",
       "      <th>8</th>\n",
       "      <td>Bagging_Reg</td>\n",
       "      <td>4.510258</td>\n",
       "      <td>0.072004</td>\n",
       "      <td>0.425439</td>\n",
       "      <td>0.039720</td>\n",
       "      <td>0.623585</td>\n",
       "    </tr>\n",
       "    <tr>\n",
       "      <th>9</th>\n",
       "      <td>GB_Reg</td>\n",
       "      <td>2.132122</td>\n",
       "      <td>0.052003</td>\n",
       "      <td>0.386518</td>\n",
       "      <td>0.035874</td>\n",
       "      <td>0.693167</td>\n",
       "    </tr>\n",
       "    <tr>\n",
       "      <th>10</th>\n",
       "      <td>XGB_Reg</td>\n",
       "      <td>1.145066</td>\n",
       "      <td>0.119006</td>\n",
       "      <td>0.394964</td>\n",
       "      <td>0.036936</td>\n",
       "      <td>0.676148</td>\n",
       "    </tr>\n",
       "  </tbody>\n",
       "</table>\n",
       "</div>"
      ],
      "text/plain": [
       "                Model   Fit_Time  Score_time       MAE     RMSLE        R2\n",
       "0          Linear_Reg   0.511029    0.047003  0.385290  0.035932  0.691318\n",
       "1           Ridge_Reg   0.170010    0.048002  0.376535  0.034976  0.708025\n",
       "2           Lasso_Reg   0.134008    0.044003  0.950983  0.076509 -0.368205\n",
       "3             sgd_Reg   0.234013    0.047003  0.428637  0.039417  0.630168\n",
       "4              SV_Reg   2.497143    0.457026  0.384475  0.036806  0.681193\n",
       "5              dt_Reg   0.703041    0.048002  0.540331  0.049901  0.404400\n",
       "6   Random_Forest_Reg  43.374481    0.147008  0.402569  0.038024  0.656492\n",
       "7        Adaboost_Reg   1.540088    0.103006  0.515682  0.044671  0.509685\n",
       "8         Bagging_Reg   4.510258    0.072004  0.425439  0.039720  0.623585\n",
       "9              GB_Reg   2.132122    0.052003  0.386518  0.035874  0.693167\n",
       "10            XGB_Reg   1.145066    0.119006  0.394964  0.036936  0.676148"
      ]
     },
     "execution_count": 16,
     "metadata": {},
     "output_type": "execute_result"
    }
   ],
   "source": [
    "for name, model in modz.items():\n",
    "    \n",
    "    df_res = df_res.append(modelize(model, name, X, y), ignore_index = True)\n",
    "    \n",
    "df_res"
   ]
  },
  {
   "cell_type": "markdown",
   "metadata": {},
   "source": [
    "### Données sans Outliers"
   ]
  },
  {
   "cell_type": "code",
   "execution_count": 17,
   "metadata": {},
   "outputs": [
    {
     "data": {
      "text/html": [
       "<div>\n",
       "<style scoped>\n",
       "    .dataframe tbody tr th:only-of-type {\n",
       "        vertical-align: middle;\n",
       "    }\n",
       "\n",
       "    .dataframe tbody tr th {\n",
       "        vertical-align: top;\n",
       "    }\n",
       "\n",
       "    .dataframe thead th {\n",
       "        text-align: right;\n",
       "    }\n",
       "</style>\n",
       "<table border=\"1\" class=\"dataframe\">\n",
       "  <thead>\n",
       "    <tr style=\"text-align: right;\">\n",
       "      <th></th>\n",
       "      <th>Model</th>\n",
       "      <th>Fit_Time</th>\n",
       "      <th>Score_time</th>\n",
       "      <th>MAE</th>\n",
       "      <th>RMSLE</th>\n",
       "      <th>R2</th>\n",
       "    </tr>\n",
       "  </thead>\n",
       "  <tbody>\n",
       "    <tr>\n",
       "      <th>0</th>\n",
       "      <td>Linear_Reg</td>\n",
       "      <td>0.478027</td>\n",
       "      <td>0.047003</td>\n",
       "      <td>0.386835</td>\n",
       "      <td>0.036418</td>\n",
       "      <td>0.634655</td>\n",
       "    </tr>\n",
       "    <tr>\n",
       "      <th>1</th>\n",
       "      <td>Ridge_Reg</td>\n",
       "      <td>0.170010</td>\n",
       "      <td>0.045002</td>\n",
       "      <td>0.377887</td>\n",
       "      <td>0.035330</td>\n",
       "      <td>0.657303</td>\n",
       "    </tr>\n",
       "    <tr>\n",
       "      <th>2</th>\n",
       "      <td>Lasso_Reg</td>\n",
       "      <td>0.136008</td>\n",
       "      <td>0.044003</td>\n",
       "      <td>0.861349</td>\n",
       "      <td>0.069873</td>\n",
       "      <td>-0.327284</td>\n",
       "    </tr>\n",
       "    <tr>\n",
       "      <th>3</th>\n",
       "      <td>sgd_Reg</td>\n",
       "      <td>0.188011</td>\n",
       "      <td>0.048002</td>\n",
       "      <td>0.414066</td>\n",
       "      <td>0.038838</td>\n",
       "      <td>0.586389</td>\n",
       "    </tr>\n",
       "    <tr>\n",
       "      <th>4</th>\n",
       "      <td>SV_Reg</td>\n",
       "      <td>2.269130</td>\n",
       "      <td>0.407023</td>\n",
       "      <td>0.378078</td>\n",
       "      <td>0.036318</td>\n",
       "      <td>0.641397</td>\n",
       "    </tr>\n",
       "    <tr>\n",
       "      <th>5</th>\n",
       "      <td>dt_Reg</td>\n",
       "      <td>0.648037</td>\n",
       "      <td>0.049003</td>\n",
       "      <td>0.534534</td>\n",
       "      <td>0.049904</td>\n",
       "      <td>0.318544</td>\n",
       "    </tr>\n",
       "    <tr>\n",
       "      <th>6</th>\n",
       "      <td>Random_Forest_Reg</td>\n",
       "      <td>38.225186</td>\n",
       "      <td>0.141008</td>\n",
       "      <td>0.405898</td>\n",
       "      <td>0.038439</td>\n",
       "      <td>0.596674</td>\n",
       "    </tr>\n",
       "    <tr>\n",
       "      <th>7</th>\n",
       "      <td>Adaboost_Reg</td>\n",
       "      <td>1.540088</td>\n",
       "      <td>0.101006</td>\n",
       "      <td>0.505226</td>\n",
       "      <td>0.044244</td>\n",
       "      <td>0.450507</td>\n",
       "    </tr>\n",
       "    <tr>\n",
       "      <th>8</th>\n",
       "      <td>Bagging_Reg</td>\n",
       "      <td>4.017230</td>\n",
       "      <td>0.072004</td>\n",
       "      <td>0.422752</td>\n",
       "      <td>0.039745</td>\n",
       "      <td>0.567349</td>\n",
       "    </tr>\n",
       "    <tr>\n",
       "      <th>9</th>\n",
       "      <td>GB_Reg</td>\n",
       "      <td>1.917109</td>\n",
       "      <td>0.061003</td>\n",
       "      <td>0.388597</td>\n",
       "      <td>0.036370</td>\n",
       "      <td>0.637652</td>\n",
       "    </tr>\n",
       "    <tr>\n",
       "      <th>10</th>\n",
       "      <td>XGB_Reg</td>\n",
       "      <td>126.082212</td>\n",
       "      <td>0.179010</td>\n",
       "      <td>0.396372</td>\n",
       "      <td>0.037156</td>\n",
       "      <td>0.622712</td>\n",
       "    </tr>\n",
       "  </tbody>\n",
       "</table>\n",
       "</div>"
      ],
      "text/plain": [
       "                Model    Fit_Time  Score_time       MAE     RMSLE        R2\n",
       "0          Linear_Reg    0.478027    0.047003  0.386835  0.036418  0.634655\n",
       "1           Ridge_Reg    0.170010    0.045002  0.377887  0.035330  0.657303\n",
       "2           Lasso_Reg    0.136008    0.044003  0.861349  0.069873 -0.327284\n",
       "3             sgd_Reg    0.188011    0.048002  0.414066  0.038838  0.586389\n",
       "4              SV_Reg    2.269130    0.407023  0.378078  0.036318  0.641397\n",
       "5              dt_Reg    0.648037    0.049003  0.534534  0.049904  0.318544\n",
       "6   Random_Forest_Reg   38.225186    0.141008  0.405898  0.038439  0.596674\n",
       "7        Adaboost_Reg    1.540088    0.101006  0.505226  0.044244  0.450507\n",
       "8         Bagging_Reg    4.017230    0.072004  0.422752  0.039745  0.567349\n",
       "9              GB_Reg    1.917109    0.061003  0.388597  0.036370  0.637652\n",
       "10            XGB_Reg  126.082212    0.179010  0.396372  0.037156  0.622712"
      ]
     },
     "execution_count": 17,
     "metadata": {},
     "output_type": "execute_result"
    }
   ],
   "source": [
    "for name, model in modz.items():\n",
    "    \n",
    "    df_no = df_no.append(modelize(model, name, X_no, y_no), ignore_index = True)\n",
    "    \n",
    "df_no"
   ]
  },
  {
   "cell_type": "markdown",
   "metadata": {},
   "source": [
    "Sur cette première étape, les données sans outliers donnent des résultats un peu **MOINS** bons. Sauf PE pour le **SVR**."
   ]
  },
  {
   "cell_type": "markdown",
   "metadata": {},
   "source": [
    " "
   ]
  },
  {
   "cell_type": "markdown",
   "metadata": {},
   "source": [
    "## 1er regard sur la variable EnergyStar"
   ]
  },
  {
   "cell_type": "code",
   "execution_count": 9,
   "metadata": {},
   "outputs": [
    {
     "data": {
      "image/png": "[encoded data removed]",
      "text/plain": [
       "<Figure size 432x288 with 1 Axes>"
      ]
     },
     "metadata": {
      "needs_background": "light"
     },
     "output_type": "display_data"
    }
   ],
   "source": [
    "# Cette variable a un grande proportion de valeurs nulles\n",
    "X_es.notnull().mean().plot.barh()\n",
    "plt.show()"
   ]
  },
  {
   "cell_type": "markdown",
   "metadata": {},
   "source": [
    "Plutôt que de les laisser, on les remplit par la valeur mediane de la colone"
   ]
  },
  {
   "cell_type": "code",
   "execution_count": 13,
   "metadata": {},
   "outputs": [
    {
     "data": {
      "text/plain": [
       "75.0"
      ]
     },
     "execution_count": 13,
     "metadata": {},
     "output_type": "execute_result"
    }
   ],
   "source": [
    "med = X_es[\"ENERGYSTARScore\"].median()\n",
    "X_es[\"ENERGYSTARScore\"] = X_es[\"ENERGYSTARScore\"].fillna(med)"
   ]
  },
  {
   "cell_type": "markdown",
   "metadata": {},
   "source": [
    "## Discussion sur l'importance de l'ESScore"
   ]
  },
  {
   "cell_type": "markdown",
   "metadata": {},
   "source": [
    "On regarde pour la **regression linéaire**"
   ]
  },
  {
   "cell_type": "code",
   "execution_count": 49,
   "metadata": {},
   "outputs": [
    {
     "data": {
      "text/plain": [
       "{'Model': 'regression linéaire',\n",
       " 'Fit_Time': 0.5080292224884033,\n",
       " 'Score_time': 0.04700326919555664,\n",
       " 'MAE': 0.3852895649964363,\n",
       " 'RMSLE': 0.03593220022871414,\n",
       " 'R2': 0.6913181910542765}"
      ]
     },
     "execution_count": 49,
     "metadata": {},
     "output_type": "execute_result"
    }
   ],
   "source": [
    "liste, mod = modelize(linear_reg, \"regression linéaire\", X_es, y, True)\n",
    "liste"
   ]
  },
  {
   "cell_type": "markdown",
   "metadata": {},
   "source": [
    "0.385290 \t0.035932 \t0.691318\n",
    "Les résultat sont un tout petit peu moins bons"
   ]
  },
  {
   "cell_type": "code",
   "execution_count": 75,
   "metadata": {},
   "outputs": [],
   "source": [
    "# création d'une série avec l'index des features et la valeur du coeff associé\n",
    "importance = pd.Series(mod.steps[1][1].coef_, range(len(mod.steps[1][1].coef_)))"
   ]
  },
  {
   "cell_type": "code",
   "execution_count": 83,
   "metadata": {},
   "outputs": [
    {
     "data": {
      "image/png": "[encoded data removed]",
      "text/plain": [
       "<Figure size 1440x360 with 1 Axes>"
      ]
     },
     "metadata": {
      "needs_background": "light"
     },
     "output_type": "display_data"
    }
   ],
   "source": [
    "fig = plt.figure(figsize = (20,5))\n",
    "plt.bar(importance.index[:60], np.abs(importance.values)[:60])\n",
    "plt.show()"
   ]
  },
  {
   "cell_type": "markdown",
   "metadata": {},
   "source": [
    "On regarde pour la **regression ridge**"
   ]
  },
  {
   "cell_type": "code",
   "execution_count": 84,
   "metadata": {},
   "outputs": [
    {
     "data": {
      "text/plain": [
       "{'Model': 'regression ridge',\n",
       " 'Fit_Time': 0.5530319213867188,\n",
       " 'Score_time': 0.04500222206115723,\n",
       " 'MAE': 0.37653547183315983,\n",
       " 'RMSLE': 0.034975885513910274,\n",
       " 'R2': 0.7080254098009368}"
      ]
     },
     "execution_count": 84,
     "metadata": {},
     "output_type": "execute_result"
    }
   ],
   "source": [
    "liste, mod = modelize(ridge_reg, \"regression ridge\", X_es, y, True)\n",
    "liste"
   ]
  },
  {
   "cell_type": "markdown",
   "metadata": {},
   "source": [
    "0.376535 - 0.034976 - 0.708025<br>\n",
    "résultats similaires ou un peu moins bons"
   ]
  },
  {
   "cell_type": "code",
   "execution_count": 86,
   "metadata": {},
   "outputs": [
    {
     "data": {
      "image/png": "[encoded data removed]",
      "text/plain": [
       "<Figure size 1440x360 with 1 Axes>"
      ]
     },
     "metadata": {
      "needs_background": "light"
     },
     "output_type": "display_data"
    }
   ],
   "source": [
    "importance = pd.Series(mod.steps[1][1].coef_, range(len(mod.steps[1][1].coef_)))\n",
    "fig = plt.figure(figsize = (20,5))\n",
    "plt.bar(importance.index[:60], np.abs(importance.values)[:60])\n",
    "plt.show()"
   ]
  },
  {
   "cell_type": "markdown",
   "metadata": {},
   "source": [
    "Même observations..."
   ]
  },
  {
   "cell_type": "markdown",
   "metadata": {},
   "source": [
    "On regarde pour la **random forest**"
   ]
  },
  {
   "cell_type": "code",
   "execution_count": 87,
   "metadata": {},
   "outputs": [
    {
     "data": {
      "text/plain": [
       "{'Model': 'random forest reg',\n",
       " 'Fit_Time': 42.60543656349182,\n",
       " 'Score_time': 0.14500856399536133,\n",
       " 'MAE': 0.4023233368202382,\n",
       " 'RMSLE': 0.03797343077939637,\n",
       " 'R2': 0.6568272035217481}"
      ]
     },
     "execution_count": 87,
     "metadata": {},
     "output_type": "execute_result"
    }
   ],
   "source": [
    "liste, mod = modelize(random_forest_reg, \"random forest reg\", X_es, y, True)\n",
    "liste"
   ]
  },
  {
   "cell_type": "markdown",
   "metadata": {},
   "source": [
    "0.401665 - 0.037787 - 0.659970<br>Ici le modèle est un peu meilleur"
   ]
  },
  {
   "cell_type": "code",
   "execution_count": 93,
   "metadata": {},
   "outputs": [
    {
     "data": {
      "image/png": "[encoded data removed]",
      "text/plain": [
       "<Figure size 1440x360 with 1 Axes>"
      ]
     },
     "metadata": {
      "needs_background": "light"
     },
     "output_type": "display_data"
    }
   ],
   "source": [
    "importance = pd.Series(mod.steps[1][1].feature_importances_, \n",
    "                       range(len(mod.steps[1][1].feature_importances_)))\n",
    "fig = plt.figure(figsize = (20,5))\n",
    "plt.bar(importance.index[:20], np.abs(importance.values)[:20])\n",
    "plt.show()"
   ]
  },
  {
   "cell_type": "markdown",
   "metadata": {},
   "source": [
    "Importance dans cette modélisation RF : 0.13%"
   ]
  },
  {
   "cell_type": "code",
   "execution_count": 96,
   "metadata": {},
   "outputs": [
    {
     "data": {
      "text/plain": [
       "0.001330544001595828"
      ]
     },
     "execution_count": 96,
     "metadata": {},
     "output_type": "execute_result"
    }
   ],
   "source": [
    "mod.steps[1][1].feature_importances_[9]"
   ]
  },
  {
   "cell_type": "markdown",
   "metadata": {},
   "source": [
    "On regarde pour la **xgboost**"
   ]
  },
  {
   "cell_type": "code",
   "execution_count": 101,
   "metadata": {},
   "outputs": [
    {
     "data": {
      "text/plain": [
       "{'Model': 'XGBoost',\n",
       " 'Fit_Time': 0.837047815322876,\n",
       " 'Score_time': 0.10600590705871582,\n",
       " 'MAE': 0.394963548757452,\n",
       " 'RMSLE': 0.03693588700138334,\n",
       " 'R2': 0.6761478215590387}"
      ]
     },
     "execution_count": 101,
     "metadata": {},
     "output_type": "execute_result"
    }
   ],
   "source": [
    "liste, mod = modelize(xgb_reg, \"XGBoost\", X_es, y, True)\n",
    "liste"
   ]
  },
  {
   "cell_type": "code",
   "execution_count": 115,
   "metadata": {},
   "outputs": [
    {
     "data": {
      "image/png": "[encoded data removed]",
      "text/plain": [
       "<Figure size 1440x360 with 1 Axes>"
      ]
     },
     "metadata": {
      "needs_background": "light"
     },
     "output_type": "display_data"
    }
   ],
   "source": [
    "fig = plt.figure(figsize = (20,5))\n",
    "plt.bar(range(len(mod.steps[1][1].feature_importances_)), mod.steps[1][1].feature_importances_)\n",
    "plt.show()"
   ]
  },
  {
   "cell_type": "code",
   "execution_count": 119,
   "metadata": {},
   "outputs": [
    {
     "data": {
      "image/png": "[encoded data removed]",
      "text/plain": [
       "<Figure size 1440x360 with 1 Axes>"
      ]
     },
     "metadata": {
      "needs_background": "light"
     },
     "output_type": "display_data"
    }
   ],
   "source": [
    "# zoom\n",
    "fig = plt.figure(figsize = (20,5))\n",
    "plt.bar(range(len(mod.steps[1][1].feature_importances_[:50])), \n",
    "        mod.steps[1][1].feature_importances_[:50])\n",
    "plt.show()"
   ]
  },
  {
   "cell_type": "code",
   "execution_count": 118,
   "metadata": {},
   "outputs": [
    {
     "data": {
      "text/plain": [
       "0.0028108903"
      ]
     },
     "execution_count": 118,
     "metadata": {},
     "output_type": "execute_result"
    }
   ],
   "source": [
    "mod.steps[1][1].feature_importances_[9]"
   ]
  },
  {
   "cell_type": "markdown",
   "metadata": {},
   "source": [
    "Avec XGBoost, l'indicateur compte pour **0.28%**."
   ]
  },
  {
   "cell_type": "markdown",
   "metadata": {},
   "source": [
    " "
   ]
  },
  {
   "cell_type": "markdown",
   "metadata": {},
   "source": [
    "# Travail sur les variables catégorielles"
   ]
  },
  {
   "cell_type": "markdown",
   "metadata": {},
   "source": [
    "## Test avec Label Encoding"
   ]
  },
  {
   "cell_type": "markdown",
   "metadata": {},
   "source": [
    "Ca devrait modifier les résultats de nos modèles linéaires mais peut-être améliorer les résultats des autres."
   ]
  },
  {
   "cell_type": "markdown",
   "metadata": {},
   "source": [
    "On va encoder nos données en amont du pipeline qui devra être aussi modifié..."
   ]
  },
  {
   "cell_type": "code",
   "execution_count": 7,
   "metadata": {},
   "outputs": [],
   "source": [
    "X_lab = X.copy()\n",
    "\n",
    "for cat in cat_feat :\n",
    "    lab_enc = LabelEncoder()\n",
    "    X_lab[cat] = lab_enc.fit_transform(X_lab[cat])"
   ]
  },
  {
   "cell_type": "code",
   "execution_count": 6,
   "metadata": {},
   "outputs": [],
   "source": [
    "prepro_ord = make_column_transformer((pipe_num, num_feat))\n",
    "\n",
    "linear_reg_ord = make_pipeline(prepro_ord, LinearRegression())\n",
    "ridge_reg_ord = make_pipeline(prepro_ord, Ridge())\n",
    "lasso_reg_ord = make_pipeline(prepro_ord, Lasso())\n",
    "sv_reg_ord = make_pipeline(prepro_ord, SVR())\n",
    "random_forest_reg_ord = make_pipeline(prepro_ord, RandomForestRegressor())\n",
    "ada_reg_ord = make_pipeline(prepro_ord, AdaBoostRegressor())\n",
    "bag_reg_ord = make_pipeline(prepro_ord, BaggingRegressor(base_estimator = DecisionTreeRegressor()))\n",
    "gb_reg_ord = make_pipeline(prepro_ord, GradientBoostingRegressor())\n",
    "xgb_reg_ord = make_pipeline(prepro_ord, xgboost.XGBRegressor(random_state = SEED))\n",
    "xgbrf_reg_ord = make_pipeline(prepro_ord, xgboost.XGBRFRegressor(random_state = SEED))\n",
    "\n",
    "\n",
    "mod_lab = {\"Linear_Reg_ord\" : linear_reg_ord,\n",
    "        \"Ridge_Reg_ord\" : ridge_reg_ord,\n",
    "        \"Lasso_Reg_ord\" : lasso_reg_ord,\n",
    "        \"SV_Reg_ord\" : sv_reg_ord,\n",
    "        \"Random_Forest_Reg_ord\" : random_forest_reg_ord,\n",
    "        \"Adaboost_Reg_ord\" : ada_reg_ord,\n",
    "        \"Bagging_Reg_ord\" : bag_reg_ord,\n",
    "        \"GB_Reg_ord\" : gb_reg_ord,\n",
    "        \"XGB_Reg_ord\" : xgb_reg_ord\n",
    "}"
   ]
  },
  {
   "cell_type": "code",
   "execution_count": 35,
   "metadata": {},
   "outputs": [
    {
     "data": {
      "text/html": [
       "<div>\n",
       "<style scoped>\n",
       "    .dataframe tbody tr th:only-of-type {\n",
       "        vertical-align: middle;\n",
       "    }\n",
       "\n",
       "    .dataframe tbody tr th {\n",
       "        vertical-align: top;\n",
       "    }\n",
       "\n",
       "    .dataframe thead th {\n",
       "        text-align: right;\n",
       "    }\n",
       "</style>\n",
       "<table border=\"1\" class=\"dataframe\">\n",
       "  <thead>\n",
       "    <tr style=\"text-align: right;\">\n",
       "      <th></th>\n",
       "      <th>Model</th>\n",
       "      <th>Fit_Time</th>\n",
       "      <th>Score_time</th>\n",
       "      <th>MAE</th>\n",
       "      <th>RMSLE</th>\n",
       "      <th>R2</th>\n",
       "    </tr>\n",
       "  </thead>\n",
       "  <tbody>\n",
       "    <tr>\n",
       "      <th>0</th>\n",
       "      <td>Linear_Reg_ord</td>\n",
       "      <td>0.070004</td>\n",
       "      <td>0.027002</td>\n",
       "      <td>0.515628</td>\n",
       "      <td>0.044676</td>\n",
       "      <td>0.516688</td>\n",
       "    </tr>\n",
       "    <tr>\n",
       "      <th>1</th>\n",
       "      <td>Ridge_Reg_ord</td>\n",
       "      <td>0.148008</td>\n",
       "      <td>0.017001</td>\n",
       "      <td>0.515673</td>\n",
       "      <td>0.044678</td>\n",
       "      <td>0.516670</td>\n",
       "    </tr>\n",
       "    <tr>\n",
       "      <th>2</th>\n",
       "      <td>Lasso_Reg_ord</td>\n",
       "      <td>0.060003</td>\n",
       "      <td>0.019001</td>\n",
       "      <td>0.950983</td>\n",
       "      <td>0.076509</td>\n",
       "      <td>-0.368205</td>\n",
       "    </tr>\n",
       "    <tr>\n",
       "      <th>3</th>\n",
       "      <td>SV_Reg_ord</td>\n",
       "      <td>1.280073</td>\n",
       "      <td>0.149009</td>\n",
       "      <td>0.508188</td>\n",
       "      <td>0.045991</td>\n",
       "      <td>0.495250</td>\n",
       "    </tr>\n",
       "    <tr>\n",
       "      <th>4</th>\n",
       "      <td>Random_Forest_Reg_ord</td>\n",
       "      <td>3.474199</td>\n",
       "      <td>0.105006</td>\n",
       "      <td>0.531574</td>\n",
       "      <td>0.047102</td>\n",
       "      <td>0.468096</td>\n",
       "    </tr>\n",
       "    <tr>\n",
       "      <th>5</th>\n",
       "      <td>Adaboost_Reg_ord</td>\n",
       "      <td>0.591034</td>\n",
       "      <td>0.045003</td>\n",
       "      <td>0.544728</td>\n",
       "      <td>0.047159</td>\n",
       "      <td>0.457702</td>\n",
       "    </tr>\n",
       "    <tr>\n",
       "      <th>6</th>\n",
       "      <td>Bagging_Reg_ord</td>\n",
       "      <td>0.407023</td>\n",
       "      <td>0.030002</td>\n",
       "      <td>0.555233</td>\n",
       "      <td>0.048728</td>\n",
       "      <td>0.429877</td>\n",
       "    </tr>\n",
       "    <tr>\n",
       "      <th>7</th>\n",
       "      <td>GB_Reg_ord</td>\n",
       "      <td>1.055060</td>\n",
       "      <td>0.023001</td>\n",
       "      <td>0.500724</td>\n",
       "      <td>0.044311</td>\n",
       "      <td>0.528737</td>\n",
       "    </tr>\n",
       "    <tr>\n",
       "      <th>8</th>\n",
       "      <td>XGB_Reg_ord</td>\n",
       "      <td>0.665038</td>\n",
       "      <td>0.035002</td>\n",
       "      <td>0.530976</td>\n",
       "      <td>0.046922</td>\n",
       "      <td>0.470463</td>\n",
       "    </tr>\n",
       "  </tbody>\n",
       "</table>\n",
       "</div>"
      ],
      "text/plain": [
       "                   Model  Fit_Time  Score_time       MAE     RMSLE        R2\n",
       "0         Linear_Reg_ord  0.070004    0.027002  0.515628  0.044676  0.516688\n",
       "1          Ridge_Reg_ord  0.148008    0.017001  0.515673  0.044678  0.516670\n",
       "2          Lasso_Reg_ord  0.060003    0.019001  0.950983  0.076509 -0.368205\n",
       "3             SV_Reg_ord  1.280073    0.149009  0.508188  0.045991  0.495250\n",
       "4  Random_Forest_Reg_ord  3.474199    0.105006  0.531574  0.047102  0.468096\n",
       "5       Adaboost_Reg_ord  0.591034    0.045003  0.544728  0.047159  0.457702\n",
       "6        Bagging_Reg_ord  0.407023    0.030002  0.555233  0.048728  0.429877\n",
       "7             GB_Reg_ord  1.055060    0.023001  0.500724  0.044311  0.528737\n",
       "8            XGB_Reg_ord  0.665038    0.035002  0.530976  0.046922  0.470463"
      ]
     },
     "execution_count": 35,
     "metadata": {},
     "output_type": "execute_result"
    }
   ],
   "source": [
    "df_res_lab = pd.DataFrame(columns = LISTE_COL)\n",
    "\n",
    "for name, model in mod_lab.items():\n",
    "    \n",
    "    df_res_lab = df_res_lab.append(modelize(model, name, X_lab, y), ignore_index = True)\n",
    "    \n",
    "df_res_lab"
   ]
  },
  {
   "cell_type": "markdown",
   "metadata": {},
   "source": [
    "Résultats très mauvais !!!"
   ]
  },
  {
   "cell_type": "markdown",
   "metadata": {},
   "source": [
    "## test avec Target_encoding"
   ]
  },
  {
   "cell_type": "markdown",
   "metadata": {},
   "source": [
    "Le Target encoding consiste à remplacer les catégories d'une variable par ."
   ]
  },
  {
   "cell_type": "code",
   "execution_count": 14,
   "metadata": {},
   "outputs": [],
   "source": [
    "X_tar = X.copy()\n",
    "var_str = ['Neighborhood', 'BuildingType', 'PrimaryPropertyType',\n",
    "       'LargestPropertyUseType', 'SecondLargestPropertyUseType',\n",
    "       'ThirdLargestPropertyUseType', 'DecadeBuilt']\n",
    "\n",
    "# for cat in var_str :\n",
    "#     tar_enc = TargetEncoder()\n",
    "#     X_tar[cat] = tar_enc.fit_transform(X_tar[cat], y)"
   ]
  },
  {
   "cell_type": "code",
   "execution_count": 15,
   "metadata": {},
   "outputs": [],
   "source": [
    "pipe_tar = make_pipeline(TargetEncoder(), StandardScaler())\n",
    "\n",
    "prepro_tar = make_column_transformer((pipe_num, num_feat), \n",
    "                                     (pipe_tar, var_str))\n",
    "\n",
    "linear_reg_tar = make_pipeline(prepro_tar, LinearRegression())\n",
    "ridge_reg_tar = make_pipeline(prepro_tar, Ridge())\n",
    "lasso_reg_tar = make_pipeline(prepro_tar, Lasso())\n",
    "sv_reg_tar = make_pipeline(prepro_tar, SVR())\n",
    "random_forest_reg_tar = make_pipeline(prepro_tar, RandomForestRegressor())\n",
    "ada_reg_tar = make_pipeline(prepro_tar, AdaBoostRegressor())\n",
    "bag_reg_tar = make_pipeline(prepro_tar, BaggingRegressor(base_estimator = DecisionTreeRegressor()))\n",
    "gb_reg_tar = make_pipeline(prepro_tar, GradientBoostingRegressor())\n",
    "xgb_reg_tar = make_pipeline(prepro_tar, xgboost.XGBRegressor(random_state = SEED))\n",
    "xgbrf_reg_tar = make_pipeline(prepro_tar, xgboost.XGBRFRegressor(random_state = SEED))\n",
    "\n",
    "mod_tar = {\"Linear_Reg_tar\" : linear_reg_tar,\n",
    "        \"Ridge_Reg_tar\" : ridge_reg_tar,\n",
    "        \"Lasso_Reg_tar\" : lasso_reg_tar,\n",
    "        \"SV_Reg_tar\" : sv_reg_tar,\n",
    "        \"Random_Forest_Reg_tar\" : random_forest_reg_tar,\n",
    "        \"Adaboost_Reg_tar\" : ada_reg_tar,\n",
    "        \"Bagging_Reg_tar\" : bag_reg_tar,\n",
    "        \"GB_Reg_tar\" : gb_reg_tar,\n",
    "        \"XGB_Reg_tar\" : xgb_reg_tar\n",
    "}"
   ]
  },
  {
   "cell_type": "code",
   "execution_count": 16,
   "metadata": {},
   "outputs": [
    {
     "data": {
      "text/html": [
       "<div>\n",
       "<style scoped>\n",
       "    .dataframe tbody tr th:only-of-type {\n",
       "        vertical-align: middle;\n",
       "    }\n",
       "\n",
       "    .dataframe tbody tr th {\n",
       "        vertical-align: top;\n",
       "    }\n",
       "\n",
       "    .dataframe thead th {\n",
       "        text-align: right;\n",
       "    }\n",
       "</style>\n",
       "<table border=\"1\" class=\"dataframe\">\n",
       "  <thead>\n",
       "    <tr style=\"text-align: right;\">\n",
       "      <th></th>\n",
       "      <th>Model</th>\n",
       "      <th>Fit_Time</th>\n",
       "      <th>Score_time</th>\n",
       "      <th>MAE</th>\n",
       "      <th>RMSLE</th>\n",
       "      <th>R2</th>\n",
       "    </tr>\n",
       "  </thead>\n",
       "  <tbody>\n",
       "    <tr>\n",
       "      <th>0</th>\n",
       "      <td>Linear_Reg_tar</td>\n",
       "      <td>1.370003</td>\n",
       "      <td>0.155001</td>\n",
       "      <td>0.434529</td>\n",
       "      <td>0.039816</td>\n",
       "      <td>0.619560</td>\n",
       "    </tr>\n",
       "    <tr>\n",
       "      <th>1</th>\n",
       "      <td>Ridge_Reg_tar</td>\n",
       "      <td>0.751001</td>\n",
       "      <td>0.110000</td>\n",
       "      <td>0.434559</td>\n",
       "      <td>0.039818</td>\n",
       "      <td>0.619539</td>\n",
       "    </tr>\n",
       "    <tr>\n",
       "      <th>2</th>\n",
       "      <td>Lasso_Reg_tar</td>\n",
       "      <td>0.716004</td>\n",
       "      <td>0.125001</td>\n",
       "      <td>0.950983</td>\n",
       "      <td>0.076509</td>\n",
       "      <td>-0.368205</td>\n",
       "    </tr>\n",
       "    <tr>\n",
       "      <th>3</th>\n",
       "      <td>SV_Reg_tar</td>\n",
       "      <td>1.942002</td>\n",
       "      <td>0.270001</td>\n",
       "      <td>0.441003</td>\n",
       "      <td>0.041459</td>\n",
       "      <td>0.592305</td>\n",
       "    </tr>\n",
       "    <tr>\n",
       "      <th>4</th>\n",
       "      <td>Random_Forest_Reg_tar</td>\n",
       "      <td>5.350008</td>\n",
       "      <td>0.190001</td>\n",
       "      <td>0.423985</td>\n",
       "      <td>0.039264</td>\n",
       "      <td>0.632480</td>\n",
       "    </tr>\n",
       "    <tr>\n",
       "      <th>5</th>\n",
       "      <td>Adaboost_Reg_tar</td>\n",
       "      <td>1.361002</td>\n",
       "      <td>0.132000</td>\n",
       "      <td>0.517307</td>\n",
       "      <td>0.044774</td>\n",
       "      <td>0.513083</td>\n",
       "    </tr>\n",
       "    <tr>\n",
       "      <th>6</th>\n",
       "      <td>Bagging_Reg_tar</td>\n",
       "      <td>1.155004</td>\n",
       "      <td>0.120000</td>\n",
       "      <td>0.440452</td>\n",
       "      <td>0.040572</td>\n",
       "      <td>0.606043</td>\n",
       "    </tr>\n",
       "    <tr>\n",
       "      <th>7</th>\n",
       "      <td>GB_Reg_tar</td>\n",
       "      <td>2.002003</td>\n",
       "      <td>0.100001</td>\n",
       "      <td>0.417436</td>\n",
       "      <td>0.038711</td>\n",
       "      <td>0.642554</td>\n",
       "    </tr>\n",
       "    <tr>\n",
       "      <th>8</th>\n",
       "      <td>XGB_Reg_tar</td>\n",
       "      <td>1.375044</td>\n",
       "      <td>0.184010</td>\n",
       "      <td>0.440253</td>\n",
       "      <td>0.040946</td>\n",
       "      <td>0.602483</td>\n",
       "    </tr>\n",
       "  </tbody>\n",
       "</table>\n",
       "</div>"
      ],
      "text/plain": [
       "                   Model  Fit_Time  Score_time       MAE     RMSLE        R2\n",
       "0         Linear_Reg_tar  1.370003    0.155001  0.434529  0.039816  0.619560\n",
       "1          Ridge_Reg_tar  0.751001    0.110000  0.434559  0.039818  0.619539\n",
       "2          Lasso_Reg_tar  0.716004    0.125001  0.950983  0.076509 -0.368205\n",
       "3             SV_Reg_tar  1.942002    0.270001  0.441003  0.041459  0.592305\n",
       "4  Random_Forest_Reg_tar  5.350008    0.190001  0.423985  0.039264  0.632480\n",
       "5       Adaboost_Reg_tar  1.361002    0.132000  0.517307  0.044774  0.513083\n",
       "6        Bagging_Reg_tar  1.155004    0.120000  0.440452  0.040572  0.606043\n",
       "7             GB_Reg_tar  2.002003    0.100001  0.417436  0.038711  0.642554\n",
       "8            XGB_Reg_tar  1.375044    0.184010  0.440253  0.040946  0.602483"
      ]
     },
     "execution_count": 16,
     "metadata": {},
     "output_type": "execute_result"
    }
   ],
   "source": [
    "df_res_tar = pd.DataFrame(columns = LISTE_COL)\n",
    "\n",
    "for name, model in mod_tar.items():\n",
    "    \n",
    "    df_res_tar = df_res_tar.append(modelize(model, name, X_tar, y), ignore_index = True)\n",
    "    \n",
    "df_res_tar"
   ]
  },
  {
   "cell_type": "markdown",
   "metadata": {},
   "source": [
    "Option non concluante..."
   ]
  },
  {
   "cell_type": "markdown",
   "metadata": {},
   "source": [
    "# Selection des models"
   ]
  },
  {
   "cell_type": "markdown",
   "metadata": {},
   "source": [
    "Suite à nos précédents résultats, on décide de garder les models les plus prometteurs qu'on pense de plus pouvoir encore améliorer plus tard :<br>- ridge<br>- svr<br>- GB<br>- XGB"
   ]
  },
  {
   "cell_type": "markdown",
   "metadata": {},
   "source": [
    " "
   ]
  },
  {
   "cell_type": "markdown",
   "metadata": {},
   "source": [
    " "
   ]
  },
  {
   "cell_type": "markdown",
   "metadata": {},
   "source": [
    "# Réduction dimensionnelle des var_cat"
   ]
  },
  {
   "cell_type": "markdown",
   "metadata": {},
   "source": [
    "### Utilisation de la fonction **Optimize_Level**"
   ]
  },
  {
   "cell_type": "code",
   "execution_count": 23,
   "metadata": {
    "jupyter": {
     "source_hidden": true
    }
   },
   "outputs": [],
   "source": [
    "# En fonction d'un level \"n\", et d'une colonne \"col\" (d'une variable catégorielle) d'un DF \"df\", \n",
    "# cette méthode renvoie une colonne \"col\" réduite à \"n\" différentes valeurs. le surplus est\n",
    "# remplacé par \"No_Data\" ou des \"0\"\n",
    "\n",
    "def level_n_reductor(n, df, col):\n",
    "    \n",
    "    df1 = df.copy()\n",
    "    \n",
    "    top = df1[col].value_counts().index.tolist()[:n]\n",
    "\n",
    "    labels = df1[col].value_counts().index.tolist()\n",
    "    \n",
    "    type_data = type(labels[0])\n",
    "    \n",
    "    if type_data is str :\n",
    "    \n",
    "        new = [l if l in top else \"No_Data\" for l in labels]\n",
    "    \n",
    "    else :\n",
    "        \n",
    "        new = [l if l in top else 0 for l in labels]\n",
    "    \n",
    "    dico = {k:v for k, v in zip(labels, new)}\n",
    "    \n",
    "    df1[col] = df1[col].map(dico)\n",
    "    #df1[col] = df1[col].map(dico).astype(\"category\")\n",
    "    \n",
    "    nb = df1[col].unique().shape[0]\n",
    "    \n",
    "    return df1, nb\n",
    "\n",
    "\n",
    "\n",
    "# modélisation renvoyant les résultats dans la métrique \"key\"\n",
    "\n",
    "def modeli(n, model, X, y, key) :\n",
    "        \n",
    "    resultats = [n]\n",
    "    \n",
    "    kf = KFold(K, random_state = SEED)\n",
    "    \n",
    "    cv_res = cross_validate(model, X, y, scoring = SCORING, cv = kf)\n",
    "    \n",
    "    dict_metrics = {\"MAE\" : -cv_res['test_neg_mean_absolute_error'].mean(), \n",
    "                    \"RMSLE\" : np.sqrt(-cv_res['test_neg_mean_squared_log_error'].mean()), \n",
    "                    \"R2\" : cv_res['test_r2'].mean()}\n",
    "    \n",
    "    resultats.append(dict_metrics[key])\n",
    "#     if np.isnan(dict_metrics[key]) :\n",
    "#         print(\"NAN !!!\")\n",
    "#         print(model.fit_transform(X))\n",
    "    \n",
    "    return resultats\n",
    "\n",
    "\n",
    "# Pour un df, un model, et une métrique donnés, cette méthode cherche le meilleur level de chaque\n",
    "# variable catégorielle en allant de la varcat la PLUS PROFONDE à la MOINS PROFONDE.\n",
    "\n",
    "def optimize_level(model, model_name, df, y, key):\n",
    "    \n",
    "    X = df.copy()\n",
    "\n",
    "    # init de listes\n",
    "    liste = []\n",
    "    liste_best = []\n",
    "    liste_X_trans = []\n",
    "    liste_indice = []\n",
    "    \n",
    "    # listage des var cat d'un DF\n",
    "    liste_var_cat = X.select_dtypes(include=\"category\").columns.to_list()\n",
    "    \n",
    "    # création d'une série (classé decroi.) de ces varcat avec leur level en index\n",
    "    s = pd.Series([k for k in liste_var_cat], \n",
    "                  index = [X[var].unique().shape[0] for var in liste_var_cat]).sort_index(ascending = False)\n",
    "\n",
    "    # boucle dans la série    \n",
    "    for col, n in zip(s.values, s.index) :\n",
    "\n",
    "        #print(f\"On est dans col - {col} - qui a - {n} - val.\")\n",
    "\n",
    "        # init de listes\n",
    "        liste_X = []\n",
    "        liste_n = []\n",
    "\n",
    "        # pour la colonne col, on crée une liste de df ou col a son level diminué de n à 1\n",
    "        for i in range(n, 0, -1) : # yo +1\n",
    "\n",
    "            liste_X.append(level_n_reductor(i, X, col)[0])\n",
    "            liste_n.append(level_n_reductor(i, X, col)[1])\n",
    "\n",
    "        liste_b = []\n",
    "        i = 0\n",
    "        \n",
    "        # ensuite on calcul le score pour chaque df\n",
    "        for df, nb in zip(liste_X, liste_n) :\n",
    "\n",
    "            #df = pd.get_dummies(X, drop_first = True)\n",
    "            liste_b.append([i] + list(modeli(nb, model, df, y, key))) #yoooo +1\n",
    "            i += 1\n",
    "\n",
    "        # on récupère meileur score et meilleur indice n correspondant\n",
    "        ar_b = np.array(liste_b)\n",
    "        best = np.min(ar_b, axis = 0)[2]\n",
    "        ind = np.argmin(ar_b, axis = 0)[2]\n",
    "        best_n = int(ar_b[ind][1])\n",
    "        \n",
    "        liste.append(liste_b)\n",
    "        liste_best.append((i, ind, best, best_n))\n",
    "        liste_indice.append(best_n)\n",
    "        \n",
    "        X = liste_X[ind]\n",
    "        \n",
    "        liste_X_trans.append(X)\n",
    "        \n",
    "    # sortie de la boucle, on va drop les varcat devenues cstabaissées à un elem et tou mettre en dtype cat    \n",
    "    #print(\"post-traitement\")\n",
    "    \n",
    "    X_opti = liste_X_trans[-1]\n",
    "    \n",
    "    #print(liste_best)\n",
    "    \n",
    "    for col in liste_var_cat :\n",
    "            \n",
    "        #print(X_opti[col].dtype.name)\n",
    "\n",
    "        if X_opti[col].dtype.name != \"category\" :\n",
    "\n",
    "            #print(f\"On met {col} en type 'category'\")                    \n",
    "            X_opti[col] = X_opti[col].astype(\"category\")  \n",
    "    \n",
    "    drop = False\n",
    "    \n",
    "    for col in liste_var_cat :\n",
    "\n",
    "        #print(X_opti[col].dtype, \" - \", X_opti[col].dtype.name)\n",
    "\n",
    "        #print(X_opti[col].unique().shape[0])\n",
    "        if X_opti[col].unique().shape[0] == 1 :\n",
    "\n",
    "            #print(f\"On drop la colonne : {col}\")\n",
    "            X_opti = X_opti.drop(col, axis = 1)\n",
    "            drop = True\n",
    "    \n",
    "#     if drop :\n",
    "#         #print(X_opti.info())\n",
    "#         liste_best.append(list(modeli(\"Score apres drop\", model, X_opti, y, key)))\n",
    "    \n",
    "    #liste_resultats = [model_name, liste_indice, liste_best[-1][2]]\n",
    "    \n",
    "    # on retourne les meilleurs score et indice, ainsi que le df ainsi \"optimisé\"\n",
    "    #return liste_best, liste_X_trans[-1]\n",
    "    return liste_best, model_name, liste_best[-1][2], X_opti"
   ]
  },
  {
   "cell_type": "markdown",
   "metadata": {},
   "source": [
    "## Diminution level des feat catég."
   ]
  },
  {
   "cell_type": "code",
   "execution_count": 24,
   "metadata": {},
   "outputs": [
    {
     "name": "stdout",
     "output_type": "stream",
     "text": [
      "on est avec le modele Ridge_Reg\n",
      "Ridge_Reg 0.37141008664650793\n",
      "on a mis 52.12998175621033\n",
      "\n",
      "on est avec le modele SV_Reg\n",
      "SV_Reg 0.3801521824231815\n",
      "on a mis 631.2921078205109\n",
      "\n",
      "on est avec le modele GB_Reg\n",
      "GB_Reg 0.38072501956496857\n",
      "on a mis 461.51739716529846\n",
      "\n",
      "on est avec le modele XGB_Reg\n",
      "XGB_Reg 0.38918630718594294\n",
      "on a mis 251.54638767242432\n",
      "\n",
      "Ridge_Reg 0.37141008664650793 2 colonnes drop\n",
      "SV_Reg 0.3801521824231815 2 colonnes drop\n",
      "GB_Reg 0.38072501956496857 0 colonnes drop\n",
      "XGB_Reg 0.38918630718594294 0 colonnes drop\n"
     ]
    }
   ],
   "source": [
    "# 2\n",
    "red_level_res = []\n",
    "\n",
    "mod3 = {#\"Linear_Reg\" : linear_reg,\n",
    "        \"Ridge_Reg\" : ridge_reg,\n",
    "        \"SV_Reg\" : sv_reg,\n",
    "        \"GB_Reg\" : gb_reg,\n",
    "        \"XGB_Reg\" : xgb_reg\n",
    "}\n",
    "\n",
    "for name, mod in mod3.items() :\n",
    "#for name, mod in zip(modz.keys()[:2], modz.values()[:2]) :\n",
    "    start = time()\n",
    "    print(f\"on est avec le modele {name}\")\n",
    "    red_level_res.append(optimize_level(mod, name, X, y, \"MAE\"))\n",
    "    print(red_level_res[-1][1], red_level_res[-1][2])\n",
    "    print(f\"on a mis {time() - start}\")\n",
    "    print()\n",
    "\n",
    "for l in red_level_res :\n",
    "    \n",
    "    print(l[1], l[2], f\"{len(X.columns) - len(l[3].columns)} colonnes drop\")"
   ]
  },
  {
   "cell_type": "code",
   "execution_count": 26,
   "metadata": {},
   "outputs": [],
   "source": [
    "# sauvegardes des data\n",
    "pickle_out = open(\"Data/red_level_res.pickle\", \"wb\")\n",
    "pickle.dump(red_level_res, pickle_out)\n",
    "pickle_out.close()"
   ]
  },
  {
   "cell_type": "code",
   "execution_count": 27,
   "metadata": {},
   "outputs": [],
   "source": [
    "liste_X_opti = []\n",
    "\n",
    "for n in range(len(red_level_res)) :\n",
    "    liste_X_opti.append(red_level_res[n][3])"
   ]
  },
  {
   "cell_type": "code",
   "execution_count": 28,
   "metadata": {},
   "outputs": [],
   "source": [
    "# sauvegardes liste des df optimisés\n",
    "pickle_out = open(\"Data/liste_X_opti.pickle\", \"wb\")\n",
    "pickle.dump(liste_X_opti, pickle_out)\n",
    "pickle_out.close()"
   ]
  },
  {
   "cell_type": "markdown",
   "metadata": {},
   "source": [
    "Maintenant, chaque estimateur aura son DF de features associés..."
   ]
  },
  {
   "cell_type": "code",
   "execution_count": null,
   "metadata": {},
   "outputs": [],
   "source": [
    "# rechargement des df..."
   ]
  },
  {
   "cell_type": "code",
   "execution_count": 8,
   "metadata": {},
   "outputs": [],
   "source": [
    "liste_X = pickle.load(open(\"Data/liste_X_opti.pickle\", \"rb\"))\n",
    "\n",
    "X_ridge = liste_X[0]\n",
    "X_svr = liste_X[1]\n",
    "X_GB = liste_X[2]\n",
    "X_XGB = liste_X[3]"
   ]
  },
  {
   "cell_type": "markdown",
   "metadata": {},
   "source": [
    "# Définition des pipeline \"opti level \""
   ]
  },
  {
   "cell_type": "code",
   "execution_count": 9,
   "metadata": {},
   "outputs": [],
   "source": [
    "# X_ridge = liste_X[1]\n",
    "# X_svr = liste_X[2]\n",
    "# X_GB = liste_X[3]\n",
    "# X_XGB = liste_X[4]\n",
    "\n",
    "liste_estimator = [Ridge(), SVR(), GradientBoostingRegressor(), \n",
    "                   xgboost.XGBRegressor(random_state = SEED)]\n",
    "liste_pipeline_opti = []\n",
    "\n",
    "for df in liste_X :\n",
    "    \n",
    "    nu_feat = np.array(df.columns[df.dtypes != \"category\"])\n",
    "    ca_feat = np.array(df.columns[df.dtypes == \"category\"])\n",
    "    \n",
    "    log_trans = FunctionTransformer(np.log1p)\n",
    "\n",
    "    ohe = OneHotEncoder(handle_unknown = \"ignore\")\n",
    "\n",
    "    pip_num = make_pipeline(log_trans, StandardScaler())\n",
    "\n",
    "    pip_cat = make_pipeline(ohe)\n",
    "\n",
    "\n",
    "    prepro = make_column_transformer((pip_num, nu_feat), \n",
    "                                     (pip_cat, ca_feat))\n",
    "    \n",
    "    liste_pipeline_opti.append(prepro)\n",
    "    \n",
    "    \n",
    "ridge_ol = make_pipeline(liste_pipeline_opti[0], liste_estimator[0])\n",
    "svr_ol = make_pipeline(liste_pipeline_opti[1], liste_estimator[1])\n",
    "gb_ol = make_pipeline(liste_pipeline_opti[2], liste_estimator[2])\n",
    "xgb_ol = make_pipeline(liste_pipeline_opti[3], liste_estimator[3])\n",
    "\n",
    "modz_ol = {\"ridge_ol\" : (ridge_ol, liste_pipeline_opti[0], liste_X[0]),\n",
    "          \"svr_ol\" : (svr_ol, liste_pipeline_opti[1], liste_X[1]),\n",
    "          \"gb_ol\" : (gb_ol, liste_pipeline_opti[2], liste_X[2]),\n",
    "          \"xgb_ol\" : (xgb_ol, liste_pipeline_opti[3], liste_X[3])}\n",
    "\n",
    "# modz_ol = {\"ridge_ol\" : (ridge_ol, X_ridge),\n",
    "#           \"svr_ol\" : (svr_ol, X_svr),\n",
    "#           \"gb_ol\" : (gb_ol, X_GB),\n",
    "#           \"xgb_ol\" : (xgb_ol, X_XGB)}"
   ]
  },
  {
   "cell_type": "code",
   "execution_count": 16,
   "metadata": {},
   "outputs": [
    {
     "data": {
      "text/html": [
       "<div>\n",
       "<style scoped>\n",
       "    .dataframe tbody tr th:only-of-type {\n",
       "        vertical-align: middle;\n",
       "    }\n",
       "\n",
       "    .dataframe tbody tr th {\n",
       "        vertical-align: top;\n",
       "    }\n",
       "\n",
       "    .dataframe thead th {\n",
       "        text-align: right;\n",
       "    }\n",
       "</style>\n",
       "<table border=\"1\" class=\"dataframe\">\n",
       "  <thead>\n",
       "    <tr style=\"text-align: right;\">\n",
       "      <th></th>\n",
       "      <th>Model</th>\n",
       "      <th>Fit_Time</th>\n",
       "      <th>Score_time</th>\n",
       "      <th>MAE</th>\n",
       "      <th>RMSLE</th>\n",
       "      <th>R2</th>\n",
       "    </tr>\n",
       "  </thead>\n",
       "  <tbody>\n",
       "    <tr>\n",
       "      <th>0</th>\n",
       "      <td>ridge_ol</td>\n",
       "      <td>0.159009</td>\n",
       "      <td>0.040002</td>\n",
       "      <td>0.371402</td>\n",
       "      <td>0.034757</td>\n",
       "      <td>0.712638</td>\n",
       "    </tr>\n",
       "    <tr>\n",
       "      <th>1</th>\n",
       "      <td>svr_ol</td>\n",
       "      <td>2.266129</td>\n",
       "      <td>0.400023</td>\n",
       "      <td>0.382567</td>\n",
       "      <td>0.036689</td>\n",
       "      <td>0.683363</td>\n",
       "    </tr>\n",
       "    <tr>\n",
       "      <th>2</th>\n",
       "      <td>gb_ol</td>\n",
       "      <td>1.982114</td>\n",
       "      <td>0.051003</td>\n",
       "      <td>0.380394</td>\n",
       "      <td>0.035573</td>\n",
       "      <td>0.698400</td>\n",
       "    </tr>\n",
       "    <tr>\n",
       "      <th>3</th>\n",
       "      <td>xgb_ol</td>\n",
       "      <td>137.959890</td>\n",
       "      <td>0.117007</td>\n",
       "      <td>0.389186</td>\n",
       "      <td>0.036565</td>\n",
       "      <td>0.683449</td>\n",
       "    </tr>\n",
       "  </tbody>\n",
       "</table>\n",
       "</div>"
      ],
      "text/plain": [
       "      Model    Fit_Time  Score_time       MAE     RMSLE        R2\n",
       "0  ridge_ol    0.159009    0.040002  0.371402  0.034757  0.712638\n",
       "1    svr_ol    2.266129    0.400023  0.382567  0.036689  0.683363\n",
       "2     gb_ol    1.982114    0.051003  0.380394  0.035573  0.698400\n",
       "3    xgb_ol  137.959890    0.117007  0.389186  0.036565  0.683449"
      ]
     },
     "execution_count": 16,
     "metadata": {},
     "output_type": "execute_result"
    }
   ],
   "source": [
    "# vérification que tout correspond bien...\n",
    "df_res_ol = pd.DataFrame(columns = LISTE_COL)\n",
    "\n",
    "for name, mod in modz_ol.items():\n",
    "    \n",
    "    df_res_ol = df_res_ol.append(modelize(mod[0], name, mod[2], y), ignore_index = True)\n",
    "    \n",
    "df_res_ol"
   ]
  },
  {
   "cell_type": "markdown",
   "metadata": {},
   "source": [
    "Petite amélioration des résultats... On garde cette option !"
   ]
  },
  {
   "cell_type": "markdown",
   "metadata": {},
   "source": [
    " "
   ]
  },
  {
   "cell_type": "markdown",
   "metadata": {},
   "source": [
    "# Feature Sélection avec RFECV"
   ]
  },
  {
   "cell_type": "code",
   "execution_count": 8,
   "metadata": {},
   "outputs": [],
   "source": [
    "liste_X_tr = [liste_pipeline_opti[n].fit_transform(liste_X[n]) for n in range(4)]"
   ]
  },
  {
   "cell_type": "code",
   "execution_count": 50,
   "metadata": {},
   "outputs": [
    {
     "name": "stdout",
     "output_type": "stream",
     "text": [
      "(3303, 133)\n",
      "(3303, 138)\n",
      "(3303, 113)\n",
      "(3303, 170)\n"
     ]
    }
   ],
   "source": [
    "for df in liste_X_tr :\n",
    "    print(df.shape)"
   ]
  },
  {
   "cell_type": "code",
   "execution_count": null,
   "metadata": {},
   "outputs": [],
   "source": []
  },
  {
   "cell_type": "markdown",
   "metadata": {},
   "source": [
    "**Ridge**"
   ]
  },
  {
   "cell_type": "code",
   "execution_count": 9,
   "metadata": {
    "collapsed": true,
    "jupyter": {
     "outputs_hidden": true
    }
   },
   "outputs": [
    {
     "name": "stdout",
     "output_type": "stream",
     "text": [
      "[ 1  1  5  1 14  1  1  1 11  9  1  4  1  1  1  1  1  1  1  1  1  1  1  1\n",
      "  1 13  2  1  1  1 12  6  1 10  1  1  1  1  1  1  1  1  1  1  1  1  1  1\n",
      "  1  1  1  1  1  1  1  1  1  1  1  1  1  1  1  1  1  1  1  1  1  1  1  1\n",
      "  1  1  1  1  1  1  1  1  1  3  1  1  1  7  1  1  1  1  1  1  1  1  1  1\n",
      "  1  1  1  1  1  1  1  1  1  1  1  1  1  1  1  1  1  1  1  1  1  1  1  1\n",
      "  1  1  1  1  1  1  8 15  1  1  1  1  1]\n",
      "[0.0755801  0.07527613 0.07508608 0.07467854 0.0739043  0.07373474\n",
      " 0.07374569 0.07362883 0.06993939 0.06331129 0.06321782 0.06322798\n",
      " 0.05917703 0.05907913 0.05903917 0.04198145 0.04188053 0.04152281\n",
      " 0.04149592 0.04139551 0.04058116 0.04062104 0.04002355 0.03939419\n",
      " 0.0384394  0.03846571 0.03835784 0.03723996 0.03725084 0.03690314\n",
      " 0.03629593 0.03626377 0.03618899 0.03610152 0.03609469 0.03609387\n",
      " 0.03608806 0.03603197 0.03595779 0.03597037 0.03595534 0.03594039\n",
      " 0.03587276 0.0358667  0.03587828 0.03587182 0.03585332 0.03585212\n",
      " 0.03586269 0.03586615 0.03586834 0.03580255 0.03577084 0.03591099\n",
      " 0.03590954 0.03590803 0.03592532 0.03588293 0.035895   0.03585828\n",
      " 0.03582642 0.0356533  0.03564586 0.03562926 0.03560173 0.03554847\n",
      " 0.03552543 0.03554299 0.03548526 0.03546136 0.03547714 0.03547381\n",
      " 0.03548843 0.03548179 0.03548019 0.03543962 0.03541451 0.03537639\n",
      " 0.03524986 0.03483807 0.03484398 0.03486138 0.03485039 0.03483727\n",
      " 0.03486453 0.03485518 0.03485435 0.03487503 0.03486054 0.03484476\n",
      " 0.03482809 0.03482594 0.03484729 0.03479999 0.03481653 0.03479627\n",
      " 0.03477409 0.03478232 0.03477623 0.03478211 0.03475424 0.03475688\n",
      " 0.03475707 0.03476251 0.03474834 0.034782   0.03479051 0.03479542\n",
      " 0.03479547 0.03479048 0.03478284 0.03475926 0.03477045 0.03478023\n",
      " 0.03477601 0.03477332 0.03475944 0.03475064 0.03474262 0.03477769\n",
      " 0.03476085 0.03477846 0.0347679  0.03476298 0.03475958 0.03476757\n",
      " 0.03476672 0.03476143 0.03476668 0.03475286 0.0347618  0.03476112\n",
      " 0.03476055]\n",
      "(3303, 133)\n",
      "(3303, 119)\n"
     ]
    }
   ],
   "source": [
    "selector = RFECV(estimator=Ridge(), \n",
    "                  scoring='neg_mean_squared_log_error', \n",
    "                  cv = KFold(K, random_state = SEED), \n",
    "                  step = 1)\n",
    "\n",
    "X_ridge_rfe = selector.fit_transform(liste_X_tr[0], y)\n",
    "\n",
    "print(selector.ranking_)\n",
    "print(np.sqrt(-selector.grid_scores_))\n",
    "print(liste_X_tr[0].shape)\n",
    "print(X_ridge_rfe.shape)"
   ]
  },
  {
   "cell_type": "code",
   "execution_count": 10,
   "metadata": {},
   "outputs": [
    {
     "data": {
      "text/plain": [
       "{'Model': 'ridge_rfe',\n",
       " 'Fit_Time': 0.054003238677978516,\n",
       " 'Score_time': 0.007000446319580078,\n",
       " 'MAE': 0.37036859007956635,\n",
       " 'RMSLE': 0.0346653317573047,\n",
       " 'R2': 0.714244890972922}"
      ]
     },
     "execution_count": 10,
     "metadata": {},
     "output_type": "execute_result"
    }
   ],
   "source": [
    "modelize(Ridge(), \"ridge_rfe\", X_ridge_rfe, y)"
   ]
  },
  {
   "cell_type": "code",
   "execution_count": null,
   "metadata": {},
   "outputs": [],
   "source": []
  },
  {
   "cell_type": "markdown",
   "metadata": {},
   "source": [
    "**SVR**"
   ]
  },
  {
   "cell_type": "code",
   "execution_count": 11,
   "metadata": {
    "collapsed": true,
    "jupyter": {
     "outputs_hidden": true
    }
   },
   "outputs": [
    {
     "name": "stdout",
     "output_type": "stream",
     "text": [
      "[ 1 18 28  1 25  1 20  7 16  3  2  1  1  1  1 10  1  1  1  1  1 27  8 19\n",
      " 26  1  9  1  1  1  1  4  1  1  1  1  1  1  1  1  1  1  1 30  1  1  1  1\n",
      "  1  1  1  1  1 22 17  1  1  1  1  1  1  1  1  1  1 38  1  1  1  1  1  1\n",
      "  1 33  1  1  1  1  1  1  1  1  1 32  1  1  1  1  1  1  1  1  1  1 31  1\n",
      "  1  6  1 24  1  1  1 21  1  1 34 23 35  1 37  1  1  1  1 36 15  1  1  1\n",
      "  5  1 14 13  1  1  1  1  1  1 29 12 11  1  1  1  1  1]\n",
      "[0.07559606 0.07513101 0.07476925 0.07424797 0.073976   0.0740028\n",
      " 0.07398904 0.07390315 0.07386111 0.07376807 0.07071164 0.0684604\n",
      " 0.06515904 0.06168409 0.06166231 0.04268083 0.04252998 0.04268878\n",
      " 0.04228232 0.04220734 0.04210909 0.04202088 0.04186179 0.04166513\n",
      " 0.04130158 0.04128437 0.04105755 0.04100458 0.04061268 0.03927952\n",
      " 0.03914821 0.03790341 0.03728739 0.03721859 0.03712813 0.03645527\n",
      " 0.03645877 0.03644382 0.03644783 0.03643624 0.03641389 0.03633316\n",
      " 0.03633443 0.03633444 0.0362367  0.03624779 0.03620418 0.03622657\n",
      " 0.03630153 0.03631778 0.03634552 0.03620483 0.03620022 0.03624315\n",
      " 0.03613776 0.03607286 0.03608615 0.03607809 0.03608187 0.03607134\n",
      " 0.0360647  0.03603581 0.0360232  0.03601509 0.03599021 0.03601128\n",
      " 0.03600773 0.03609458 0.03610156 0.03611539 0.03598933 0.03596771\n",
      " 0.03597754 0.03581156 0.03582221 0.03575468 0.03574573 0.03568552\n",
      " 0.03560864 0.0356323  0.03561825 0.03564717 0.03565744 0.03565947\n",
      " 0.03563034 0.03560023 0.03559933 0.03557214 0.03562836 0.035646\n",
      " 0.03558991 0.0355926  0.03555988 0.03555299 0.03550292 0.03548446\n",
      " 0.03546593 0.03543252 0.03543262 0.03540072 0.03539213 0.03539846\n",
      " 0.03541345 0.03540866 0.03541417 0.03541818 0.03542945 0.03542528\n",
      " 0.03543143 0.03544166 0.03546249 0.03545539 0.03544977 0.03545785\n",
      " 0.03545251 0.03547533 0.03547933 0.03548026 0.03548128 0.03546536\n",
      " 0.03548065 0.03549089 0.03549465 0.03548662 0.03548187 0.03547771\n",
      " 0.03547303 0.03543445 0.03543491 0.03543449 0.0354382  0.03543752\n",
      " 0.03543572 0.03543631 0.03543702 0.03543545 0.03543689 0.03543845]\n",
      "(3303, 138)\n",
      "(3303, 101)\n"
     ]
    }
   ],
   "source": [
    "selector = RFECV(estimator=SVR(kernel = \"linear\"), \n",
    "                  scoring='neg_mean_squared_log_error', \n",
    "                  cv = KFold(K, random_state = SEED), \n",
    "                  step = 1)\n",
    "\n",
    "X_svr_rfe = selector.fit_transform(liste_X_tr[1], y)\n",
    "\n",
    "print(selector.ranking_)\n",
    "print(np.sqrt(-selector.grid_scores_))\n",
    "print(liste_X_tr[1].shape)\n",
    "print(X_svr_rfe.shape)"
   ]
  },
  {
   "cell_type": "code",
   "execution_count": 12,
   "metadata": {},
   "outputs": [
    {
     "data": {
      "text/plain": [
       "{'Model': 'svr_rfe',\n",
       " 'Fit_Time': 1.7350993156433105,\n",
       " 'Score_time': 0.26601529121398926,\n",
       " 'MAE': 0.3653921377522994,\n",
       " 'RMSLE': 0.035473732504030756,\n",
       " 'R2': 0.7027934126499905}"
      ]
     },
     "execution_count": 12,
     "metadata": {},
     "output_type": "execute_result"
    }
   ],
   "source": [
    "modelize(SVR(), \"svr_rfe\", X_svr_rfe, y)"
   ]
  },
  {
   "cell_type": "markdown",
   "metadata": {},
   "source": [
    "**GB**"
   ]
  },
  {
   "cell_type": "code",
   "execution_count": 13,
   "metadata": {
    "collapsed": true,
    "jupyter": {
     "outputs_hidden": true
    }
   },
   "outputs": [
    {
     "name": "stdout",
     "output_type": "stream",
     "text": [
      "[ 1  1  1  1  1  1  1  1 24  3  1  7  1 21  1 29 18 39 11  4 40 38 46  1\n",
      "  1  1  1  9  1 13 51 28  1 25  1  5 64 45  1  1 54 55  1  2  1 56 57  1\n",
      " 53  1  1 32  1  1  1  1 41  1  1  1 27 31 49 44  1 52 10 17 20 61  1 30\n",
      " 35 36 42  1 34 50 12 65 33 62 26 16  1 47 48 37 59 60 43 63 14 19  1  1\n",
      "  1  1  1  1  6 15  1 58  1  1  8  1  1 22 23  1  1]\n",
      "[0.04588342 0.04295896 0.04184428 0.04081638 0.0407158  0.04022865\n",
      " 0.03973793 0.0386836  0.03817594 0.03740964 0.03735721 0.0372895\n",
      " 0.03708686 0.03668619 0.03662052 0.03648548 0.03643111 0.03626583\n",
      " 0.03626659 0.03594138 0.03597709 0.03589827 0.03597386 0.03577627\n",
      " 0.03575766 0.03585062 0.03571306 0.03563789 0.03574523 0.03571341\n",
      " 0.03580645 0.03574944 0.03567164 0.03574141 0.03571853 0.03578071\n",
      " 0.03574626 0.03555356 0.03554921 0.03560846 0.03561315 0.03557458\n",
      " 0.0355484  0.03557947 0.03553525 0.0356442  0.03553706 0.0355326\n",
      " 0.03552297 0.03566153 0.03563109 0.03562703 0.03567444 0.03565434\n",
      " 0.03558598 0.03558615 0.03556284 0.03556635 0.03562099 0.03565532\n",
      " 0.03557968 0.03563105 0.03564683 0.03559152 0.03563198 0.0355799\n",
      " 0.03557813 0.0355923  0.03557507 0.03555364 0.03555251 0.03560066\n",
      " 0.03555981 0.03560859 0.03555728 0.03559498 0.0355552  0.03557989\n",
      " 0.03559903 0.03559771 0.03560844 0.03557727 0.03561606 0.035575\n",
      " 0.03561731 0.03554452 0.03557824 0.03561122 0.03557517 0.03557105\n",
      " 0.03556218 0.03557384 0.03558861 0.03556371 0.03558586 0.03556231\n",
      " 0.03558024 0.03559464 0.03558979 0.03556138 0.03555457 0.03560413\n",
      " 0.03560353 0.03559171 0.03557449 0.03557326 0.03556666 0.03557777\n",
      " 0.03555732 0.03555073 0.03560671 0.03557238 0.03559885]\n",
      "(3303, 113)\n",
      "(3303, 49)\n"
     ]
    }
   ],
   "source": [
    "selector = RFECV(estimator=GradientBoostingRegressor(), \n",
    "                  scoring='neg_mean_squared_log_error', \n",
    "                  cv = KFold(K, random_state = SEED), \n",
    "                  step = 1)\n",
    "\n",
    "X_gb_rfe = selector.fit_transform(liste_X_tr[2], y)\n",
    "\n",
    "print(selector.ranking_)\n",
    "print(np.sqrt(-selector.grid_scores_))\n",
    "print(liste_X_tr[2].shape)\n",
    "print(X_gb_rfe.shape)"
   ]
  },
  {
   "cell_type": "code",
   "execution_count": 14,
   "metadata": {},
   "outputs": [
    {
     "data": {
      "text/plain": [
       "{'Model': 'gb_rfe',\n",
       " 'Fit_Time': 1.6290936470031738,\n",
       " 'Score_time': 0.01300048828125,\n",
       " 'MAE': 0.3808636576083209,\n",
       " 'RMSLE': 0.0355344574087121,\n",
       " 'R2': 0.6990871784060853}"
      ]
     },
     "execution_count": 14,
     "metadata": {},
     "output_type": "execute_result"
    }
   ],
   "source": [
    "modelize(GradientBoostingRegressor(), \"gb_rfe\", X_gb_rfe, y)"
   ]
  },
  {
   "cell_type": "markdown",
   "metadata": {},
   "source": [
    "**XGB**"
   ]
  },
  {
   "cell_type": "code",
   "execution_count": 15,
   "metadata": {
    "collapsed": true,
    "jupyter": {
     "outputs_hidden": true
    }
   },
   "outputs": [
    {
     "name": "stdout",
     "output_type": "stream",
     "text": [
      "[ 1  1  1  1  1  1  1  1  1  1  1  1  4  1  1  1  1  1  1 35  1  1  1  1\n",
      "  1  1  1  1  1 36  1  1  1  1  1  1  1  1  1  1  1  1 27  1  6 24  1  1\n",
      "  1  1  1  1  1  1  1  1  1  1 34  3  1  1  1 51  1  1  1 53  1  1  1 19\n",
      " 47 48  1  1  9 37  1 41  1 57  1  1  1 31  1 21  1 33  1  1 29  1 28  1\n",
      " 11  7 45  8  1  1  1 44  1 23 15 49  5 56  1 58  1 55 54  1  1 50 39  1\n",
      " 46  1  1 38  1  2  1 30  1  1 26 22  1 40 42 43  1  1  1 10 12  1  1 32\n",
      " 25 13 18  1 14 20  1  1  1  1  1  1  1  1  1  1  1  1  1 16  1 17  1 52\n",
      "  1 59]\n",
      "[-0.00548623 -0.00449257 -0.0033814  -0.00331132 -0.00207608 -0.00186493\n",
      " -0.00183099 -0.00179828 -0.0017868  -0.00174034 -0.00171348 -0.00172873\n",
      " -0.00170076 -0.00167898 -0.00165819 -0.00164666 -0.001643   -0.00162928\n",
      " -0.00155678 -0.00156353 -0.00154439 -0.0015641  -0.00152732 -0.00153374\n",
      " -0.00150572 -0.00153856 -0.00152946 -0.00150597 -0.00149992 -0.00151089\n",
      " -0.00151073 -0.00149366 -0.0015066  -0.00148057 -0.00144218 -0.0014503\n",
      " -0.0014387  -0.00144    -0.00142061 -0.00143774 -0.00142217 -0.00139898\n",
      " -0.0013453  -0.00135514 -0.00135054 -0.00135227 -0.00137264 -0.00137224\n",
      " -0.00137065 -0.00141747 -0.00139606 -0.00136834 -0.00138028 -0.00136792\n",
      " -0.00138216 -0.0013838  -0.00136186 -0.00134462 -0.00138724 -0.0013712\n",
      " -0.00138118 -0.00139716 -0.00138919 -0.00138867 -0.00138303 -0.00140645\n",
      " -0.0013749  -0.00136677 -0.00138487 -0.00139737 -0.00137742 -0.00139333\n",
      " -0.00137641 -0.00136411 -0.0013884  -0.00139396 -0.00139277 -0.00138218\n",
      " -0.00137671 -0.00138203 -0.001378   -0.00136166 -0.00138463 -0.00137083\n",
      " -0.0013847  -0.00136791 -0.00137364 -0.00136462 -0.00137481 -0.00136359\n",
      " -0.00135193 -0.00135313 -0.00134558 -0.00133659 -0.00133486 -0.0013418\n",
      " -0.00135078 -0.001354   -0.00133865 -0.00133523 -0.00133993 -0.00135032\n",
      " -0.00134265 -0.00134268 -0.00134009 -0.00134573 -0.00135635 -0.00135995\n",
      " -0.00134332 -0.00133101 -0.00133279 -0.00132844 -0.0013301  -0.00133511\n",
      " -0.00133271 -0.00133428 -0.00133248 -0.00133376 -0.00133366 -0.00133449\n",
      " -0.00133449 -0.00133449 -0.00133669 -0.00133669 -0.00133669 -0.00133669\n",
      " -0.00133669 -0.00133669 -0.00133669 -0.00133669 -0.00133669 -0.00133669\n",
      " -0.00133669 -0.00133669 -0.00133669 -0.00133669 -0.00133669 -0.00133669\n",
      " -0.00133669 -0.00133669 -0.00133669 -0.00133669 -0.00133669 -0.00133669\n",
      " -0.00133669 -0.00133669 -0.00133669 -0.00133669 -0.00133669 -0.00133669\n",
      " -0.00133669 -0.00133669 -0.00133669 -0.00133669 -0.00133669 -0.00133669\n",
      " -0.00133669 -0.00133669 -0.00133669 -0.00133669 -0.00133669 -0.00133669\n",
      " -0.00133669 -0.00133669 -0.00133669 -0.00133669 -0.00133669 -0.00133669\n",
      " -0.00133669 -0.00133669]\n",
      "(3303, 170)\n",
      "(3303, 112)\n"
     ]
    }
   ],
   "source": [
    "selector = RFECV(estimator = xgboost.XGBRegressor(random_state = SEED), \n",
    "                  scoring='neg_mean_squared_log_error', \n",
    "                  cv = KFold(K, random_state = SEED), \n",
    "                  step = 1)\n",
    "\n",
    "X_xgb_rfe = selector.fit_transform(liste_X_tr[3], y)\n",
    "\n",
    "print(selector.ranking_)\n",
    "print(selector.grid_scores_)\n",
    "print(liste_X_tr[3].shape)\n",
    "print(X_xgb_rfe.shape)"
   ]
  },
  {
   "cell_type": "code",
   "execution_count": 16,
   "metadata": {},
   "outputs": [
    {
     "data": {
      "text/plain": [
       "{'Model': 'xgb_rfe',\n",
       " 'Fit_Time': 0.6990399360656738,\n",
       " 'Score_time': 0.04600262641906738,\n",
       " 'MAE': 0.3929662103099294,\n",
       " 'RMSLE': 0.036946682274464133,\n",
       " 'R2': 0.6771890770986392}"
      ]
     },
     "execution_count": 16,
     "metadata": {},
     "output_type": "execute_result"
    }
   ],
   "source": [
    "modelize(xgboost.XGBRegressor(random_state = SEED), \"xgb_rfe\", X_xgb_rfe, y)"
   ]
  },
  {
   "cell_type": "markdown",
   "metadata": {},
   "source": [
    "# Pas d'amélioration pour XGB ! <--- PB ???"
   ]
  },
  {
   "cell_type": "code",
   "execution_count": 17,
   "metadata": {},
   "outputs": [],
   "source": [
    "X_xgb_rfe = liste_X_tr[3]"
   ]
  },
  {
   "cell_type": "code",
   "execution_count": null,
   "metadata": {},
   "outputs": [],
   "source": []
  },
  {
   "cell_type": "code",
   "execution_count": null,
   "metadata": {},
   "outputs": [],
   "source": []
  },
  {
   "cell_type": "code",
   "execution_count": 18,
   "metadata": {},
   "outputs": [],
   "source": [
    "liste_X_post_rfe = [X_ridge_rfe, X_svr_rfe, X_gb_rfe, X_xgb_rfe]"
   ]
  },
  {
   "cell_type": "code",
   "execution_count": 19,
   "metadata": {},
   "outputs": [],
   "source": [
    "pickle_out = open(\"Data/liste_X_post_rfe.pickle\", \"wb\")\n",
    "pickle.dump(liste_X_post_rfe, pickle_out)\n",
    "pickle_out.close()"
   ]
  },
  {
   "cell_type": "code",
   "execution_count": 10,
   "metadata": {},
   "outputs": [],
   "source": [
    "liste = pickle.load(open(\"Data/liste_X_post_rfe.pickle\", \"rb\"))\n",
    "\n",
    "X_ridge_rfe = liste[0]\n",
    "X_svr_rfe = liste[1]\n",
    "X_gb_rfe = liste[2]\n",
    "X_xgb_rfe = liste[3]"
   ]
  },
  {
   "cell_type": "markdown",
   "metadata": {},
   "source": [
    " "
   ]
  },
  {
   "cell_type": "markdown",
   "metadata": {},
   "source": [
    " "
   ]
  },
  {
   "cell_type": "markdown",
   "metadata": {},
   "source": [
    "# Select k Best"
   ]
  },
  {
   "cell_type": "code",
   "execution_count": 22,
   "metadata": {},
   "outputs": [],
   "source": [
    "from sklearn.feature_selection import SelectKBest, SelectPercentile, f_classif, f_regression"
   ]
  },
  {
   "cell_type": "markdown",
   "metadata": {},
   "source": [
    "**Ridge**"
   ]
  },
  {
   "cell_type": "code",
   "execution_count": 23,
   "metadata": {
    "collapsed": true,
    "jupyter": {
     "outputs_hidden": true
    }
   },
   "outputs": [
    {
     "data": {
      "text/plain": [
       "(array([2.65517529e+02, 1.10992885e+02, 5.65966636e+03, 2.93728877e+01,\n",
       "        1.27410627e+02, 5.42943280e+01, 1.60867233e+02, 5.41474587e+02,\n",
       "        1.01211956e-01, 6.57402749e+01, 1.76542640e+02, 1.93935580e+01,\n",
       "        5.65773479e+00, 9.81989698e+00, 1.14273764e+02, 1.02850842e+02,\n",
       "        8.47065484e+01, 2.82476567e+00, 4.07312463e+01, 4.78387830e+02,\n",
       "        4.70928066e-01, 1.33008472e+01, 2.22263333e-01, 2.30427813e-01,\n",
       "        1.30069268e+00, 3.20944085e+01, 3.77961378e+01, 2.72250885e+00,\n",
       "        6.49260585e+01, 1.61081497e+01, 5.53883618e+01, 3.80158069e+01,\n",
       "        2.54665282e-03, 1.46529387e-01, 6.57938742e-01, 1.61081497e+01,\n",
       "        7.12774111e+00, 2.31144204e+01, 1.01000425e+01, 3.38099248e-01,\n",
       "        1.25630293e-01, 2.42157497e+00, 3.23442180e+00, 1.02850842e+02,\n",
       "        8.64093467e+01, 2.82476567e+00, 4.83191749e+01, 8.80873583e-02,\n",
       "        6.97371954e+00, 6.84502174e-01, 3.78477997e+01, 3.66412040e-02,\n",
       "        3.14443453e+02, 1.46494243e+00, 1.16772470e+00, 5.42597104e+01,\n",
       "        1.35262772e+02, 2.19937003e+01, 2.30076950e-01, 7.24384367e+00,\n",
       "        2.36134296e-01, 4.03885730e+00, 1.64847673e-01, 7.96313043e+00,\n",
       "        1.64618651e+00, 5.03043364e-01, 1.25714591e-01, 4.06200191e+00,\n",
       "        8.87920590e-01, 3.61714276e+01, 1.15218467e-04, 2.97296868e-02,\n",
       "        5.22665405e-02, 1.61418118e+00, 6.20418600e+00, 1.30527399e+00,\n",
       "        3.26346944e+01, 3.89842579e+01, 5.36417594e-02, 4.04237575e+00,\n",
       "        5.64704455e+01, 9.73715227e+00, 2.54499966e+00, 3.80158069e+01,\n",
       "        1.61134375e+02, 3.32251779e+01, 7.45824513e+01, 7.75070463e+00,\n",
       "        2.87268787e+01, 9.53573604e+00, 2.09213269e+00, 2.34760432e+00,\n",
       "        3.56805494e+00, 2.13623121e+02, 4.43791554e+01, 2.52709536e-01,\n",
       "        2.84213732e+00, 6.79592858e+01, 6.77780899e-01, 5.85773813e+00,\n",
       "        1.14108225e+01, 2.34864090e-01, 2.22928693e+01, 1.10801639e+01,\n",
       "        1.39235074e+00, 1.94540665e+01, 3.15717156e-01, 9.20467961e+00,\n",
       "        8.18550276e+00, 5.44972389e-02, 4.87700341e+00, 1.99007636e+01,\n",
       "        6.46497055e+00, 8.61857259e+00, 3.53551653e+01, 2.25759739e+02,\n",
       "        2.25759739e+02, 4.22197202e+02, 4.22197202e+02]),\n",
       " array([1.77892417e-057, 1.50368150e-025, 0.00000000e+000, 6.39932834e-008,\n",
       "        5.10391614e-029, 2.17000945e-013, 4.99985752e-036, 4.91223252e-111,\n",
       "        7.50400183e-001, 7.17586908e-016, 2.76444240e-039, 1.09741552e-005,\n",
       "        1.74351202e-002, 1.74148330e-003, 3.03542347e-026, 8.04334687e-024,\n",
       "        5.98019719e-020, 9.29150476e-002, 1.99058584e-010, 3.80908167e-099,\n",
       "        4.92608721e-001, 2.69383500e-004, 6.37351913e-001, 6.31238598e-001,\n",
       "        2.54169474e-001, 1.59454954e-008, 8.79328027e-010, 9.90375264e-002,\n",
       "        1.07603048e-015, 6.11550339e-005, 1.25505125e-013, 7.86695742e-010,\n",
       "        9.59755394e-001, 7.01898958e-001, 4.17347068e-001, 6.11550339e-005,\n",
       "        7.62721465e-003, 1.59461281e-006, 1.49635748e-003, 5.60968133e-001,\n",
       "        7.23029075e-001, 1.19770418e-001, 7.21970774e-002, 8.04334687e-024,\n",
       "        2.58334226e-020, 9.29150476e-002, 4.34628939e-012, 7.66641585e-001,\n",
       "        8.31050983e-003, 4.08100518e-001, 8.56604701e-010, 8.48209169e-001,\n",
       "        2.82023591e-067, 2.26232020e-001, 2.79948189e-001, 2.20794732e-013,\n",
       "        1.13704025e-030, 2.84635852e-006, 6.31498555e-001, 7.15033189e-003,\n",
       "        6.27044432e-001, 4.45451527e-002, 6.84758355e-001, 4.80253324e-003,\n",
       "        1.99568837e-001, 4.78216028e-001, 7.22939996e-001, 4.39393742e-002,\n",
       "        3.46110386e-001, 2.00457012e-009, 9.91436331e-001, 8.63115571e-001,\n",
       "        8.19179398e-001, 2.03994587e-001, 1.27936358e-002, 2.53334970e-001,\n",
       "        1.21076856e-008, 4.81712331e-010, 8.16857698e-001, 4.44524980e-002,\n",
       "        7.30485698e-014, 1.82139967e-003, 1.10739662e-001, 7.86695742e-010,\n",
       "        4.39852483e-036, 8.96307756e-009, 8.90592072e-018, 5.39974247e-003,\n",
       "        8.90615940e-008, 2.03183951e-003, 1.48154196e-001, 1.25571532e-001,\n",
       "        5.89888489e-002, 6.31295524e-047, 3.15739021e-011, 6.15207174e-001,\n",
       "        9.19165095e-002, 2.38079673e-016, 4.10411384e-001, 1.55623593e-002,\n",
       "        7.38635607e-004, 6.27972555e-001, 2.43816882e-006, 8.82132558e-004,\n",
       "        2.38093544e-001, 1.06339007e-005, 5.74231065e-001, 2.43277331e-003,\n",
       "        4.24919811e-003, 8.15429233e-001, 2.72853130e-002, 8.42896795e-006,\n",
       "        1.10474414e-002, 3.35050421e-003, 3.03409487e-009, 2.08019881e-049,\n",
       "        2.08019881e-049, 2.19673375e-088, 2.19673375e-088]))"
      ]
     },
     "execution_count": 23,
     "metadata": {},
     "output_type": "execute_result"
    }
   ],
   "source": [
    "f_regression(X_ridge_rfe, y)"
   ]
  },
  {
   "cell_type": "code",
   "execution_count": 24,
   "metadata": {},
   "outputs": [
    {
     "data": {
      "image/png": "[encoded data removed]",
      "text/plain": [
       "<Figure size 432x288 with 1 Axes>"
      ]
     },
     "metadata": {
      "needs_background": "light"
     },
     "output_type": "display_data"
    }
   ],
   "source": [
    "plt.plot(f_regression(X_ridge_rfe, y)[0])\n",
    "plt.show()"
   ]
  },
  {
   "cell_type": "code",
   "execution_count": 30,
   "metadata": {},
   "outputs": [
    {
     "data": {
      "text/html": [
       "<div>\n",
       "<style scoped>\n",
       "    .dataframe tbody tr th:only-of-type {\n",
       "        vertical-align: middle;\n",
       "    }\n",
       "\n",
       "    .dataframe tbody tr th {\n",
       "        vertical-align: top;\n",
       "    }\n",
       "\n",
       "    .dataframe thead th {\n",
       "        text-align: right;\n",
       "    }\n",
       "</style>\n",
       "<table border=\"1\" class=\"dataframe\">\n",
       "  <thead>\n",
       "    <tr style=\"text-align: right;\">\n",
       "      <th></th>\n",
       "      <th>p</th>\n",
       "      <th>Model</th>\n",
       "      <th>Fit_Time</th>\n",
       "      <th>Score_time</th>\n",
       "      <th>MAE</th>\n",
       "      <th>RMSLE</th>\n",
       "      <th>R2</th>\n",
       "    </tr>\n",
       "  </thead>\n",
       "  <tbody>\n",
       "    <tr>\n",
       "      <th>77</th>\n",
       "      <td>77</td>\n",
       "      <td>Ridge</td>\n",
       "      <td>0.046002</td>\n",
       "      <td>0.006001</td>\n",
       "      <td>0.370575</td>\n",
       "      <td>0.034561</td>\n",
       "      <td>0.716380</td>\n",
       "    </tr>\n",
       "    <tr>\n",
       "      <th>81</th>\n",
       "      <td>81</td>\n",
       "      <td>Ridge</td>\n",
       "      <td>0.045003</td>\n",
       "      <td>0.005001</td>\n",
       "      <td>0.370495</td>\n",
       "      <td>0.034563</td>\n",
       "      <td>0.716363</td>\n",
       "    </tr>\n",
       "    <tr>\n",
       "      <th>76</th>\n",
       "      <td>76</td>\n",
       "      <td>Ridge</td>\n",
       "      <td>0.047002</td>\n",
       "      <td>0.005001</td>\n",
       "      <td>0.370488</td>\n",
       "      <td>0.034564</td>\n",
       "      <td>0.716386</td>\n",
       "    </tr>\n",
       "    <tr>\n",
       "      <th>80</th>\n",
       "      <td>80</td>\n",
       "      <td>Ridge</td>\n",
       "      <td>0.047002</td>\n",
       "      <td>0.005001</td>\n",
       "      <td>0.370456</td>\n",
       "      <td>0.034565</td>\n",
       "      <td>0.716351</td>\n",
       "    </tr>\n",
       "    <tr>\n",
       "      <th>78</th>\n",
       "      <td>78</td>\n",
       "      <td>Ridge</td>\n",
       "      <td>0.048003</td>\n",
       "      <td>0.005000</td>\n",
       "      <td>0.370551</td>\n",
       "      <td>0.034568</td>\n",
       "      <td>0.716280</td>\n",
       "    </tr>\n",
       "  </tbody>\n",
       "</table>\n",
       "</div>"
      ],
      "text/plain": [
       "     p  Model  Fit_Time  Score_time       MAE     RMSLE        R2\n",
       "77  77  Ridge  0.046002    0.006001  0.370575  0.034561  0.716380\n",
       "81  81  Ridge  0.045003    0.005001  0.370495  0.034563  0.716363\n",
       "76  76  Ridge  0.047002    0.005001  0.370488  0.034564  0.716386\n",
       "80  80  Ridge  0.047002    0.005001  0.370456  0.034565  0.716351\n",
       "78  78  Ridge  0.048003    0.005000  0.370551  0.034568  0.716280"
      ]
     },
     "execution_count": 30,
     "metadata": {},
     "output_type": "execute_result"
    }
   ],
   "source": [
    "df_perc_ridge = pd.DataFrame(columns = [\"p\"] + LISTE_COL )\n",
    "\n",
    "for p in range(0, 101) :\n",
    "    \n",
    "    selector = SelectPercentile(f_regression, p)\n",
    "    X_ridge_perc = selector.fit_transform(X_ridge_rfe, y)\n",
    "    df_perc_ridge = df_perc_ridge.append(dict({\"p\" : p}, **modelize(Ridge(), \"Ridge\", X_ridge_perc, y)), ignore_index = True)\n",
    "    \n",
    "df_perc_ridge.sort_values(\"RMSLE\")[:5]"
   ]
  },
  {
   "cell_type": "code",
   "execution_count": 31,
   "metadata": {},
   "outputs": [
    {
     "data": {
      "text/plain": [
       "(3303, 91)"
      ]
     },
     "execution_count": 31,
     "metadata": {},
     "output_type": "execute_result"
    }
   ],
   "source": [
    "X_ridge_perc = SelectPercentile(f_regression, 77).fit_transform(X_ridge_rfe, y)\n",
    "X_ridge_perc.shape"
   ]
  },
  {
   "cell_type": "markdown",
   "metadata": {},
   "source": [
    "**SVR**"
   ]
  },
  {
   "cell_type": "code",
   "execution_count": 33,
   "metadata": {},
   "outputs": [
    {
     "data": {
      "text/html": [
       "<div>\n",
       "<style scoped>\n",
       "    .dataframe tbody tr th:only-of-type {\n",
       "        vertical-align: middle;\n",
       "    }\n",
       "\n",
       "    .dataframe tbody tr th {\n",
       "        vertical-align: top;\n",
       "    }\n",
       "\n",
       "    .dataframe thead th {\n",
       "        text-align: right;\n",
       "    }\n",
       "</style>\n",
       "<table border=\"1\" class=\"dataframe\">\n",
       "  <thead>\n",
       "    <tr style=\"text-align: right;\">\n",
       "      <th></th>\n",
       "      <th>p</th>\n",
       "      <th>Model</th>\n",
       "      <th>Fit_Time</th>\n",
       "      <th>Score_time</th>\n",
       "      <th>MAE</th>\n",
       "      <th>RMSLE</th>\n",
       "      <th>R2</th>\n",
       "    </tr>\n",
       "  </thead>\n",
       "  <tbody>\n",
       "    <tr>\n",
       "      <th>50</th>\n",
       "      <td>100</td>\n",
       "      <td>SVR</td>\n",
       "      <td>1.690097</td>\n",
       "      <td>0.258014</td>\n",
       "      <td>0.365392</td>\n",
       "      <td>0.035474</td>\n",
       "      <td>0.702793</td>\n",
       "    </tr>\n",
       "    <tr>\n",
       "      <th>46</th>\n",
       "      <td>96</td>\n",
       "      <td>SVR</td>\n",
       "      <td>1.681094</td>\n",
       "      <td>0.261015</td>\n",
       "      <td>0.366461</td>\n",
       "      <td>0.035503</td>\n",
       "      <td>0.702611</td>\n",
       "    </tr>\n",
       "    <tr>\n",
       "      <th>47</th>\n",
       "      <td>97</td>\n",
       "      <td>SVR</td>\n",
       "      <td>1.680096</td>\n",
       "      <td>0.260015</td>\n",
       "      <td>0.366508</td>\n",
       "      <td>0.035506</td>\n",
       "      <td>0.702570</td>\n",
       "    </tr>\n",
       "    <tr>\n",
       "      <th>45</th>\n",
       "      <td>95</td>\n",
       "      <td>SVR</td>\n",
       "      <td>1.665095</td>\n",
       "      <td>0.260015</td>\n",
       "      <td>0.366621</td>\n",
       "      <td>0.035512</td>\n",
       "      <td>0.702439</td>\n",
       "    </tr>\n",
       "    <tr>\n",
       "      <th>44</th>\n",
       "      <td>94</td>\n",
       "      <td>SVR</td>\n",
       "      <td>1.706098</td>\n",
       "      <td>0.259015</td>\n",
       "      <td>0.366621</td>\n",
       "      <td>0.035513</td>\n",
       "      <td>0.702411</td>\n",
       "    </tr>\n",
       "  </tbody>\n",
       "</table>\n",
       "</div>"
      ],
      "text/plain": [
       "      p Model  Fit_Time  Score_time       MAE     RMSLE        R2\n",
       "50  100   SVR  1.690097    0.258014  0.365392  0.035474  0.702793\n",
       "46   96   SVR  1.681094    0.261015  0.366461  0.035503  0.702611\n",
       "47   97   SVR  1.680096    0.260015  0.366508  0.035506  0.702570\n",
       "45   95   SVR  1.665095    0.260015  0.366621  0.035512  0.702439\n",
       "44   94   SVR  1.706098    0.259015  0.366621  0.035513  0.702411"
      ]
     },
     "execution_count": 33,
     "metadata": {},
     "output_type": "execute_result"
    }
   ],
   "source": [
    "df_perc_svr = pd.DataFrame(columns = [\"p\"] + LISTE_COL)\n",
    "\n",
    "for p in range(50, 101) :\n",
    "    \n",
    "    selector = SelectPercentile(f_regression, p)\n",
    "    X_svr_perc = selector.fit_transform(X_svr_rfe, y)\n",
    "    df_perc_svr = df_perc_svr.append(dict({\"p\" : p}, **modelize(SVR(), \"SVR\", X_svr_perc, y)), \n",
    "                                     ignore_index = True)\n",
    "    \n",
    "df_perc_svr.sort_values(\"RMSLE\")[:5]"
   ]
  },
  {
   "cell_type": "markdown",
   "metadata": {},
   "source": [
    "Pas d'améliorations"
   ]
  },
  {
   "cell_type": "code",
   "execution_count": 34,
   "metadata": {},
   "outputs": [],
   "source": [
    "X_svr_perc = X_svr_rfe"
   ]
  },
  {
   "cell_type": "markdown",
   "metadata": {},
   "source": [
    " "
   ]
  },
  {
   "cell_type": "markdown",
   "metadata": {},
   "source": [
    "**GB**"
   ]
  },
  {
   "cell_type": "code",
   "execution_count": 37,
   "metadata": {},
   "outputs": [
    {
     "data": {
      "text/html": [
       "<div>\n",
       "<style scoped>\n",
       "    .dataframe tbody tr th:only-of-type {\n",
       "        vertical-align: middle;\n",
       "    }\n",
       "\n",
       "    .dataframe tbody tr th {\n",
       "        vertical-align: top;\n",
       "    }\n",
       "\n",
       "    .dataframe thead th {\n",
       "        text-align: right;\n",
       "    }\n",
       "</style>\n",
       "<table border=\"1\" class=\"dataframe\">\n",
       "  <thead>\n",
       "    <tr style=\"text-align: right;\">\n",
       "      <th></th>\n",
       "      <th>p</th>\n",
       "      <th>Model</th>\n",
       "      <th>Fit_Time</th>\n",
       "      <th>Score_time</th>\n",
       "      <th>MAE</th>\n",
       "      <th>RMSLE</th>\n",
       "      <th>R2</th>\n",
       "    </tr>\n",
       "  </thead>\n",
       "  <tbody>\n",
       "    <tr>\n",
       "      <th>41</th>\n",
       "      <td>91</td>\n",
       "      <td>GB</td>\n",
       "      <td>1.587091</td>\n",
       "      <td>0.012000</td>\n",
       "      <td>0.379796</td>\n",
       "      <td>0.035469</td>\n",
       "      <td>0.699677</td>\n",
       "    </tr>\n",
       "    <tr>\n",
       "      <th>40</th>\n",
       "      <td>90</td>\n",
       "      <td>GB</td>\n",
       "      <td>1.604091</td>\n",
       "      <td>0.014001</td>\n",
       "      <td>0.380028</td>\n",
       "      <td>0.035475</td>\n",
       "      <td>0.699687</td>\n",
       "    </tr>\n",
       "    <tr>\n",
       "      <th>47</th>\n",
       "      <td>97</td>\n",
       "      <td>GB</td>\n",
       "      <td>1.628093</td>\n",
       "      <td>0.014001</td>\n",
       "      <td>0.380278</td>\n",
       "      <td>0.035478</td>\n",
       "      <td>0.700070</td>\n",
       "    </tr>\n",
       "    <tr>\n",
       "      <th>46</th>\n",
       "      <td>96</td>\n",
       "      <td>GB</td>\n",
       "      <td>1.667095</td>\n",
       "      <td>0.014000</td>\n",
       "      <td>0.380543</td>\n",
       "      <td>0.035491</td>\n",
       "      <td>0.699924</td>\n",
       "    </tr>\n",
       "    <tr>\n",
       "      <th>45</th>\n",
       "      <td>95</td>\n",
       "      <td>GB</td>\n",
       "      <td>1.601092</td>\n",
       "      <td>0.013001</td>\n",
       "      <td>0.380541</td>\n",
       "      <td>0.035514</td>\n",
       "      <td>0.699470</td>\n",
       "    </tr>\n",
       "  </tbody>\n",
       "</table>\n",
       "</div>"
      ],
      "text/plain": [
       "     p Model  Fit_Time  Score_time       MAE     RMSLE        R2\n",
       "41  91    GB  1.587091    0.012000  0.379796  0.035469  0.699677\n",
       "40  90    GB  1.604091    0.014001  0.380028  0.035475  0.699687\n",
       "47  97    GB  1.628093    0.014001  0.380278  0.035478  0.700070\n",
       "46  96    GB  1.667095    0.014000  0.380543  0.035491  0.699924\n",
       "45  95    GB  1.601092    0.013001  0.380541  0.035514  0.699470"
      ]
     },
     "execution_count": 37,
     "metadata": {},
     "output_type": "execute_result"
    }
   ],
   "source": [
    "df_perc_GB = pd.DataFrame(columns = [\"p\"] + LISTE_COL)\n",
    "\n",
    "for p in range(50, 101) :\n",
    "    \n",
    "    selector = SelectPercentile(f_regression, p)\n",
    "    X_gb_perc = selector.fit_transform(X_gb_rfe, y)\n",
    "    df_perc_GB = df_perc_GB.append(dict({\"p\" : p}, **modelize(liste_estimator[2], \"GB\", X_gb_perc, y)), \n",
    "                                   ignore_index = True)\n",
    "    \n",
    "df_perc_GB.sort_values(\"RMSLE\")[:5]"
   ]
  },
  {
   "cell_type": "code",
   "execution_count": 41,
   "metadata": {},
   "outputs": [],
   "source": [
    "X_gb_perc = SelectPercentile(f_regression, 91).fit_transform(X_gb_rfe, y)"
   ]
  },
  {
   "cell_type": "markdown",
   "metadata": {},
   "source": [
    " "
   ]
  },
  {
   "cell_type": "markdown",
   "metadata": {},
   "source": [
    "**XGB**"
   ]
  },
  {
   "cell_type": "code",
   "execution_count": 44,
   "metadata": {},
   "outputs": [
    {
     "data": {
      "text/html": [
       "<div>\n",
       "<style scoped>\n",
       "    .dataframe tbody tr th:only-of-type {\n",
       "        vertical-align: middle;\n",
       "    }\n",
       "\n",
       "    .dataframe tbody tr th {\n",
       "        vertical-align: top;\n",
       "    }\n",
       "\n",
       "    .dataframe thead th {\n",
       "        text-align: right;\n",
       "    }\n",
       "</style>\n",
       "<table border=\"1\" class=\"dataframe\">\n",
       "  <thead>\n",
       "    <tr style=\"text-align: right;\">\n",
       "      <th></th>\n",
       "      <th>p</th>\n",
       "      <th>Model</th>\n",
       "      <th>Fit_Time</th>\n",
       "      <th>Score_time</th>\n",
       "      <th>MAE</th>\n",
       "      <th>RMSLE</th>\n",
       "      <th>R2</th>\n",
       "    </tr>\n",
       "  </thead>\n",
       "  <tbody>\n",
       "    <tr>\n",
       "      <th>39</th>\n",
       "      <td>89</td>\n",
       "      <td>XGB</td>\n",
       "      <td>0.638036</td>\n",
       "      <td>0.048003</td>\n",
       "      <td>0.388674</td>\n",
       "      <td>0.036325</td>\n",
       "      <td>0.687307</td>\n",
       "    </tr>\n",
       "    <tr>\n",
       "      <th>38</th>\n",
       "      <td>88</td>\n",
       "      <td>XGB</td>\n",
       "      <td>0.760043</td>\n",
       "      <td>0.049003</td>\n",
       "      <td>0.387799</td>\n",
       "      <td>0.036380</td>\n",
       "      <td>0.686504</td>\n",
       "    </tr>\n",
       "    <tr>\n",
       "      <th>41</th>\n",
       "      <td>91</td>\n",
       "      <td>XGB</td>\n",
       "      <td>0.648037</td>\n",
       "      <td>0.047003</td>\n",
       "      <td>0.389246</td>\n",
       "      <td>0.036410</td>\n",
       "      <td>0.686330</td>\n",
       "    </tr>\n",
       "    <tr>\n",
       "      <th>35</th>\n",
       "      <td>85</td>\n",
       "      <td>XGB</td>\n",
       "      <td>2.250129</td>\n",
       "      <td>0.047003</td>\n",
       "      <td>0.389759</td>\n",
       "      <td>0.036530</td>\n",
       "      <td>0.682563</td>\n",
       "    </tr>\n",
       "    <tr>\n",
       "      <th>33</th>\n",
       "      <td>83</td>\n",
       "      <td>XGB</td>\n",
       "      <td>1.357078</td>\n",
       "      <td>0.058003</td>\n",
       "      <td>0.389622</td>\n",
       "      <td>0.036539</td>\n",
       "      <td>0.682785</td>\n",
       "    </tr>\n",
       "  </tbody>\n",
       "</table>\n",
       "</div>"
      ],
      "text/plain": [
       "     p Model  Fit_Time  Score_time       MAE     RMSLE        R2\n",
       "39  89   XGB  0.638036    0.048003  0.388674  0.036325  0.687307\n",
       "38  88   XGB  0.760043    0.049003  0.387799  0.036380  0.686504\n",
       "41  91   XGB  0.648037    0.047003  0.389246  0.036410  0.686330\n",
       "35  85   XGB  2.250129    0.047003  0.389759  0.036530  0.682563\n",
       "33  83   XGB  1.357078    0.058003  0.389622  0.036539  0.682785"
      ]
     },
     "execution_count": 44,
     "metadata": {},
     "output_type": "execute_result"
    }
   ],
   "source": [
    "df_perc_XGB = pd.DataFrame(columns = [\"p\"] + LISTE_COL)\n",
    "\n",
    "for p in range(50, 101) :\n",
    "    \n",
    "    selector = SelectPercentile(f_regression, p)\n",
    "    X_xgb_perc = selector.fit_transform(X_xgb_rfe, y)\n",
    "    df_perc_XGB = df_perc_XGB.append(dict({\"p\" : p}, **modelize(liste_estimator[3], \"XGB\", X_xgb_perc, y)), \n",
    "                                     ignore_index = True)\n",
    "    \n",
    "df_perc_XGB.sort_values(\"RMSLE\")[:5]"
   ]
  },
  {
   "cell_type": "code",
   "execution_count": 45,
   "metadata": {},
   "outputs": [
    {
     "data": {
      "text/plain": [
       "(3303, 151)"
      ]
     },
     "execution_count": 45,
     "metadata": {},
     "output_type": "execute_result"
    }
   ],
   "source": [
    "X_xgb_perc = SelectPercentile(f_regression, 89).fit_transform(X_xgb_rfe, y)\n",
    "X_xgb_perc.shape"
   ]
  },
  {
   "cell_type": "code",
   "execution_count": 57,
   "metadata": {},
   "outputs": [],
   "source": [
    "liste_X_perc = [X_ridge_perc, X_svr_perc, X_gb_perc, X_xgb_perc]"
   ]
  },
  {
   "cell_type": "code",
   "execution_count": 58,
   "metadata": {},
   "outputs": [],
   "source": [
    "pickle_out = open(\"Data/liste_X_perc.pickle\", \"wb\")\n",
    "pickle.dump(liste_X_perc, pickle_out)\n",
    "pickle_out.close()"
   ]
  },
  {
   "cell_type": "markdown",
   "metadata": {},
   "source": [
    " "
   ]
  },
  {
   "cell_type": "markdown",
   "metadata": {},
   "source": [
    "# GRIDSEARCH"
   ]
  },
  {
   "cell_type": "code",
   "execution_count": 12,
   "metadata": {},
   "outputs": [],
   "source": [
    "liste_X_gs = pickle.load(open(\"Data/liste_X_perc.pickle\", \"rb\"))\n",
    "\n",
    "X_ridge_gs = liste_X_gs[0]\n",
    "X_svr_gs = liste_X_gs[1]\n",
    "X_gb_gs = liste_X_gs[2]\n",
    "X_xgb_gs = liste_X_gs[3]"
   ]
  },
  {
   "cell_type": "markdown",
   "metadata": {},
   "source": [
    " "
   ]
  },
  {
   "cell_type": "markdown",
   "metadata": {},
   "source": [
    "## Ridge"
   ]
  },
  {
   "cell_type": "code",
   "execution_count": 61,
   "metadata": {
    "collapsed": true,
    "jupyter": {
     "outputs_hidden": true
    }
   },
   "outputs": [
    {
     "data": {
      "text/plain": [
       "GridSearchCV(estimator=Ridge(),\n",
       "             param_grid={'alpha': array([ 1.00230524,  1.05047992,  1.10097006,  1.15388696,  1.20934725,\n",
       "        1.26747317,  1.32839285,  1.39224057,  1.45915706,  1.52928981,\n",
       "        1.60279342,  1.6798299 ,  1.76056904,  1.84518883,  1.93387577,\n",
       "        2.02682535,  2.12424244,  2.22634178,  2.33334841,  2.4454982 ,\n",
       "        2.56303834,  2.68622791,  2.81533845,  2.95065455,  3.09247447,\n",
       "        3.2411108 ,  3.39689117,  3.56015895,  3.73127401,  3.91061352,\n",
       "        4.0985728 ,  4.29556612,  4.5020277 ,  4.71841264,  4.94519787,\n",
       "        5.18288328,  5.43199278,  5.69307544,  5.96670675,  6.25348985,\n",
       "        6.55405685,  6.86907027,  7.19922446,  7.54524714,  7.90790101,\n",
       "        8.28798544,  8.6863382 ,  9.10383735,  9.54140312, 10.        ])},\n",
       "             scoring='neg_mean_squared_log_error')"
      ]
     },
     "execution_count": 61,
     "metadata": {},
     "output_type": "execute_result"
    }
   ],
   "source": [
    "param_ridge = {\"alpha\" : np.logspace(0.001, 1, 50)}\n",
    "ridge_grid = GridSearchCV(Ridge(), param_ridge, scoring = \"neg_mean_squared_log_error\")\n",
    "ridge_grid.fit(X_ridge_gs, y)"
   ]
  },
  {
   "cell_type": "code",
   "execution_count": 62,
   "metadata": {},
   "outputs": [
    {
     "data": {
      "text/plain": [
       "{'alpha': 1.0504799196403356}"
      ]
     },
     "execution_count": 62,
     "metadata": {},
     "output_type": "execute_result"
    }
   ],
   "source": [
    "ridge_grid.best_params_"
   ]
  },
  {
   "cell_type": "code",
   "execution_count": 63,
   "metadata": {},
   "outputs": [
    {
     "data": {
      "text/plain": [
       "[<matplotlib.lines.Line2D at 0xd217088>]"
      ]
     },
     "execution_count": 63,
     "metadata": {},
     "output_type": "execute_result"
    },
    {
     "data": {
      "image/png": "[encoded data removed]",
      "text/plain": [
       "<Figure size 432x288 with 1 Axes>"
      ]
     },
     "metadata": {
      "needs_background": "light"
     },
     "output_type": "display_data"
    }
   ],
   "source": [
    "score = np.sqrt(- ridge_grid.cv_results_[\"mean_test_score\"])\n",
    "plt.plot(np.logspace(0.001, 1, 50), score)"
   ]
  },
  {
   "cell_type": "code",
   "execution_count": 63,
   "metadata": {},
   "outputs": [
    {
     "data": {
      "text/plain": [
       "0.034555121320351205"
      ]
     },
     "execution_count": 63,
     "metadata": {},
     "output_type": "execute_result"
    }
   ],
   "source": [
    "np.sqrt(-max(ridge_grid.cv_results_[\"mean_test_score\"]))"
   ]
  },
  {
   "cell_type": "code",
   "execution_count": 64,
   "metadata": {},
   "outputs": [
    {
     "data": {
      "text/plain": [
       "{'Model': 'best_ridge',\n",
       " 'Fit_Time': 0.05600285530090332,\n",
       " 'Score_time': 0.007000446319580078,\n",
       " 'MAE': 0.37042619270802196,\n",
       " 'RMSLE': 0.034555121320351205,\n",
       " 'R2': 0.7164971789476553}"
      ]
     },
     "execution_count": 64,
     "metadata": {},
     "output_type": "execute_result"
    }
   ],
   "source": [
    "best_ridge = ridge_grid.best_estimator_\n",
    "modelize(best_ridge, \"best_ridge\", X_ridge_gs, y)"
   ]
  },
  {
   "cell_type": "markdown",
   "metadata": {},
   "source": [
    " "
   ]
  },
  {
   "cell_type": "markdown",
   "metadata": {},
   "source": [
    "## Ridge sans outlier"
   ]
  },
  {
   "cell_type": "code",
   "execution_count": null,
   "metadata": {},
   "outputs": [],
   "source": []
  },
  {
   "cell_type": "code",
   "execution_count": 44,
   "metadata": {},
   "outputs": [],
   "source": [
    "scr = SVR()"
   ]
  },
  {
   "cell_type": "markdown",
   "metadata": {},
   "source": [
    " "
   ]
  },
  {
   "cell_type": "markdown",
   "metadata": {},
   "source": [
    "## SVR"
   ]
  },
  {
   "cell_type": "markdown",
   "metadata": {
    "jupyter": {
     "outputs_hidden": true
    }
   },
   "source": [
    " "
   ]
  },
  {
   "cell_type": "code",
   "execution_count": 45,
   "metadata": {},
   "outputs": [],
   "source": [
    "# param_SVR = {\"kernel\" : [\"rbf\"], \n",
    "#              \"gamma\" : [\"scale\"], \n",
    "#              \"C\" : [0.1, 1, 10, 20, 100, 500, 1000, 10000],\n",
    "#              \"epsilon\" : [0.1, 0.5, 1]\n",
    "#             }\n",
    "\n",
    "svr_grid = GridSearchCV(SVR(), \n",
    "                        param_SVR, \n",
    "                        scoring = \"neg_mean_absolute_error\", \n",
    "                        cv = K)"
   ]
  },
  {
   "cell_type": "code",
   "execution_count": 46,
   "metadata": {},
   "outputs": [
    {
     "name": "stdout",
     "output_type": "stream",
     "text": [
      "643.9958343505859\n"
     ]
    }
   ],
   "source": [
    "start = time()\n",
    "svr_grid.fit(X_svr_gs, y)\n",
    "print(time()-start)"
   ]
  },
  {
   "cell_type": "code",
   "execution_count": 50,
   "metadata": {},
   "outputs": [
    {
     "data": {
      "text/plain": [
       "{'C': 1, 'epsilon': 0.1, 'gamma': 'scale', 'kernel': 'rbf'}"
      ]
     },
     "execution_count": 50,
     "metadata": {},
     "output_type": "execute_result"
    }
   ],
   "source": [
    "svr = svr_grid.best_estimator_\n",
    "svr_grid.best_params_"
   ]
  },
  {
   "cell_type": "code",
   "execution_count": 51,
   "metadata": {},
   "outputs": [
    {
     "data": {
      "text/plain": [
       "{'Model': 'best_svr',\n",
       " 'Fit_Time': 1.909109354019165,\n",
       " 'Score_time': 0.2930166721343994,\n",
       " 'MAE': 0.3653921377522994,\n",
       " 'RMSLE': 0.035473732504030756,\n",
       " 'R2': 0.7027934126499905}"
      ]
     },
     "execution_count": 51,
     "metadata": {},
     "output_type": "execute_result"
    }
   ],
   "source": [
    "modelize(svr, \"best_svr\", X_svr_gs, y)"
   ]
  },
  {
   "cell_type": "code",
   "execution_count": 52,
   "metadata": {},
   "outputs": [],
   "source": [
    "param_SVR2 = {\"kernel\" : [\"rbf\"], \n",
    "             \"gamma\" : [\"scale\"], \n",
    "             \"C\" : [0.5, 1, 1.5],\n",
    "             \"epsilon\" : [0.01, 0.05, 0.1, 0.15]\n",
    "            }\n",
    "\n",
    "svr_grid2 = GridSearchCV(SVR(), \n",
    "                        param_SVR2, \n",
    "                        scoring = \"neg_mean_absolute_error\", \n",
    "                        cv = K)"
   ]
  },
  {
   "cell_type": "code",
   "execution_count": 53,
   "metadata": {},
   "outputs": [
    {
     "name": "stdout",
     "output_type": "stream",
     "text": [
      "28.099607229232788\n"
     ]
    }
   ],
   "source": [
    "start = time()\n",
    "svr_grid2.fit(X_svr_gs, y)\n",
    "print(time()-start)"
   ]
  },
  {
   "cell_type": "code",
   "execution_count": 54,
   "metadata": {},
   "outputs": [
    {
     "data": {
      "text/plain": [
       "{'C': 1.5, 'epsilon': 0.15, 'gamma': 'scale', 'kernel': 'rbf'}"
      ]
     },
     "execution_count": 54,
     "metadata": {},
     "output_type": "execute_result"
    }
   ],
   "source": [
    "svr2 = svr_grid2.best_estimator_\n",
    "svr_grid2.best_params_"
   ]
  },
  {
   "cell_type": "code",
   "execution_count": 55,
   "metadata": {},
   "outputs": [
    {
     "data": {
      "text/plain": [
       "{'Model': 'best_svr',\n",
       " 'Fit_Time': 1.6160919666290283,\n",
       " 'Score_time': 0.23301386833190918,\n",
       " 'MAE': 0.36352157146239256,\n",
       " 'RMSLE': 0.035316657369804966,\n",
       " 'R2': 0.7049858002235844}"
      ]
     },
     "execution_count": 55,
     "metadata": {},
     "output_type": "execute_result"
    }
   ],
   "source": [
    "modelize(svr2, \"best_svr\", X_svr_gs, y)"
   ]
  },
  {
   "cell_type": "code",
   "execution_count": null,
   "metadata": {},
   "outputs": [],
   "source": []
  },
  {
   "cell_type": "code",
   "execution_count": null,
   "metadata": {},
   "outputs": [],
   "source": []
  },
  {
   "cell_type": "code",
   "execution_count": null,
   "metadata": {},
   "outputs": [],
   "source": []
  },
  {
   "cell_type": "code",
   "execution_count": 104,
   "metadata": {},
   "outputs": [],
   "source": [
    "param_SVR = {\"kernel\" : [\"rbf\"], \n",
    "             \"gamma\" : [\"auto\"], \n",
    "             \"C\" : np.linspace(19, 19.9, 10)\n",
    "            }\n",
    "svr_grid2 = GridSearchCV(SVR(), \n",
    "                         param_SVR, \n",
    "                         #scoring = \"neg_mean_absolute_error\", \n",
    "                         scoring = \"neg_mean_squared_log_error\",\n",
    "                         cv = K)"
   ]
  },
  {
   "cell_type": "code",
   "execution_count": 106,
   "metadata": {},
   "outputs": [
    {
     "data": {
      "text/plain": [
       "{'svr__C': 19.9, 'svr__gamma': 'auto', 'svr__kernel': 'rbf'}"
      ]
     },
     "execution_count": 106,
     "metadata": {},
     "output_type": "execute_result"
    }
   ],
   "source": [
    "svr2 = svr_grid2.best_estimator_\n",
    "svr_grid2.best_params_"
   ]
  },
  {
   "cell_type": "code",
   "execution_count": null,
   "metadata": {},
   "outputs": [],
   "source": []
  },
  {
   "cell_type": "code",
   "execution_count": null,
   "metadata": {},
   "outputs": [],
   "source": []
  },
  {
   "cell_type": "code",
   "execution_count": null,
   "metadata": {},
   "outputs": [],
   "source": []
  },
  {
   "cell_type": "code",
   "execution_count": null,
   "metadata": {},
   "outputs": [],
   "source": []
  },
  {
   "cell_type": "code",
   "execution_count": null,
   "metadata": {},
   "outputs": [],
   "source": []
  },
  {
   "cell_type": "code",
   "execution_count": 107,
   "metadata": {},
   "outputs": [
    {
     "data": {
      "text/plain": [
       "{'Model': 'best_svr',\n",
       " 'Fit_Time': 2.851162910461426,\n",
       " 'Score_time': 0.4410250186920166,\n",
       " 'MAE': 0.35803071855458646,\n",
       " 'RMSLE': 0.034331112323723455,\n",
       " 'R2': 0.720587650981068}"
      ]
     },
     "execution_count": 107,
     "metadata": {},
     "output_type": "execute_result"
    }
   ],
   "source": [
    "modelize(svr2, \"best_svr\", X, y)"
   ]
  },
  {
   "cell_type": "markdown",
   "metadata": {},
   "source": [
    "## SVR OL"
   ]
  },
  {
   "cell_type": "code",
   "execution_count": 112,
   "metadata": {},
   "outputs": [
    {
     "name": "stdout",
     "output_type": "stream",
     "text": [
      "42.28541851043701\n"
     ]
    }
   ],
   "source": [
    "# param_SVR_2 = {\"svr__kernel\" : [\"rbf\"], \n",
    "#              \"svr__gamma\" : [\"auto\"], \n",
    "#              \"svr__C\" : np.linspace(1, 50, 10)\n",
    "#             }\n",
    "\n",
    "param_SVR_2 = {\"svr__kernel\" : [\"rbf\"], \n",
    "             \"svr__gamma\" : [\"auto\"], \n",
    "             \"svr__C\" : np.linspace(10.7, 12, 14)\n",
    "            }\n",
    "\n",
    "\n",
    "svr_grid_ol = GridSearchCV(svr_ol,\n",
    "                           param_SVR_2,\n",
    "                           scoring = \"neg_mean_squared_log_error\",\n",
    "                           cv = K)\n",
    "\n",
    "start = time()\n",
    "svr_grid_ol.fit(X_svr, y)\n",
    "print(time()-start)"
   ]
  },
  {
   "cell_type": "code",
   "execution_count": 113,
   "metadata": {},
   "outputs": [
    {
     "data": {
      "text/plain": [
       "{'svr__C': 11.2, 'svr__gamma': 'auto', 'svr__kernel': 'rbf'}"
      ]
     },
     "execution_count": 113,
     "metadata": {},
     "output_type": "execute_result"
    }
   ],
   "source": [
    "best_svr_ol = svr_grid_ol.best_estimator_\n",
    "svr_grid_ol.best_params_"
   ]
  },
  {
   "cell_type": "code",
   "execution_count": 114,
   "metadata": {},
   "outputs": [
    {
     "data": {
      "text/plain": [
       "{'Model': 'best_svr_ol',\n",
       " 'Fit_Time': 2.522143840789795,\n",
       " 'Score_time': 0.3930225372314453,\n",
       " 'MAE': 0.3594669325919394,\n",
       " 'RMSLE': 0.0343791543671741,\n",
       " 'R2': 0.7203569228913068}"
      ]
     },
     "execution_count": 114,
     "metadata": {},
     "output_type": "execute_result"
    }
   ],
   "source": [
    "modelize(best_svr_ol, \"best_svr_ol\", X_svr, y)"
   ]
  },
  {
   "cell_type": "raw",
   "metadata": {},
   "source": [
    "gbtree, gblinear or dart"
   ]
  },
  {
   "cell_type": "markdown",
   "metadata": {},
   "source": [
    " "
   ]
  },
  {
   "cell_type": "markdown",
   "metadata": {},
   "source": [
    "## XGB"
   ]
  },
  {
   "cell_type": "code",
   "execution_count": 34,
   "metadata": {},
   "outputs": [],
   "source": [
    "xgb = xgboost.XGBRegressor(random_state = SEED)"
   ]
  },
  {
   "cell_type": "code",
   "execution_count": 35,
   "metadata": {},
   "outputs": [],
   "source": [
    "param_XGB = {\"max_depth\" : [2, 3, 4, 5],\n",
    "             \"subsample\" : np.linspace(0.8, 1, 10),\n",
    "             \"n_estimators\" : [100, 250, 500, 1000, 5000],\n",
    "             \"objective\" : [\"reg:squaredlogerror\"],\n",
    "             \"eta\" : np.linspace(0.01, 2, 10),\n",
    "             #\"booster\" : [\"gbtree\", \"gblinear\", \"dart\"]\n",
    "            }\n",
    "\n",
    "\n",
    "xgb_grid = GridSearchCV(xgb,\n",
    "                        param_XGB,\n",
    "                        scoring = \"neg_mean_squared_log_error\",\n",
    "                        cv = K)"
   ]
  },
  {
   "cell_type": "code",
   "execution_count": 36,
   "metadata": {},
   "outputs": [
    {
     "name": "stdout",
     "output_type": "stream",
     "text": [
      "12323.758868455887\n"
     ]
    }
   ],
   "source": [
    "start = time()\n",
    "xgb_grid.fit(X_xgb_gs, y)\n",
    "print(time()-start)"
   ]
  },
  {
   "cell_type": "code",
   "execution_count": 37,
   "metadata": {},
   "outputs": [
    {
     "data": {
      "text/plain": [
       "{'eta': 0.01,\n",
       " 'max_depth': 4,\n",
       " 'n_estimators': 5000,\n",
       " 'objective': 'reg:squaredlogerror',\n",
       " 'subsample': 1.0}"
      ]
     },
     "execution_count": 37,
     "metadata": {},
     "output_type": "execute_result"
    }
   ],
   "source": [
    "best_xgb = xgb_grid.best_estimator_\n",
    "xgb_grid.best_params_"
   ]
  },
  {
   "cell_type": "code",
   "execution_count": 38,
   "metadata": {},
   "outputs": [
    {
     "data": {
      "text/plain": [
       "{'Model': 'rd_xgb',\n",
       " 'Fit_Time': 17.771016359329224,\n",
       " 'Score_time': 0.12100672721862793,\n",
       " 'MAE': 0.44304831249852583,\n",
       " 'RMSLE': 0.04103796308980768,\n",
       " 'R2': 0.5970578714138849}"
      ]
     },
     "execution_count": 38,
     "metadata": {},
     "output_type": "execute_result"
    }
   ],
   "source": [
    "modelize(best_xgb, \"rd_xgb\", X_xgb_gs, y)"
   ]
  },
  {
   "cell_type": "code",
   "execution_count": 39,
   "metadata": {},
   "outputs": [
    {
     "data": {
      "text/plain": [
       "0       15.033291\n",
       "1       14.130245\n",
       "2       16.133554\n",
       "3       15.693689\n",
       "4       16.616685\n",
       "          ...    \n",
       "3335    14.082119\n",
       "3336    14.367457\n",
       "3337    16.550148\n",
       "3338    13.627239\n",
       "3339    13.840094\n",
       "Name: SiteEnergyUseWN(kBtu), Length: 3303, dtype: float64"
      ]
     },
     "execution_count": 39,
     "metadata": {},
     "output_type": "execute_result"
    }
   ],
   "source": []
  },
  {
   "cell_type": "code",
   "execution_count": null,
   "metadata": {},
   "outputs": [],
   "source": []
  },
  {
   "cell_type": "code",
   "execution_count": 31,
   "metadata": {},
   "outputs": [],
   "source": [
    "param_XGB = {\"max_depth\" : [2, 3, 4, 5],\n",
    "             \"subsample\" : np.linspace(0.8, 1, 10),\n",
    "             \"n_estimators\" : [100, 250, 500, 1000, 5000],\n",
    "             \"objective\" : [\"reg:squaredlogerror\"],\n",
    "             \"eta\" : np.linspace(0.01, 2, 10),\n",
    "            }\n",
    "\n",
    "\n",
    "xgb_rd = RandomizedSearchCV(xgb,\n",
    "                            param_XGB,\n",
    "                            n_iter = 200,\n",
    "                            scoring = \"neg_mean_squared_log_error\",\n",
    "                            cv = K)"
   ]
  },
  {
   "cell_type": "code",
   "execution_count": 32,
   "metadata": {
    "collapsed": true,
    "jupyter": {
     "outputs_hidden": true
    }
   },
   "outputs": [
    {
     "name": "stdout",
     "output_type": "stream",
     "text": [
      "[22:12:24] WARNING: C:\\Users\\Administrator\\workspace\\xgboost-win64_release_1.2.0\\src\\learner.cc:516: \n",
      "Parameters: { max_depth, subsample } might not be used.\n",
      "\n",
      "  This may not be accurate due to some parameters are only used in language bindings but\n",
      "  passed down to XGBoost core.  Or some parameters are not used but slip through this\n",
      "  verification. Please open an issue if you find above cases.\n",
      "\n",
      "\n",
      "[22:12:24] WARNING: C:\\Users\\Administrator\\workspace\\xgboost-win64_release_1.2.0\\src\\learner.cc:516: \n",
      "Parameters: { max_depth, subsample } might not be used.\n",
      "\n",
      "  This may not be accurate due to some parameters are only used in language bindings but\n",
      "  passed down to XGBoost core.  Or some parameters are not used but slip through this\n",
      "  verification. Please open an issue if you find above cases.\n",
      "\n",
      "\n",
      "[22:12:24] WARNING: C:\\Users\\Administrator\\workspace\\xgboost-win64_release_1.2.0\\src\\learner.cc:516: \n",
      "Parameters: { max_depth, subsample } might not be used.\n",
      "\n",
      "  This may not be accurate due to some parameters are only used in language bindings but\n",
      "  passed down to XGBoost core.  Or some parameters are not used but slip through this\n",
      "  verification. Please open an issue if you find above cases.\n",
      "\n",
      "\n",
      "[22:12:25] WARNING: C:\\Users\\Administrator\\workspace\\xgboost-win64_release_1.2.0\\src\\learner.cc:516: \n",
      "Parameters: { max_depth, subsample } might not be used.\n",
      "\n",
      "  This may not be accurate due to some parameters are only used in language bindings but\n",
      "  passed down to XGBoost core.  Or some parameters are not used but slip through this\n",
      "  verification. Please open an issue if you find above cases.\n",
      "\n",
      "\n",
      "[22:12:25] WARNING: C:\\Users\\Administrator\\workspace\\xgboost-win64_release_1.2.0\\src\\learner.cc:516: \n",
      "Parameters: { max_depth, subsample } might not be used.\n",
      "\n",
      "  This may not be accurate due to some parameters are only used in language bindings but\n",
      "  passed down to XGBoost core.  Or some parameters are not used but slip through this\n",
      "  verification. Please open an issue if you find above cases.\n",
      "\n",
      "\n",
      "[22:12:25] WARNING: C:\\Users\\Administrator\\workspace\\xgboost-win64_release_1.2.0\\src\\learner.cc:516: \n",
      "Parameters: { max_depth, subsample } might not be used.\n",
      "\n",
      "  This may not be accurate due to some parameters are only used in language bindings but\n",
      "  passed down to XGBoost core.  Or some parameters are not used but slip through this\n",
      "  verification. Please open an issue if you find above cases.\n",
      "\n",
      "\n",
      "[22:12:25] WARNING: C:\\Users\\Administrator\\workspace\\xgboost-win64_release_1.2.0\\src\\learner.cc:516: \n",
      "Parameters: { max_depth, subsample } might not be used.\n",
      "\n",
      "  This may not be accurate due to some parameters are only used in language bindings but\n",
      "  passed down to XGBoost core.  Or some parameters are not used but slip through this\n",
      "  verification. Please open an issue if you find above cases.\n",
      "\n",
      "\n",
      "[22:12:25] WARNING: C:\\Users\\Administrator\\workspace\\xgboost-win64_release_1.2.0\\src\\learner.cc:516: \n",
      "Parameters: { max_depth, subsample } might not be used.\n",
      "\n",
      "  This may not be accurate due to some parameters are only used in language bindings but\n",
      "  passed down to XGBoost core.  Or some parameters are not used but slip through this\n",
      "  verification. Please open an issue if you find above cases.\n",
      "\n",
      "\n",
      "[22:12:26] WARNING: C:\\Users\\Administrator\\workspace\\xgboost-win64_release_1.2.0\\src\\learner.cc:516: \n",
      "Parameters: { max_depth, subsample } might not be used.\n",
      "\n",
      "  This may not be accurate due to some parameters are only used in language bindings but\n",
      "  passed down to XGBoost core.  Or some parameters are not used but slip through this\n",
      "  verification. Please open an issue if you find above cases.\n",
      "\n",
      "\n",
      "[22:12:26] WARNING: C:\\Users\\Administrator\\workspace\\xgboost-win64_release_1.2.0\\src\\learner.cc:516: \n",
      "Parameters: { max_depth, subsample } might not be used.\n",
      "\n",
      "  This may not be accurate due to some parameters are only used in language bindings but\n",
      "  passed down to XGBoost core.  Or some parameters are not used but slip through this\n",
      "  verification. Please open an issue if you find above cases.\n",
      "\n",
      "\n",
      "[22:13:28] WARNING: C:\\Users\\Administrator\\workspace\\xgboost-win64_release_1.2.0\\src\\learner.cc:516: \n",
      "Parameters: { max_depth, subsample } might not be used.\n",
      "\n",
      "  This may not be accurate due to some parameters are only used in language bindings but\n",
      "  passed down to XGBoost core.  Or some parameters are not used but slip through this\n",
      "  verification. Please open an issue if you find above cases.\n",
      "\n",
      "\n"
     ]
    },
    {
     "ename": "ValueError",
     "evalue": "Mean Squared Logarithmic Error cannot be used when targets contain negative values.",
     "output_type": "error",
     "traceback": [
      "\u001b[1;31m---------------------------------------------------------------------------\u001b[0m",
      "\u001b[1;31mValueError\u001b[0m                                Traceback (most recent call last)",
      "\u001b[1;32m<ipython-input-32-cde1f8c6050d>\u001b[0m in \u001b[0;36m<module>\u001b[1;34m()\u001b[0m\n\u001b[0;32m      1\u001b[0m \u001b[1;31m# 200 model\u001b[0m\u001b[1;33m\u001b[0m\u001b[1;33m\u001b[0m\u001b[1;33m\u001b[0m\u001b[0m\n\u001b[0;32m      2\u001b[0m \u001b[0mstart\u001b[0m \u001b[1;33m=\u001b[0m \u001b[0mtime\u001b[0m\u001b[1;33m(\u001b[0m\u001b[1;33m)\u001b[0m\u001b[1;33m\u001b[0m\u001b[1;33m\u001b[0m\u001b[0m\n\u001b[1;32m----> 3\u001b[1;33m \u001b[0mxgb_rd\u001b[0m\u001b[1;33m.\u001b[0m\u001b[0mfit\u001b[0m\u001b[1;33m(\u001b[0m\u001b[0mX_xgb_gs\u001b[0m\u001b[1;33m,\u001b[0m \u001b[0my\u001b[0m\u001b[1;33m)\u001b[0m\u001b[1;33m\u001b[0m\u001b[1;33m\u001b[0m\u001b[0m\n\u001b[0m\u001b[0;32m      4\u001b[0m \u001b[0mprint\u001b[0m\u001b[1;33m(\u001b[0m\u001b[0mtime\u001b[0m\u001b[1;33m(\u001b[0m\u001b[1;33m)\u001b[0m\u001b[1;33m-\u001b[0m\u001b[0mstart\u001b[0m\u001b[1;33m)\u001b[0m\u001b[1;33m\u001b[0m\u001b[1;33m\u001b[0m\u001b[0m\n",
      "\u001b[1;32mE:\\ProgramData\\Anaconda3\\envs\\OpClass\\lib\\site-packages\\sklearn\\utils\\validation.py\u001b[0m in \u001b[0;36minner_f\u001b[1;34m(*args, **kwargs)\u001b[0m\n\u001b[0;32m     70\u001b[0m                           FutureWarning)\n\u001b[0;32m     71\u001b[0m         \u001b[0mkwargs\u001b[0m\u001b[1;33m.\u001b[0m\u001b[0mupdate\u001b[0m\u001b[1;33m(\u001b[0m\u001b[1;33m{\u001b[0m\u001b[0mk\u001b[0m\u001b[1;33m:\u001b[0m \u001b[0marg\u001b[0m \u001b[1;32mfor\u001b[0m \u001b[0mk\u001b[0m\u001b[1;33m,\u001b[0m \u001b[0marg\u001b[0m \u001b[1;32min\u001b[0m \u001b[0mzip\u001b[0m\u001b[1;33m(\u001b[0m\u001b[0msig\u001b[0m\u001b[1;33m.\u001b[0m\u001b[0mparameters\u001b[0m\u001b[1;33m,\u001b[0m \u001b[0margs\u001b[0m\u001b[1;33m)\u001b[0m\u001b[1;33m}\u001b[0m\u001b[1;33m)\u001b[0m\u001b[1;33m\u001b[0m\u001b[1;33m\u001b[0m\u001b[0m\n\u001b[1;32m---> 72\u001b[1;33m         \u001b[1;32mreturn\u001b[0m \u001b[0mf\u001b[0m\u001b[1;33m(\u001b[0m\u001b[1;33m**\u001b[0m\u001b[0mkwargs\u001b[0m\u001b[1;33m)\u001b[0m\u001b[1;33m\u001b[0m\u001b[1;33m\u001b[0m\u001b[0m\n\u001b[0m\u001b[0;32m     73\u001b[0m     \u001b[1;32mreturn\u001b[0m \u001b[0minner_f\u001b[0m\u001b[1;33m\u001b[0m\u001b[1;33m\u001b[0m\u001b[0m\n\u001b[0;32m     74\u001b[0m \u001b[1;33m\u001b[0m\u001b[0m\n",
      "\u001b[1;32mE:\\ProgramData\\Anaconda3\\envs\\OpClass\\lib\\site-packages\\sklearn\\model_selection\\_search.py\u001b[0m in \u001b[0;36mfit\u001b[1;34m(self, X, y, groups, **fit_params)\u001b[0m\n\u001b[0;32m    734\u001b[0m                 \u001b[1;32mreturn\u001b[0m \u001b[0mresults\u001b[0m\u001b[1;33m\u001b[0m\u001b[1;33m\u001b[0m\u001b[0m\n\u001b[0;32m    735\u001b[0m \u001b[1;33m\u001b[0m\u001b[0m\n\u001b[1;32m--> 736\u001b[1;33m             \u001b[0mself\u001b[0m\u001b[1;33m.\u001b[0m\u001b[0m_run_search\u001b[0m\u001b[1;33m(\u001b[0m\u001b[0mevaluate_candidates\u001b[0m\u001b[1;33m)\u001b[0m\u001b[1;33m\u001b[0m\u001b[1;33m\u001b[0m\u001b[0m\n\u001b[0m\u001b[0;32m    737\u001b[0m \u001b[1;33m\u001b[0m\u001b[0m\n\u001b[0;32m    738\u001b[0m         \u001b[1;31m# For multi-metric evaluation, store the best_index_, best_params_ and\u001b[0m\u001b[1;33m\u001b[0m\u001b[1;33m\u001b[0m\u001b[1;33m\u001b[0m\u001b[0m\n",
      "\u001b[1;32mE:\\ProgramData\\Anaconda3\\envs\\OpClass\\lib\\site-packages\\sklearn\\model_selection\\_search.py\u001b[0m in \u001b[0;36m_run_search\u001b[1;34m(self, evaluate_candidates)\u001b[0m\n\u001b[0;32m   1529\u001b[0m         evaluate_candidates(ParameterSampler(\n\u001b[0;32m   1530\u001b[0m             \u001b[0mself\u001b[0m\u001b[1;33m.\u001b[0m\u001b[0mparam_distributions\u001b[0m\u001b[1;33m,\u001b[0m \u001b[0mself\u001b[0m\u001b[1;33m.\u001b[0m\u001b[0mn_iter\u001b[0m\u001b[1;33m,\u001b[0m\u001b[1;33m\u001b[0m\u001b[1;33m\u001b[0m\u001b[0m\n\u001b[1;32m-> 1531\u001b[1;33m             random_state=self.random_state))\n\u001b[0m",
      "\u001b[1;32mE:\\ProgramData\\Anaconda3\\envs\\OpClass\\lib\\site-packages\\sklearn\\model_selection\\_search.py\u001b[0m in \u001b[0;36mevaluate_candidates\u001b[1;34m(candidate_params)\u001b[0m\n\u001b[0;32m    713\u001b[0m                                \u001b[1;32mfor\u001b[0m \u001b[0mparameters\u001b[0m\u001b[1;33m,\u001b[0m \u001b[1;33m(\u001b[0m\u001b[0mtrain\u001b[0m\u001b[1;33m,\u001b[0m \u001b[0mtest\u001b[0m\u001b[1;33m)\u001b[0m\u001b[1;33m\u001b[0m\u001b[1;33m\u001b[0m\u001b[0m\n\u001b[0;32m    714\u001b[0m                                in product(candidate_params,\n\u001b[1;32m--> 715\u001b[1;33m                                           cv.split(X, y, groups)))\n\u001b[0m\u001b[0;32m    716\u001b[0m \u001b[1;33m\u001b[0m\u001b[0m\n\u001b[0;32m    717\u001b[0m                 \u001b[1;32mif\u001b[0m \u001b[0mlen\u001b[0m\u001b[1;33m(\u001b[0m\u001b[0mout\u001b[0m\u001b[1;33m)\u001b[0m \u001b[1;33m<\u001b[0m \u001b[1;36m1\u001b[0m\u001b[1;33m:\u001b[0m\u001b[1;33m\u001b[0m\u001b[1;33m\u001b[0m\u001b[0m\n",
      "\u001b[1;32mE:\\ProgramData\\Anaconda3\\envs\\OpClass\\lib\\site-packages\\joblib\\parallel.py\u001b[0m in \u001b[0;36m__call__\u001b[1;34m(self, iterable)\u001b[0m\n\u001b[0;32m   1049\u001b[0m                 \u001b[0mself\u001b[0m\u001b[1;33m.\u001b[0m\u001b[0m_iterating\u001b[0m \u001b[1;33m=\u001b[0m \u001b[0mself\u001b[0m\u001b[1;33m.\u001b[0m\u001b[0m_original_iterator\u001b[0m \u001b[1;32mis\u001b[0m \u001b[1;32mnot\u001b[0m \u001b[1;32mNone\u001b[0m\u001b[1;33m\u001b[0m\u001b[1;33m\u001b[0m\u001b[0m\n\u001b[0;32m   1050\u001b[0m \u001b[1;33m\u001b[0m\u001b[0m\n\u001b[1;32m-> 1051\u001b[1;33m             \u001b[1;32mwhile\u001b[0m \u001b[0mself\u001b[0m\u001b[1;33m.\u001b[0m\u001b[0mdispatch_one_batch\u001b[0m\u001b[1;33m(\u001b[0m\u001b[0miterator\u001b[0m\u001b[1;33m)\u001b[0m\u001b[1;33m:\u001b[0m\u001b[1;33m\u001b[0m\u001b[1;33m\u001b[0m\u001b[0m\n\u001b[0m\u001b[0;32m   1052\u001b[0m                 \u001b[1;32mpass\u001b[0m\u001b[1;33m\u001b[0m\u001b[1;33m\u001b[0m\u001b[0m\n\u001b[0;32m   1053\u001b[0m \u001b[1;33m\u001b[0m\u001b[0m\n",
      "\u001b[1;32mE:\\ProgramData\\Anaconda3\\envs\\OpClass\\lib\\site-packages\\joblib\\parallel.py\u001b[0m in \u001b[0;36mdispatch_one_batch\u001b[1;34m(self, iterator)\u001b[0m\n\u001b[0;32m    864\u001b[0m                 \u001b[1;32mreturn\u001b[0m \u001b[1;32mFalse\u001b[0m\u001b[1;33m\u001b[0m\u001b[1;33m\u001b[0m\u001b[0m\n\u001b[0;32m    865\u001b[0m             \u001b[1;32melse\u001b[0m\u001b[1;33m:\u001b[0m\u001b[1;33m\u001b[0m\u001b[1;33m\u001b[0m\u001b[0m\n\u001b[1;32m--> 866\u001b[1;33m                 \u001b[0mself\u001b[0m\u001b[1;33m.\u001b[0m\u001b[0m_dispatch\u001b[0m\u001b[1;33m(\u001b[0m\u001b[0mtasks\u001b[0m\u001b[1;33m)\u001b[0m\u001b[1;33m\u001b[0m\u001b[1;33m\u001b[0m\u001b[0m\n\u001b[0m\u001b[0;32m    867\u001b[0m                 \u001b[1;32mreturn\u001b[0m \u001b[1;32mTrue\u001b[0m\u001b[1;33m\u001b[0m\u001b[1;33m\u001b[0m\u001b[0m\n\u001b[0;32m    868\u001b[0m \u001b[1;33m\u001b[0m\u001b[0m\n",
      "\u001b[1;32mE:\\ProgramData\\Anaconda3\\envs\\OpClass\\lib\\site-packages\\joblib\\parallel.py\u001b[0m in \u001b[0;36m_dispatch\u001b[1;34m(self, batch)\u001b[0m\n\u001b[0;32m    782\u001b[0m         \u001b[1;32mwith\u001b[0m \u001b[0mself\u001b[0m\u001b[1;33m.\u001b[0m\u001b[0m_lock\u001b[0m\u001b[1;33m:\u001b[0m\u001b[1;33m\u001b[0m\u001b[1;33m\u001b[0m\u001b[0m\n\u001b[0;32m    783\u001b[0m             \u001b[0mjob_idx\u001b[0m \u001b[1;33m=\u001b[0m \u001b[0mlen\u001b[0m\u001b[1;33m(\u001b[0m\u001b[0mself\u001b[0m\u001b[1;33m.\u001b[0m\u001b[0m_jobs\u001b[0m\u001b[1;33m)\u001b[0m\u001b[1;33m\u001b[0m\u001b[1;33m\u001b[0m\u001b[0m\n\u001b[1;32m--> 784\u001b[1;33m             \u001b[0mjob\u001b[0m \u001b[1;33m=\u001b[0m \u001b[0mself\u001b[0m\u001b[1;33m.\u001b[0m\u001b[0m_backend\u001b[0m\u001b[1;33m.\u001b[0m\u001b[0mapply_async\u001b[0m\u001b[1;33m(\u001b[0m\u001b[0mbatch\u001b[0m\u001b[1;33m,\u001b[0m \u001b[0mcallback\u001b[0m\u001b[1;33m=\u001b[0m\u001b[0mcb\u001b[0m\u001b[1;33m)\u001b[0m\u001b[1;33m\u001b[0m\u001b[1;33m\u001b[0m\u001b[0m\n\u001b[0m\u001b[0;32m    785\u001b[0m             \u001b[1;31m# A job can complete so quickly than its callback is\u001b[0m\u001b[1;33m\u001b[0m\u001b[1;33m\u001b[0m\u001b[1;33m\u001b[0m\u001b[0m\n\u001b[0;32m    786\u001b[0m             \u001b[1;31m# called before we get here, causing self._jobs to\u001b[0m\u001b[1;33m\u001b[0m\u001b[1;33m\u001b[0m\u001b[1;33m\u001b[0m\u001b[0m\n",
      "\u001b[1;32mE:\\ProgramData\\Anaconda3\\envs\\OpClass\\lib\\site-packages\\joblib\\_parallel_backends.py\u001b[0m in \u001b[0;36mapply_async\u001b[1;34m(self, func, callback)\u001b[0m\n\u001b[0;32m    206\u001b[0m     \u001b[1;32mdef\u001b[0m \u001b[0mapply_async\u001b[0m\u001b[1;33m(\u001b[0m\u001b[0mself\u001b[0m\u001b[1;33m,\u001b[0m \u001b[0mfunc\u001b[0m\u001b[1;33m,\u001b[0m \u001b[0mcallback\u001b[0m\u001b[1;33m=\u001b[0m\u001b[1;32mNone\u001b[0m\u001b[1;33m)\u001b[0m\u001b[1;33m:\u001b[0m\u001b[1;33m\u001b[0m\u001b[1;33m\u001b[0m\u001b[0m\n\u001b[0;32m    207\u001b[0m         \u001b[1;34m\"\"\"Schedule a func to be run\"\"\"\u001b[0m\u001b[1;33m\u001b[0m\u001b[1;33m\u001b[0m\u001b[0m\n\u001b[1;32m--> 208\u001b[1;33m         \u001b[0mresult\u001b[0m \u001b[1;33m=\u001b[0m \u001b[0mImmediateResult\u001b[0m\u001b[1;33m(\u001b[0m\u001b[0mfunc\u001b[0m\u001b[1;33m)\u001b[0m\u001b[1;33m\u001b[0m\u001b[1;33m\u001b[0m\u001b[0m\n\u001b[0m\u001b[0;32m    209\u001b[0m         \u001b[1;32mif\u001b[0m \u001b[0mcallback\u001b[0m\u001b[1;33m:\u001b[0m\u001b[1;33m\u001b[0m\u001b[1;33m\u001b[0m\u001b[0m\n\u001b[0;32m    210\u001b[0m             \u001b[0mcallback\u001b[0m\u001b[1;33m(\u001b[0m\u001b[0mresult\u001b[0m\u001b[1;33m)\u001b[0m\u001b[1;33m\u001b[0m\u001b[1;33m\u001b[0m\u001b[0m\n",
      "\u001b[1;32mE:\\ProgramData\\Anaconda3\\envs\\OpClass\\lib\\site-packages\\joblib\\_parallel_backends.py\u001b[0m in \u001b[0;36m__init__\u001b[1;34m(self, batch)\u001b[0m\n\u001b[0;32m    570\u001b[0m         \u001b[1;31m# Don't delay the application, to avoid keeping the input\u001b[0m\u001b[1;33m\u001b[0m\u001b[1;33m\u001b[0m\u001b[1;33m\u001b[0m\u001b[0m\n\u001b[0;32m    571\u001b[0m         \u001b[1;31m# arguments in memory\u001b[0m\u001b[1;33m\u001b[0m\u001b[1;33m\u001b[0m\u001b[1;33m\u001b[0m\u001b[0m\n\u001b[1;32m--> 572\u001b[1;33m         \u001b[0mself\u001b[0m\u001b[1;33m.\u001b[0m\u001b[0mresults\u001b[0m \u001b[1;33m=\u001b[0m \u001b[0mbatch\u001b[0m\u001b[1;33m(\u001b[0m\u001b[1;33m)\u001b[0m\u001b[1;33m\u001b[0m\u001b[1;33m\u001b[0m\u001b[0m\n\u001b[0m\u001b[0;32m    573\u001b[0m \u001b[1;33m\u001b[0m\u001b[0m\n\u001b[0;32m    574\u001b[0m     \u001b[1;32mdef\u001b[0m \u001b[0mget\u001b[0m\u001b[1;33m(\u001b[0m\u001b[0mself\u001b[0m\u001b[1;33m)\u001b[0m\u001b[1;33m:\u001b[0m\u001b[1;33m\u001b[0m\u001b[1;33m\u001b[0m\u001b[0m\n",
      "\u001b[1;32mE:\\ProgramData\\Anaconda3\\envs\\OpClass\\lib\\site-packages\\joblib\\parallel.py\u001b[0m in \u001b[0;36m__call__\u001b[1;34m(self)\u001b[0m\n\u001b[0;32m    261\u001b[0m         \u001b[1;32mwith\u001b[0m \u001b[0mparallel_backend\u001b[0m\u001b[1;33m(\u001b[0m\u001b[0mself\u001b[0m\u001b[1;33m.\u001b[0m\u001b[0m_backend\u001b[0m\u001b[1;33m,\u001b[0m \u001b[0mn_jobs\u001b[0m\u001b[1;33m=\u001b[0m\u001b[0mself\u001b[0m\u001b[1;33m.\u001b[0m\u001b[0m_n_jobs\u001b[0m\u001b[1;33m)\u001b[0m\u001b[1;33m:\u001b[0m\u001b[1;33m\u001b[0m\u001b[1;33m\u001b[0m\u001b[0m\n\u001b[0;32m    262\u001b[0m             return [func(*args, **kwargs)\n\u001b[1;32m--> 263\u001b[1;33m                     for func, args, kwargs in self.items]\n\u001b[0m\u001b[0;32m    264\u001b[0m \u001b[1;33m\u001b[0m\u001b[0m\n\u001b[0;32m    265\u001b[0m     \u001b[1;32mdef\u001b[0m \u001b[0m__reduce__\u001b[0m\u001b[1;33m(\u001b[0m\u001b[0mself\u001b[0m\u001b[1;33m)\u001b[0m\u001b[1;33m:\u001b[0m\u001b[1;33m\u001b[0m\u001b[1;33m\u001b[0m\u001b[0m\n",
      "\u001b[1;32mE:\\ProgramData\\Anaconda3\\envs\\OpClass\\lib\\site-packages\\joblib\\parallel.py\u001b[0m in \u001b[0;36m<listcomp>\u001b[1;34m(.0)\u001b[0m\n\u001b[0;32m    261\u001b[0m         \u001b[1;32mwith\u001b[0m \u001b[0mparallel_backend\u001b[0m\u001b[1;33m(\u001b[0m\u001b[0mself\u001b[0m\u001b[1;33m.\u001b[0m\u001b[0m_backend\u001b[0m\u001b[1;33m,\u001b[0m \u001b[0mn_jobs\u001b[0m\u001b[1;33m=\u001b[0m\u001b[0mself\u001b[0m\u001b[1;33m.\u001b[0m\u001b[0m_n_jobs\u001b[0m\u001b[1;33m)\u001b[0m\u001b[1;33m:\u001b[0m\u001b[1;33m\u001b[0m\u001b[1;33m\u001b[0m\u001b[0m\n\u001b[0;32m    262\u001b[0m             return [func(*args, **kwargs)\n\u001b[1;32m--> 263\u001b[1;33m                     for func, args, kwargs in self.items]\n\u001b[0m\u001b[0;32m    264\u001b[0m \u001b[1;33m\u001b[0m\u001b[0m\n\u001b[0;32m    265\u001b[0m     \u001b[1;32mdef\u001b[0m \u001b[0m__reduce__\u001b[0m\u001b[1;33m(\u001b[0m\u001b[0mself\u001b[0m\u001b[1;33m)\u001b[0m\u001b[1;33m:\u001b[0m\u001b[1;33m\u001b[0m\u001b[1;33m\u001b[0m\u001b[0m\n",
      "\u001b[1;32mE:\\ProgramData\\Anaconda3\\envs\\OpClass\\lib\\site-packages\\sklearn\\model_selection\\_validation.py\u001b[0m in \u001b[0;36m_fit_and_score\u001b[1;34m(estimator, X, y, scorer, train, test, verbose, parameters, fit_params, return_train_score, return_parameters, return_n_test_samples, return_times, return_estimator, error_score)\u001b[0m\n\u001b[0;32m    558\u001b[0m     \u001b[1;32melse\u001b[0m\u001b[1;33m:\u001b[0m\u001b[1;33m\u001b[0m\u001b[1;33m\u001b[0m\u001b[0m\n\u001b[0;32m    559\u001b[0m         \u001b[0mfit_time\u001b[0m \u001b[1;33m=\u001b[0m \u001b[0mtime\u001b[0m\u001b[1;33m.\u001b[0m\u001b[0mtime\u001b[0m\u001b[1;33m(\u001b[0m\u001b[1;33m)\u001b[0m \u001b[1;33m-\u001b[0m \u001b[0mstart_time\u001b[0m\u001b[1;33m\u001b[0m\u001b[1;33m\u001b[0m\u001b[0m\n\u001b[1;32m--> 560\u001b[1;33m         \u001b[0mtest_scores\u001b[0m \u001b[1;33m=\u001b[0m \u001b[0m_score\u001b[0m\u001b[1;33m(\u001b[0m\u001b[0mestimator\u001b[0m\u001b[1;33m,\u001b[0m \u001b[0mX_test\u001b[0m\u001b[1;33m,\u001b[0m \u001b[0my_test\u001b[0m\u001b[1;33m,\u001b[0m \u001b[0mscorer\u001b[0m\u001b[1;33m)\u001b[0m\u001b[1;33m\u001b[0m\u001b[1;33m\u001b[0m\u001b[0m\n\u001b[0m\u001b[0;32m    561\u001b[0m         \u001b[0mscore_time\u001b[0m \u001b[1;33m=\u001b[0m \u001b[0mtime\u001b[0m\u001b[1;33m.\u001b[0m\u001b[0mtime\u001b[0m\u001b[1;33m(\u001b[0m\u001b[1;33m)\u001b[0m \u001b[1;33m-\u001b[0m \u001b[0mstart_time\u001b[0m \u001b[1;33m-\u001b[0m \u001b[0mfit_time\u001b[0m\u001b[1;33m\u001b[0m\u001b[1;33m\u001b[0m\u001b[0m\n\u001b[0;32m    562\u001b[0m         \u001b[1;32mif\u001b[0m \u001b[0mreturn_train_score\u001b[0m\u001b[1;33m:\u001b[0m\u001b[1;33m\u001b[0m\u001b[1;33m\u001b[0m\u001b[0m\n",
      "\u001b[1;32mE:\\ProgramData\\Anaconda3\\envs\\OpClass\\lib\\site-packages\\sklearn\\model_selection\\_validation.py\u001b[0m in \u001b[0;36m_score\u001b[1;34m(estimator, X_test, y_test, scorer)\u001b[0m\n\u001b[0;32m    605\u001b[0m         \u001b[0mscores\u001b[0m \u001b[1;33m=\u001b[0m \u001b[0mscorer\u001b[0m\u001b[1;33m(\u001b[0m\u001b[0mestimator\u001b[0m\u001b[1;33m,\u001b[0m \u001b[0mX_test\u001b[0m\u001b[1;33m)\u001b[0m\u001b[1;33m\u001b[0m\u001b[1;33m\u001b[0m\u001b[0m\n\u001b[0;32m    606\u001b[0m     \u001b[1;32melse\u001b[0m\u001b[1;33m:\u001b[0m\u001b[1;33m\u001b[0m\u001b[1;33m\u001b[0m\u001b[0m\n\u001b[1;32m--> 607\u001b[1;33m         \u001b[0mscores\u001b[0m \u001b[1;33m=\u001b[0m \u001b[0mscorer\u001b[0m\u001b[1;33m(\u001b[0m\u001b[0mestimator\u001b[0m\u001b[1;33m,\u001b[0m \u001b[0mX_test\u001b[0m\u001b[1;33m,\u001b[0m \u001b[0my_test\u001b[0m\u001b[1;33m)\u001b[0m\u001b[1;33m\u001b[0m\u001b[1;33m\u001b[0m\u001b[0m\n\u001b[0m\u001b[0;32m    608\u001b[0m \u001b[1;33m\u001b[0m\u001b[0m\n\u001b[0;32m    609\u001b[0m     error_msg = (\"scoring must return a number, got %s (%s) \"\n",
      "\u001b[1;32mE:\\ProgramData\\Anaconda3\\envs\\OpClass\\lib\\site-packages\\sklearn\\metrics\\_scorer.py\u001b[0m in \u001b[0;36m__call__\u001b[1;34m(self, estimator, *args, **kwargs)\u001b[0m\n\u001b[0;32m     86\u001b[0m             \u001b[1;32mif\u001b[0m \u001b[0misinstance\u001b[0m\u001b[1;33m(\u001b[0m\u001b[0mscorer\u001b[0m\u001b[1;33m,\u001b[0m \u001b[0m_BaseScorer\u001b[0m\u001b[1;33m)\u001b[0m\u001b[1;33m:\u001b[0m\u001b[1;33m\u001b[0m\u001b[1;33m\u001b[0m\u001b[0m\n\u001b[0;32m     87\u001b[0m                 score = scorer._score(cached_call, estimator,\n\u001b[1;32m---> 88\u001b[1;33m                                       *args, **kwargs)\n\u001b[0m\u001b[0;32m     89\u001b[0m             \u001b[1;32melse\u001b[0m\u001b[1;33m:\u001b[0m\u001b[1;33m\u001b[0m\u001b[1;33m\u001b[0m\u001b[0m\n\u001b[0;32m     90\u001b[0m                 \u001b[0mscore\u001b[0m \u001b[1;33m=\u001b[0m \u001b[0mscorer\u001b[0m\u001b[1;33m(\u001b[0m\u001b[0mestimator\u001b[0m\u001b[1;33m,\u001b[0m \u001b[1;33m*\u001b[0m\u001b[0margs\u001b[0m\u001b[1;33m,\u001b[0m \u001b[1;33m**\u001b[0m\u001b[0mkwargs\u001b[0m\u001b[1;33m)\u001b[0m\u001b[1;33m\u001b[0m\u001b[1;33m\u001b[0m\u001b[0m\n",
      "\u001b[1;32mE:\\ProgramData\\Anaconda3\\envs\\OpClass\\lib\\site-packages\\sklearn\\metrics\\_scorer.py\u001b[0m in \u001b[0;36m_score\u001b[1;34m(self, method_caller, estimator, X, y_true, sample_weight)\u001b[0m\n\u001b[0;32m    211\u001b[0m         \u001b[1;32melse\u001b[0m\u001b[1;33m:\u001b[0m\u001b[1;33m\u001b[0m\u001b[1;33m\u001b[0m\u001b[0m\n\u001b[0;32m    212\u001b[0m             return self._sign * self._score_func(y_true, y_pred,\n\u001b[1;32m--> 213\u001b[1;33m                                                  **self._kwargs)\n\u001b[0m\u001b[0;32m    214\u001b[0m \u001b[1;33m\u001b[0m\u001b[0m\n\u001b[0;32m    215\u001b[0m \u001b[1;33m\u001b[0m\u001b[0m\n",
      "\u001b[1;32mE:\\ProgramData\\Anaconda3\\envs\\OpClass\\lib\\site-packages\\sklearn\\utils\\validation.py\u001b[0m in \u001b[0;36minner_f\u001b[1;34m(*args, **kwargs)\u001b[0m\n\u001b[0;32m     70\u001b[0m                           FutureWarning)\n\u001b[0;32m     71\u001b[0m         \u001b[0mkwargs\u001b[0m\u001b[1;33m.\u001b[0m\u001b[0mupdate\u001b[0m\u001b[1;33m(\u001b[0m\u001b[1;33m{\u001b[0m\u001b[0mk\u001b[0m\u001b[1;33m:\u001b[0m \u001b[0marg\u001b[0m \u001b[1;32mfor\u001b[0m \u001b[0mk\u001b[0m\u001b[1;33m,\u001b[0m \u001b[0marg\u001b[0m \u001b[1;32min\u001b[0m \u001b[0mzip\u001b[0m\u001b[1;33m(\u001b[0m\u001b[0msig\u001b[0m\u001b[1;33m.\u001b[0m\u001b[0mparameters\u001b[0m\u001b[1;33m,\u001b[0m \u001b[0margs\u001b[0m\u001b[1;33m)\u001b[0m\u001b[1;33m}\u001b[0m\u001b[1;33m)\u001b[0m\u001b[1;33m\u001b[0m\u001b[1;33m\u001b[0m\u001b[0m\n\u001b[1;32m---> 72\u001b[1;33m         \u001b[1;32mreturn\u001b[0m \u001b[0mf\u001b[0m\u001b[1;33m(\u001b[0m\u001b[1;33m**\u001b[0m\u001b[0mkwargs\u001b[0m\u001b[1;33m)\u001b[0m\u001b[1;33m\u001b[0m\u001b[1;33m\u001b[0m\u001b[0m\n\u001b[0m\u001b[0;32m     73\u001b[0m     \u001b[1;32mreturn\u001b[0m \u001b[0minner_f\u001b[0m\u001b[1;33m\u001b[0m\u001b[1;33m\u001b[0m\u001b[0m\n\u001b[0;32m     74\u001b[0m \u001b[1;33m\u001b[0m\u001b[0m\n",
      "\u001b[1;32mE:\\ProgramData\\Anaconda3\\envs\\OpClass\\lib\\site-packages\\sklearn\\metrics\\_regression.py\u001b[0m in \u001b[0;36mmean_squared_log_error\u001b[1;34m(y_true, y_pred, sample_weight, multioutput)\u001b[0m\n\u001b[0;32m    332\u001b[0m \u001b[1;33m\u001b[0m\u001b[0m\n\u001b[0;32m    333\u001b[0m     \u001b[1;32mif\u001b[0m \u001b[1;33m(\u001b[0m\u001b[0my_true\u001b[0m \u001b[1;33m<\u001b[0m \u001b[1;36m0\u001b[0m\u001b[1;33m)\u001b[0m\u001b[1;33m.\u001b[0m\u001b[0many\u001b[0m\u001b[1;33m(\u001b[0m\u001b[1;33m)\u001b[0m \u001b[1;32mor\u001b[0m \u001b[1;33m(\u001b[0m\u001b[0my_pred\u001b[0m \u001b[1;33m<\u001b[0m \u001b[1;36m0\u001b[0m\u001b[1;33m)\u001b[0m\u001b[1;33m.\u001b[0m\u001b[0many\u001b[0m\u001b[1;33m(\u001b[0m\u001b[1;33m)\u001b[0m\u001b[1;33m:\u001b[0m\u001b[1;33m\u001b[0m\u001b[1;33m\u001b[0m\u001b[0m\n\u001b[1;32m--> 334\u001b[1;33m         raise ValueError(\"Mean Squared Logarithmic Error cannot be used when \"\n\u001b[0m\u001b[0;32m    335\u001b[0m                          \"targets contain negative values.\")\n\u001b[0;32m    336\u001b[0m \u001b[1;33m\u001b[0m\u001b[0m\n",
      "\u001b[1;31mValueError\u001b[0m: Mean Squared Logarithmic Error cannot be used when targets contain negative values."
     ]
    }
   ],
   "source": [
    "# 200 model\n",
    "start = time()\n",
    "xgb_rd.fit(X_xgb_gs, y)\n",
    "print(time()-start)"
   ]
  },
  {
   "cell_type": "code",
   "execution_count": 33,
   "metadata": {},
   "outputs": [
    {
     "ename": "AttributeError",
     "evalue": "'RandomizedSearchCV' object has no attribute 'best_estimator_'",
     "output_type": "error",
     "traceback": [
      "\u001b[1;31m---------------------------------------------------------------------------\u001b[0m",
      "\u001b[1;31mAttributeError\u001b[0m                            Traceback (most recent call last)",
      "\u001b[1;32m<ipython-input-33-9c70e975f1ed>\u001b[0m in \u001b[0;36m<module>\u001b[1;34m()\u001b[0m\n\u001b[1;32m----> 1\u001b[1;33m \u001b[0mrd_xgb\u001b[0m \u001b[1;33m=\u001b[0m \u001b[0mxgb_rd\u001b[0m\u001b[1;33m.\u001b[0m\u001b[0mbest_estimator_\u001b[0m\u001b[1;33m\u001b[0m\u001b[1;33m\u001b[0m\u001b[0m\n\u001b[0m\u001b[0;32m      2\u001b[0m \u001b[0mxgb_rd\u001b[0m\u001b[1;33m.\u001b[0m\u001b[0mbest_params_\u001b[0m\u001b[1;33m\u001b[0m\u001b[1;33m\u001b[0m\u001b[0m\n",
      "\u001b[1;31mAttributeError\u001b[0m: 'RandomizedSearchCV' object has no attribute 'best_estimator_'"
     ]
    }
   ],
   "source": [
    "rd_xgb = xgb_rd.best_estimator_\n",
    "xgb_rd.best_params_"
   ]
  },
  {
   "cell_type": "code",
   "execution_count": null,
   "metadata": {},
   "outputs": [],
   "source": [
    "modelize(rd_xgb, \"rd_xgb\", X_xgb_gs, y)"
   ]
  },
  {
   "cell_type": "markdown",
   "metadata": {},
   "source": [
    "# randomizedSearch"
   ]
  },
  {
   "cell_type": "code",
   "execution_count": null,
   "metadata": {},
   "outputs": [],
   "source": []
  },
  {
   "cell_type": "code",
   "execution_count": 172,
   "metadata": {},
   "outputs": [],
   "source": [
    "param_XGB = {#\"xgbregressor__booster\" : [\"gblinear\"],\n",
    "             \"xgbregressor__max_depth\" : [2, 3, 4, 5],\n",
    "             \"xgbregressor__subsample\" : [0.97, 0.98, 0.99, 1],\n",
    "             \"xgbregressor__n_estimators\" : [500, 600, 700, 800, 900, 1000, 1100, 1200, 1500],\n",
    "             \"xgbregressor__objective\" : [\"reg:squaredlogerror\"],\n",
    "             \"xgbregressor__eta\" : np.linspace(0.01, 0.3, 10),\n",
    "             \"xgbregressor__min_child_weight\" : [0, 1, 2, 3, 4]#,\n",
    "             #\"xgbregressor__colsample_bytree\" : [0.5, 0.75, 1],\n",
    "             #\"xgbregressor__colsample_bylevel\" : [0.5, 0.75, 1]\n",
    "            }\n",
    "\n",
    "\n",
    "xgb_rd = RandomizedSearchCV(xgb_reg,\n",
    "                              param_XGB,\n",
    "                              n_iter = 200,\n",
    "                              scoring = \"neg_mean_squared_log_error\",\n",
    "                              cv = K)"
   ]
  },
  {
   "cell_type": "code",
   "execution_count": 173,
   "metadata": {},
   "outputs": [
    {
     "name": "stdout",
     "output_type": "stream",
     "text": [
      "912.5611956119537\n"
     ]
    }
   ],
   "source": [
    "# 200 model\n",
    "start = time()\n",
    "xgb_rd.fit(X, y)\n",
    "print(time()-start)"
   ]
  },
  {
   "cell_type": "code",
   "execution_count": 174,
   "metadata": {},
   "outputs": [
    {
     "data": {
      "text/plain": [
       "{'xgbregressor__subsample': 0.97,\n",
       " 'xgbregressor__objective': 'reg:squaredlogerror',\n",
       " 'xgbregressor__n_estimators': 1100,\n",
       " 'xgbregressor__min_child_weight': 0,\n",
       " 'xgbregressor__max_depth': 2,\n",
       " 'xgbregressor__eta': 0.1711111111111111}"
      ]
     },
     "execution_count": 174,
     "metadata": {},
     "output_type": "execute_result"
    }
   ],
   "source": [
    "rd_xgb = xgb_rd.best_estimator_\n",
    "xgb_rd.best_params_"
   ]
  },
  {
   "cell_type": "code",
   "execution_count": 175,
   "metadata": {},
   "outputs": [
    {
     "data": {
      "text/plain": [
       "{'Model': 'rd_xgb',\n",
       " 'Fit_Time': 4.197240114212036,\n",
       " 'Score_time': 0.1150064468383789,\n",
       " 'MAE': 0.38372759379794297,\n",
       " 'RMSLE': 0.035563654995112284,\n",
       " 'R2': 0.6986951046825929}"
      ]
     },
     "execution_count": 175,
     "metadata": {},
     "output_type": "execute_result"
    }
   ],
   "source": [
    "modelize(rd_xgb, \"rd_xgb\", X, y)"
   ]
  },
  {
   "cell_type": "code",
   "execution_count": null,
   "metadata": {},
   "outputs": [],
   "source": []
  },
  {
   "cell_type": "code",
   "execution_count": null,
   "metadata": {},
   "outputs": [],
   "source": []
  },
  {
   "cell_type": "code",
   "execution_count": null,
   "metadata": {},
   "outputs": [],
   "source": []
  },
  {
   "cell_type": "code",
   "execution_count": 168,
   "metadata": {},
   "outputs": [
    {
     "name": "stdout",
     "output_type": "stream",
     "text": [
      "325.9426429271698\n"
     ]
    }
   ],
   "source": [
    "# 150 model\n",
    "start = time()\n",
    "xgb_rd.fit(X, y)\n",
    "print(time()-start)"
   ]
  },
  {
   "cell_type": "code",
   "execution_count": 169,
   "metadata": {},
   "outputs": [
    {
     "data": {
      "text/plain": [
       "{'xgbregressor__subsample': 0.98,\n",
       " 'xgbregressor__objective': 'reg:squaredlogerror',\n",
       " 'xgbregressor__n_estimators': 400,\n",
       " 'xgbregressor__min_child_weight': 0,\n",
       " 'xgbregressor__max_depth': 4,\n",
       " 'xgbregressor__eta': 0.17421052631578948}"
      ]
     },
     "execution_count": 169,
     "metadata": {},
     "output_type": "execute_result"
    }
   ],
   "source": [
    "rd_xgb = xgb_rd.best_estimator_\n",
    "xgb_rd.best_params_"
   ]
  },
  {
   "cell_type": "code",
   "execution_count": 170,
   "metadata": {},
   "outputs": [
    {
     "data": {
      "text/plain": [
       "{'Model': 'rd_xgb',\n",
       " 'Fit_Time': 2.258129358291626,\n",
       " 'Score_time': 0.1150064468383789,\n",
       " 'MAE': 0.3852200414916226,\n",
       " 'RMSLE': 0.03594275721999567,\n",
       " 'R2': 0.6934105895508806}"
      ]
     },
     "execution_count": 170,
     "metadata": {},
     "output_type": "execute_result"
    }
   ],
   "source": [
    "modelize(rd_xgb, \"rd_xgb\", X, y)"
   ]
  },
  {
   "cell_type": "code",
   "execution_count": null,
   "metadata": {},
   "outputs": [],
   "source": []
  },
  {
   "cell_type": "code",
   "execution_count": null,
   "metadata": {},
   "outputs": [],
   "source": []
  },
  {
   "cell_type": "raw",
   "metadata": {},
   "source": [
    "eta\n",
    "max_Depth\n",
    "min_child_weight\n",
    "n_estimators"
   ]
  },
  {
   "cell_type": "code",
   "execution_count": 165,
   "metadata": {},
   "outputs": [
    {
     "name": "stdout",
     "output_type": "stream",
     "text": [
      "306.73154401779175\n"
     ]
    }
   ],
   "source": [
    "# 150 model\n",
    "start = time()\n",
    "xgb_rd.fit(X, y)\n",
    "print(time()-start)"
   ]
  },
  {
   "cell_type": "code",
   "execution_count": 166,
   "metadata": {},
   "outputs": [
    {
     "data": {
      "text/plain": [
       "{'xgbregressor__subsample': 0.96,\n",
       " 'xgbregressor__objective': 'reg:squaredlogerror',\n",
       " 'xgbregressor__n_estimators': 1000,\n",
       " 'xgbregressor__min_child_weight': 0,\n",
       " 'xgbregressor__max_depth': 2,\n",
       " 'xgbregressor__eta': 0.1536842105263158}"
      ]
     },
     "execution_count": 166,
     "metadata": {},
     "output_type": "execute_result"
    }
   ],
   "source": [
    "rd_xgb = xgb_rd.best_estimator_\n",
    "xgb_rd.best_params_"
   ]
  },
  {
   "cell_type": "code",
   "execution_count": 167,
   "metadata": {},
   "outputs": [
    {
     "data": {
      "text/plain": [
       "{'Model': 'rd_xgb',\n",
       " 'Fit_Time': 3.9792282581329346,\n",
       " 'Score_time': 0.12000632286071777,\n",
       " 'MAE': 0.38512171154494157,\n",
       " 'RMSLE': 0.03563583670388438,\n",
       " 'R2': 0.6969720200069192}"
      ]
     },
     "execution_count": 167,
     "metadata": {},
     "output_type": "execute_result"
    }
   ],
   "source": [
    "modelize(rd_xgb, \"rd_xgb\", X, y)"
   ]
  },
  {
   "cell_type": "code",
   "execution_count": null,
   "metadata": {},
   "outputs": [],
   "source": []
  },
  {
   "cell_type": "code",
   "execution_count": null,
   "metadata": {},
   "outputs": [],
   "source": []
  },
  {
   "cell_type": "markdown",
   "metadata": {},
   "source": [
    "# Learning Curve"
   ]
  },
  {
   "cell_type": "code",
   "execution_count": 176,
   "metadata": {},
   "outputs": [],
   "source": [
    "mod_lc = [best_ridge, svr2, rd_xgb]"
   ]
  },
  {
   "cell_type": "code",
   "execution_count": null,
   "metadata": {},
   "outputs": [],
   "source": [
    "fill_between(train_sizes, train_scores_mean - train_scores_std,\n",
    "                         train_scores_mean + train_scores_std, alpha=0.1,\n",
    "                         color=\"r\")"
   ]
  },
  {
   "cell_type": "code",
   "execution_count": 198,
   "metadata": {},
   "outputs": [],
   "source": [
    "lc_ridge = learning_curve(best_ridge, X, y ,train_sizes = np.linspace(0.05, 1, 20))"
   ]
  },
  {
   "cell_type": "code",
   "execution_count": 207,
   "metadata": {},
   "outputs": [
    {
     "data": {
      "image/png": "[encoded data removed]",
      "text/plain": [
       "<Figure size 432x288 with 1 Axes>"
      ]
     },
     "metadata": {
      "needs_background": "light"
     },
     "output_type": "display_data"
    }
   ],
   "source": [
    "train_scores = lc_ridge[1].mean(axis = 1)\n",
    "train_std = lc_ridge[1].std(axis = 1)\n",
    "test_scores = lc_ridge[2].mean(axis = 1)\n",
    "test_std = lc_ridge[2].std(axis = 1)\n",
    "\n",
    "\n",
    "plt.plot(lc_ridge[0], train_scores, color='blue', label=\"train score\")\n",
    "plt.fill_between(lc_ridge[0], \n",
    "                 train_scores - train_std,\n",
    "                 train_scores + train_std, alpha=0.08,\n",
    "                 color=\"blue\")\n",
    "\n",
    "plt.plot(lc_ridge[0], test_scores, color='red', label=\"test score\")\n",
    "plt.fill_between(lc_ridge[0], \n",
    "                 test_scores - test_std,\n",
    "                 test_scores + test_std, alpha=0.08,\n",
    "                 color=\"red\")\n",
    "plt.legend()\n",
    "plt.show()"
   ]
  },
  {
   "cell_type": "code",
   "execution_count": 200,
   "metadata": {},
   "outputs": [],
   "source": [
    "lc_svr = learning_curve(svr2, X, y ,train_sizes = np.linspace(0.05, 1, 20))"
   ]
  },
  {
   "cell_type": "code",
   "execution_count": 201,
   "metadata": {},
   "outputs": [
    {
     "data": {
      "image/png": "[encoded data removed]",
      "text/plain": [
       "<Figure size 432x288 with 1 Axes>"
      ]
     },
     "metadata": {
      "needs_background": "light"
     },
     "output_type": "display_data"
    }
   ],
   "source": [
    "train_scores = lc_svr[1].mean(axis = 1)\n",
    "test_scores = lc_svr[2].mean(axis = 1)\n",
    "\n",
    "plt.plot(lc_svr[0], train_scores, color='blue', label=\"train score\")\n",
    "plt.plot(lc_svr[0], test_scores, color='red', label=\"test score\")\n",
    "plt.legend()\n",
    "plt.show()"
   ]
  },
  {
   "cell_type": "code",
   "execution_count": 202,
   "metadata": {},
   "outputs": [],
   "source": [
    "lc_xgb = learning_curve(rd_xgb, X, y ,train_sizes = np.linspace(0.05, 1, 20))"
   ]
  },
  {
   "cell_type": "code",
   "execution_count": 203,
   "metadata": {},
   "outputs": [
    {
     "data": {
      "image/png": "[encoded data removed]",
      "text/plain": [
       "<Figure size 432x288 with 1 Axes>"
      ]
     },
     "metadata": {
      "needs_background": "light"
     },
     "output_type": "display_data"
    }
   ],
   "source": [
    "train_scores = lc_xgb[1].mean(axis = 1)\n",
    "test_scores = lc_xgb[2].mean(axis = 1)\n",
    "\n",
    "plt.plot(lc_xgb[0], train_scores, color='blue', label=\"train score\")\n",
    "plt.plot(lc_xgb[0], test_scores, color='red', label=\"test score\")\n",
    "plt.legend()\n",
    "plt.show()"
   ]
  },
  {
   "cell_type": "code",
   "execution_count": null,
   "metadata": {},
   "outputs": [],
   "source": []
  },
  {
   "cell_type": "code",
   "execution_count": null,
   "metadata": {},
   "outputs": [],
   "source": []
  },
  {
   "cell_type": "code",
   "execution_count": null,
   "metadata": {},
   "outputs": [],
   "source": []
  },
  {
   "cell_type": "code",
   "execution_count": null,
   "metadata": {},
   "outputs": [],
   "source": []
  },
  {
   "cell_type": "code",
   "execution_count": null,
   "metadata": {},
   "outputs": [],
   "source": []
  },
  {
   "cell_type": "code",
   "execution_count": null,
   "metadata": {},
   "outputs": [],
   "source": []
  }
 ],
 "metadata": {
  "kernelspec": {
   "display_name": "Python [conda env:OpClass]",
   "language": "python",
   "name": "conda-env-OpClass-py"
  },
  "language_info": {
   "codemirror_mode": {
    "name": "ipython",
    "version": 3
   },
   "file_extension": ".py",
   "mimetype": "text/x-python",
   "name": "python",
   "nbconvert_exporter": "python",
   "pygments_lexer": "ipython3",
   "version": "3.7.8"
  }
 },
 "nbformat": 4,
 "nbformat_minor": 4
}
