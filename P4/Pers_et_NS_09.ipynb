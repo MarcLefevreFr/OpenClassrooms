{
 "cells": [
  {
   "cell_type": "markdown",
   "metadata": {},
   "source": [
    "Formation OpenClassrooms DS-IML - **Marc Lefèvre**, <marc.lefevre@noos.fr>"
   ]
  },
  {
   "cell_type": "markdown",
   "metadata": {},
   "source": [
    " "
   ]
  },
  {
   "cell_type": "markdown",
   "metadata": {},
   "source": [
    " "
   ]
  },
  {
   "cell_type": "markdown",
   "metadata": {},
   "source": [
    "# Projet 4 : **OLIST Customers Clustering**"
   ]
  },
  {
   "cell_type": "markdown",
   "metadata": {},
   "source": [
    " "
   ]
  },
  {
   "cell_type": "markdown",
   "metadata": {},
   "source": [
    "# **Troisième Partie : Segmentation au delà des variables RFM...**"
   ]
  },
  {
   "cell_type": "markdown",
   "metadata": {},
   "source": [
    " "
   ]
  },
  {
   "cell_type": "markdown",
   "metadata": {},
   "source": [
    "## **1 - Introduction**"
   ]
  },
  {
   "cell_type": "markdown",
   "metadata": {},
   "source": [
    "### **a) - Démarche :**"
   ]
  },
  {
   "cell_type": "markdown",
   "metadata": {},
   "source": [
    "Après avoir précédemment effectué une **segmentation RFM** (un peu originale...), nous allons tenter dans cette troisième partie d'aller plus loin. Afin d'en apprendre plus sur notre clientèle, nous allons en effet à nouveau utiliser le **machine learning non-supervisé** mais avec d'autres, et plus, de variables.<br><br>Nous souhaitons vous montrer comment, avec certains outils, on peut ainsi détecter informations et tendances dans nos données, voir même esquisser le contour de **persona**, c'est à dire de **profils types** représentatifs de groupes d'individus, en l'occurence ici, de clients.<br><br>Le but étant naturellement,et encore, de récolter des éléments susceptibles d'être exploités du point de vue **marketing**."
   ]
  },
  {
   "cell_type": "markdown",
   "metadata": {},
   "source": [
    "### **b) - Déroulement :**"
   ]
  },
  {
   "cell_type": "markdown",
   "metadata": {},
   "source": [
    "Le principe est simple. Nous définissons un cadre de recherche, c'est à dire un groupe de variables, nous lançons un **algorithme de clustering** que nous jugeons adapté à nos données, puis nous analysons les résultats en en gardant les éléments intéressants."
   ]
  },
  {
   "cell_type": "markdown",
   "metadata": {},
   "source": [
    "Au sujet des outils à disposition, en plus de **K-Means** que nous avons déjà vu, nous avons aussi utilisé :<br><br>- **K-Modes** : Il s'agit d'un algorithme calqué sur **K-Means**, sauf qu'il fonctionne avec des variables catégorielles. L'idée est que plutôt que de travailler avec des **distances** et des **moyennes**, **K-Modes** mesure des similarités et différences entre individus selon qu'ils partagent ou pas les mêmes catégories.<br><br>- **K-Prototypes** : Il s'agit d'un condensé de **K-Means** et **K-Modes** capable de tourner sur des données marriant variables numériques et catégorielles.<br><br>- **DBSCAN** : Cet algorithme est tout à fait différent des précédents et son acronyme dérive de la définition suivante : **D**ensity **B**ased **S**patial **C**lustering of **A**pplications with **N**oise. **DBSCAN** procède à des segmentations en se basant sur des densités de points plutôt que sur des distances, ce qui lui permet des détecters des clusters concaves.<br><br><img src = \"Data/km_dbscan.png\"><br><br>Son utilisation est également très différentes. Avec lui on ne définit pas à l'avance un nombre de clusters à obtenir, mais on fixe (entre autre...) deux hyper-paramètres importants, l'un définissant une distance et l'autre un groupe minimum de point pouvant former un cluster. De là, l'algorithme itère parmis tout les individus en regroupant entre eux ceux se trouvant \"à portée\" de la distance définie."
   ]
  },
  {
   "cell_type": "markdown",
   "metadata": {},
   "source": [
    "Nous avons donc utilisé tous ces algorithmes au cours de la réalisation de cette étude. Néanmoins, il est de bonne pratique de privilégier autant que possible **K-Means** et **K-modes** qui sont beaucoup moins gourmands en ressources totales. De plus, les résultats que nous présentons ici ont été obtenus exclusivement avec eux."
   ]
  },
  {
   "cell_type": "markdown",
   "metadata": {},
   "source": [
    "### **c) - Précision :**"
   ]
  },
  {
   "cell_type": "markdown",
   "metadata": {},
   "source": [
    "La segmentation est un exercice de persévérance. C'est à dire que si les algorithmes donneront toujours des résultats, la valeurs de ceux-ci, au regard de l'interprétation et des actions qu'on peut en tirer, peut s'avérer très variable.<br><br>Dès lors, ici, nous privilégions l'explication de la démarche par des exemples simples plutôt que les résultats en eux-même. Nous reviendrons là-dessus dans notre conclusion."
   ]
  },
  {
   "cell_type": "markdown",
   "metadata": {},
   "source": [
    " "
   ]
  },
  {
   "cell_type": "markdown",
   "metadata": {},
   "source": [
    "## **2 - Étapes préliminaires**"
   ]
  },
  {
   "cell_type": "markdown",
   "metadata": {},
   "source": [
    "### **a) - Importation des bibliothèques python utiles**"
   ]
  },
  {
   "cell_type": "code",
   "execution_count": 1,
   "metadata": {},
   "outputs": [],
   "source": [
    "import pandas as pd\n",
    "import numpy as np\n",
    "import matplotlib.pyplot as plt\n",
    "import seaborn as sns\n",
    "import sklearn\n",
    "import pickle\n",
    "import warnings\n",
    "\n",
    "from time import time\n",
    "from tqdm.notebook import trange, tqdm\n",
    "\n",
    "from sklearn.preprocessing import StandardScaler\n",
    "from sklearn.cluster import KMeans, DBSCAN\n",
    "from sklearn.manifold import TSNE\n",
    "from sklearn.metrics import silhouette_score\n",
    "\n",
    "from kmodes.kmodes import KModes\n",
    "from kmodes.kprototypes import KPrototypes\n",
    "\n",
    "pd.options.display.max_columns = 60\n",
    "\n",
    "warnings.filterwarnings('ignore')\n",
    "warnings.simplefilter('ignore')\n",
    "\n",
    "sns.set()"
   ]
  },
  {
   "cell_type": "markdown",
   "metadata": {},
   "source": [
    " "
   ]
  },
  {
   "cell_type": "markdown",
   "metadata": {},
   "source": [
    "### **b) - Définitions de Fonctions utiles**"
   ]
  },
  {
   "cell_type": "markdown",
   "metadata": {},
   "source": [
    "**Note :** Même si on ne les voit pas toutes utilisées dans ce compte-rendu, elles l'ont été dans sa préparation."
   ]
  },
  {
   "cell_type": "markdown",
   "metadata": {},
   "source": [
    "Boucles **K-Means**, **K-Modes** et **K-Prototypes**."
   ]
  },
  {
   "cell_type": "code",
   "execution_count": 47,
   "metadata": {
    "jupyter": {
     "source_hidden": true
    }
   },
   "outputs": [],
   "source": [
    "def kmeans(df, liste_k):\n",
    "    \"\"\"\n",
    "    Fonction renvoyant les inerties et les silhouettes-score de segmentations K-Means en fonction d'une\n",
    "    liste de valeurs K. Renvoie les liste d'inerties, des scores, et le temps mis sur la boucle.\n",
    "    \"\"\"\n",
    "    \n",
    "    cost = []\n",
    "    score = []\n",
    "    start = time()\n",
    "    \n",
    "    for n in tqdm(liste_k):\n",
    "        km = KMeans(n_clusters=n, verbose=0, random_state = 47)\n",
    "        km.fit(df)\n",
    "        pred = km.predict(df)\n",
    "        silhouette_avg = silhouette_score(df, pred)\n",
    "        cost.append(km.inertia_)\n",
    "        score.append(silhouette_avg)\n",
    "    \n",
    "    temps = time() - start\n",
    "    \n",
    "    print(f\"Temps de segmentation : {temps}\")\n",
    "    \n",
    "    return cost, score, temps\n",
    "\n",
    "\n",
    "\n",
    "def kmodes(df, liste_k, init = \"cao\"):\n",
    "    \"\"\"\n",
    "    Fonction renvoyant les coûts et les silhouette-score de segmentations K-Modes en fonction d'une\n",
    "    liste de valeurs K. Renvoie les liste des coûts, des scores, et le temps mis sur la boucle.\n",
    "    \"\"\"\n",
    "    \n",
    "    cost = []\n",
    "    score = []\n",
    "    start = time()\n",
    "    \n",
    "    for n in tqdm(liste_k):\n",
    "        km = KModes(n_clusters=n, init = \"Cao\", verbose=0, random_state = 47)\n",
    "        km.fit(df)\n",
    "        pred = km.predict(df)\n",
    "        silhouette_avg = silhouette_score(df, pred)\n",
    "        cost.append(km.cost_)\n",
    "        score.append(silhouette_avg)\n",
    "    \n",
    "    temps = time() - start\n",
    "    \n",
    "    print(f\"Temps de segmentation : {temps}\")\n",
    "    \n",
    "    return cost, score, temps\n",
    "\n",
    "\n",
    "\n",
    "def kmodes_u(df, k):\n",
    "    \"\"\"\n",
    "    Renvoie une segmentation K-Modes unique d'un dataframe df en fonction d'un nombre de cluster k donné \n",
    "    \"\"\"\n",
    "    \n",
    "    start = time()\n",
    "\n",
    "    km = KModes(n_clusters = k, init = \"Cao\", verbose=0, random_state = 47)\n",
    "    pred = km.fit_predict(df)\n",
    "\n",
    "    temps = time() - start\n",
    "\n",
    "    print(f\"Temps de segmentation : {temps}\")\n",
    "    \n",
    "    return pred, km.cluster_centroids_\n",
    "\n",
    "\n",
    "def kmeans_u(df, k):\n",
    "    \"\"\"\n",
    "    Renvoie une segmentation K-Means unique d'un dataframe df en fonction d'un nombre de cluster k donné \n",
    "    \"\"\"\n",
    "    \n",
    "    start = time()\n",
    "\n",
    "    km = KMeans(n_clusters = k, random_state = 47)\n",
    "    pred = km.fit_predict(df)\n",
    "\n",
    "    temps = time() - start\n",
    "\n",
    "    print(f\"Temps de segmentation : {temps}\")\n",
    "    \n",
    "    return pred, km.cluster_centers_\n",
    "\n",
    "\n",
    "def kproto(df, liste_k, liste_cate, init = \"cao\"):\n",
    "    \"\"\"\n",
    "    Boucle sur k de segmentations K-Prototypes.\n",
    "    Retourne les listes de costs et de silhouette-scores\n",
    "    liste_cate doit être une liste d'index des variables catégorielles.\n",
    "    \"\"\"\n",
    "    \n",
    "    cost = []\n",
    "    score = []\n",
    "    \n",
    "    start = time()\n",
    "    \n",
    "    for n in tqdm(liste_k):\n",
    "        kp = KPrototypes(n_clusters = n, init = \"Cao\", verbose=0, random_state = 47)\n",
    "        pred = kp.fit_predict(df, categorical = liste_cate)\n",
    "        silhouette_avg = silhouette_score(df, pred)\n",
    "        cost.append(kp.cost_)\n",
    "        score.append(silhouette_avg)\n",
    "        \n",
    "    temps = time() - start\n",
    "    \n",
    "    print(f\"Temps de segmentation : {temps}\")\n",
    "        \n",
    "    return cost, score, temps\n",
    "\n",
    "\n",
    "\n",
    "def k_plot(cost, score, n=2) :\n",
    "    \"\"\"\n",
    "    Trace les courbes de coûts/inerties et silhouette-score en fonction de K\n",
    "    \"\"\"\n",
    "    \n",
    "    y = np.array([i for i in range(n, n + len(cost))])\n",
    "    \n",
    "    fig = plt.figure(figsize = (12, 5))\n",
    "    \n",
    "    plt.subplot(1,2,1)\n",
    "    plt.plot(y, cost)\n",
    "    \n",
    "    plt.title(\"Cost en fonction de K\")\n",
    "    \n",
    "    plt.subplot(1,2,2)\n",
    "    plt.plot(y, score)\n",
    "    \n",
    "    plt.title(\"Silhouette Score en fonction de K\")\n",
    "    \n",
    "    plt.show()"
   ]
  },
  {
   "cell_type": "markdown",
   "metadata": {},
   "source": [
    "Boucles **DBSCAN**"
   ]
  },
  {
   "cell_type": "code",
   "execution_count": 4,
   "metadata": {
    "jupyter": {
     "source_hidden": true
    }
   },
   "outputs": [],
   "source": [
    "def grid_dbs(df, l_metrics, l_ms, l_eps, str_name, nb_limit = 5) :\n",
    "    \"\"\"\n",
    "    A partir d'un dataset, de listes de métriques, de valeurs \"min_samples\" et \"eps\", renvoie dans\n",
    "    un dataframe les caractéristiques de segmentations DBSCAN.\n",
    "    Sauvegarde les résultats en utilisant le paramètre str \"str_name\"\n",
    "    Ne renvoie que les résultats ayant un nb de cluster inférieur/égale à \"nb_limit\"   \n",
    "    \"\"\"\n",
    "    \n",
    "    dic_db = {\"nb_cl\" : [],\n",
    "              \"metric\" : [],\n",
    "              \"eps\" : [],\n",
    "              \"min_s\" : [], \n",
    "              \"pop_cl\" : [],\n",
    "              \"silhouette\" : [],\n",
    "              \"temps\" : []\n",
    "             }\n",
    "\n",
    "    for metr in tqdm(l_metrics) :\n",
    "\n",
    "        for ms in tqdm(l_ms):\n",
    "\n",
    "            for n in tqdm(l_eps) :\n",
    "                \n",
    "                start = time()\n",
    "                db = DBSCAN(eps=n, min_samples=ms, metric = metr, algorithm = 'auto').fit(df)\n",
    "                temps = time() - start\n",
    "                res = pd.DataFrame()\n",
    "                res[\"db_1\"] = db.labels_\n",
    "                nb_cl = res[\"db_1\"].unique().shape[0]\n",
    "                #silhouette = silhouette_score(df, res[\"db_1\"])\n",
    "\n",
    "                if nb_cl == 1 :\n",
    "\n",
    "                    break\n",
    "                \n",
    "                #silhouette = silhouette_score(df, res[\"db_1\"])\n",
    "\n",
    "                if nb_cl <= nb_limit :\n",
    "                    \n",
    "                    silhouette = silhouette_score(df, res[\"db_1\"])\n",
    "\n",
    "                    dic_db[\"nb_cl\"].append(nb_cl)\n",
    "                    dic_db[\"metric\"].append(metr)\n",
    "                    dic_db[\"eps\"].append(n)\n",
    "                    dic_db[\"min_s\"].append(ms)\n",
    "                    dic_db[\"pop_cl\"].append(res[\"db_1\"].value_counts().values)\n",
    "                    dic_db[\"silhouette\"].append(silhouette)\n",
    "                    dic_db[\"temps\"].append(temps)\n",
    "\n",
    "    df_res = pd.DataFrame(dic_db)\n",
    "    pickle_out = open(\"Data/df_res_\" + str_name + \".pickle\", \"wb\")\n",
    "    pickle.dump(df_res, pickle_out)\n",
    "    pickle_out.close()\n",
    "\n",
    "    return df_res"
   ]
  },
  {
   "cell_type": "markdown",
   "metadata": {},
   "source": [
    "Fonctions d'**affichage** de graphiques."
   ]
  },
  {
   "cell_type": "code",
   "execution_count": 46,
   "metadata": {
    "jupyter": {
     "source_hidden": true
    }
   },
   "outputs": [],
   "source": [
    "def graph_num_data(df, col, hue, n_bins, height, aspect, log = False):\n",
    "    \"\"\"\n",
    "    Distribution Plot de variables quantitatives/numériques en fonctions de clusters.\n",
    "    - \"df\" est le dataframe de données concernées.\n",
    "    - \"col\" la variable numérique à représenter.\n",
    "    - \"hue\" la variable contenant les labels des clusters.\n",
    "    - \"n_bins\" le nombre de segments de la variable numérique.\n",
    "    - Viennent ensuite des paramètres de hauteur, d'aspect.\n",
    "    - Le dernier paramètre indique si l'échelle des ordonnées doit être logarithmique\n",
    "    \"\"\"\n",
    "    \n",
    "    sns.displot(df, \n",
    "                x = col, \n",
    "                hue = hue, \n",
    "                bins = n_bins, \n",
    "                multiple=\"dodge\", \n",
    "                height = height, \n",
    "                aspect = aspect, \n",
    "                palette = \"tab10\")\n",
    "    \n",
    "    if log :\n",
    "        plt.yscale('log')\n",
    "        \n",
    "    plt.show()\n",
    "    \n",
    "    \n",
    "    \n",
    "    \n",
    "    \n",
    "def graph_cat_data(df, col, height, aspect, rot = 0) :\n",
    "    \"\"\"\n",
    "    Trace le \"Categorical Plot\" normalisé d'une variable catégorielle en fonction de clusters.\n",
    "    - \"df\" est le dataframe de données concernées.\n",
    "    - \"col\" la variable à représenter.\n",
    "    - Viennent ensuite des paramètres de hauteur, de largeur et d'inclinaison des légendes d'abcisse.\n",
    "    \"\"\"\n",
    "    \n",
    "    dat = df.copy()\n",
    "    \n",
    "    for n in dat[col].value_counts().values:\n",
    "        \n",
    "        if n == 0 :\n",
    "            \n",
    "            dat[col] = dat[col].cat.remove_unused_categories() \n",
    "    \n",
    "    data = dat.groupby(col)[\"cluster\"].value_counts().rename(\"pourcentage\").reset_index()\n",
    "\n",
    "    liste_cluster = dat[\"cluster\"].value_counts().index.to_list()\n",
    "    pop_cluster = dat[\"cluster\"].value_counts().values\n",
    "\n",
    "    def map_pop(x):\n",
    "\n",
    "        return pop_cluster[liste_cluster.index(x)]\n",
    "\n",
    "    data[\"cluster_pop\"] = data[\"cluster\"].apply(map_pop)\n",
    "\n",
    "    data[\"pourcentage\"] = (data[\"pourcentage\"] / data[\"cluster_pop\"]) * 100\n",
    "    \n",
    "    data = data.drop(\"cluster_pop\", axis = 1)\n",
    "    \n",
    "    graph = sns.catplot(x = col, \n",
    "                    y = 'pourcentage', \n",
    "                    hue = \"cluster\", \n",
    "                    kind = 'bar', \n",
    "                    data = data, \n",
    "                    height = height, \n",
    "                    aspect = aspect)\n",
    "\n",
    "    graph.set_xticklabels(rotation=rot)\n",
    "\n",
    "    plt.title(f\"Populations de {col}\")\n",
    "\n",
    "    plt.show()    \n",
    "\n",
    "    \n",
    "    \n",
    "def graph_oh_data(dataf, cols, titre, length, width, rot = 0) :\n",
    "    \"\"\"\n",
    "    Trace le \"Bar Plot\" d'une variable catégorielle disséminée en \"dummy variables\" suite, pat exemple, à un\n",
    "    encodage \"One Hot\".\n",
    "    - \"df\" est le dataframe de données concernées.\n",
    "    - \"cols\" la liste de colonnes représentant les \"dummy variables\" concernées.\n",
    "    - \"titre\" est le titre du graph sous forme str.\n",
    "    - Viennent ensuite des paramètres de hauteur, de largeur et d'inclinaison des légendes d'abcisse.\n",
    "    \"\"\"\n",
    "    \n",
    "    df = dataf[cols]\n",
    "    df[\"cluster\"] = dataf[\"cluster\"]\n",
    "    df = df.groupby(\"cluster\").sum().reset_index()\n",
    "    data = df.drop(\"cluster\", axis = 1).T\n",
    "    data = (data/data.sum())*100\n",
    "    \n",
    "    data.plot.bar(rot=rot, figsize = (length, width ))\n",
    "    plt.title(titre)\n",
    "    plt.show  "
   ]
  },
  {
   "cell_type": "markdown",
   "metadata": {},
   "source": [
    "Fonction autour des réductions **T-SNE** et de leurs représentations."
   ]
  },
  {
   "cell_type": "code",
   "execution_count": 6,
   "metadata": {
    "jupyter": {
     "source_hidden": true
    }
   },
   "outputs": [],
   "source": [
    "def calc_tsne(df, perp, name) :\n",
    "    \"\"\"\n",
    "    \n",
    "    \"\"\"\n",
    "    \n",
    "    start = time()\n",
    "\n",
    "    tsne = TSNE(n_components=2, init='pca', perplexity = perp, random_state = 47)\n",
    "    red_tsne = tsne.fit_transform(df)\n",
    "    df_tsne = pd.DataFrame(red_tsne, columns = [\"tsne_1\", \"tsne_2\"])\n",
    "    \n",
    "    temps = time()-start\n",
    "    \n",
    "    name = \"Data/tsne_\" + name + \".pickle\"\n",
    "    \n",
    "    pickle_out = open(name, \"wb\")\n",
    "    pickle.dump(df_tsne, pickle_out)\n",
    "    pickle_out.close()\n",
    "    \n",
    "    print(f\"Nous avons mis {temps} secondes à calculer la réduction.\")\n",
    "\n",
    "    return df_tsne\n",
    "\n",
    "\n",
    "def graph_tsne(df, pred, nb_cl):\n",
    "    \"\"\"\n",
    "    \n",
    "    \"\"\"\n",
    "    \n",
    "    #sns.color_palette(\"tab10\")\n",
    "    plt.figure(figsize = (13,13))\n",
    "    sns.scatterplot(x = \"tsne_1\", \n",
    "                    y = \"tsne_2\",\n",
    "                    hue = pred,\n",
    "                    palette = sns.color_palette(\"hls\", nb_cl),\n",
    "                    data = df,\n",
    "                    legend = \"full\",\n",
    "                    alpha = 0.5\n",
    "                   )\n",
    "    plt.show()\n",
    "    \n",
    "    \n",
    "def graph_just_tsne(df):\n",
    "    \"\"\"\n",
    "    \n",
    "    \"\"\"\n",
    "    \n",
    "    plt.figure(figsize = (7,7))\n",
    "    sns.scatterplot(x = \"tsne_1\", \n",
    "                    y = \"tsne_2\",\n",
    "                    data = df,\n",
    "                    #legend = \"full\",\n",
    "                    alpha = 0.5\n",
    "                   )\n",
    "    plt.show()"
   ]
  },
  {
   "cell_type": "markdown",
   "metadata": {},
   "source": [
    " "
   ]
  },
  {
   "cell_type": "markdown",
   "metadata": {},
   "source": [
    "### **c) - Mise en forme des données**"
   ]
  },
  {
   "cell_type": "markdown",
   "metadata": {},
   "source": [
    "Nous allons à nouveau transformer notre dataset, dont les individus sont encore des **produits commandés**, en **bases clients**. En amont de cette opération nous allons également procéder à un encodage **one hot** des variables catégorielles."
   ]
  },
  {
   "cell_type": "markdown",
   "metadata": {},
   "source": [
    "### **Dataset client avec encodage One Hot**"
   ]
  },
  {
   "cell_type": "code",
   "execution_count": null,
   "metadata": {},
   "outputs": [],
   "source": [
    "# Récupération des données\n",
    "df = pickle.load(open(\"Data/full_data_cs.pickle\", \"rb\"))\n",
    "\n",
    "# Encodage One Hot\n",
    "df_enc = pd.get_dummies(df, columns = df.columns[6:], \n",
    "                        prefix = [\"MC\", \"\", \"rev\", \"\", \"\", \"month\", \"quarter\", \"day\", \"day_q\", \"\"], \n",
    "                        prefix_sep = [\"_\", \"\", \"_\", \"\", \"\", \"_\", \"_\", \"_\", \"_\", \"\"])\n",
    "\n",
    "# Création de \"prod_count\"\n",
    "df_enc[\"prod_count\"] = 1\n",
    "\n",
    "# Dictionnaire du premier regroupement\n",
    "keys = df_enc.columns[1:].tolist()\n",
    "values = [\"first\"] * (len(df_enc.columns) -2) + [\"sum\"]\n",
    "\n",
    "dico_com = {k : v for k, v in zip(keys, values)}\n",
    "\n",
    "# Regroupement\n",
    "df_com = df_enc.groupby(\"order_id\").agg(dico_com).reset_index()\n",
    "df_com = df_com.drop(\"order_id\", axis = 1)\n",
    "\n",
    "# Dictionnaire du second regroupement\n",
    "keys = df_com.columns[1:].tolist()\n",
    "values = ([\"first\"] * 3) + [\"sum\"] + [\"first\"] * (len(df_com.columns) - 6) + [\"sum\"]\n",
    "\n",
    "dico_cust = {k : v for k, v in zip(keys, values)}\n",
    "\n",
    "# Second regroupement\n",
    "df_cust = df_com.groupby(\"customer_unique_id\").agg(dico_cust).reset_index()\n",
    "df_cust = df_cust.drop(\"customer_unique_id\", axis = 1)\n",
    "\n",
    "# Sauvegarde\n",
    "pickle_out = open(\"Data/df_clust_ohb.pickle\", \"wb\")\n",
    "pickle.dump(df_cust, pickle_out)\n",
    "pickle_out.close()"
   ]
  },
  {
   "cell_type": "markdown",
   "metadata": {},
   "source": [
    " "
   ]
  },
  {
   "cell_type": "markdown",
   "metadata": {},
   "source": [
    "Liste de \"dummy variables\" représentant nos variables initiales, avant encodage **One Hot**."
   ]
  },
  {
   "cell_type": "code",
   "execution_count": 4,
   "metadata": {},
   "outputs": [],
   "source": [
    "df = pickle.load(open(\"Data/df_clust_ohb.pickle\", \"rb\"))\n",
    "\n",
    "# Définition des \"portions\" du dataset représentant chacune des variables avant encodage\n",
    "divers = df.columns[:4].tolist() + [df.columns[-1]]\n",
    "M_class = df.columns[4:7].tolist()\n",
    "class_RF = df.columns[7:12].tolist()\n",
    "review = df.columns[12:17].tolist()\n",
    "etats = df.columns[17:23].tolist()\n",
    "payment = df.columns[23:27].tolist()\n",
    "month = df.columns[27:39].tolist()\n",
    "quarter = df.columns[39:43].tolist()\n",
    "day = df.columns[43:50].tolist()\n",
    "day_q = df.columns[50:54].tolist()\n",
    "prod_cat = df.columns[54:-1].tolist()\n",
    "prod_count = [df.columns[-1]]"
   ]
  },
  {
   "cell_type": "markdown",
   "metadata": {},
   "source": [
    " "
   ]
  },
  {
   "cell_type": "markdown",
   "metadata": {},
   "source": [
    "## **2 - Exemple de segmentation globale**"
   ]
  },
  {
   "cell_type": "markdown",
   "metadata": {},
   "source": [
    "### ***K-Modes sur : M_class + etats + payment + month + prod_cat***"
   ]
  },
  {
   "cell_type": "markdown",
   "metadata": {},
   "source": [
    " "
   ]
  },
  {
   "cell_type": "markdown",
   "metadata": {},
   "source": [
    "Nous allons faire une segmentation globale, c'est à dire sur tous les clients. Durant celle-ci, nous allons tenir compte d'une façon \"large\" des montants dépensés avec **M_class**, de son état de résidence, de sa méthode de paiement, de sa période d'achat de l'année, et de la catégorie de produit acheté.<br>Comme nous n'avons ici que des variables catégorielles, nous allons utiliser **K-Modes**."
   ]
  },
  {
   "cell_type": "code",
   "execution_count": 14,
   "metadata": {},
   "outputs": [],
   "source": [
    "# Chargement données\n",
    "df = pickle.load(open(\"Data/df_clust_ohb.pickle\", \"rb\"))\n",
    "# Choix des variables\n",
    "df = df[M_class + etats + payment + month + prod_cat]"
   ]
  },
  {
   "cell_type": "markdown",
   "metadata": {},
   "source": [
    "Boucle de segmentation"
   ]
  },
  {
   "cell_type": "code",
   "execution_count": 15,
   "metadata": {},
   "outputs": [
    {
     "data": {
      "application/vnd.jupyter.widget-view+json": {
       "model_id": "5ef1b645403447589526b69e79659741",
       "version_major": 2,
       "version_minor": 0
      },
      "text/plain": [
       "HBox(children=(HTML(value=''), FloatProgress(value=0.0, max=13.0), HTML(value='')))"
      ]
     },
     "metadata": {},
     "output_type": "display_data"
    },
    {
     "name": "stdout",
     "output_type": "stream",
     "text": [
      "\n",
      "La boucle a mis 2656.171761035919 sec.\n"
     ]
    }
   ],
   "source": [
    "c, s, t = kmodes(df, list(range(2, 15)))\n",
    "print(f\"La boucle a mis {t} sec.\")"
   ]
  },
  {
   "cell_type": "code",
   "execution_count": 16,
   "metadata": {},
   "outputs": [
    {
     "data": {
      "image/png": "[encoded data removed]",
      "text/plain": [
       "<Figure size 864x360 with 2 Axes>"
      ]
     },
     "metadata": {},
     "output_type": "display_data"
    }
   ],
   "source": [
    "k_plot(c, s)"
   ]
  },
  {
   "cell_type": "markdown",
   "metadata": {},
   "source": [
    "Le choix de **k** par la **méthode du coude** indique que **k = 6** pourrait être un choix valable même si les **silhouette-scores** obtenus sont loins d'être brillants. Comme notre but est avant tout d'expliquer une démarche, nous allons regarder plus en détails la segmentation obtenu pour ce **k = 6**. "
   ]
  },
  {
   "cell_type": "markdown",
   "metadata": {},
   "source": [
    "Détermination des clusters pour **k = 6**."
   ]
  },
  {
   "cell_type": "code",
   "execution_count": 17,
   "metadata": {},
   "outputs": [
    {
     "name": "stdout",
     "output_type": "stream",
     "text": [
      "Temps de segmentation : 88.29212379455566\n"
     ]
    }
   ],
   "source": [
    "df[\"cluster\"], centres = kmodes_u(df, 6)"
   ]
  },
  {
   "cell_type": "markdown",
   "metadata": {},
   "source": [
    "Population des clusters :"
   ]
  },
  {
   "cell_type": "code",
   "execution_count": 18,
   "metadata": {},
   "outputs": [
    {
     "data": {
      "text/plain": [
       "0    27079\n",
       "4    25475\n",
       "2    19385\n",
       "1     8595\n",
       "5     7905\n",
       "3     5648\n",
       "Name: cluster, dtype: int64"
      ]
     },
     "execution_count": 18,
     "metadata": {},
     "output_type": "execute_result"
    }
   ],
   "source": [
    "df[\"cluster\"].value_counts()"
   ]
  },
  {
   "cell_type": "markdown",
   "metadata": {},
   "source": [
    "Les populations des clusters sont inégales mais significatives."
   ]
  },
  {
   "cell_type": "markdown",
   "metadata": {},
   "source": [
    "Observons les **centroïdes** des clusters."
   ]
  },
  {
   "cell_type": "code",
   "execution_count": 20,
   "metadata": {},
   "outputs": [
    {
     "data": {
      "text/html": [
       "<div>\n",
       "<style scoped>\n",
       "    .dataframe tbody tr th:only-of-type {\n",
       "        vertical-align: middle;\n",
       "    }\n",
       "\n",
       "    .dataframe tbody tr th {\n",
       "        vertical-align: top;\n",
       "    }\n",
       "\n",
       "    .dataframe thead th {\n",
       "        text-align: right;\n",
       "    }\n",
       "</style>\n",
       "<table border=\"1\" class=\"dataframe\">\n",
       "  <thead>\n",
       "    <tr style=\"text-align: right;\">\n",
       "      <th></th>\n",
       "      <th>MC_1</th>\n",
       "      <th>MC_2</th>\n",
       "      <th>MC_3</th>\n",
       "      <th>Autre</th>\n",
       "      <th>MG</th>\n",
       "      <th>PR</th>\n",
       "      <th>RJ</th>\n",
       "      <th>RS</th>\n",
       "      <th>SP</th>\n",
       "      <th>boleto</th>\n",
       "      <th>credit_card</th>\n",
       "      <th>debit_card</th>\n",
       "      <th>voucher</th>\n",
       "      <th>month_1</th>\n",
       "      <th>month_2</th>\n",
       "      <th>month_3</th>\n",
       "      <th>month_4</th>\n",
       "      <th>month_5</th>\n",
       "      <th>month_6</th>\n",
       "      <th>month_7</th>\n",
       "      <th>month_8</th>\n",
       "      <th>month_9</th>\n",
       "      <th>month_10</th>\n",
       "      <th>month_11</th>\n",
       "      <th>month_12</th>\n",
       "      <th>auto</th>\n",
       "      <th>baby</th>\n",
       "      <th>computer_electronics_multimedia</th>\n",
       "      <th>cool_stuff</th>\n",
       "      <th>food_drink</th>\n",
       "      <th>furniture_decor</th>\n",
       "      <th>garden_construction_tools</th>\n",
       "      <th>health_beauty_hygyene</th>\n",
       "      <th>house</th>\n",
       "      <th>housewares_home_appliances</th>\n",
       "      <th>luggage_bags_accessories_fashion</th>\n",
       "      <th>office_furniture_stationery</th>\n",
       "      <th>perfumery</th>\n",
       "      <th>pet_shop</th>\n",
       "      <th>sports_leisure_art</th>\n",
       "      <th>telephony</th>\n",
       "      <th>toys</th>\n",
       "      <th>watches_gifts</th>\n",
       "    </tr>\n",
       "  </thead>\n",
       "  <tbody>\n",
       "    <tr>\n",
       "      <th>0</th>\n",
       "      <td>0</td>\n",
       "      <td>0</td>\n",
       "      <td>1</td>\n",
       "      <td>0</td>\n",
       "      <td>0</td>\n",
       "      <td>0</td>\n",
       "      <td>0</td>\n",
       "      <td>0</td>\n",
       "      <td>0</td>\n",
       "      <td>0</td>\n",
       "      <td>1</td>\n",
       "      <td>0</td>\n",
       "      <td>0</td>\n",
       "      <td>0</td>\n",
       "      <td>0</td>\n",
       "      <td>0</td>\n",
       "      <td>0</td>\n",
       "      <td>0</td>\n",
       "      <td>0</td>\n",
       "      <td>0</td>\n",
       "      <td>0</td>\n",
       "      <td>0</td>\n",
       "      <td>0</td>\n",
       "      <td>0</td>\n",
       "      <td>0</td>\n",
       "      <td>0</td>\n",
       "      <td>0</td>\n",
       "      <td>0</td>\n",
       "      <td>0</td>\n",
       "      <td>0</td>\n",
       "      <td>0</td>\n",
       "      <td>0</td>\n",
       "      <td>0</td>\n",
       "      <td>0</td>\n",
       "      <td>0</td>\n",
       "      <td>0</td>\n",
       "      <td>0</td>\n",
       "      <td>0</td>\n",
       "      <td>0</td>\n",
       "      <td>0</td>\n",
       "      <td>0</td>\n",
       "      <td>0</td>\n",
       "      <td>0</td>\n",
       "    </tr>\n",
       "    <tr>\n",
       "      <th>1</th>\n",
       "      <td>1</td>\n",
       "      <td>0</td>\n",
       "      <td>0</td>\n",
       "      <td>1</td>\n",
       "      <td>0</td>\n",
       "      <td>0</td>\n",
       "      <td>0</td>\n",
       "      <td>0</td>\n",
       "      <td>0</td>\n",
       "      <td>1</td>\n",
       "      <td>0</td>\n",
       "      <td>0</td>\n",
       "      <td>0</td>\n",
       "      <td>0</td>\n",
       "      <td>0</td>\n",
       "      <td>0</td>\n",
       "      <td>0</td>\n",
       "      <td>0</td>\n",
       "      <td>0</td>\n",
       "      <td>0</td>\n",
       "      <td>0</td>\n",
       "      <td>0</td>\n",
       "      <td>0</td>\n",
       "      <td>0</td>\n",
       "      <td>0</td>\n",
       "      <td>0</td>\n",
       "      <td>0</td>\n",
       "      <td>0</td>\n",
       "      <td>0</td>\n",
       "      <td>0</td>\n",
       "      <td>0</td>\n",
       "      <td>0</td>\n",
       "      <td>0</td>\n",
       "      <td>0</td>\n",
       "      <td>0</td>\n",
       "      <td>0</td>\n",
       "      <td>0</td>\n",
       "      <td>0</td>\n",
       "      <td>0</td>\n",
       "      <td>0</td>\n",
       "      <td>0</td>\n",
       "      <td>0</td>\n",
       "      <td>0</td>\n",
       "    </tr>\n",
       "    <tr>\n",
       "      <th>2</th>\n",
       "      <td>0</td>\n",
       "      <td>1</td>\n",
       "      <td>0</td>\n",
       "      <td>0</td>\n",
       "      <td>0</td>\n",
       "      <td>0</td>\n",
       "      <td>0</td>\n",
       "      <td>0</td>\n",
       "      <td>1</td>\n",
       "      <td>0</td>\n",
       "      <td>1</td>\n",
       "      <td>0</td>\n",
       "      <td>0</td>\n",
       "      <td>0</td>\n",
       "      <td>0</td>\n",
       "      <td>0</td>\n",
       "      <td>0</td>\n",
       "      <td>0</td>\n",
       "      <td>0</td>\n",
       "      <td>0</td>\n",
       "      <td>0</td>\n",
       "      <td>0</td>\n",
       "      <td>0</td>\n",
       "      <td>0</td>\n",
       "      <td>0</td>\n",
       "      <td>0</td>\n",
       "      <td>0</td>\n",
       "      <td>0</td>\n",
       "      <td>0</td>\n",
       "      <td>0</td>\n",
       "      <td>0</td>\n",
       "      <td>0</td>\n",
       "      <td>0</td>\n",
       "      <td>0</td>\n",
       "      <td>0</td>\n",
       "      <td>0</td>\n",
       "      <td>0</td>\n",
       "      <td>0</td>\n",
       "      <td>0</td>\n",
       "      <td>0</td>\n",
       "      <td>0</td>\n",
       "      <td>0</td>\n",
       "      <td>0</td>\n",
       "    </tr>\n",
       "    <tr>\n",
       "      <th>3</th>\n",
       "      <td>0</td>\n",
       "      <td>1</td>\n",
       "      <td>0</td>\n",
       "      <td>1</td>\n",
       "      <td>0</td>\n",
       "      <td>0</td>\n",
       "      <td>0</td>\n",
       "      <td>0</td>\n",
       "      <td>0</td>\n",
       "      <td>0</td>\n",
       "      <td>1</td>\n",
       "      <td>0</td>\n",
       "      <td>0</td>\n",
       "      <td>0</td>\n",
       "      <td>0</td>\n",
       "      <td>0</td>\n",
       "      <td>0</td>\n",
       "      <td>0</td>\n",
       "      <td>0</td>\n",
       "      <td>0</td>\n",
       "      <td>0</td>\n",
       "      <td>0</td>\n",
       "      <td>0</td>\n",
       "      <td>0</td>\n",
       "      <td>0</td>\n",
       "      <td>0</td>\n",
       "      <td>0</td>\n",
       "      <td>0</td>\n",
       "      <td>0</td>\n",
       "      <td>0</td>\n",
       "      <td>0</td>\n",
       "      <td>0</td>\n",
       "      <td>0</td>\n",
       "      <td>0</td>\n",
       "      <td>0</td>\n",
       "      <td>0</td>\n",
       "      <td>0</td>\n",
       "      <td>0</td>\n",
       "      <td>0</td>\n",
       "      <td>0</td>\n",
       "      <td>0</td>\n",
       "      <td>0</td>\n",
       "      <td>0</td>\n",
       "    </tr>\n",
       "    <tr>\n",
       "      <th>4</th>\n",
       "      <td>1</td>\n",
       "      <td>0</td>\n",
       "      <td>0</td>\n",
       "      <td>0</td>\n",
       "      <td>0</td>\n",
       "      <td>0</td>\n",
       "      <td>0</td>\n",
       "      <td>0</td>\n",
       "      <td>0</td>\n",
       "      <td>0</td>\n",
       "      <td>1</td>\n",
       "      <td>0</td>\n",
       "      <td>0</td>\n",
       "      <td>0</td>\n",
       "      <td>0</td>\n",
       "      <td>0</td>\n",
       "      <td>0</td>\n",
       "      <td>0</td>\n",
       "      <td>0</td>\n",
       "      <td>0</td>\n",
       "      <td>0</td>\n",
       "      <td>0</td>\n",
       "      <td>0</td>\n",
       "      <td>0</td>\n",
       "      <td>0</td>\n",
       "      <td>0</td>\n",
       "      <td>0</td>\n",
       "      <td>0</td>\n",
       "      <td>0</td>\n",
       "      <td>0</td>\n",
       "      <td>0</td>\n",
       "      <td>0</td>\n",
       "      <td>0</td>\n",
       "      <td>0</td>\n",
       "      <td>0</td>\n",
       "      <td>0</td>\n",
       "      <td>0</td>\n",
       "      <td>0</td>\n",
       "      <td>0</td>\n",
       "      <td>0</td>\n",
       "      <td>0</td>\n",
       "      <td>0</td>\n",
       "      <td>0</td>\n",
       "    </tr>\n",
       "    <tr>\n",
       "      <th>5</th>\n",
       "      <td>0</td>\n",
       "      <td>1</td>\n",
       "      <td>0</td>\n",
       "      <td>0</td>\n",
       "      <td>0</td>\n",
       "      <td>0</td>\n",
       "      <td>0</td>\n",
       "      <td>0</td>\n",
       "      <td>1</td>\n",
       "      <td>1</td>\n",
       "      <td>0</td>\n",
       "      <td>0</td>\n",
       "      <td>0</td>\n",
       "      <td>0</td>\n",
       "      <td>0</td>\n",
       "      <td>0</td>\n",
       "      <td>0</td>\n",
       "      <td>0</td>\n",
       "      <td>0</td>\n",
       "      <td>0</td>\n",
       "      <td>0</td>\n",
       "      <td>0</td>\n",
       "      <td>0</td>\n",
       "      <td>0</td>\n",
       "      <td>0</td>\n",
       "      <td>0</td>\n",
       "      <td>0</td>\n",
       "      <td>0</td>\n",
       "      <td>0</td>\n",
       "      <td>0</td>\n",
       "      <td>0</td>\n",
       "      <td>0</td>\n",
       "      <td>0</td>\n",
       "      <td>0</td>\n",
       "      <td>0</td>\n",
       "      <td>0</td>\n",
       "      <td>0</td>\n",
       "      <td>0</td>\n",
       "      <td>0</td>\n",
       "      <td>0</td>\n",
       "      <td>0</td>\n",
       "      <td>0</td>\n",
       "      <td>0</td>\n",
       "    </tr>\n",
       "  </tbody>\n",
       "</table>\n",
       "</div>"
      ],
      "text/plain": [
       "   MC_1  MC_2  MC_3  Autre  MG  PR  RJ  RS  SP  boleto  credit_card  \\\n",
       "0     0     0     1      0   0   0   0   0   0       0            1   \n",
       "1     1     0     0      1   0   0   0   0   0       1            0   \n",
       "2     0     1     0      0   0   0   0   0   1       0            1   \n",
       "3     0     1     0      1   0   0   0   0   0       0            1   \n",
       "4     1     0     0      0   0   0   0   0   0       0            1   \n",
       "5     0     1     0      0   0   0   0   0   1       1            0   \n",
       "\n",
       "   debit_card  voucher  month_1  month_2  month_3  month_4  month_5  month_6  \\\n",
       "0           0        0        0        0        0        0        0        0   \n",
       "1           0        0        0        0        0        0        0        0   \n",
       "2           0        0        0        0        0        0        0        0   \n",
       "3           0        0        0        0        0        0        0        0   \n",
       "4           0        0        0        0        0        0        0        0   \n",
       "5           0        0        0        0        0        0        0        0   \n",
       "\n",
       "   month_7  month_8  month_9  month_10  month_11  month_12  auto  baby  \\\n",
       "0        0        0        0         0         0         0     0     0   \n",
       "1        0        0        0         0         0         0     0     0   \n",
       "2        0        0        0         0         0         0     0     0   \n",
       "3        0        0        0         0         0         0     0     0   \n",
       "4        0        0        0         0         0         0     0     0   \n",
       "5        0        0        0         0         0         0     0     0   \n",
       "\n",
       "   computer_electronics_multimedia  cool_stuff  food_drink  furniture_decor  \\\n",
       "0                                0           0           0                0   \n",
       "1                                0           0           0                0   \n",
       "2                                0           0           0                0   \n",
       "3                                0           0           0                0   \n",
       "4                                0           0           0                0   \n",
       "5                                0           0           0                0   \n",
       "\n",
       "   garden_construction_tools  health_beauty_hygyene  house  \\\n",
       "0                          0                      0      0   \n",
       "1                          0                      0      0   \n",
       "2                          0                      0      0   \n",
       "3                          0                      0      0   \n",
       "4                          0                      0      0   \n",
       "5                          0                      0      0   \n",
       "\n",
       "   housewares_home_appliances  luggage_bags_accessories_fashion  \\\n",
       "0                           0                                 0   \n",
       "1                           0                                 0   \n",
       "2                           0                                 0   \n",
       "3                           0                                 0   \n",
       "4                           0                                 0   \n",
       "5                           0                                 0   \n",
       "\n",
       "   office_furniture_stationery  perfumery  pet_shop  sports_leisure_art  \\\n",
       "0                            0          0         0                   0   \n",
       "1                            0          0         0                   0   \n",
       "2                            0          0         0                   0   \n",
       "3                            0          0         0                   0   \n",
       "4                            0          0         0                   0   \n",
       "5                            0          0         0                   0   \n",
       "\n",
       "   telephony  toys  watches_gifts  \n",
       "0          0     0              0  \n",
       "1          0     0              0  \n",
       "2          0     0              0  \n",
       "3          0     0              0  \n",
       "4          0     0              0  \n",
       "5          0     0              0  "
      ]
     },
     "execution_count": 20,
     "metadata": {},
     "output_type": "execute_result"
    }
   ],
   "source": [
    "df_centroids = pd.DataFrame(centres, columns = df.columns[:-1])\n",
    "df_centroids"
   ]
  },
  {
   "cell_type": "markdown",
   "metadata": {},
   "source": [
    "Les centroids nous donnent des indications sur le \"coeur\" de chaque cluster. Mais passons à l'examination des clusters catégorie par catégorie."
   ]
  },
  {
   "cell_type": "markdown",
   "metadata": {},
   "source": [
    "### **Observation des variables par cluster**"
   ]
  },
  {
   "cell_type": "markdown",
   "metadata": {},
   "source": [
    "**M_class des clients**"
   ]
  },
  {
   "cell_type": "code",
   "execution_count": 21,
   "metadata": {},
   "outputs": [
    {
     "data": {
      "image/png": "[encoded data removed]",
      "text/plain": [
       "<Figure size 432x216 with 1 Axes>"
      ]
     },
     "metadata": {},
     "output_type": "display_data"
    }
   ],
   "source": [
    "graph_oh_data(df, df.columns[:3], \"'M.class' en fonction des Clusters\", 6, 3)"
   ]
  },
  {
   "cell_type": "markdown",
   "metadata": {},
   "source": [
    "**Etats de résidence des clients**"
   ]
  },
  {
   "cell_type": "code",
   "execution_count": 24,
   "metadata": {},
   "outputs": [
    {
     "data": {
      "image/png": "[encoded data removed]",
      "text/plain": [
       "<Figure size 648x216 with 1 Axes>"
      ]
     },
     "metadata": {},
     "output_type": "display_data"
    }
   ],
   "source": [
    "graph_oh_data(df, df.columns[3:9], \"'Etats' en fonction des Clusters\", 9, 3)"
   ]
  },
  {
   "cell_type": "markdown",
   "metadata": {},
   "source": [
    "**Types de paiement**"
   ]
  },
  {
   "cell_type": "code",
   "execution_count": 26,
   "metadata": {},
   "outputs": [
    {
     "data": {
      "image/png": "[encoded data removed]",
      "text/plain": [
       "<Figure size 648x216 with 1 Axes>"
      ]
     },
     "metadata": {},
     "output_type": "display_data"
    }
   ],
   "source": [
    "graph_oh_data(df, df.columns[9:13], \"'Payment Type' en fonction des Clusters\", 9, 3)"
   ]
  },
  {
   "cell_type": "markdown",
   "metadata": {},
   "source": [
    "**Mois d'achat dans l'année**"
   ]
  },
  {
   "cell_type": "code",
   "execution_count": 28,
   "metadata": {},
   "outputs": [
    {
     "data": {
      "image/png": "[encoded data removed]",
      "text/plain": [
       "<Figure size 1080x216 with 1 Axes>"
      ]
     },
     "metadata": {},
     "output_type": "display_data"
    }
   ],
   "source": [
    "graph_oh_data(df, df.columns[13:25], \"'Mois d'achat en fonction des Clusters\", 15, 3)"
   ]
  },
  {
   "cell_type": "markdown",
   "metadata": {},
   "source": [
    "Cette variable ne montre pas de variation significative par cluster (on aurait pu nous en passer), elle montre juste un mouvement global d'augmentation des commandes de septembre à aout de l'année suivante (avec une bosse notable en novembre)."
   ]
  },
  {
   "cell_type": "markdown",
   "metadata": {},
   "source": [
    "**Catégorie de produits achetés**"
   ]
  },
  {
   "cell_type": "code",
   "execution_count": 32,
   "metadata": {},
   "outputs": [
    {
     "data": {
      "image/png": "[encoded data removed]",
      "text/plain": [
       "<Figure size 1080x216 with 1 Axes>"
      ]
     },
     "metadata": {},
     "output_type": "display_data"
    }
   ],
   "source": [
    "graph_oh_data(df, df.columns[25:], \"'Mois d'achat en fonction des Clusters\", 15, 3, 80)"
   ]
  },
  {
   "cell_type": "markdown",
   "metadata": {},
   "source": [
    "Sans pousser très loin dans le détail, on peut noter des accointances de certains clusters pour certaines catégories de produits."
   ]
  },
  {
   "cell_type": "code",
   "execution_count": 33,
   "metadata": {},
   "outputs": [
    {
     "data": {
      "text/plain": [
       "0    27079\n",
       "4    25475\n",
       "2    19385\n",
       "1     8595\n",
       "5     7905\n",
       "3     5648\n",
       "Name: cluster, dtype: int64"
      ]
     },
     "execution_count": 33,
     "metadata": {},
     "output_type": "execute_result"
    }
   ],
   "source": [
    "df[\"cluster\"].value_counts()"
   ]
  },
  {
   "cell_type": "markdown",
   "metadata": {},
   "source": [
    "### **Que tirer de cette segmentation ?**"
   ]
  },
  {
   "cell_type": "markdown",
   "metadata": {},
   "source": [
    "Analyse rapide des différents clusters caractérisés par cette segmentation."
   ]
  },
  {
   "cell_type": "markdown",
   "metadata": {},
   "source": [
    "**Cluster 0 (bleu)** de **27 079** clients :<br>- Uniquement des clients de la **M_class** la **moins dépensière**.<br>- Majoritairement de **Sao Paulo**.<br>- Payent surtout par **Carte de crédit**.<br>- Attrait pour la catégorie **informatique** et plus fort attrait pour la **téléphonie**."
   ]
  },
  {
   "cell_type": "markdown",
   "metadata": {},
   "source": [
    "**Cluster 1 (orange)** de **8 595** clients :<br>- A **60%** de la **M_class 1** la **plus dépensière**.<br>- Payent à **95%** avec **boleto**<br>- Plus fort attrait pour la catégorie **informatique**."
   ]
  },
  {
   "cell_type": "markdown",
   "metadata": {},
   "source": [
    "**Cluster 2 (vert)** de **19 385** clients :<br>- **M_class 2** **intermédiaire**.<br>- Payent par **carte de crédit**.<br>- Plus fort attrait pour les produits de la **maison**."
   ]
  },
  {
   "cell_type": "markdown",
   "metadata": {},
   "source": [
    "**Cluster 3 (rouge)** de **5 648** clients :<br>- **M_class 2** **intermédiaire**.<br>- Située hors des 5 plus importants états du pays (en terme de commandes sur le site...)<br>- Payent par **carte de crédit**.<br>- Plus fort attrait pour les produits **santé, beauté, hygiène**."
   ]
  },
  {
   "cell_type": "markdown",
   "metadata": {},
   "source": [
    "**Cluster 4 (violet)** de **25 475** clients :<br>- **100%** dans la **M_class 1**.<br>- Payent par **carte de crédit**.<br>- Plus fort attrait pour les catégorie **montres, cadeaux**."
   ]
  },
  {
   "cell_type": "markdown",
   "metadata": {},
   "source": [
    "**Cluster 5 (marron)** de **7 905** clients :<br>- Egalement réparti entre les **M_class 2** et **3**.<br>- Très majoritairement de **Sao Paulo**<br>- Paye uniquement par **boleto**.<br>- Intérêts marqués pour les catégories **informatique** et **sport, art, loisir**."
   ]
  },
  {
   "cell_type": "markdown",
   "metadata": {},
   "source": [
    "Ce type d'information peut parfaitement être exploité afin de comprendre de quoi est constituée sa clientèle et d'entreprendre toute sorte d'actions."
   ]
  },
  {
   "cell_type": "markdown",
   "metadata": {},
   "source": [
    " "
   ]
  },
  {
   "cell_type": "markdown",
   "metadata": {},
   "source": [
    "## **3 - Exemple de segmentation ciblée**"
   ]
  },
  {
   "cell_type": "markdown",
   "metadata": {},
   "source": [
    "Après une segmentation à l'échelle de notre base client entière, nous pouvons également en faire une sur un sous-groupe de clients qui pourrait posséder à nos yeux un intérêt particulier. Certains groupes pourraient-ils être caractériser chez les acheteurs de téléphonie ou ceux qui utilise des vouchers ?"
   ]
  },
  {
   "cell_type": "markdown",
   "metadata": {},
   "source": [
    "### ***K-Modes sur : M_class + etats + month + quarter + day + prod_cat*** pour utilisateurs de **voucher**"
   ]
  },
  {
   "cell_type": "code",
   "execution_count": 103,
   "metadata": {},
   "outputs": [],
   "source": [
    "# Chargement données\n",
    "df = pickle.load(open(\"Data/df_clust_ohb.pickle\", \"rb\"))\n",
    "# Choix des variables\n",
    "df_v = df[M_class + etats + month + prod_cat][df[\"voucher\"] == 1]"
   ]
  },
  {
   "cell_type": "markdown",
   "metadata": {},
   "source": [
    "Boucle de segmentation"
   ]
  },
  {
   "cell_type": "code",
   "execution_count": 104,
   "metadata": {},
   "outputs": [
    {
     "data": {
      "application/vnd.jupyter.widget-view+json": {
       "model_id": "dcb08140ec034589a1a7e8b3be43314b",
       "version_major": 2,
       "version_minor": 0
      },
      "text/plain": [
       "HBox(children=(HTML(value=''), FloatProgress(value=0.0, max=13.0), HTML(value='')))"
      ]
     },
     "metadata": {},
     "output_type": "display_data"
    },
    {
     "name": "stdout",
     "output_type": "stream",
     "text": [
      "\n",
      "Temps de segmentation : 27.571038484573364\n"
     ]
    }
   ],
   "source": [
    "c, s, t = kmodes(df_v, list(range(2, 15)))"
   ]
  },
  {
   "cell_type": "code",
   "execution_count": 105,
   "metadata": {},
   "outputs": [
    {
     "data": {
      "image/png": "[encoded data removed]",
      "text/plain": [
       "<Figure size 864x360 with 2 Axes>"
      ]
     },
     "metadata": {},
     "output_type": "display_data"
    }
   ],
   "source": [
    "k_plot(c, s)"
   ]
  },
  {
   "cell_type": "markdown",
   "metadata": {},
   "source": [
    "Un peu arbitrairement, étant donné que notre échantillon est petit (**2480** individus), nous choisissons **K = 3**."
   ]
  },
  {
   "cell_type": "code",
   "execution_count": 107,
   "metadata": {},
   "outputs": [
    {
     "name": "stdout",
     "output_type": "stream",
     "text": [
      "Temps de segmentation : 1.4400017261505127\n"
     ]
    }
   ],
   "source": [
    "df_v[\"cluster\"], centres = kmodes_u(df_v, 3)"
   ]
  },
  {
   "cell_type": "code",
   "execution_count": 109,
   "metadata": {},
   "outputs": [
    {
     "data": {
      "text/plain": [
       "0    1107\n",
       "1     769\n",
       "2     604\n",
       "Name: cluster, dtype: int64"
      ]
     },
     "execution_count": 109,
     "metadata": {},
     "output_type": "execute_result"
    }
   ],
   "source": [
    "df_v[\"cluster\"].value_counts()"
   ]
  },
  {
   "cell_type": "code",
   "execution_count": 110,
   "metadata": {},
   "outputs": [
    {
     "data": {
      "text/html": [
       "<div>\n",
       "<style scoped>\n",
       "    .dataframe tbody tr th:only-of-type {\n",
       "        vertical-align: middle;\n",
       "    }\n",
       "\n",
       "    .dataframe tbody tr th {\n",
       "        vertical-align: top;\n",
       "    }\n",
       "\n",
       "    .dataframe thead th {\n",
       "        text-align: right;\n",
       "    }\n",
       "</style>\n",
       "<table border=\"1\" class=\"dataframe\">\n",
       "  <thead>\n",
       "    <tr style=\"text-align: right;\">\n",
       "      <th></th>\n",
       "      <th>MC_1</th>\n",
       "      <th>MC_2</th>\n",
       "      <th>MC_3</th>\n",
       "      <th>Autre</th>\n",
       "      <th>MG</th>\n",
       "      <th>PR</th>\n",
       "      <th>RJ</th>\n",
       "      <th>RS</th>\n",
       "      <th>SP</th>\n",
       "      <th>month_1</th>\n",
       "      <th>month_2</th>\n",
       "      <th>month_3</th>\n",
       "      <th>month_4</th>\n",
       "      <th>month_5</th>\n",
       "      <th>month_6</th>\n",
       "      <th>month_7</th>\n",
       "      <th>month_8</th>\n",
       "      <th>month_9</th>\n",
       "      <th>month_10</th>\n",
       "      <th>month_11</th>\n",
       "      <th>month_12</th>\n",
       "      <th>auto</th>\n",
       "      <th>baby</th>\n",
       "      <th>computer_electronics_multimedia</th>\n",
       "      <th>cool_stuff</th>\n",
       "      <th>food_drink</th>\n",
       "      <th>furniture_decor</th>\n",
       "      <th>garden_construction_tools</th>\n",
       "      <th>health_beauty_hygyene</th>\n",
       "      <th>house</th>\n",
       "      <th>housewares_home_appliances</th>\n",
       "      <th>luggage_bags_accessories_fashion</th>\n",
       "      <th>office_furniture_stationery</th>\n",
       "      <th>perfumery</th>\n",
       "      <th>pet_shop</th>\n",
       "      <th>sports_leisure_art</th>\n",
       "      <th>telephony</th>\n",
       "      <th>toys</th>\n",
       "      <th>watches_gifts</th>\n",
       "    </tr>\n",
       "  </thead>\n",
       "  <tbody>\n",
       "    <tr>\n",
       "      <th>0</th>\n",
       "      <td>0</td>\n",
       "      <td>0</td>\n",
       "      <td>1</td>\n",
       "      <td>0</td>\n",
       "      <td>0</td>\n",
       "      <td>0</td>\n",
       "      <td>0</td>\n",
       "      <td>0</td>\n",
       "      <td>0</td>\n",
       "      <td>0</td>\n",
       "      <td>0</td>\n",
       "      <td>0</td>\n",
       "      <td>0</td>\n",
       "      <td>0</td>\n",
       "      <td>0</td>\n",
       "      <td>0</td>\n",
       "      <td>0</td>\n",
       "      <td>0</td>\n",
       "      <td>0</td>\n",
       "      <td>0</td>\n",
       "      <td>0</td>\n",
       "      <td>0</td>\n",
       "      <td>0</td>\n",
       "      <td>0</td>\n",
       "      <td>0</td>\n",
       "      <td>0</td>\n",
       "      <td>0</td>\n",
       "      <td>0</td>\n",
       "      <td>0</td>\n",
       "      <td>0</td>\n",
       "      <td>0</td>\n",
       "      <td>0</td>\n",
       "      <td>0</td>\n",
       "      <td>0</td>\n",
       "      <td>0</td>\n",
       "      <td>0</td>\n",
       "      <td>0</td>\n",
       "      <td>0</td>\n",
       "      <td>0</td>\n",
       "    </tr>\n",
       "    <tr>\n",
       "      <th>1</th>\n",
       "      <td>0</td>\n",
       "      <td>1</td>\n",
       "      <td>0</td>\n",
       "      <td>0</td>\n",
       "      <td>0</td>\n",
       "      <td>0</td>\n",
       "      <td>0</td>\n",
       "      <td>0</td>\n",
       "      <td>0</td>\n",
       "      <td>0</td>\n",
       "      <td>0</td>\n",
       "      <td>0</td>\n",
       "      <td>0</td>\n",
       "      <td>0</td>\n",
       "      <td>0</td>\n",
       "      <td>0</td>\n",
       "      <td>0</td>\n",
       "      <td>0</td>\n",
       "      <td>0</td>\n",
       "      <td>0</td>\n",
       "      <td>0</td>\n",
       "      <td>0</td>\n",
       "      <td>0</td>\n",
       "      <td>0</td>\n",
       "      <td>0</td>\n",
       "      <td>0</td>\n",
       "      <td>0</td>\n",
       "      <td>0</td>\n",
       "      <td>0</td>\n",
       "      <td>0</td>\n",
       "      <td>0</td>\n",
       "      <td>0</td>\n",
       "      <td>0</td>\n",
       "      <td>0</td>\n",
       "      <td>0</td>\n",
       "      <td>0</td>\n",
       "      <td>0</td>\n",
       "      <td>0</td>\n",
       "      <td>0</td>\n",
       "    </tr>\n",
       "    <tr>\n",
       "      <th>2</th>\n",
       "      <td>1</td>\n",
       "      <td>0</td>\n",
       "      <td>0</td>\n",
       "      <td>0</td>\n",
       "      <td>0</td>\n",
       "      <td>0</td>\n",
       "      <td>0</td>\n",
       "      <td>0</td>\n",
       "      <td>0</td>\n",
       "      <td>0</td>\n",
       "      <td>0</td>\n",
       "      <td>0</td>\n",
       "      <td>0</td>\n",
       "      <td>0</td>\n",
       "      <td>0</td>\n",
       "      <td>0</td>\n",
       "      <td>0</td>\n",
       "      <td>0</td>\n",
       "      <td>0</td>\n",
       "      <td>0</td>\n",
       "      <td>0</td>\n",
       "      <td>0</td>\n",
       "      <td>0</td>\n",
       "      <td>0</td>\n",
       "      <td>0</td>\n",
       "      <td>0</td>\n",
       "      <td>0</td>\n",
       "      <td>0</td>\n",
       "      <td>0</td>\n",
       "      <td>0</td>\n",
       "      <td>0</td>\n",
       "      <td>0</td>\n",
       "      <td>0</td>\n",
       "      <td>0</td>\n",
       "      <td>0</td>\n",
       "      <td>0</td>\n",
       "      <td>0</td>\n",
       "      <td>0</td>\n",
       "      <td>0</td>\n",
       "    </tr>\n",
       "  </tbody>\n",
       "</table>\n",
       "</div>"
      ],
      "text/plain": [
       "   MC_1  MC_2  MC_3  Autre  MG  PR  RJ  RS  SP  month_1  month_2  month_3  \\\n",
       "0     0     0     1      0   0   0   0   0   0        0        0        0   \n",
       "1     0     1     0      0   0   0   0   0   0        0        0        0   \n",
       "2     1     0     0      0   0   0   0   0   0        0        0        0   \n",
       "\n",
       "   month_4  month_5  month_6  month_7  month_8  month_9  month_10  month_11  \\\n",
       "0        0        0        0        0        0        0         0         0   \n",
       "1        0        0        0        0        0        0         0         0   \n",
       "2        0        0        0        0        0        0         0         0   \n",
       "\n",
       "   month_12  auto  baby  computer_electronics_multimedia  cool_stuff  \\\n",
       "0         0     0     0                                0           0   \n",
       "1         0     0     0                                0           0   \n",
       "2         0     0     0                                0           0   \n",
       "\n",
       "   food_drink  furniture_decor  garden_construction_tools  \\\n",
       "0           0                0                          0   \n",
       "1           0                0                          0   \n",
       "2           0                0                          0   \n",
       "\n",
       "   health_beauty_hygyene  house  housewares_home_appliances  \\\n",
       "0                      0      0                           0   \n",
       "1                      0      0                           0   \n",
       "2                      0      0                           0   \n",
       "\n",
       "   luggage_bags_accessories_fashion  office_furniture_stationery  perfumery  \\\n",
       "0                                 0                            0          0   \n",
       "1                                 0                            0          0   \n",
       "2                                 0                            0          0   \n",
       "\n",
       "   pet_shop  sports_leisure_art  telephony  toys  watches_gifts  \n",
       "0         0                   0          0     0              0  \n",
       "1         0                   0          0     0              0  \n",
       "2         0                   0          0     0              0  "
      ]
     },
     "execution_count": 110,
     "metadata": {},
     "output_type": "execute_result"
    }
   ],
   "source": [
    "df_centroids = pd.DataFrame(centres, columns = df_v.columns[:-1])\n",
    "df_centroids"
   ]
  },
  {
   "cell_type": "markdown",
   "metadata": {},
   "source": [
    "### **Observation des variables par cluster**"
   ]
  },
  {
   "cell_type": "markdown",
   "metadata": {},
   "source": [
    "**M_class**"
   ]
  },
  {
   "cell_type": "code",
   "execution_count": 112,
   "metadata": {},
   "outputs": [
    {
     "data": {
      "image/png": "[encoded data removed]",
      "text/plain": [
       "<Figure size 432x216 with 1 Axes>"
      ]
     },
     "metadata": {},
     "output_type": "display_data"
    }
   ],
   "source": [
    "graph_oh_data(df_v, df_v.columns[:3], \"'M.class' en fonction des Clusters\", 6, 3)"
   ]
  },
  {
   "cell_type": "markdown",
   "metadata": {},
   "source": [
    "**Etats de résidence des clients**"
   ]
  },
  {
   "cell_type": "code",
   "execution_count": 114,
   "metadata": {},
   "outputs": [
    {
     "data": {
      "image/png": "[encoded data removed]",
      "text/plain": [
       "<Figure size 432x216 with 1 Axes>"
      ]
     },
     "metadata": {},
     "output_type": "display_data"
    }
   ],
   "source": [
    "graph_oh_data(df_v, df_v.columns[3:9], \"'Etats de résidence' en fonction des Clusters\", 6, 3)"
   ]
  },
  {
   "cell_type": "markdown",
   "metadata": {},
   "source": [
    "**Mois d'achat**"
   ]
  },
  {
   "cell_type": "code",
   "execution_count": 117,
   "metadata": {},
   "outputs": [
    {
     "data": {
      "image/png": "[encoded data removed]",
      "text/plain": [
       "<Figure size 864x216 with 1 Axes>"
      ]
     },
     "metadata": {},
     "output_type": "display_data"
    }
   ],
   "source": [
    "graph_oh_data(df_v, df_v.columns[9:21], \"'Mois d'achat' en fonction des Clusters\", 12, 3)"
   ]
  },
  {
   "cell_type": "markdown",
   "metadata": {},
   "source": [
    "**Produits achetés**"
   ]
  },
  {
   "cell_type": "code",
   "execution_count": 120,
   "metadata": {},
   "outputs": [
    {
     "data": {
      "image/png": "[encoded data removed]",
      "text/plain": [
       "<Figure size 1080x216 with 1 Axes>"
      ]
     },
     "metadata": {},
     "output_type": "display_data"
    }
   ],
   "source": [
    "graph_oh_data(df_v, df_v.columns[21:], \"'Produits achetés' en fonction des Clusters\", 15, 3, 80)"
   ]
  },
  {
   "cell_type": "markdown",
   "metadata": {},
   "source": [
    "Dans cet exemple, nos clusters se sont calqués sur les catégories d'une des variables. Cela nous facilite l'interprétation des résultats en nous donnant directement les états de résidence, les mois d'achat, et les catégories de produits achetés, **par catégorie de dépense M_class** pour les gens qui payent en **vouchers**.<br>On notera que les dépensiers **intermédiaires** ont une propension pour la catégorie **maison**, que les **petits** dépensiers ont une propension pour la **parfumerie**, la **téléphonie**, et les **produits informatiques**.<br><br>Les résultats ne sont pas très parlants, mais encore, il s'agit juste d'un exemple de segmentation plus ciblée que la première.<br><br>Notre but ici est de vous faire comprendre quels résultats seraient possibles en utilisant la **segmentation** par **machine learning non-supervisé** à partir d'un plus vaste catalogue de données, par exemple avec plus de renseignements de type **état civil**, à partir des données de type **analytics** de la fréquentation de l'appli, etc.<br><br>Si on met de côté l'aspect direction et prise de décision de l'utilisation de ces techniques, l'implementation elle-même est extrêmement simple pour le client. Il suffirait pour lui de nous faire parvenir des données, et nous de les renvoyer enrichies de nouvelles variables classant les clients dans tel ou tel segment de telle ou telle segmentation."
   ]
  },
  {
   "cell_type": "markdown",
   "metadata": {},
   "source": [
    "Ce qui nous amène à notre conclusion."
   ]
  },
  {
   "cell_type": "markdown",
   "metadata": {},
   "source": [
    " "
   ]
  },
  {
   "cell_type": "markdown",
   "metadata": {},
   "source": [
    " "
   ]
  },
  {
   "cell_type": "markdown",
   "metadata": {},
   "source": [
    "# **Quatrième Partie : Conclusion et proposition de collaboration**"
   ]
  },
  {
   "cell_type": "markdown",
   "metadata": {},
   "source": [
    " "
   ]
  },
  {
   "cell_type": "markdown",
   "metadata": {},
   "source": [
    "Le premier objectif de notre mission était d'élaborer, à partir des données fournies, une segmentation de la clientèle **Olist** qui permette immédiatement aux équipes de l'entreprise de lancer des actions marketing.<br><br>Même si la **segmentation RF** que nous proposons a cela de surprenant qu'elle court-circuite notre approche initiale combinant **RFM** et **machine-learning**, elle nous parait être la meilleure possible au regard de ce qui ressortait des données (une impérieuse nécessité de booster la fidélisation des clients).<br><br>En marge de ce premier objectif, nous avons tenté de montrer que même s'il ne nous avait pas servi initialement, le **machine learning non-supervisé** pourrait beaucoup apporter si on l'utilisait pour d'autres segmentations à partir d'un matériel de données peut-être plus riche que celui auquel nous avons eu accès.<br><br>Nous invitons donc à la réflexion sur ces sujets, ainsi que sur d'autres possibilités, à d'autres niveaux, offertes par le **machine learning** (moteur de recommandation, etc). Nous nous tenons à la disposition du client pour les évoquer."
   ]
  },
  {
   "cell_type": "markdown",
   "metadata": {},
   "source": [
    " "
   ]
  },
  {
   "cell_type": "markdown",
   "metadata": {},
   "source": [
    "## **Annexe : Propositions sur le contrat de maintenance**"
   ]
  },
  {
   "cell_type": "markdown",
   "metadata": {},
   "source": [
    "**a) Service et rythme des mises à jour.** "
   ]
  },
  {
   "cell_type": "markdown",
   "metadata": {},
   "source": [
    "Adopter et utiliser notre **segmentation RF** nécessitera une **mise à jour** périodique des données, que nous accompagnerons de divers éléments comme :<br>- des graphs **stacked area plot** représentant l'évolution de la clientèle<br>- des diagrammes **Sankey**<br>- des listes des clients ayant changé de classe.<br>Autant d'éléments qui **faciliteront** l'observation des **progrès accomplis** et le passage à l'**action**.<br><br>Nous avons déjà les outils logiciels requis, c'est au client et à ses équipes marketing de décider de la périodicité de ces mises à jour. Celles-ci peuvent être quotidiennes, hebdomadaires, mensuelles, (...), nous serons toujours en mesure de répondre à la demande."
   ]
  },
  {
   "cell_type": "markdown",
   "metadata": {},
   "source": [
    "**b) Nouvel examen de la base client**"
   ]
  },
  {
   "cell_type": "markdown",
   "metadata": {},
   "source": [
    "La nature de la clientèle étant appelée à évoluer, il faudra périodiquement s'assurer que la segmentation utilisée reste opérante. Dans le cas présent, aucun modèle de **machine learning** n'est pour l'instant impliqué, il n'y a pas de nécessité de ré-entrainement d'un modèle, on peut donc voir relativement large.<br><br>Prévoir de refaire un point de situation à un horizon de six ou neufs mois nous parait une bonne idée."
   ]
  },
  {
   "cell_type": "markdown",
   "metadata": {},
   "source": [
    "**c) La véritable segmentation client reste à faire !**"
   ]
  },
  {
   "cell_type": "markdown",
   "metadata": {},
   "source": [
    "Comme par la force des choses, une véritable **segmentation client** utilisant le **machine learning non supervisé** reste à faire, il nous faut reprendre rendez-vous pour en discuter^^ !"
   ]
  },
  {
   "cell_type": "markdown",
   "metadata": {},
   "source": [
    " "
   ]
  },
  {
   "cell_type": "markdown",
   "metadata": {},
   "source": [
    " "
   ]
  },
  {
   "cell_type": "markdown",
   "metadata": {},
   "source": [
    "**Merci de votre attention.**"
   ]
  },
  {
   "cell_type": "markdown",
   "metadata": {},
   "source": [
    "**Fin du projet 4**"
   ]
  }
 ],
 "metadata": {
  "kernelspec": {
   "display_name": "OpClass",
   "language": "python",
   "name": "opclass"
  },
  "language_info": {
   "codemirror_mode": {
    "name": "ipython",
    "version": 3
   },
   "file_extension": ".py",
   "mimetype": "text/x-python",
   "name": "python",
   "nbconvert_exporter": "python",
   "pygments_lexer": "ipython3",
   "version": "3.8.6"
  }
 },
 "nbformat": 4,
 "nbformat_minor": 4
}
