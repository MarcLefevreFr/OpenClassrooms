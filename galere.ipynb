{
 "cells": [
  {
   "cell_type": "markdown",
   "metadata": {},
   "source": [
    "### Imports"
   ]
  },
  {
   "cell_type": "code",
   "execution_count": 2,
   "metadata": {
    "jupyter": {
     "source_hidden": true
    }
   },
   "outputs": [],
   "source": [
    "# modules utilisés\n",
    "import pandas as pd\n",
    "import numpy as np\n",
    "import matplotlib\n",
    "import matplotlib.pyplot as plt\n",
    "import seaborn as sns\n",
    "import pickle\n",
    "import xgboost\n",
    "import sklearn\n",
    "import warnings\n",
    "\n",
    "from time import time\n",
    "from dython.nominal import associations\n",
    "\n",
    "# imports SKLEARN\n",
    "from sklearn.feature_selection import SelectPercentile, f_regression\n",
    "from sklearn.ensemble import GradientBoostingRegressor, AdaBoostRegressor, RandomForestRegressor, BaggingRegressor\n",
    "from sklearn.tree import DecisionTreeRegressor\n",
    "from sklearn.model_selection import train_test_split, validation_curve, learning_curve\n",
    "from sklearn.preprocessing import StandardScaler, LabelEncoder\n",
    "from sklearn.linear_model import LinearRegression, Lasso, Ridge\n",
    "from sklearn.metrics import r2_score, mean_squared_log_error, mean_absolute_error\n",
    "from sklearn.svm import SVR\n",
    "from sklearn.model_selection import GridSearchCV, KFold, cross_validate, RandomizedSearchCV, cross_val_predict\n",
    "from sklearn.feature_selection import RFECV\n",
    "\n",
    "# import de la fonction TargetEncoder()\n",
    "from category_encoders.target_encoder import TargetEncoder"
   ]
  },
  {
   "cell_type": "markdown",
   "metadata": {},
   "source": [
    "### Divers"
   ]
  },
  {
   "cell_type": "code",
   "execution_count": 10,
   "metadata": {
    "jupyter": {
     "source_hidden": true
    }
   },
   "outputs": [],
   "source": [
    "# liste des colonnes de nos df de présentations des résultats\n",
    "LISTE_COL = [\"Model\", \"Fit_Time\", \"Score_time\", \"MAE\", \"RMSLE\", \"R2\"] \n",
    "\n",
    "# Métriques utilisées en temps normal et au cas ou la MSLE ne soit pas adaptée\n",
    "SCORING = [\"neg_mean_absolute_error\", \"neg_mean_squared_log_error\", \"r2\"]\n",
    "SCORING_alt = [\"neg_mean_absolute_error\", \"r2\"]\n",
    "\n",
    "# facteur aléatoire que nous utiliserons le long de notre travail\n",
    "SEED = 47\n",
    "\n",
    "# nombre de \"folds\" lors des validations croisées\n",
    "K = 5\n",
    "\n",
    "# instruction évitant les avertissements, nombreux lors de l'utilisation du modèle de TargetEncoder\n",
    "warnings.filterwarnings('ignore')\n",
    "warnings.simplefilter('ignore')\n",
    "\n",
    "# augmentation du nombre de colonnes d'un objet DataFrame à visualiser\n",
    "pd.options.display.max_columns = 30\n",
    "\n",
    "# paramètres matplotlib & seaborn\n",
    "font = {'family' : 'verdana',\n",
    "        'weight' : 'normal',\n",
    "        'size'   : 10}\n",
    "plt.rc('font', **font)\n",
    "\n",
    "sns.set(font_scale=0.9)\n",
    "\n",
    "# fonction de modélisation\n",
    "def modelize(model, name, X, y, return_model = False , graph = False, k = K) :\n",
    "        \n",
    "    resultats = []\n",
    "    \n",
    "    kf = KFold(k, shuffle = True, random_state = SEED)\n",
    "    \n",
    "    try :\n",
    "        cv_res = cross_validate(model, X, y, scoring = SCORING, cv = kf)\n",
    "\n",
    "        resultats.append(name)\n",
    "        resultats.append(cv_res[\"fit_time\"].sum())\n",
    "        resultats.append(cv_res[\"score_time\"].sum())\n",
    "        resultats.append(-cv_res['test_neg_mean_absolute_error'].mean())\n",
    "        resultats.append(np.sqrt(-cv_res['test_neg_mean_squared_log_error']).mean())\n",
    "        resultats.append(cv_res['test_r2'].mean())\n",
    "\n",
    "    \n",
    "    # Si, comme cela arrive parfois, la RMSLE est impossible à calculer, on lui donne la valeur 0.\n",
    "    except :\n",
    "        \n",
    "        cv_res = cross_validate(model, X, y, scoring = SCORING_alt, cv = kf)\n",
    "        \n",
    "        resultats.append(name)\n",
    "        resultats.append(cv_res[\"fit_time\"].sum())\n",
    "        resultats.append(cv_res[\"score_time\"].sum())\n",
    "        resultats.append(-cv_res['test_neg_mean_absolute_error'].mean())\n",
    "        resultats.append(0)  \n",
    "        resultats.append(cv_res['test_r2'].mean())\n",
    "    \n",
    "    # affichage de graphs au choix\n",
    "    if graph :\n",
    "\n",
    "        pred = cross_val_predict(model, X, y, cv = kf)\n",
    "\n",
    "        error = np.abs(y - pred)\n",
    "\n",
    "        fig = plt.figure(figsize = (8, 8))\n",
    "        plt.subplot(2,2,1)\n",
    "        plt.scatter(y, pred, color = \"coral\")\n",
    "        plt.subplot(2,2,2)\n",
    "        plt.hist(error, bins = 50)\n",
    "        plt.show()\n",
    "            \n",
    "    new_row = {k:v for k, v in zip(LISTE_COL, resultats)}\n",
    "\n",
    "    # récupération d'un modèle entrainé au choix\n",
    "    if return_model :\n",
    "        \n",
    "        return new_row, model.fit(X, y)\n",
    "        \n",
    "    else :        \n",
    "    \n",
    "        return new_row\n",
    "    \n",
    "    \n",
    "# chargement de nos données avec et sans outliers\n",
    "X = pickle.load(open(\"Data/X.pickle\", \"rb\"))\n",
    "y = pickle.load(open(\"Data/y.pickle\", \"rb\"))\n",
    "\n",
    "X_no = pickle.load(open(\"Data/X_no.pickle\", \"rb\"))\n",
    "y_no = pickle.load(open(\"Data/y_no.pickle\", \"rb\"))\n",
    "\n",
    "# Cible du second modèle (variable \"GHGEmissions(MetricTonsCO2e)\")\n",
    "y = y[\"GHGEmissions(MetricTonsCO2e)\"]\n",
    "y_no = y_no[\"GHGEmissions(MetricTonsCO2e)\"]\n",
    "\n",
    "# transformation log(p+1) des cibles\n",
    "y = y.transform(np.log1p)\n",
    "y_no = y_no.transform(np.log1p)"
   ]
  },
  {
   "cell_type": "markdown",
   "metadata": {},
   "source": [
    "### Récup données"
   ]
  },
  {
   "cell_type": "code",
   "execution_count": 44,
   "metadata": {},
   "outputs": [],
   "source": [
    "data = pickle.load(open(\"Data/red_level_tar_4.pickle\", \"rb\"))"
   ]
  },
  {
   "cell_type": "markdown",
   "metadata": {},
   "source": [
    "\"data\" est une liste avec plein de trucs issus de mon \"script réducteur de variables catégorielles\".<br><br>Les var catégorielles ont été réduites si cela améliorait le modèle. Voici un genre de \"log\" de l'opération."
   ]
  },
  {
   "cell_type": "code",
   "execution_count": 45,
   "metadata": {},
   "outputs": [
    {
     "data": {
      "text/plain": [
       "[(55, 12, 0.8134406356697665, 44),\n",
       " (51, 0, 0.8134406356697665, 51),\n",
       " (43, 7, 0.814127810625789, 37),\n",
       " (24, 22, 0.8151861968733349, 3),\n",
       " (13, 10, 0.8154173233351696, 4),\n",
       " (12, 3, 0.8166644792719373, 10),\n",
       " (7, 0, 0.8166644792719373, 7),\n",
       " (2, 0, 0.8166644792719373, 2),\n",
       " (2, 0, 0.8166644792719373, 2),\n",
       " (2, 1, 0.8167345858786202, 1),\n",
       " (2, 1, 0.8167740740381724, 1)]"
      ]
     },
     "execution_count": 45,
     "metadata": {},
     "output_type": "execute_result"
    }
   ],
   "source": [
    "data[0][0]"
   ]
  },
  {
   "cell_type": "markdown",
   "metadata": {},
   "source": [
    "Une variable qui avait 55 catégories à été réduite à 44, une qui en avait de 51 n'a pas bougé, la 3ème qui en avait 43 est passée à 37, etc. Et à chaque fois on voit de combien le R2 est amélioré par ces changements."
   ]
  },
  {
   "cell_type": "markdown",
   "metadata": {},
   "source": [
    "Puis à la fin je récupère le df optimisé qui est celui-ci."
   ]
  },
  {
   "cell_type": "code",
   "execution_count": 46,
   "metadata": {},
   "outputs": [],
   "source": [
    "df = data[0][4][-1].copy()"
   ]
  },
  {
   "cell_type": "code",
   "execution_count": 47,
   "metadata": {},
   "outputs": [
    {
     "data": {
      "text/html": [
       "<div>\n",
       "<style scoped>\n",
       "    .dataframe tbody tr th:only-of-type {\n",
       "        vertical-align: middle;\n",
       "    }\n",
       "\n",
       "    .dataframe tbody tr th {\n",
       "        vertical-align: top;\n",
       "    }\n",
       "\n",
       "    .dataframe thead th {\n",
       "        text-align: right;\n",
       "    }\n",
       "</style>\n",
       "<table border=\"1\" class=\"dataframe\">\n",
       "  <thead>\n",
       "    <tr style=\"text-align: right;\">\n",
       "      <th></th>\n",
       "      <th>NumberOfPropertyUse</th>\n",
       "      <th>NumberofBuildings</th>\n",
       "      <th>NumberofFloors</th>\n",
       "      <th>PropertyGFATotal</th>\n",
       "      <th>PropertyBuildingGFARate</th>\n",
       "      <th>L_PUTGFA</th>\n",
       "      <th>S_PUTGFA</th>\n",
       "      <th>T_PUTGFA</th>\n",
       "      <th>ENERGYSTARScore</th>\n",
       "      <th>Neighborhood</th>\n",
       "      <th>BuildingType</th>\n",
       "      <th>PrimaryPropertyType</th>\n",
       "      <th>LargestPropertyUseType</th>\n",
       "      <th>SecondLargestPropertyUseType</th>\n",
       "      <th>ThirdLargestPropertyUseType</th>\n",
       "      <th>DecadeBuilt</th>\n",
       "      <th>Steam</th>\n",
       "      <th>NaturalGas</th>\n",
       "      <th>Other</th>\n",
       "      <th>Outlier</th>\n",
       "    </tr>\n",
       "  </thead>\n",
       "  <tbody>\n",
       "    <tr>\n",
       "      <th>0</th>\n",
       "      <td>0.405427</td>\n",
       "      <td>-0.149047</td>\n",
       "      <td>0.125401</td>\n",
       "      <td>-0.157012</td>\n",
       "      <td>0.350543</td>\n",
       "      <td>-0.282684</td>\n",
       "      <td>0.746611</td>\n",
       "      <td>-0.334138</td>\n",
       "      <td>0.304832</td>\n",
       "      <td>DOWNTOWN</td>\n",
       "      <td>Multifamily LR (1-4)</td>\n",
       "      <td>Low-Rise Multifamily</td>\n",
       "      <td>Multifamily Housing</td>\n",
       "      <td>Retail Store</td>\n",
       "      <td>No Data</td>\n",
       "      <td>1900</td>\n",
       "      <td>1</td>\n",
       "      <td>1</td>\n",
       "      <td>0</td>\n",
       "      <td>0</td>\n",
       "    </tr>\n",
       "    <tr>\n",
       "      <th>1</th>\n",
       "      <td>-0.851996</td>\n",
       "      <td>-0.149047</td>\n",
       "      <td>0.125401</td>\n",
       "      <td>-0.069383</td>\n",
       "      <td>0.350543</td>\n",
       "      <td>0.555618</td>\n",
       "      <td>-0.737749</td>\n",
       "      <td>-0.334138</td>\n",
       "      <td>0.497360</td>\n",
       "      <td>No_Data</td>\n",
       "      <td>Multifamily LR (1-4)</td>\n",
       "      <td>Low-Rise Multifamily</td>\n",
       "      <td>Multifamily Housing</td>\n",
       "      <td>No Data</td>\n",
       "      <td>No Data</td>\n",
       "      <td>2000</td>\n",
       "      <td>0</td>\n",
       "      <td>0</td>\n",
       "      <td>0</td>\n",
       "      <td>0</td>\n",
       "    </tr>\n",
       "    <tr>\n",
       "      <th>2</th>\n",
       "      <td>-0.851996</td>\n",
       "      <td>-0.149047</td>\n",
       "      <td>0.125401</td>\n",
       "      <td>0.818316</td>\n",
       "      <td>0.350543</td>\n",
       "      <td>-4.655013</td>\n",
       "      <td>-0.737749</td>\n",
       "      <td>-0.334138</td>\n",
       "      <td>0.602399</td>\n",
       "      <td>DOWNTOWN</td>\n",
       "      <td>NonResidential</td>\n",
       "      <td>No_Data</td>\n",
       "      <td>Retail Store</td>\n",
       "      <td>No Data</td>\n",
       "      <td>No Data</td>\n",
       "      <td>1980</td>\n",
       "      <td>0</td>\n",
       "      <td>0</td>\n",
       "      <td>0</td>\n",
       "      <td>0</td>\n",
       "    </tr>\n",
       "  </tbody>\n",
       "</table>\n",
       "</div>"
      ],
      "text/plain": [
       "   NumberOfPropertyUse  NumberofBuildings  NumberofFloors  PropertyGFATotal  \\\n",
       "0             0.405427          -0.149047        0.125401         -0.157012   \n",
       "1            -0.851996          -0.149047        0.125401         -0.069383   \n",
       "2            -0.851996          -0.149047        0.125401          0.818316   \n",
       "\n",
       "   PropertyBuildingGFARate  L_PUTGFA  S_PUTGFA  T_PUTGFA  ENERGYSTARScore  \\\n",
       "0                 0.350543 -0.282684  0.746611 -0.334138         0.304832   \n",
       "1                 0.350543  0.555618 -0.737749 -0.334138         0.497360   \n",
       "2                 0.350543 -4.655013 -0.737749 -0.334138         0.602399   \n",
       "\n",
       "  Neighborhood          BuildingType   PrimaryPropertyType  \\\n",
       "0     DOWNTOWN  Multifamily LR (1-4)  Low-Rise Multifamily   \n",
       "1      No_Data  Multifamily LR (1-4)  Low-Rise Multifamily   \n",
       "2     DOWNTOWN        NonResidential               No_Data   \n",
       "\n",
       "  LargestPropertyUseType SecondLargestPropertyUseType  \\\n",
       "0    Multifamily Housing                 Retail Store   \n",
       "1    Multifamily Housing                      No Data   \n",
       "2           Retail Store                      No Data   \n",
       "\n",
       "  ThirdLargestPropertyUseType DecadeBuilt Steam NaturalGas Other Outlier  \n",
       "0                     No Data        1900     1          1     0       0  \n",
       "1                     No Data        2000     0          0     0       0  \n",
       "2                     No Data        1980     0          0     0       0  "
      ]
     },
     "execution_count": 47,
     "metadata": {},
     "output_type": "execute_result"
    }
   ],
   "source": [
    "df.head(3)"
   ]
  },
  {
   "cell_type": "markdown",
   "metadata": {},
   "source": [
    "Comme vu ds les deux dernières lignes du log, les deux variables binaires tout au bout, **Other** et **Outlier**, ont été réduites à **une seule valeur**, ce sont des constantes avec plus que des **0**."
   ]
  },
  {
   "cell_type": "code",
   "execution_count": 48,
   "metadata": {},
   "outputs": [
    {
     "data": {
      "text/html": [
       "<div>\n",
       "<style scoped>\n",
       "    .dataframe tbody tr th:only-of-type {\n",
       "        vertical-align: middle;\n",
       "    }\n",
       "\n",
       "    .dataframe tbody tr th {\n",
       "        vertical-align: top;\n",
       "    }\n",
       "\n",
       "    .dataframe thead th {\n",
       "        text-align: right;\n",
       "    }\n",
       "</style>\n",
       "<table border=\"1\" class=\"dataframe\">\n",
       "  <thead>\n",
       "    <tr style=\"text-align: right;\">\n",
       "      <th></th>\n",
       "      <th>Neighborhood</th>\n",
       "      <th>BuildingType</th>\n",
       "      <th>PrimaryPropertyType</th>\n",
       "      <th>LargestPropertyUseType</th>\n",
       "      <th>SecondLargestPropertyUseType</th>\n",
       "      <th>ThirdLargestPropertyUseType</th>\n",
       "      <th>DecadeBuilt</th>\n",
       "      <th>Steam</th>\n",
       "      <th>NaturalGas</th>\n",
       "      <th>Other</th>\n",
       "      <th>Outlier</th>\n",
       "    </tr>\n",
       "  </thead>\n",
       "  <tbody>\n",
       "    <tr>\n",
       "      <th>count</th>\n",
       "      <td>3303</td>\n",
       "      <td>3303</td>\n",
       "      <td>3303</td>\n",
       "      <td>3303</td>\n",
       "      <td>3303</td>\n",
       "      <td>3303</td>\n",
       "      <td>3303</td>\n",
       "      <td>3303</td>\n",
       "      <td>3303</td>\n",
       "      <td>3303</td>\n",
       "      <td>3303</td>\n",
       "    </tr>\n",
       "    <tr>\n",
       "      <th>unique</th>\n",
       "      <td>4</td>\n",
       "      <td>7</td>\n",
       "      <td>3</td>\n",
       "      <td>44</td>\n",
       "      <td>51</td>\n",
       "      <td>37</td>\n",
       "      <td>10</td>\n",
       "      <td>2</td>\n",
       "      <td>2</td>\n",
       "      <td>1</td>\n",
       "      <td>1</td>\n",
       "    </tr>\n",
       "    <tr>\n",
       "      <th>top</th>\n",
       "      <td>No_Data</td>\n",
       "      <td>NonResidential</td>\n",
       "      <td>No_Data</td>\n",
       "      <td>Multifamily Housing</td>\n",
       "      <td>No Data</td>\n",
       "      <td>No Data</td>\n",
       "      <td>2000</td>\n",
       "      <td>0</td>\n",
       "      <td>1</td>\n",
       "      <td>0</td>\n",
       "      <td>0</td>\n",
       "    </tr>\n",
       "    <tr>\n",
       "      <th>freq</th>\n",
       "      <td>1868</td>\n",
       "      <td>1449</td>\n",
       "      <td>1773</td>\n",
       "      <td>1657</td>\n",
       "      <td>1663</td>\n",
       "      <td>2721</td>\n",
       "      <td>495</td>\n",
       "      <td>3174</td>\n",
       "      <td>2059</td>\n",
       "      <td>3303</td>\n",
       "      <td>3303</td>\n",
       "    </tr>\n",
       "  </tbody>\n",
       "</table>\n",
       "</div>"
      ],
      "text/plain": [
       "       Neighborhood    BuildingType PrimaryPropertyType  \\\n",
       "count          3303            3303                3303   \n",
       "unique            4               7                   3   \n",
       "top         No_Data  NonResidential             No_Data   \n",
       "freq           1868            1449                1773   \n",
       "\n",
       "       LargestPropertyUseType SecondLargestPropertyUseType  \\\n",
       "count                    3303                         3303   \n",
       "unique                     44                           51   \n",
       "top       Multifamily Housing                      No Data   \n",
       "freq                     1657                         1663   \n",
       "\n",
       "       ThirdLargestPropertyUseType  DecadeBuilt  Steam  NaturalGas  Other  \\\n",
       "count                         3303         3303   3303        3303   3303   \n",
       "unique                          37           10      2           2      1   \n",
       "top                        No Data         2000      0           1      0   \n",
       "freq                          2721          495   3174        2059   3303   \n",
       "\n",
       "        Outlier  \n",
       "count      3303  \n",
       "unique        1  \n",
       "top           0  \n",
       "freq       3303  "
      ]
     },
     "execution_count": 48,
     "metadata": {},
     "output_type": "execute_result"
    }
   ],
   "source": [
    "df.describe(include = \"category\")"
   ]
  },
  {
   "cell_type": "markdown",
   "metadata": {},
   "source": [
    "Modélisons à partir de ce DF..."
   ]
  },
  {
   "cell_type": "markdown",
   "metadata": {},
   "source": [
    "D'abord l'encodage..."
   ]
  },
  {
   "cell_type": "code",
   "execution_count": 49,
   "metadata": {},
   "outputs": [],
   "source": [
    "cat_liste = df.columns[df.dtypes == \"category\"]\n",
    "\n",
    "for cat in cat_liste :\n",
    "    tar_enc = TargetEncoder()\n",
    "    df[cat] = tar_enc.fit_transform(df[cat], y)"
   ]
  },
  {
   "cell_type": "markdown",
   "metadata": {},
   "source": [
    "Les var catégorielles ont bien été encodées y compris les deux du fonds qui ont bien une valeur cst."
   ]
  },
  {
   "cell_type": "code",
   "execution_count": 50,
   "metadata": {},
   "outputs": [
    {
     "data": {
      "text/html": [
       "<div>\n",
       "<style scoped>\n",
       "    .dataframe tbody tr th:only-of-type {\n",
       "        vertical-align: middle;\n",
       "    }\n",
       "\n",
       "    .dataframe tbody tr th {\n",
       "        vertical-align: top;\n",
       "    }\n",
       "\n",
       "    .dataframe thead th {\n",
       "        text-align: right;\n",
       "    }\n",
       "</style>\n",
       "<table border=\"1\" class=\"dataframe\">\n",
       "  <thead>\n",
       "    <tr style=\"text-align: right;\">\n",
       "      <th></th>\n",
       "      <th>Other</th>\n",
       "      <th>Outlier</th>\n",
       "    </tr>\n",
       "  </thead>\n",
       "  <tbody>\n",
       "    <tr>\n",
       "      <th>count</th>\n",
       "      <td>3303.000000</td>\n",
       "      <td>3303.000000</td>\n",
       "    </tr>\n",
       "    <tr>\n",
       "      <th>mean</th>\n",
       "      <td>3.550852</td>\n",
       "      <td>3.550852</td>\n",
       "    </tr>\n",
       "    <tr>\n",
       "      <th>std</th>\n",
       "      <td>0.000000</td>\n",
       "      <td>0.000000</td>\n",
       "    </tr>\n",
       "    <tr>\n",
       "      <th>min</th>\n",
       "      <td>3.550852</td>\n",
       "      <td>3.550852</td>\n",
       "    </tr>\n",
       "    <tr>\n",
       "      <th>25%</th>\n",
       "      <td>3.550852</td>\n",
       "      <td>3.550852</td>\n",
       "    </tr>\n",
       "    <tr>\n",
       "      <th>50%</th>\n",
       "      <td>3.550852</td>\n",
       "      <td>3.550852</td>\n",
       "    </tr>\n",
       "    <tr>\n",
       "      <th>75%</th>\n",
       "      <td>3.550852</td>\n",
       "      <td>3.550852</td>\n",
       "    </tr>\n",
       "    <tr>\n",
       "      <th>max</th>\n",
       "      <td>3.550852</td>\n",
       "      <td>3.550852</td>\n",
       "    </tr>\n",
       "  </tbody>\n",
       "</table>\n",
       "</div>"
      ],
      "text/plain": [
       "             Other      Outlier\n",
       "count  3303.000000  3303.000000\n",
       "mean      3.550852     3.550852\n",
       "std       0.000000     0.000000\n",
       "min       3.550852     3.550852\n",
       "25%       3.550852     3.550852\n",
       "50%       3.550852     3.550852\n",
       "75%       3.550852     3.550852\n",
       "max       3.550852     3.550852"
      ]
     },
     "execution_count": 50,
     "metadata": {},
     "output_type": "execute_result"
    }
   ],
   "source": [
    "df[[\"Other\", \"Outlier\"]].describe()"
   ]
  },
  {
   "cell_type": "markdown",
   "metadata": {},
   "source": [
    "Je modélise..."
   ]
  },
  {
   "cell_type": "code",
   "execution_count": 51,
   "metadata": {},
   "outputs": [
    {
     "data": {
      "text/plain": [
       "{'Model': 'Gradient Boosting',\n",
       " 'Fit_Time': 1.5310020446777344,\n",
       " 'Score_time': 0.009999990463256836,\n",
       " 'MAE': 0.43974940296133347,\n",
       " 'RMSLE': 0.1419046234788987,\n",
       " 'R2': 0.8167740740381724}"
      ]
     },
     "execution_count": 51,
     "metadata": {},
     "output_type": "execute_result"
    }
   ],
   "source": [
    "res, mod = modelize(GradientBoostingRegressor(random_state = SEED), \"Gradient Boosting\", df, y, True)\n",
    "res"
   ]
  },
  {
   "cell_type": "markdown",
   "metadata": {},
   "source": [
    "Ceci est le résultat attendu, le même qu'obtenu à la fin par mon script (dernière ligne du log)."
   ]
  },
  {
   "cell_type": "markdown",
   "metadata": {},
   "source": [
    "On remarque que dans ce calcul, le modèle accords bien 0 importance aux deux dernières variables constantes."
   ]
  },
  {
   "cell_type": "code",
   "execution_count": 52,
   "metadata": {},
   "outputs": [
    {
     "data": {
      "text/plain": [
       "array([0.00050885, 0.00075628, 0.00815359, 0.3531091 , 0.00247797,\n",
       "       0.01028575, 0.00287398, 0.00172117, 0.02804715, 0.00371393,\n",
       "       0.0038875 , 0.00094226, 0.10822685, 0.00342635, 0.0020597 ,\n",
       "       0.00387174, 0.03682785, 0.42910997, 0.        , 0.        ])"
      ]
     },
     "execution_count": 52,
     "metadata": {},
     "output_type": "execute_result"
    }
   ],
   "source": [
    "mod.feature_importances_"
   ]
  },
  {
   "cell_type": "markdown",
   "metadata": {},
   "source": [
    "Du coup, ces deux variables inutiles, je veux les virer..."
   ]
  },
  {
   "cell_type": "markdown",
   "metadata": {},
   "source": [
    "Faisons-le par exemple depuis le df déjà \"target-encodé\"..."
   ]
  },
  {
   "cell_type": "code",
   "execution_count": 53,
   "metadata": {},
   "outputs": [],
   "source": [
    "df = df.drop([\"Other\", \"Outlier\"], axis = 1)"
   ]
  },
  {
   "cell_type": "markdown",
   "metadata": {},
   "source": [
    "et si maintenant je re-modélise..."
   ]
  },
  {
   "cell_type": "code",
   "execution_count": 54,
   "metadata": {},
   "outputs": [
    {
     "data": {
      "text/plain": [
       "{'Model': 'Gradient Boosting',\n",
       " 'Fit_Time': 1.4800021648406982,\n",
       " 'Score_time': 0.029999971389770508,\n",
       " 'MAE': 0.44012398922400625,\n",
       " 'RMSLE': 0.1419883657327466,\n",
       " 'R2': 0.8163584622842832}"
      ]
     },
     "execution_count": 54,
     "metadata": {},
     "output_type": "execute_result"
    }
   ],
   "source": [
    "res, mod = modelize(GradientBoostingRegressor(random_state = SEED), \"Gradient Boosting\", df, y, True)\n",
    "res"
   ]
  },
  {
   "cell_type": "markdown",
   "metadata": {},
   "source": [
    "Résultat différent........................."
   ]
  },
  {
   "cell_type": "markdown",
   "metadata": {},
   "source": [
    "Ce truc me rend juste fou depuis 3 jours..."
   ]
  },
  {
   "cell_type": "markdown",
   "metadata": {},
   "source": [
    "Est-ce que comme ça, à vu de nez, tu vois où est le problème ?"
   ]
  },
  {
   "cell_type": "markdown",
   "metadata": {},
   "source": [
    "Merci^^ !"
   ]
  },
  {
   "cell_type": "code",
   "execution_count": null,
   "metadata": {},
   "outputs": [],
   "source": []
  },
  {
   "cell_type": "code",
   "execution_count": null,
   "metadata": {},
   "outputs": [],
   "source": []
  },
  {
   "cell_type": "code",
   "execution_count": null,
   "metadata": {},
   "outputs": [],
   "source": []
  },
  {
   "cell_type": "code",
   "execution_count": null,
   "metadata": {},
   "outputs": [],
   "source": []
  }
 ],
 "metadata": {
  "kernelspec": {
   "display_name": "OpClass",
   "language": "python",
   "name": "opclass"
  },
  "language_info": {
   "codemirror_mode": {
    "name": "ipython",
    "version": 3
   },
   "file_extension": ".py",
   "mimetype": "text/x-python",
   "name": "python",
   "nbconvert_exporter": "python",
   "pygments_lexer": "ipython3",
   "version": "3.8.6"
  }
 },
 "nbformat": 4,
 "nbformat_minor": 4
}
