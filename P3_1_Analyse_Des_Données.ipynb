{
 "cells": [
  {
   "cell_type": "markdown",
   "metadata": {},
   "source": [
    "Formation OpenClassrooms DS-IML"
   ]
  },
  {
   "cell_type": "markdown",
   "metadata": {},
   "source": [
    "**Projet 3**"
   ]
  },
  {
   "cell_type": "markdown",
   "metadata": {},
   "source": [
    "Par **Marc Lefèvre**, <marc.lefevre@noos.fr>"
   ]
  },
  {
   "cell_type": "markdown",
   "metadata": {},
   "source": [
    " "
   ]
  },
  {
   "cell_type": "markdown",
   "metadata": {},
   "source": [
    "# **SEATTLE ENERGY BENCHMARKING**"
   ]
  },
  {
   "cell_type": "markdown",
   "metadata": {},
   "source": [
    " "
   ]
  },
  {
   "cell_type": "markdown",
   "metadata": {},
   "source": [
    "A partir de deux datasets contenant des informations relatives à des bêtiments (ou groupe de bâtiments) de la ville de **Seattle** et de leur consomation énergétique, le but de ce projet est triple :<br>- **Modéliser** dans un premier temps cette **consommation électrique**<br>- **Modéliser** ensuite leurs **dégagements de gaz à effet de serre**<br>- Enfin, discuter la pertinence d'un indicateur d'efficacité énergétique appelé **Energy Star Score**."
   ]
  },
  {
   "cell_type": "markdown",
   "metadata": {},
   "source": [
    " "
   ]
  },
  {
   "cell_type": "markdown",
   "metadata": {},
   "source": [
    "### Préliminaires"
   ]
  },
  {
   "cell_type": "markdown",
   "metadata": {},
   "source": [
    "Chargement des bibliothèques Python que nous allons utiliser et récupération des données. "
   ]
  },
  {
   "cell_type": "code",
   "execution_count": 141,
   "metadata": {},
   "outputs": [],
   "source": [
    "import pandas as pd\n",
    "import numpy as np\n",
    "import matplotlib.pyplot as plt\n",
    "import seaborn as sns\n",
    "from marko import table_cor, anova_g, test_chi2_g\n",
    "import scipy.stats as st\n",
    "import pickle\n",
    "\n",
    "# Modification du nombre maximum de colonnes affichables\n",
    "pd.options.display.max_columns = 60"
   ]
  },
  {
   "cell_type": "markdown",
   "metadata": {},
   "source": [
    "Les données sont téléchargeables à ces adresses :"
   ]
  },
  {
   "cell_type": "code",
   "execution_count": null,
   "metadata": {},
   "outputs": [],
   "source": [
    "ddddd"
   ]
  },
  {
   "cell_type": "code",
   "execution_count": 2,
   "metadata": {},
   "outputs": [],
   "source": [
    "df_2015 = pd.read_csv(\"2015-building-energy-benchmarking.csv\")\n",
    "df_2016 = pd.read_csv(\"2016-building-energy-benchmarking.csv\")"
   ]
  },
  {
   "cell_type": "markdown",
   "metadata": {},
   "source": [
    " "
   ]
  },
  {
   "cell_type": "markdown",
   "metadata": {},
   "source": [
    "# 1- Regroupement des données"
   ]
  },
  {
   "cell_type": "markdown",
   "metadata": {},
   "source": [
    "Comme nous l'avons dit, nos données proviennent de deux sources, deux fichiers contenant informations et relevés énergétiques divers, l'un pour **l'année 2015** et l'autre pour **l'année 2016**.<br>Notre première tâche est de regrouper ces données en un **unique dataset**."
   ]
  },
  {
   "cell_type": "markdown",
   "metadata": {},
   "source": [
    "Observons une première fois nos dataframes."
   ]
  },
  {
   "cell_type": "code",
   "execution_count": 3,
   "metadata": {},
   "outputs": [
    {
     "data": {
      "text/html": [
       "<div>\n",
       "<style scoped>\n",
       "    .dataframe tbody tr th:only-of-type {\n",
       "        vertical-align: middle;\n",
       "    }\n",
       "\n",
       "    .dataframe tbody tr th {\n",
       "        vertical-align: top;\n",
       "    }\n",
       "\n",
       "    .dataframe thead th {\n",
       "        text-align: right;\n",
       "    }\n",
       "</style>\n",
       "<table border=\"1\" class=\"dataframe\">\n",
       "  <thead>\n",
       "    <tr style=\"text-align: right;\">\n",
       "      <th></th>\n",
       "      <th>OSEBuildingID</th>\n",
       "      <th>DataYear</th>\n",
       "      <th>BuildingType</th>\n",
       "      <th>PrimaryPropertyType</th>\n",
       "      <th>PropertyName</th>\n",
       "      <th>TaxParcelIdentificationNumber</th>\n",
       "      <th>Location</th>\n",
       "      <th>CouncilDistrictCode</th>\n",
       "      <th>Neighborhood</th>\n",
       "      <th>YearBuilt</th>\n",
       "      <th>NumberofBuildings</th>\n",
       "      <th>NumberofFloors</th>\n",
       "      <th>PropertyGFATotal</th>\n",
       "      <th>PropertyGFAParking</th>\n",
       "      <th>PropertyGFABuilding(s)</th>\n",
       "      <th>ListOfAllPropertyUseTypes</th>\n",
       "      <th>LargestPropertyUseType</th>\n",
       "      <th>LargestPropertyUseTypeGFA</th>\n",
       "      <th>SecondLargestPropertyUseType</th>\n",
       "      <th>SecondLargestPropertyUseTypeGFA</th>\n",
       "      <th>ThirdLargestPropertyUseType</th>\n",
       "      <th>ThirdLargestPropertyUseTypeGFA</th>\n",
       "      <th>YearsENERGYSTARCertified</th>\n",
       "      <th>ENERGYSTARScore</th>\n",
       "      <th>SiteEUI(kBtu/sf)</th>\n",
       "      <th>SiteEUIWN(kBtu/sf)</th>\n",
       "      <th>SourceEUI(kBtu/sf)</th>\n",
       "      <th>SourceEUIWN(kBtu/sf)</th>\n",
       "      <th>SiteEnergyUse(kBtu)</th>\n",
       "      <th>SiteEnergyUseWN(kBtu)</th>\n",
       "      <th>SteamUse(kBtu)</th>\n",
       "      <th>Electricity(kWh)</th>\n",
       "      <th>Electricity(kBtu)</th>\n",
       "      <th>NaturalGas(therms)</th>\n",
       "      <th>NaturalGas(kBtu)</th>\n",
       "      <th>OtherFuelUse(kBtu)</th>\n",
       "      <th>GHGEmissions(MetricTonsCO2e)</th>\n",
       "      <th>GHGEmissionsIntensity(kgCO2e/ft2)</th>\n",
       "      <th>DefaultData</th>\n",
       "      <th>Comment</th>\n",
       "      <th>ComplianceStatus</th>\n",
       "      <th>Outlier</th>\n",
       "      <th>2010 Census Tracts</th>\n",
       "      <th>Seattle Police Department Micro Community Policing Plan Areas</th>\n",
       "      <th>City Council Districts</th>\n",
       "      <th>SPD Beats</th>\n",
       "      <th>Zip Codes</th>\n",
       "    </tr>\n",
       "  </thead>\n",
       "  <tbody>\n",
       "    <tr>\n",
       "      <th>0</th>\n",
       "      <td>1</td>\n",
       "      <td>2015</td>\n",
       "      <td>NonResidential</td>\n",
       "      <td>Hotel</td>\n",
       "      <td>MAYFLOWER PARK HOTEL</td>\n",
       "      <td>659000030</td>\n",
       "      <td>{'latitude': '47.61219025', 'longitude': '-122...</td>\n",
       "      <td>7</td>\n",
       "      <td>DOWNTOWN</td>\n",
       "      <td>1927</td>\n",
       "      <td>1</td>\n",
       "      <td>12.0</td>\n",
       "      <td>88434</td>\n",
       "      <td>0</td>\n",
       "      <td>88434</td>\n",
       "      <td>Hotel</td>\n",
       "      <td>Hotel</td>\n",
       "      <td>88434.0</td>\n",
       "      <td>NaN</td>\n",
       "      <td>NaN</td>\n",
       "      <td>NaN</td>\n",
       "      <td>NaN</td>\n",
       "      <td>NaN</td>\n",
       "      <td>65.0</td>\n",
       "      <td>78.9</td>\n",
       "      <td>80.3</td>\n",
       "      <td>173.5</td>\n",
       "      <td>175.1</td>\n",
       "      <td>6981428.0</td>\n",
       "      <td>7097539.0</td>\n",
       "      <td>2023032.0</td>\n",
       "      <td>1080307.0</td>\n",
       "      <td>3686160.0</td>\n",
       "      <td>12724.0</td>\n",
       "      <td>1272388.0</td>\n",
       "      <td>0.0</td>\n",
       "      <td>249.43</td>\n",
       "      <td>2.64</td>\n",
       "      <td>No</td>\n",
       "      <td>NaN</td>\n",
       "      <td>Compliant</td>\n",
       "      <td>NaN</td>\n",
       "      <td>NaN</td>\n",
       "      <td>14.0</td>\n",
       "      <td>NaN</td>\n",
       "      <td>31.0</td>\n",
       "      <td>18081</td>\n",
       "    </tr>\n",
       "    <tr>\n",
       "      <th>1</th>\n",
       "      <td>2</td>\n",
       "      <td>2015</td>\n",
       "      <td>NonResidential</td>\n",
       "      <td>Hotel</td>\n",
       "      <td>PARAMOUNT HOTEL</td>\n",
       "      <td>659000220</td>\n",
       "      <td>{'latitude': '47.61310583', 'longitude': '-122...</td>\n",
       "      <td>7</td>\n",
       "      <td>DOWNTOWN</td>\n",
       "      <td>1996</td>\n",
       "      <td>1</td>\n",
       "      <td>11.0</td>\n",
       "      <td>103566</td>\n",
       "      <td>15064</td>\n",
       "      <td>88502</td>\n",
       "      <td>Hotel, Parking, Restaurant</td>\n",
       "      <td>Hotel</td>\n",
       "      <td>83880.0</td>\n",
       "      <td>Parking</td>\n",
       "      <td>15064.0</td>\n",
       "      <td>Restaurant</td>\n",
       "      <td>4622.0</td>\n",
       "      <td>NaN</td>\n",
       "      <td>51.0</td>\n",
       "      <td>94.4</td>\n",
       "      <td>99.0</td>\n",
       "      <td>191.3</td>\n",
       "      <td>195.2</td>\n",
       "      <td>8354235.0</td>\n",
       "      <td>8765788.0</td>\n",
       "      <td>0.0</td>\n",
       "      <td>1144563.0</td>\n",
       "      <td>3905411.0</td>\n",
       "      <td>44490.0</td>\n",
       "      <td>4448985.0</td>\n",
       "      <td>0.0</td>\n",
       "      <td>263.51</td>\n",
       "      <td>2.38</td>\n",
       "      <td>No</td>\n",
       "      <td>NaN</td>\n",
       "      <td>Compliant</td>\n",
       "      <td>NaN</td>\n",
       "      <td>NaN</td>\n",
       "      <td>14.0</td>\n",
       "      <td>NaN</td>\n",
       "      <td>31.0</td>\n",
       "      <td>18081</td>\n",
       "    </tr>\n",
       "    <tr>\n",
       "      <th>2</th>\n",
       "      <td>3</td>\n",
       "      <td>2015</td>\n",
       "      <td>NonResidential</td>\n",
       "      <td>Hotel</td>\n",
       "      <td>WESTIN HOTEL</td>\n",
       "      <td>659000475</td>\n",
       "      <td>{'latitude': '47.61334897', 'longitude': '-122...</td>\n",
       "      <td>7</td>\n",
       "      <td>DOWNTOWN</td>\n",
       "      <td>1969</td>\n",
       "      <td>1</td>\n",
       "      <td>41.0</td>\n",
       "      <td>961990</td>\n",
       "      <td>0</td>\n",
       "      <td>961990</td>\n",
       "      <td>Hotel, Parking, Swimming Pool</td>\n",
       "      <td>Hotel</td>\n",
       "      <td>757243.0</td>\n",
       "      <td>Parking</td>\n",
       "      <td>100000.0</td>\n",
       "      <td>Swimming Pool</td>\n",
       "      <td>0.0</td>\n",
       "      <td>NaN</td>\n",
       "      <td>18.0</td>\n",
       "      <td>96.6</td>\n",
       "      <td>99.7</td>\n",
       "      <td>242.7</td>\n",
       "      <td>246.5</td>\n",
       "      <td>73130656.0</td>\n",
       "      <td>75506272.0</td>\n",
       "      <td>19660404.0</td>\n",
       "      <td>14583930.0</td>\n",
       "      <td>49762435.0</td>\n",
       "      <td>37099.0</td>\n",
       "      <td>3709900.0</td>\n",
       "      <td>0.0</td>\n",
       "      <td>2061.48</td>\n",
       "      <td>1.92</td>\n",
       "      <td>Yes</td>\n",
       "      <td>NaN</td>\n",
       "      <td>Compliant</td>\n",
       "      <td>NaN</td>\n",
       "      <td>NaN</td>\n",
       "      <td>56.0</td>\n",
       "      <td>NaN</td>\n",
       "      <td>31.0</td>\n",
       "      <td>18081</td>\n",
       "    </tr>\n",
       "  </tbody>\n",
       "</table>\n",
       "</div>"
      ],
      "text/plain": [
       "   OSEBuildingID  DataYear    BuildingType PrimaryPropertyType  \\\n",
       "0              1      2015  NonResidential               Hotel   \n",
       "1              2      2015  NonResidential               Hotel   \n",
       "2              3      2015  NonResidential               Hotel   \n",
       "\n",
       "           PropertyName TaxParcelIdentificationNumber  \\\n",
       "0  MAYFLOWER PARK HOTEL                     659000030   \n",
       "1       PARAMOUNT HOTEL                     659000220   \n",
       "2          WESTIN HOTEL                     659000475   \n",
       "\n",
       "                                            Location  CouncilDistrictCode  \\\n",
       "0  {'latitude': '47.61219025', 'longitude': '-122...                    7   \n",
       "1  {'latitude': '47.61310583', 'longitude': '-122...                    7   \n",
       "2  {'latitude': '47.61334897', 'longitude': '-122...                    7   \n",
       "\n",
       "  Neighborhood  YearBuilt  NumberofBuildings  NumberofFloors  \\\n",
       "0     DOWNTOWN       1927                  1            12.0   \n",
       "1     DOWNTOWN       1996                  1            11.0   \n",
       "2     DOWNTOWN       1969                  1            41.0   \n",
       "\n",
       "   PropertyGFATotal  PropertyGFAParking  PropertyGFABuilding(s)  \\\n",
       "0             88434                   0                   88434   \n",
       "1            103566               15064                   88502   \n",
       "2            961990                   0                  961990   \n",
       "\n",
       "       ListOfAllPropertyUseTypes LargestPropertyUseType  \\\n",
       "0                          Hotel                  Hotel   \n",
       "1     Hotel, Parking, Restaurant                  Hotel   \n",
       "2  Hotel, Parking, Swimming Pool                  Hotel   \n",
       "\n",
       "   LargestPropertyUseTypeGFA SecondLargestPropertyUseType  \\\n",
       "0                    88434.0                          NaN   \n",
       "1                    83880.0                      Parking   \n",
       "2                   757243.0                      Parking   \n",
       "\n",
       "   SecondLargestPropertyUseTypeGFA ThirdLargestPropertyUseType  \\\n",
       "0                              NaN                         NaN   \n",
       "1                          15064.0                  Restaurant   \n",
       "2                         100000.0               Swimming Pool   \n",
       "\n",
       "   ThirdLargestPropertyUseTypeGFA YearsENERGYSTARCertified  ENERGYSTARScore  \\\n",
       "0                             NaN                      NaN             65.0   \n",
       "1                          4622.0                      NaN             51.0   \n",
       "2                             0.0                      NaN             18.0   \n",
       "\n",
       "   SiteEUI(kBtu/sf)  SiteEUIWN(kBtu/sf)  SourceEUI(kBtu/sf)  \\\n",
       "0              78.9                80.3               173.5   \n",
       "1              94.4                99.0               191.3   \n",
       "2              96.6                99.7               242.7   \n",
       "\n",
       "   SourceEUIWN(kBtu/sf)  SiteEnergyUse(kBtu)  SiteEnergyUseWN(kBtu)  \\\n",
       "0                 175.1            6981428.0              7097539.0   \n",
       "1                 195.2            8354235.0              8765788.0   \n",
       "2                 246.5           73130656.0             75506272.0   \n",
       "\n",
       "   SteamUse(kBtu)  Electricity(kWh)  Electricity(kBtu)  NaturalGas(therms)  \\\n",
       "0       2023032.0         1080307.0          3686160.0             12724.0   \n",
       "1             0.0         1144563.0          3905411.0             44490.0   \n",
       "2      19660404.0        14583930.0         49762435.0             37099.0   \n",
       "\n",
       "   NaturalGas(kBtu)  OtherFuelUse(kBtu)  GHGEmissions(MetricTonsCO2e)  \\\n",
       "0         1272388.0                 0.0                        249.43   \n",
       "1         4448985.0                 0.0                        263.51   \n",
       "2         3709900.0                 0.0                       2061.48   \n",
       "\n",
       "   GHGEmissionsIntensity(kgCO2e/ft2) DefaultData Comment ComplianceStatus  \\\n",
       "0                               2.64          No     NaN        Compliant   \n",
       "1                               2.38          No     NaN        Compliant   \n",
       "2                               1.92         Yes     NaN        Compliant   \n",
       "\n",
       "  Outlier  2010 Census Tracts  \\\n",
       "0     NaN                 NaN   \n",
       "1     NaN                 NaN   \n",
       "2     NaN                 NaN   \n",
       "\n",
       "   Seattle Police Department Micro Community Policing Plan Areas  \\\n",
       "0                                               14.0               \n",
       "1                                               14.0               \n",
       "2                                               56.0               \n",
       "\n",
       "   City Council Districts  SPD Beats  Zip Codes  \n",
       "0                     NaN       31.0      18081  \n",
       "1                     NaN       31.0      18081  \n",
       "2                     NaN       31.0      18081  "
      ]
     },
     "execution_count": 3,
     "metadata": {},
     "output_type": "execute_result"
    }
   ],
   "source": [
    "df_2015.head(3)"
   ]
  },
  {
   "cell_type": "code",
   "execution_count": 4,
   "metadata": {},
   "outputs": [
    {
     "data": {
      "text/html": [
       "<div>\n",
       "<style scoped>\n",
       "    .dataframe tbody tr th:only-of-type {\n",
       "        vertical-align: middle;\n",
       "    }\n",
       "\n",
       "    .dataframe tbody tr th {\n",
       "        vertical-align: top;\n",
       "    }\n",
       "\n",
       "    .dataframe thead th {\n",
       "        text-align: right;\n",
       "    }\n",
       "</style>\n",
       "<table border=\"1\" class=\"dataframe\">\n",
       "  <thead>\n",
       "    <tr style=\"text-align: right;\">\n",
       "      <th></th>\n",
       "      <th>OSEBuildingID</th>\n",
       "      <th>DataYear</th>\n",
       "      <th>BuildingType</th>\n",
       "      <th>PrimaryPropertyType</th>\n",
       "      <th>PropertyName</th>\n",
       "      <th>Address</th>\n",
       "      <th>City</th>\n",
       "      <th>State</th>\n",
       "      <th>ZipCode</th>\n",
       "      <th>TaxParcelIdentificationNumber</th>\n",
       "      <th>CouncilDistrictCode</th>\n",
       "      <th>Neighborhood</th>\n",
       "      <th>Latitude</th>\n",
       "      <th>Longitude</th>\n",
       "      <th>YearBuilt</th>\n",
       "      <th>NumberofBuildings</th>\n",
       "      <th>NumberofFloors</th>\n",
       "      <th>PropertyGFATotal</th>\n",
       "      <th>PropertyGFAParking</th>\n",
       "      <th>PropertyGFABuilding(s)</th>\n",
       "      <th>ListOfAllPropertyUseTypes</th>\n",
       "      <th>LargestPropertyUseType</th>\n",
       "      <th>LargestPropertyUseTypeGFA</th>\n",
       "      <th>SecondLargestPropertyUseType</th>\n",
       "      <th>SecondLargestPropertyUseTypeGFA</th>\n",
       "      <th>ThirdLargestPropertyUseType</th>\n",
       "      <th>ThirdLargestPropertyUseTypeGFA</th>\n",
       "      <th>YearsENERGYSTARCertified</th>\n",
       "      <th>ENERGYSTARScore</th>\n",
       "      <th>SiteEUI(kBtu/sf)</th>\n",
       "      <th>SiteEUIWN(kBtu/sf)</th>\n",
       "      <th>SourceEUI(kBtu/sf)</th>\n",
       "      <th>SourceEUIWN(kBtu/sf)</th>\n",
       "      <th>SiteEnergyUse(kBtu)</th>\n",
       "      <th>SiteEnergyUseWN(kBtu)</th>\n",
       "      <th>SteamUse(kBtu)</th>\n",
       "      <th>Electricity(kWh)</th>\n",
       "      <th>Electricity(kBtu)</th>\n",
       "      <th>NaturalGas(therms)</th>\n",
       "      <th>NaturalGas(kBtu)</th>\n",
       "      <th>DefaultData</th>\n",
       "      <th>Comments</th>\n",
       "      <th>ComplianceStatus</th>\n",
       "      <th>Outlier</th>\n",
       "      <th>TotalGHGEmissions</th>\n",
       "      <th>GHGEmissionsIntensity</th>\n",
       "    </tr>\n",
       "  </thead>\n",
       "  <tbody>\n",
       "    <tr>\n",
       "      <th>0</th>\n",
       "      <td>1</td>\n",
       "      <td>2016</td>\n",
       "      <td>NonResidential</td>\n",
       "      <td>Hotel</td>\n",
       "      <td>Mayflower park hotel</td>\n",
       "      <td>405 Olive way</td>\n",
       "      <td>Seattle</td>\n",
       "      <td>WA</td>\n",
       "      <td>98101.0</td>\n",
       "      <td>0659000030</td>\n",
       "      <td>7</td>\n",
       "      <td>DOWNTOWN</td>\n",
       "      <td>47.61220</td>\n",
       "      <td>-122.33799</td>\n",
       "      <td>1927</td>\n",
       "      <td>1.0</td>\n",
       "      <td>12</td>\n",
       "      <td>88434</td>\n",
       "      <td>0</td>\n",
       "      <td>88434</td>\n",
       "      <td>Hotel</td>\n",
       "      <td>Hotel</td>\n",
       "      <td>88434.0</td>\n",
       "      <td>NaN</td>\n",
       "      <td>NaN</td>\n",
       "      <td>NaN</td>\n",
       "      <td>NaN</td>\n",
       "      <td>NaN</td>\n",
       "      <td>60.0</td>\n",
       "      <td>81.699997</td>\n",
       "      <td>84.300003</td>\n",
       "      <td>182.500000</td>\n",
       "      <td>189.000000</td>\n",
       "      <td>7226362.5</td>\n",
       "      <td>7456910.0</td>\n",
       "      <td>2003882.0</td>\n",
       "      <td>1.156514e+06</td>\n",
       "      <td>3946027.0</td>\n",
       "      <td>12764.52930</td>\n",
       "      <td>1276453.0</td>\n",
       "      <td>False</td>\n",
       "      <td>NaN</td>\n",
       "      <td>Compliant</td>\n",
       "      <td>NaN</td>\n",
       "      <td>249.98</td>\n",
       "      <td>2.83</td>\n",
       "    </tr>\n",
       "    <tr>\n",
       "      <th>1</th>\n",
       "      <td>2</td>\n",
       "      <td>2016</td>\n",
       "      <td>NonResidential</td>\n",
       "      <td>Hotel</td>\n",
       "      <td>Paramount Hotel</td>\n",
       "      <td>724 Pine street</td>\n",
       "      <td>Seattle</td>\n",
       "      <td>WA</td>\n",
       "      <td>98101.0</td>\n",
       "      <td>0659000220</td>\n",
       "      <td>7</td>\n",
       "      <td>DOWNTOWN</td>\n",
       "      <td>47.61317</td>\n",
       "      <td>-122.33393</td>\n",
       "      <td>1996</td>\n",
       "      <td>1.0</td>\n",
       "      <td>11</td>\n",
       "      <td>103566</td>\n",
       "      <td>15064</td>\n",
       "      <td>88502</td>\n",
       "      <td>Hotel, Parking, Restaurant</td>\n",
       "      <td>Hotel</td>\n",
       "      <td>83880.0</td>\n",
       "      <td>Parking</td>\n",
       "      <td>15064.0</td>\n",
       "      <td>Restaurant</td>\n",
       "      <td>4622.0</td>\n",
       "      <td>NaN</td>\n",
       "      <td>61.0</td>\n",
       "      <td>94.800003</td>\n",
       "      <td>97.900002</td>\n",
       "      <td>176.100006</td>\n",
       "      <td>179.399994</td>\n",
       "      <td>8387933.0</td>\n",
       "      <td>8664479.0</td>\n",
       "      <td>0.0</td>\n",
       "      <td>9.504252e+05</td>\n",
       "      <td>3242851.0</td>\n",
       "      <td>51450.81641</td>\n",
       "      <td>5145082.0</td>\n",
       "      <td>False</td>\n",
       "      <td>NaN</td>\n",
       "      <td>Compliant</td>\n",
       "      <td>NaN</td>\n",
       "      <td>295.86</td>\n",
       "      <td>2.86</td>\n",
       "    </tr>\n",
       "    <tr>\n",
       "      <th>2</th>\n",
       "      <td>3</td>\n",
       "      <td>2016</td>\n",
       "      <td>NonResidential</td>\n",
       "      <td>Hotel</td>\n",
       "      <td>5673-The Westin Seattle</td>\n",
       "      <td>1900 5th Avenue</td>\n",
       "      <td>Seattle</td>\n",
       "      <td>WA</td>\n",
       "      <td>98101.0</td>\n",
       "      <td>0659000475</td>\n",
       "      <td>7</td>\n",
       "      <td>DOWNTOWN</td>\n",
       "      <td>47.61393</td>\n",
       "      <td>-122.33810</td>\n",
       "      <td>1969</td>\n",
       "      <td>1.0</td>\n",
       "      <td>41</td>\n",
       "      <td>956110</td>\n",
       "      <td>196718</td>\n",
       "      <td>759392</td>\n",
       "      <td>Hotel</td>\n",
       "      <td>Hotel</td>\n",
       "      <td>756493.0</td>\n",
       "      <td>NaN</td>\n",
       "      <td>NaN</td>\n",
       "      <td>NaN</td>\n",
       "      <td>NaN</td>\n",
       "      <td>NaN</td>\n",
       "      <td>43.0</td>\n",
       "      <td>96.000000</td>\n",
       "      <td>97.699997</td>\n",
       "      <td>241.899994</td>\n",
       "      <td>244.100006</td>\n",
       "      <td>72587024.0</td>\n",
       "      <td>73937112.0</td>\n",
       "      <td>21566554.0</td>\n",
       "      <td>1.451544e+07</td>\n",
       "      <td>49526664.0</td>\n",
       "      <td>14938.00000</td>\n",
       "      <td>1493800.0</td>\n",
       "      <td>False</td>\n",
       "      <td>NaN</td>\n",
       "      <td>Compliant</td>\n",
       "      <td>NaN</td>\n",
       "      <td>2089.28</td>\n",
       "      <td>2.19</td>\n",
       "    </tr>\n",
       "  </tbody>\n",
       "</table>\n",
       "</div>"
      ],
      "text/plain": [
       "   OSEBuildingID  DataYear    BuildingType PrimaryPropertyType  \\\n",
       "0              1      2016  NonResidential               Hotel   \n",
       "1              2      2016  NonResidential               Hotel   \n",
       "2              3      2016  NonResidential               Hotel   \n",
       "\n",
       "              PropertyName          Address     City State  ZipCode  \\\n",
       "0     Mayflower park hotel    405 Olive way  Seattle    WA  98101.0   \n",
       "1          Paramount Hotel  724 Pine street  Seattle    WA  98101.0   \n",
       "2  5673-The Westin Seattle  1900 5th Avenue  Seattle    WA  98101.0   \n",
       "\n",
       "  TaxParcelIdentificationNumber  CouncilDistrictCode Neighborhood  Latitude  \\\n",
       "0                    0659000030                    7     DOWNTOWN  47.61220   \n",
       "1                    0659000220                    7     DOWNTOWN  47.61317   \n",
       "2                    0659000475                    7     DOWNTOWN  47.61393   \n",
       "\n",
       "   Longitude  YearBuilt  NumberofBuildings  NumberofFloors  PropertyGFATotal  \\\n",
       "0 -122.33799       1927                1.0              12             88434   \n",
       "1 -122.33393       1996                1.0              11            103566   \n",
       "2 -122.33810       1969                1.0              41            956110   \n",
       "\n",
       "   PropertyGFAParking  PropertyGFABuilding(s)   ListOfAllPropertyUseTypes  \\\n",
       "0                   0                   88434                       Hotel   \n",
       "1               15064                   88502  Hotel, Parking, Restaurant   \n",
       "2              196718                  759392                       Hotel   \n",
       "\n",
       "  LargestPropertyUseType  LargestPropertyUseTypeGFA  \\\n",
       "0                  Hotel                    88434.0   \n",
       "1                  Hotel                    83880.0   \n",
       "2                  Hotel                   756493.0   \n",
       "\n",
       "  SecondLargestPropertyUseType  SecondLargestPropertyUseTypeGFA  \\\n",
       "0                          NaN                              NaN   \n",
       "1                      Parking                          15064.0   \n",
       "2                          NaN                              NaN   \n",
       "\n",
       "  ThirdLargestPropertyUseType  ThirdLargestPropertyUseTypeGFA  \\\n",
       "0                         NaN                             NaN   \n",
       "1                  Restaurant                          4622.0   \n",
       "2                         NaN                             NaN   \n",
       "\n",
       "  YearsENERGYSTARCertified  ENERGYSTARScore  SiteEUI(kBtu/sf)  \\\n",
       "0                      NaN             60.0         81.699997   \n",
       "1                      NaN             61.0         94.800003   \n",
       "2                      NaN             43.0         96.000000   \n",
       "\n",
       "   SiteEUIWN(kBtu/sf)  SourceEUI(kBtu/sf)  SourceEUIWN(kBtu/sf)  \\\n",
       "0           84.300003          182.500000            189.000000   \n",
       "1           97.900002          176.100006            179.399994   \n",
       "2           97.699997          241.899994            244.100006   \n",
       "\n",
       "   SiteEnergyUse(kBtu)  SiteEnergyUseWN(kBtu)  SteamUse(kBtu)  \\\n",
       "0            7226362.5              7456910.0       2003882.0   \n",
       "1            8387933.0              8664479.0             0.0   \n",
       "2           72587024.0             73937112.0      21566554.0   \n",
       "\n",
       "   Electricity(kWh)  Electricity(kBtu)  NaturalGas(therms)  NaturalGas(kBtu)  \\\n",
       "0      1.156514e+06          3946027.0         12764.52930         1276453.0   \n",
       "1      9.504252e+05          3242851.0         51450.81641         5145082.0   \n",
       "2      1.451544e+07         49526664.0         14938.00000         1493800.0   \n",
       "\n",
       "   DefaultData  Comments ComplianceStatus Outlier  TotalGHGEmissions  \\\n",
       "0        False       NaN        Compliant     NaN             249.98   \n",
       "1        False       NaN        Compliant     NaN             295.86   \n",
       "2        False       NaN        Compliant     NaN            2089.28   \n",
       "\n",
       "   GHGEmissionsIntensity  \n",
       "0                   2.83  \n",
       "1                   2.86  \n",
       "2                   2.19  "
      ]
     },
     "execution_count": 4,
     "metadata": {},
     "output_type": "execute_result"
    }
   ],
   "source": [
    "df_2016.head(3)"
   ]
  },
  {
   "cell_type": "markdown",
   "metadata": {},
   "source": [
    "Ils semblent très similaires, mais pas totalement.<br>Affichons les colonnes de **df_2015** **absentes** de **df_2016**."
   ]
  },
  {
   "cell_type": "code",
   "execution_count": 5,
   "metadata": {},
   "outputs": [
    {
     "data": {
      "text/plain": [
       "Index(['2010 Census Tracts', 'City Council Districts', 'Comment',\n",
       "       'GHGEmissions(MetricTonsCO2e)', 'GHGEmissionsIntensity(kgCO2e/ft2)',\n",
       "       'Location', 'OtherFuelUse(kBtu)', 'SPD Beats',\n",
       "       'Seattle Police Department Micro Community Policing Plan Areas',\n",
       "       'Zip Codes'],\n",
       "      dtype='object')"
      ]
     },
     "execution_count": 5,
     "metadata": {},
     "output_type": "execute_result"
    }
   ],
   "source": [
    "# Colonnes présentes uniquement dans df_2015\n",
    "df_2015.columns.difference(df_2016.columns)"
   ]
  },
  {
   "cell_type": "markdown",
   "metadata": {},
   "source": [
    "Et celles de **df_2016** absentes de **df_2015**."
   ]
  },
  {
   "cell_type": "code",
   "execution_count": 6,
   "metadata": {},
   "outputs": [
    {
     "data": {
      "text/plain": [
       "Index(['Address', 'City', 'Comments', 'GHGEmissionsIntensity', 'Latitude',\n",
       "       'Longitude', 'State', 'TotalGHGEmissions', 'ZipCode'],\n",
       "      dtype='object')"
      ]
     },
     "execution_count": 6,
     "metadata": {},
     "output_type": "execute_result"
    }
   ],
   "source": [
    "# Colonnes uniquement présentes dans df_2016\n",
    "df_2016.columns.difference(df_2015.columns)"
   ]
  },
  {
   "cell_type": "markdown",
   "metadata": {},
   "source": [
    " "
   ]
  },
  {
   "cell_type": "markdown",
   "metadata": {},
   "source": [
    "Après observation détaillée, nous avons que :<br>- df_2015 disposent de variables \"en plus\" de df_2016 (comme \"2010  Census Tracts\", \"City Council Districts\"...)<br>- Certaines colonnes apparement différentes sont les mêmes mais avec juste des noms différents (\"Comments\" / \"Comment\", et les variables en \"GHGEmmissions(...)\"). Il suffit de les **renommer**.<br>- Les variables \"Adress\", \"City\", \"Latitude\", \"Longitude\", \"State\", \"ZipCode\" de df_2016 reprennent les informations présentes sous forme de *string/dictionnaire* dans la variable **\"Location\"** de df_2015. Nous **accorderons ces présentations**."
   ]
  },
  {
   "cell_type": "markdown",
   "metadata": {},
   "source": [
    "**Changements de noms des variables le nécessitant** :"
   ]
  },
  {
   "cell_type": "code",
   "execution_count": 7,
   "metadata": {},
   "outputs": [],
   "source": [
    "df_2016.rename(columns = {'GHGEmissionsIntensity':'GHGEmissionsIntensity(kgCO2e/ft2)'}, \n",
    "               inplace = True)\n",
    "df_2016.rename(columns = {'TotalGHGEmissions':'GHGEmissions(MetricTonsCO2e)'}, \n",
    "               inplace = True)\n",
    "df_2016.rename(columns = {'Comments':'Comment'}, \n",
    "               inplace = True)"
   ]
  },
  {
   "cell_type": "markdown",
   "metadata": {},
   "source": [
    "**Uniformisation des adresses**"
   ]
  },
  {
   "cell_type": "markdown",
   "metadata": {},
   "source": [
    "La variable \"Location\" de df_2015 contient de nombreuses informations dans deux dictionnaires imbriqués et stockés sous forme de **string**."
   ]
  },
  {
   "cell_type": "code",
   "execution_count": 8,
   "metadata": {},
   "outputs": [
    {
     "data": {
      "text/plain": [
       "'{\\'latitude\\': \\'47.61310583\\', \\'longitude\\': \\'-122.33335756\\', \\'human_address\\': \\'{\"address\": \"724 PINE ST\", \"city\": \"SEATTLE\", \"state\": \"WA\", \"zip\": \"98101\"}\\'}'"
      ]
     },
     "execution_count": 8,
     "metadata": {},
     "output_type": "execute_result"
    }
   ],
   "source": [
    "df_2015.Location[1]"
   ]
  },
  {
   "cell_type": "code",
   "execution_count": 9,
   "metadata": {},
   "outputs": [
    {
     "data": {
      "text/plain": [
       "str"
      ]
     },
     "execution_count": 9,
     "metadata": {},
     "output_type": "execute_result"
    }
   ],
   "source": [
    "type(df_2015.Location[1])"
   ]
  },
  {
   "cell_type": "markdown",
   "metadata": {},
   "source": [
    " Nous allons récupérer ces dictionnaires et en ventiler les informations dans de nouvelles colonnes identiques à celles présentes dans df_2016."
   ]
  },
  {
   "cell_type": "code",
   "execution_count": 10,
   "metadata": {},
   "outputs": [],
   "source": [
    "def string_to_dict(s):\n",
    "    \n",
    "    if type(s) != float :\n",
    "        s = str(s)\n",
    "        return eval(s)"
   ]
  },
  {
   "cell_type": "code",
   "execution_count": 11,
   "metadata": {},
   "outputs": [],
   "source": [
    "df_2015[\"Location\"][df_2015[\"Location\"].notnull()] = df_2015[\"Location\"].map(string_to_dict)"
   ]
  },
  {
   "cell_type": "markdown",
   "metadata": {},
   "source": [
    "Grâce à la fonction \"string_to-dict\" on récupère bien des dictionnaires dans la variables \"Location\"."
   ]
  },
  {
   "cell_type": "code",
   "execution_count": 12,
   "metadata": {},
   "outputs": [
    {
     "data": {
      "text/plain": [
       "{'latitude': '47.61310583',\n",
       " 'longitude': '-122.33335756',\n",
       " 'human_address': '{\"address\": \"724 PINE ST\", \"city\": \"SEATTLE\", \"state\": \"WA\", \"zip\": \"98101\"}'}"
      ]
     },
     "execution_count": 12,
     "metadata": {},
     "output_type": "execute_result"
    }
   ],
   "source": [
    "df_2015.Location[1]"
   ]
  },
  {
   "cell_type": "code",
   "execution_count": 13,
   "metadata": {},
   "outputs": [
    {
     "data": {
      "text/plain": [
       "dict"
      ]
     },
     "execution_count": 13,
     "metadata": {},
     "output_type": "execute_result"
    }
   ],
   "source": [
    "type(df_2015.Location[1])"
   ]
  },
  {
   "cell_type": "markdown",
   "metadata": {},
   "source": [
    "Ventilation des données du dictionnaire en plusieurs colonnes."
   ]
  },
  {
   "cell_type": "code",
   "execution_count": 14,
   "metadata": {},
   "outputs": [
    {
     "data": {
      "text/html": [
       "<div>\n",
       "<style scoped>\n",
       "    .dataframe tbody tr th:only-of-type {\n",
       "        vertical-align: middle;\n",
       "    }\n",
       "\n",
       "    .dataframe tbody tr th {\n",
       "        vertical-align: top;\n",
       "    }\n",
       "\n",
       "    .dataframe thead th {\n",
       "        text-align: right;\n",
       "    }\n",
       "</style>\n",
       "<table border=\"1\" class=\"dataframe\">\n",
       "  <thead>\n",
       "    <tr style=\"text-align: right;\">\n",
       "      <th></th>\n",
       "      <th>latitude</th>\n",
       "      <th>longitude</th>\n",
       "      <th>human_address</th>\n",
       "    </tr>\n",
       "  </thead>\n",
       "  <tbody>\n",
       "    <tr>\n",
       "      <th>0</th>\n",
       "      <td>47.61219025</td>\n",
       "      <td>-122.33799744</td>\n",
       "      <td>{\"address\": \"405 OLIVE WAY\", \"city\": \"SEATTLE\"...</td>\n",
       "    </tr>\n",
       "  </tbody>\n",
       "</table>\n",
       "</div>"
      ],
      "text/plain": [
       "      latitude      longitude  \\\n",
       "0  47.61219025  -122.33799744   \n",
       "\n",
       "                                       human_address  \n",
       "0  {\"address\": \"405 OLIVE WAY\", \"city\": \"SEATTLE\"...  "
      ]
     },
     "execution_count": 14,
     "metadata": {},
     "output_type": "execute_result"
    }
   ],
   "source": [
    "df_2015_2 = df_2015[\"Location\"].apply(pd.Series)\n",
    "df_2015_2.head(1)"
   ]
  },
  {
   "cell_type": "markdown",
   "metadata": {},
   "source": [
    "On refait la même manipulation afin de récupérer les données présentes dans \"human address\", puis on concatènera nos différents dataframes."
   ]
  },
  {
   "cell_type": "code",
   "execution_count": 15,
   "metadata": {},
   "outputs": [],
   "source": [
    "df_2015_2[\"human_address\"] = df_2015_2[\"human_address\"].map(string_to_dict)\n",
    "df_2015_3 = df_2015_2[\"human_address\"].apply(pd.Series)"
   ]
  },
  {
   "cell_type": "code",
   "execution_count": 16,
   "metadata": {},
   "outputs": [],
   "source": [
    "df_2015_2 = pd.concat([df_2015_2, df_2015_3], axis = 1, sort = False)\n",
    "df_2015 = pd.concat([df_2015, df_2015_2], axis = 1, sort = False)"
   ]
  },
  {
   "cell_type": "markdown",
   "metadata": {},
   "source": [
    "On se sépare des \"colonnes temporaires\" créées dans l'opération ainsi que de \"city\", \"state\" et \"address\" qui nous seront inutiles."
   ]
  },
  {
   "cell_type": "code",
   "execution_count": 17,
   "metadata": {},
   "outputs": [],
   "source": [
    "df_2015 = df_2015.drop([\"Location\", \"human_address\", \"city\", \"state\", \"address\"], axis=1)"
   ]
  },
  {
   "cell_type": "markdown",
   "metadata": {},
   "source": [
    "On renomme les variables gardées afin qu'elles aient les mêmes noms que dans df_2016."
   ]
  },
  {
   "cell_type": "code",
   "execution_count": 18,
   "metadata": {},
   "outputs": [],
   "source": [
    "df_2015.rename(columns = {'latitude':'Latitude'}, inplace = True)\n",
    "df_2015.rename(columns = {'longitude':'Longitude'}, inplace = True)\n",
    "df_2015.rename(columns = {'zip':'ZipCode'}, inplace = True)"
   ]
  },
  {
   "cell_type": "markdown",
   "metadata": {},
   "source": [
    " "
   ]
  },
  {
   "cell_type": "markdown",
   "metadata": {},
   "source": [
    "**Cas de la variable \"OtherFuelUse(kBtu)\"**"
   ]
  },
  {
   "cell_type": "markdown",
   "metadata": {},
   "source": [
    "\"OtherFuelUse(kBtu)\" est un relevé de consommation énergétique disponible dans les données 2015 mais pas pour 2016. Nous allons le \"copier\" sur les données de 2016, en prenant comme référence la variable \"OSEBuildingID\" (un numéro d'identification des bâtiments), afin, plus tard, d'en tirer une variable catégorielle."
   ]
  },
  {
   "cell_type": "code",
   "execution_count": 19,
   "metadata": {},
   "outputs": [],
   "source": [
    "df_3 = df_2015[[\"OSEBuildingID\", \"OtherFuelUse(kBtu)\"]]\n",
    "df_2016 = pd.merge(df_2016, df_3, how='inner', on=\"OSEBuildingID\")"
   ]
  },
  {
   "cell_type": "markdown",
   "metadata": {},
   "source": [
    "Maintenant, nous pouvons réunir les deux dataframes en un seul que nous allons pouvoir explorer plus en détail."
   ]
  },
  {
   "cell_type": "code",
   "execution_count": 20,
   "metadata": {},
   "outputs": [],
   "source": [
    "df = pd.concat([df_2015, df_2016], ignore_index=True, sort=False)\n",
    "df.to_csv(\"Data/df_raw.csv\", index = False)"
   ]
  },
  {
   "cell_type": "markdown",
   "metadata": {},
   "source": [
    " "
   ]
  },
  {
   "cell_type": "markdown",
   "metadata": {},
   "source": [
    "# 2 - ANALYSE EXPLORATOIRE DES DONNÉES"
   ]
  },
  {
   "cell_type": "markdown",
   "metadata": {},
   "source": [
    " "
   ]
  },
  {
   "cell_type": "markdown",
   "metadata": {},
   "source": [
    "### Observations générales"
   ]
  },
  {
   "cell_type": "code",
   "execution_count": null,
   "metadata": {},
   "outputs": [],
   "source": []
  },
  {
   "cell_type": "code",
   "execution_count": null,
   "metadata": {},
   "outputs": [],
   "source": []
  },
  {
   "cell_type": "code",
   "execution_count": null,
   "metadata": {},
   "outputs": [],
   "source": []
  },
  {
   "cell_type": "markdown",
   "metadata": {},
   "source": [
    "### Nettoyage et organisation des données"
   ]
  },
  {
   "cell_type": "markdown",
   "metadata": {},
   "source": [
    "Nous allons opérer un premier *tour du propriétaires*. Durant celui-ci nous allons *ranger* nos données en différents blocs et nous séparer d'un certains nombre de variable pour des raisons de consistances ou de pertinence."
   ]
  },
  {
   "cell_type": "markdown",
   "metadata": {},
   "source": [
    "**Bloc META**<br>Deux variables nominales qu'on garde afin d'identifier les observations et leur dataframe d'origine."
   ]
  },
  {
   "cell_type": "code",
   "execution_count": 21,
   "metadata": {},
   "outputs": [],
   "source": [
    "meta = [\"OSEBuildingID\", \"DataYear\"]"
   ]
  },
  {
   "cell_type": "markdown",
   "metadata": {},
   "source": [
    "**Bloc GEO**<br>Des variables relatives à la localisation géographique des bâtiments."
   ]
  },
  {
   "cell_type": "code",
   "execution_count": 22,
   "metadata": {},
   "outputs": [],
   "source": [
    "geo = [\"CouncilDistrictCode\", \"Neighborhood\", \"ZipCode\", \"Latitude\", \n",
    "       \"Longitude\"]"
   ]
  },
  {
   "cell_type": "markdown",
   "metadata": {},
   "source": [
    "**Bloc CATE**<br>Un bloc de variables nominales catégorielles décrivant le type, les fonctions, les usages et date de construction ou de dernière rénovation des bâtiments."
   ]
  },
  {
   "cell_type": "code",
   "execution_count": 23,
   "metadata": {},
   "outputs": [],
   "source": [
    "cate = [\"BuildingType\", \"PrimaryPropertyType\", \"ListOfAllPropertyUseTypes\", \n",
    "        \"LargestPropertyUseType\", \"SecondLargestPropertyUseType\", \"ThirdLargestPropertyUseType\", \n",
    "        \"ComplianceStatus\", \"YearBuilt\"]"
   ]
  },
  {
   "cell_type": "markdown",
   "metadata": {},
   "source": [
    "**Bloc QUANT**<br>Ici nous trouvons un groupes de variables quantitatives exprimmant des caractéristiques des propriétés comme le nombre de bâtiment qu'elles contiennent, leur nombre d'étages, et plusieurs type de superficies (\"GFA\" signifie \"Ground Floor Area\") comme la superficie totale des propriétés, leur superficie \"couverte\", et des superficies allouées aux principales utilisations de ces propriétés (habitation, commerce, parking, etc...)."
   ]
  },
  {
   "cell_type": "code",
   "execution_count": 24,
   "metadata": {},
   "outputs": [],
   "source": [
    "quant = [\"NumberofBuildings\", \"NumberofFloors\", \"PropertyGFATotal\", \"PropertyGFAParking\", \n",
    "         \"PropertyGFABuilding(s)\", \"LargestPropertyUseTypeGFA\", \"SecondLargestPropertyUseTypeGFA\", \n",
    "         \"ThirdLargestPropertyUseTypeGFA\"]"
   ]
  },
  {
   "cell_type": "markdown",
   "metadata": {},
   "source": [
    "**Bloc TARGETS**<br>Nous regroupons ici les données quantitatives issues des relevés de consommation énergétique que nos modèles doivent remplacer. C'est dans ce groupes que nous avons les variables à modéliser ainsi que l'indice Energy Star Score à discuter."
   ]
  },
  {
   "cell_type": "code",
   "execution_count": 25,
   "metadata": {},
   "outputs": [],
   "source": [
    "targets = [\"ENERGYSTARScore\", \"SiteEUI(kBtu/sf)\", \"SiteEUIWN(kBtu/sf)\", \"SourceEUI(kBtu/sf)\", \n",
    "           \"SourceEUIWN(kBtu/sf)\", \"SiteEnergyUse(kBtu)\", \"SiteEnergyUseWN(kBtu)\", \"SteamUse(kBtu)\", \n",
    "           \"Electricity(kWh)\", \"Electricity(kBtu)\", \"NaturalGas(therms)\", \"NaturalGas(kBtu)\", \n",
    "           \"OtherFuelUse(kBtu)\", \"GHGEmissions(MetricTonsCO2e)\", \n",
    "           \"GHGEmissionsIntensity(kgCO2e/ft2)\"]"
   ]
  },
  {
   "cell_type": "markdown",
   "metadata": {},
   "source": [
    "**Bloc DROP**<br>Voici ici la liste des variables que nous éliminons à ce stade. Il s'agit principalement de metadata, de variables nominales caractérisant individuellement nos observations, de constantes, ou de variables souffrant de trop faible consistence."
   ]
  },
  {
   "cell_type": "code",
   "execution_count": 26,
   "metadata": {},
   "outputs": [],
   "source": [
    "drop = [\"PropertyName\", \"TaxParcelIdentificationNumber\", \"YearsENERGYSTARCertified\", \"DefaultData\", \n",
    "        \"Comment\", \"YearsENERGYSTARCertified\", \"Comment\", \"2010 Census Tracts\", \n",
    "        \"Seattle Police Department Micro Community Policing Plan Areas\", \"City Council Districts\", \n",
    "        \"Zip Codes\", \"City\", \"State\", \"Address\",\"Comments\", \"SPD Beats\", \"Outlier\"]"
   ]
  },
  {
   "cell_type": "markdown",
   "metadata": {},
   "source": [
    "Ordonnancement et sauvegarde du dataset :"
   ]
  },
  {
   "cell_type": "code",
   "execution_count": 27,
   "metadata": {},
   "outputs": [],
   "source": [
    "df = df[meta + geo + cate + quant + targets]\n",
    "df.to_csv(\"Data/df_clean1.csv\", index = False)"
   ]
  },
  {
   "cell_type": "markdown",
   "metadata": {},
   "source": [
    " "
   ]
  },
  {
   "cell_type": "markdown",
   "metadata": {},
   "source": [
    "# Analyses Univariées"
   ]
  },
  {
   "cell_type": "markdown",
   "metadata": {},
   "source": [
    " "
   ]
  },
  {
   "cell_type": "code",
   "execution_count": 28,
   "metadata": {},
   "outputs": [
    {
     "data": {
      "text/plain": [
       "(6624, 38)"
      ]
     },
     "execution_count": 28,
     "metadata": {},
     "output_type": "execute_result"
    }
   ],
   "source": [
    "df = pd.read_csv(\"Data/df_clean1.csv\")\n",
    "df.shape"
   ]
  },
  {
   "cell_type": "markdown",
   "metadata": {},
   "source": [
    "En les prenant groupe par groupe, nous allons maintenant nous pencher plus en détail sur nos variables."
   ]
  },
  {
   "cell_type": "markdown",
   "metadata": {},
   "source": [
    "## Bloc **META**"
   ]
  },
  {
   "cell_type": "code",
   "execution_count": 29,
   "metadata": {},
   "outputs": [
    {
     "name": "stdout",
     "output_type": "stream",
     "text": [
      "Pour la variable : OSEBuildingID\n",
      "\n",
      "[    1     2     3 ... 50057 50058 50059]\n",
      "\n",
      "24688    2\n",
      "23158    2\n",
      "23170    2\n",
      "641      2\n",
      "27264    2\n",
      "        ..\n",
      "19658    1\n",
      "20658    1\n",
      "21555    1\n",
      "27699    1\n",
      "675      1\n",
      "Name: OSEBuildingID, Length: 3340, dtype: int64\n",
      "------------------\n",
      "\n",
      "Pour la variable : DataYear\n",
      "\n",
      "[2015 2016]\n",
      "\n",
      "2015    3340\n",
      "2016    3284\n",
      "Name: DataYear, dtype: int64\n",
      "------------------\n",
      "\n"
     ]
    }
   ],
   "source": [
    "meta = [\"OSEBuildingID\", \"DataYear\"]\n",
    "\n",
    "for col in meta :\n",
    "    print(f\"Pour la variable : {col}\")\n",
    "    print()\n",
    "    print(df[col].unique())\n",
    "    print()\n",
    "    print(df[col].value_counts())\n",
    "    print(\"------------------\")\n",
    "    print()"
   ]
  },
  {
   "cell_type": "markdown",
   "metadata": {},
   "source": [
    "Comme on s'y attendait, **DataYear** ne possède que deux valeurs selon que l'observation provienne du premier ou du second dataset. Rien de plus à dire sur elle.<br><br>Le cas de **OSEBuildingID** va par contre, de son côté, nous forcer à opérer un **choix important** dans la façon de mener notre étude.<br>Cette variable sert en effet d'identifiant aux bâtiments et propriétés des datasets et le fait que certains identifiants soient présents deux fois, probablement une fois pour chaque année, nous pose un problème.<br>En effet, d'un point de vue technique, garder les observations d'un même bâtiment reviendrait, à moins que ses caractéristiques aient changé d'une année sur l'autre, à donner plus tard à nos algorithmes des **X identiques** donnant des **y différents**, chose qu'il ne faut absolument pas faire.<br>Avant de faire un choix, investiguons plus loin l'ampleur du problème."
   ]
  },
  {
   "cell_type": "markdown",
   "metadata": {},
   "source": [
    "Extrayons une liste de toutes les valeurs de **OSEBuildingID**."
   ]
  },
  {
   "cell_type": "code",
   "execution_count": 30,
   "metadata": {},
   "outputs": [],
   "source": [
    "liste_val = [(val, n) for val, n in zip(df.OSEBuildingID.value_counts().index.tolist(), \n",
    "                                    df.OSEBuildingID.value_counts().tolist())]"
   ]
  },
  {
   "cell_type": "code",
   "execution_count": 31,
   "metadata": {},
   "outputs": [
    {
     "data": {
      "text/plain": [
       "3340"
      ]
     },
     "execution_count": 31,
     "metadata": {},
     "output_type": "execute_result"
    }
   ],
   "source": [
    "len(liste_val)"
   ]
  },
  {
   "cell_type": "markdown",
   "metadata": {},
   "source": [
    "Notre dataset contient **6624** observations, pour seulment **3340** bâtiments uniques. C'est à dire que notre dataset risque d'être diminué de presque sa moitié.<br>Afin de diminuer autant que possible cette perte, nous allons essayer de *récupérer* les bâtiments présents deux fois mais qui auraient des caractéristiques différentes, et pourraient du coup être considérés comme des bâtiments *diférents*."
   ]
  },
  {
   "cell_type": "code",
   "execution_count": 32,
   "metadata": {},
   "outputs": [],
   "source": [
    "# Extraction de la liste des valeurs OSEBuilding présentes deux fois.\n",
    "\n",
    "liste_val_2 = [t for t in liste_val if t[1] == 2]\n",
    "liste_val_2 = [t[0] for t in liste_val_2]"
   ]
  },
  {
   "cell_type": "markdown",
   "metadata": {},
   "source": [
    "Pour chaque **OSEBuildingID** nous allons comparer, pour certaines variables, les observations de 2015 et 2016. Si leurs valeurs sont identiques, nous garderons l'observation de **2016** que nous jugeons plus pertinente, parce que plus récente et donc plus à même de décrire leur état actuel.<br><br>Voici la liste des variables pour lesquelles nous allons faire cette comparaison. N'y figurent ni les variables géographiques, parce que des bâtiments n'auront pas changé de place d'une année sur l'autre, ni, naturellement nos variables cibles. "
   ]
  },
  {
   "cell_type": "code",
   "execution_count": 33,
   "metadata": {},
   "outputs": [],
   "source": [
    "# liste des features de comparaison :\n",
    "colonnes = ['BuildingType', 'PrimaryPropertyType',\n",
    "       'ListOfAllPropertyUseTypes', 'LargestPropertyUseType',\n",
    "       'SecondLargestPropertyUseType', 'ThirdLargestPropertyUseType',\n",
    "       'ComplianceStatus', 'NumberofBuildings', 'NumberofFloors',\n",
    "       'PropertyGFATotal', 'PropertyGFAParking', 'PropertyGFABuilding(s)']"
   ]
  },
  {
   "cell_type": "code",
   "execution_count": 34,
   "metadata": {},
   "outputs": [],
   "source": [
    "# Boucle de comparaison et d'effacement des données en \"doublon\"...\n",
    "for n in liste_val_2 :\n",
    "    \n",
    "    if df[colonnes][(df[\"OSEBuildingID\"] == n) & (df[\"DataYear\"] == 2015)].to_numpy().all() ==\\\n",
    "    df[colonnes][(df[\"OSEBuildingID\"] == n) & (df[\"DataYear\"] == 2016)].to_numpy().all() :\n",
    "        df = df.drop(df[(df[\"OSEBuildingID\"] == n) & (df[\"DataYear\"] == 2015)].index)"
   ]
  },
  {
   "cell_type": "code",
   "execution_count": 35,
   "metadata": {},
   "outputs": [
    {
     "data": {
      "text/plain": [
       "(3838, 38)"
      ]
     },
     "execution_count": 35,
     "metadata": {},
     "output_type": "execute_result"
    }
   ],
   "source": [
    "df.shape"
   ]
  },
  {
   "cell_type": "markdown",
   "metadata": {},
   "source": [
    "En procédant de la sorte nous avons \"sauvé\" **498** observations, et nous pouvons nous séparer des deux variables de notre bloc **meta**."
   ]
  },
  {
   "cell_type": "code",
   "execution_count": 36,
   "metadata": {},
   "outputs": [],
   "source": [
    "df = df.drop(meta, axis = 1)"
   ]
  },
  {
   "cell_type": "code",
   "execution_count": 37,
   "metadata": {},
   "outputs": [],
   "source": [
    "df.to_csv(\"Data/df_clean2.csv\", index = False)"
   ]
  },
  {
   "cell_type": "code",
   "execution_count": 86,
   "metadata": {},
   "outputs": [],
   "source": [
    "df = pd.read_csv(\"Data/df_clean2.csv\")"
   ]
  },
  {
   "cell_type": "markdown",
   "metadata": {},
   "source": [
    " "
   ]
  },
  {
   "cell_type": "markdown",
   "metadata": {},
   "source": [
    "## Bloc **GEO**"
   ]
  },
  {
   "cell_type": "code",
   "execution_count": 87,
   "metadata": {},
   "outputs": [],
   "source": [
    "geo = [\"CouncilDistrictCode\", \"Neighborhood\", \"ZipCode\", \"Latitude\", \n",
    "       \"Longitude\"]"
   ]
  },
  {
   "cell_type": "code",
   "execution_count": 113,
   "metadata": {},
   "outputs": [
    {
     "name": "stdout",
     "output_type": "stream",
     "text": [
      "Variable : CouncilDistrictCode\n",
      "[7 3 2 1 4 5 6]\n"
     ]
    },
    {
     "data": {
      "image/png": "[encoded data removed]",
      "text/plain": [
       "<Figure size 360x360 with 1 Axes>"
      ]
     },
     "metadata": {
      "needs_background": "light"
     },
     "output_type": "display_data"
    },
    {
     "name": "stdout",
     "output_type": "stream",
     "text": [
      "Variable : Neighborhood\n",
      "['DOWNTOWN' 'EAST' 'MAGNOLIA / QUEEN ANNE' 'DELRIDGE' 'LAKE UNION'\n",
      " 'GREATER DUWAMISH' 'NORTH' 'NORTHWEST' 'NORTHEAST' 'BALLARD' 'SOUTHEAST'\n",
      " 'SOUTHWEST' 'CENTRAL' 'Central' 'Ballard' 'North' 'Delridge' 'Northwest']\n"
     ]
    },
    {
     "data": {
      "image/png": "[encoded data removed]",
      "text/plain": [
       "<Figure size 360x360 with 1 Axes>"
      ]
     },
     "metadata": {
      "needs_background": "light"
     },
     "output_type": "display_data"
    },
    {
     "name": "stdout",
     "output_type": "stream",
     "text": [
      "Variable : ZipCode\n",
      "[98101. 98121. 98104. 98109. 98119. 98126. 98102. 98144. 98125. 98103.\n",
      " 98134. 98122. 98115. 98107. 98133. 98177. 98105. 98118. 98199. 98117.\n",
      " 98116. 98112. 98106. 98136. 98108. 98146. 98154. 98070. 98033. 98111.\n",
      " 98191. 98164. 98181. 98168. 98155. 98006. 98124. 98053. 98012. 98013.\n",
      " 98028. 98178. 98114. 98127. 98165. 98011. 98198. 98113. 98040. 98204.\n",
      " 98020. 98272. 98145.]\n"
     ]
    },
    {
     "data": {
      "image/png": "[encoded data removed]",
      "text/plain": [
       "<Figure size 360x360 with 1 Axes>"
      ]
     },
     "metadata": {
      "needs_background": "light"
     },
     "output_type": "display_data"
    }
   ],
   "source": [
    "for col in geo[:-2] :\n",
    "    print(f\"Variable : {col}\")\n",
    "    print(df[col].unique())\n",
    "    \n",
    "    if str(df[col].dtype) == \"float64\" or str(df[col].dtype) == \"int64\" :\n",
    "        fig = plt.figure(figsize = (5,5))\n",
    "        sns.distplot(df[col], \n",
    "                     kde_kws={\"color\": \"r\"}, \n",
    "                     hist_kws={'color':\"b\"})\n",
    "        plt.show()\n",
    "    else :\n",
    "        fig = plt.figure(figsize = (5,5))\n",
    "        df[col].value_counts().plot.bar()\n",
    "        plt.show()"
   ]
  },
  {
   "cell_type": "markdown",
   "metadata": {},
   "source": [
    "Nous disposons de trois variables catégorielles nous renseignant, avec une précision croissante, sur la localisation géographique des observations dans Seattle. D'abord, corrigeons **Neighborhood** en passant totes les catégories en majuscules."
   ]
  },
  {
   "cell_type": "code",
   "execution_count": 88,
   "metadata": {},
   "outputs": [],
   "source": [
    "def to_maj(s):\n",
    "    return s.upper()\n",
    "\n",
    "df[\"Neighborhood\"] = df[\"Neighborhood\"].map(to_maj)"
   ]
  },
  {
   "cell_type": "markdown",
   "metadata": {},
   "source": [
    "Nous disposons également, avec les variables **Latitude** et **Longitude**, que nous allons regrouper dans une variables **Coord**, de l'emplacement de chaque propriété."
   ]
  },
  {
   "cell_type": "code",
   "execution_count": 89,
   "metadata": {},
   "outputs": [],
   "source": [
    "df['Coord'] = list(zip(df.Latitude, df.Longitude))\n",
    "df = df.drop([\"Latitude\", \"Longitude\"], axis = 1)"
   ]
  },
  {
   "cell_type": "code",
   "execution_count": 90,
   "metadata": {},
   "outputs": [],
   "source": [
    "geo = [\"CouncilDistrictCode\", \"Neighborhood\", \"ZipCode\", \"Coord\"]"
   ]
  },
  {
   "cell_type": "markdown",
   "metadata": {},
   "source": [
    "Nous ne voyons pas comment, à l'échelle d'une ville, la localisation géographique pourrait être un facteur notable dans la consomation des bâtiments. Nous sommes persuadés que nous n'avons assurément pas besoin de quatre variables géographique. Mais nous gardons ces variables au cas où en fait la localisation joue, afin de prendre la plus pertinente de celles dont nous disposons."
   ]
  },
  {
   "cell_type": "markdown",
   "metadata": {},
   "source": [
    " "
   ]
  },
  {
   "cell_type": "markdown",
   "metadata": {},
   "source": [
    "## Bloc **CATE**"
   ]
  },
  {
   "cell_type": "code",
   "execution_count": 91,
   "metadata": {},
   "outputs": [],
   "source": [
    "cate = [\"BuildingType\", \"PrimaryPropertyType\", \"ListOfAllPropertyUseTypes\", \n",
    "        \"LargestPropertyUseType\", \"SecondLargestPropertyUseType\", \"ThirdLargestPropertyUseType\", \n",
    "        \"ComplianceStatus\", \"YearBuilt\"]"
   ]
  },
  {
   "cell_type": "markdown",
   "metadata": {},
   "source": [
    "Nous voici avec notre bloc de variables catégorielles définissant les types et les usages des bâtiments/propriétés, ainsi que"
   ]
  },
  {
   "cell_type": "code",
   "execution_count": 92,
   "metadata": {},
   "outputs": [
    {
     "name": "stdout",
     "output_type": "stream",
     "text": [
      "Variable : BuildingType\n",
      "Nombre de catégories uniques : 7\n",
      "Variable : PrimaryPropertyType\n",
      "Nombre de catégories uniques : 27\n",
      "Variable : ListOfAllPropertyUseTypes\n",
      "Nombre de catégories uniques : 460\n",
      "Variable : LargestPropertyUseType\n",
      "Nombre de catégories uniques : 57\n",
      "Variable : SecondLargestPropertyUseType\n",
      "Nombre de catégories uniques : 51\n",
      "Variable : ThirdLargestPropertyUseType\n",
      "Nombre de catégories uniques : 43\n",
      "Variable : ComplianceStatus\n",
      "Nombre de catégories uniques : 5\n",
      "Variable : YearBuilt\n",
      "Nombre de catégories uniques : 113\n"
     ]
    }
   ],
   "source": [
    "for col in cate :\n",
    "    print(f\"Variable : {col}\")\n",
    "    print(f\"Nombre de catégories uniques : {df[col].unique().shape[0]}\")"
   ]
  },
  {
   "cell_type": "code",
   "execution_count": 44,
   "metadata": {},
   "outputs": [
    {
     "name": "stdout",
     "output_type": "stream",
     "text": [
      "Variable : BuildingType\n",
      "Nombre de catégories uniques : 7\n",
      "['NonResidential' 'Multifamily LR (1-4)' 'Nonresidential COS' 'Campus'\n",
      " 'Multifamily HR (10+)' 'Multifamily MR (5-9)' 'SPS-District K-12']\n"
     ]
    },
    {
     "data": {
      "image/png": "[encoded data removed]",
      "text/plain": [
       "<Figure size 360x360 with 1 Axes>"
      ]
     },
     "metadata": {},
     "output_type": "display_data"
    },
    {
     "name": "stdout",
     "output_type": "stream",
     "text": [
      "Variable : PrimaryPropertyType\n",
      "Nombre de catégories uniques : 27\n",
      "\n",
      "****** Le nombre de variable est trop important ******\n",
      "****** Affichage des données pour les 20 premières valeurs au lieu de 27 ******\n",
      "\n",
      "['Hotel' 'Low-Rise Multifamily' 'Mixed Use Property'\n",
      " 'Small- and Mid-Sized Office' 'Other' 'Large Office' 'Retail Store'\n",
      " 'Hospital' 'Supermarket/Grocery Store' 'Non-Refrigerated Warehouse'\n",
      " 'Medical Office' 'High-Rise Multifamily' 'Mid-Rise Multifamily'\n",
      " 'Senior Care Community' 'Residence Hall/Dormitory' 'K-12 School'\n",
      " 'Worship Facility' 'Restaurant\\n' 'University' 'Self-Storage Facility']\n"
     ]
    },
    {
     "data": {
      "image/png": "[encoded data removed]",
      "text/plain": [
       "<Figure size 360x360 with 1 Axes>"
      ]
     },
     "metadata": {},
     "output_type": "display_data"
    },
    {
     "name": "stdout",
     "output_type": "stream",
     "text": [
      "Variable : ListOfAllPropertyUseTypes\n",
      "Nombre de catégories uniques : 460\n",
      "\n",
      "****** Le nombre de variable est trop important ******\n",
      "****** Affichage des données pour les 20 premières valeurs au lieu de 460 ******\n",
      "\n",
      "['Hotel, Parking, Swimming Pool' nan 'Multifamily Housing, Retail Store'\n",
      " 'Data Center, Medical Office, Non-Refrigerated Warehouse, Office, Other, Parking'\n",
      " 'Data Center, Distribution Center, Office, Parking, Retail Store'\n",
      " 'Hotel, Parking' 'Museum'\n",
      " 'Financial Office, Multifamily Housing, Parking, Retail Store, Supermarket/Grocery Store'\n",
      " 'Multifamily Housing' 'Office, Parking' 'Office, Other, Parking'\n",
      " 'Laboratory, Office, Parking' 'Office' 'Hotel'\n",
      " 'Movie Theater, Other - Restaurant/Bar, Parking'\n",
      " 'Data Center, Office, Other, Parking, Restaurant' 'Other, Parking'\n",
      " 'Hospital (General Medical & Surgical)'\n",
      " 'Parking, Retail Store, Supermarket/Grocery Store'\n",
      " 'Parking, Supermarket/Grocery Store']\n"
     ]
    },
    {
     "data": {
      "image/png": "[encoded data removed]",
      "text/plain": [
       "<Figure size 360x360 with 1 Axes>"
      ]
     },
     "metadata": {},
     "output_type": "display_data"
    },
    {
     "name": "stdout",
     "output_type": "stream",
     "text": [
      "Variable : LargestPropertyUseType\n",
      "Nombre de catégories uniques : 57\n",
      "\n",
      "****** Le nombre de variable est trop important ******\n",
      "****** Affichage des données pour les 20 premières valeurs au lieu de 57 ******\n",
      "\n",
      "['Hotel' nan 'Multifamily Housing' 'Medical Office' 'Office' 'Museum'\n",
      " 'Laboratory' 'Parking' 'Other' 'Hospital (General Medical & Surgical)'\n",
      " 'Retail Store' 'Supermarket/Grocery Store' 'Senior Care Community'\n",
      " 'Residence Hall/Dormitory' 'Non-Refrigerated Warehouse' 'K-12 School'\n",
      " 'Restaurant' 'Outpatient Rehabilitation/Physical Therapy'\n",
      " 'Automobile Dealership' 'Other - Recreation']\n"
     ]
    },
    {
     "data": {
      "image/png": "[encoded data removed]",
      "text/plain": [
       "<Figure size 360x360 with 1 Axes>"
      ]
     },
     "metadata": {},
     "output_type": "display_data"
    },
    {
     "name": "stdout",
     "output_type": "stream",
     "text": [
      "Variable : SecondLargestPropertyUseType\n",
      "Nombre de catégories uniques : 51\n",
      "\n",
      "****** Le nombre de variable est trop important ******\n",
      "****** Affichage des données pour les 20 premières valeurs au lieu de 51 ******\n",
      "\n",
      "['Parking' nan 'Retail Store' 'Data Center' 'Supermarket/Grocery Store'\n",
      " 'Movie Theater' 'Laboratory' 'Office' 'Other' 'Bank Branch'\n",
      " 'Medical Office' 'K-12 School' 'Restaurant' 'Financial Office'\n",
      " 'Multifamily Housing' 'Fitness Center/Health Club/Gym'\n",
      " 'Senior Care Community' 'Hospital (General Medical & Surgical)' 'Hotel'\n",
      " 'Other - Public Services']\n"
     ]
    },
    {
     "data": {
      "image/png": "[encoded data removed]",
      "text/plain": [
       "<Figure size 360x360 with 1 Axes>"
      ]
     },
     "metadata": {},
     "output_type": "display_data"
    },
    {
     "name": "stdout",
     "output_type": "stream",
     "text": [
      "Variable : ThirdLargestPropertyUseType\n",
      "Nombre de catégories uniques : 43\n",
      "\n",
      "****** Le nombre de variable est trop important ******\n",
      "****** Affichage des données pour les 20 premières valeurs au lieu de 43 ******\n",
      "\n",
      "['Swimming Pool' nan 'Office' 'Distribution Center' 'Parking' 'Other'\n",
      " 'Other - Restaurant/Bar' 'Laboratory' 'Financial Office' 'Retail Store'\n",
      " 'Restaurant' 'Personal Services (Health/Beauty, Dry Cleaning, etc)'\n",
      " 'Non-Refrigerated Warehouse' 'Multifamily Housing' 'Social/Meeting Hall'\n",
      " 'Worship Facility' 'Food Service' 'Bank Branch' 'Fast Food Restaurant'\n",
      " 'Fitness Center/Health Club/Gym']\n"
     ]
    },
    {
     "data": {
      "image/png": "[encoded data removed]",
      "text/plain": [
       "<Figure size 360x360 with 1 Axes>"
      ]
     },
     "metadata": {},
     "output_type": "display_data"
    },
    {
     "name": "stdout",
     "output_type": "stream",
     "text": [
      "Variable : ComplianceStatus\n",
      "Nombre de catégories uniques : 5\n",
      "['Compliant' 'Not Compliant' 'Error - Correct Default Data' 'Missing Data'\n",
      " 'Non-Compliant']\n"
     ]
    },
    {
     "data": {
      "image/png": "[encoded data removed]",
      "text/plain": [
       "<Figure size 360x360 with 1 Axes>"
      ]
     },
     "metadata": {},
     "output_type": "display_data"
    },
    {
     "name": "stdout",
     "output_type": "stream",
     "text": [
      "Variable : YearBuilt\n",
      "Nombre de catégories uniques : 113\n",
      "\n",
      "****** Le nombre de variable est trop important ******\n",
      "****** Affichage des données pour les 20 premières valeurs au lieu de 113 ******\n",
      "\n",
      "[1969 1980 1922 1900 1983 1986 2002 1910 2007 1968 1981 1989 1990 1906\n",
      " 1973 1996 1947 1962 1997 2000]\n"
     ]
    },
    {
     "data": {
      "image/png": "[encoded data removed]",
      "text/plain": [
       "<Figure size 360x360 with 1 Axes>"
      ]
     },
     "metadata": {},
     "output_type": "display_data"
    }
   ],
   "source": [
    "for col in cate :\n",
    "    print(f\"Variable : {col}\")\n",
    "    print(f\"Nombre de catégories uniques : {df[col].unique().shape[0]}\")\n",
    "    \n",
    "    if df[col].unique().shape[0] < 20 :\n",
    "        print(df[col].unique())\n",
    "        fig = plt.figure(figsize = (5,5))\n",
    "        df[col].value_counts().plot.pie()\n",
    "        plt.show()\n",
    "    \n",
    "    else :\n",
    "        print()\n",
    "        print(\"****** Le nombre de variable est trop important ******\")\n",
    "        print(f\"****** Affichage des données pour les 20 premières valeurs au lieu de {df[col].unique().shape[0]} ******\")\n",
    "        print()\n",
    "        print(df[col].unique()[:20])\n",
    "        fig = plt.figure(figsize = (5,5))\n",
    "        df[col].value_counts()[:20].plot.pie()\n",
    "        plt.show()        "
   ]
  },
  {
   "cell_type": "markdown",
   "metadata": {},
   "source": [
    "**Remarque générale**<br>On remarque que si une variable comme **BuildingType** contient un nombre assez faible de catégories, les autres en contiennent beaucoup plus, parfois jusqu'à plusieurs centaines. De plus, même si on n'a affiché que des représentations des 20 plus grandes valeurs de ces variables, on voit bien que la population, et donc la **représentativité**, de ces valeurs **décroit très vite**. Il nous faudra très probablement tenir compte de cela et faire en sorte que ces variables catégorielles ne soient pas un **facteur excessif** de **bruit** pour nos modèles."
   ]
  },
  {
   "cell_type": "markdown",
   "metadata": {},
   "source": [
    " "
   ]
  },
  {
   "cell_type": "markdown",
   "metadata": {},
   "source": [
    "### Cas de **ListOfAllPropertyUseTypes**"
   ]
  },
  {
   "cell_type": "markdown",
   "metadata": {},
   "source": [
    " "
   ]
  },
  {
   "cell_type": "code",
   "execution_count": 219,
   "metadata": {},
   "outputs": [
    {
     "data": {
      "text/html": [
       "<div>\n",
       "<style scoped>\n",
       "    .dataframe tbody tr th:only-of-type {\n",
       "        vertical-align: middle;\n",
       "    }\n",
       "\n",
       "    .dataframe tbody tr th {\n",
       "        vertical-align: top;\n",
       "    }\n",
       "\n",
       "    .dataframe thead th {\n",
       "        text-align: right;\n",
       "    }\n",
       "</style>\n",
       "<table border=\"1\" class=\"dataframe\">\n",
       "  <thead>\n",
       "    <tr style=\"text-align: right;\">\n",
       "      <th></th>\n",
       "      <th>ListOfAllPropertyUseTypes</th>\n",
       "      <th>LargestPropertyUseType</th>\n",
       "      <th>SecondLargestPropertyUseType</th>\n",
       "      <th>ThirdLargestPropertyUseType</th>\n",
       "    </tr>\n",
       "  </thead>\n",
       "  <tbody>\n",
       "    <tr>\n",
       "      <th>0</th>\n",
       "      <td>Hotel, Parking, Swimming Pool</td>\n",
       "      <td>Hotel</td>\n",
       "      <td>Parking</td>\n",
       "      <td>Swimming Pool</td>\n",
       "    </tr>\n",
       "    <tr>\n",
       "      <th>1</th>\n",
       "      <td>Hotel, Parking, Swimming Pool</td>\n",
       "      <td>Hotel</td>\n",
       "      <td>Parking</td>\n",
       "      <td>Swimming Pool</td>\n",
       "    </tr>\n",
       "    <tr>\n",
       "      <th>2</th>\n",
       "      <td>NaN</td>\n",
       "      <td>NaN</td>\n",
       "      <td>NaN</td>\n",
       "      <td>NaN</td>\n",
       "    </tr>\n",
       "    <tr>\n",
       "      <th>3</th>\n",
       "      <td>Multifamily Housing, Retail Store</td>\n",
       "      <td>Multifamily Housing</td>\n",
       "      <td>Retail Store</td>\n",
       "      <td>NaN</td>\n",
       "    </tr>\n",
       "    <tr>\n",
       "      <th>4</th>\n",
       "      <td>Data Center, Medical Office, Non-Refrigerated ...</td>\n",
       "      <td>Medical Office</td>\n",
       "      <td>Parking</td>\n",
       "      <td>Office</td>\n",
       "    </tr>\n",
       "  </tbody>\n",
       "</table>\n",
       "</div>"
      ],
      "text/plain": [
       "                           ListOfAllPropertyUseTypes LargestPropertyUseType  \\\n",
       "0                      Hotel, Parking, Swimming Pool                  Hotel   \n",
       "1                      Hotel, Parking, Swimming Pool                  Hotel   \n",
       "2                                                NaN                    NaN   \n",
       "3                  Multifamily Housing, Retail Store    Multifamily Housing   \n",
       "4  Data Center, Medical Office, Non-Refrigerated ...         Medical Office   \n",
       "\n",
       "  SecondLargestPropertyUseType ThirdLargestPropertyUseType  \n",
       "0                      Parking               Swimming Pool  \n",
       "1                      Parking               Swimming Pool  \n",
       "2                          NaN                         NaN  \n",
       "3                 Retail Store                         NaN  \n",
       "4                      Parking                      Office  "
      ]
     },
     "execution_count": 219,
     "metadata": {},
     "output_type": "execute_result"
    }
   ],
   "source": [
    "df[[\"ListOfAllPropertyUseTypes\", \"LargestPropertyUseType\", \"SecondLargestPropertyUseType\", \n",
    "    \"ThirdLargestPropertyUseType\"]].head(5)"
   ]
  },
  {
   "cell_type": "markdown",
   "metadata": {},
   "source": [
    "Lors de nos observations, il nous a semblé que très souvent, et comme son nom peut le laisser penser, **ListOfAllPropertyUseTypes** était la concaténation des variables **LargestPropertyUseType**, **SecondLargestPropertyUseType** et **ThirdLargestPropertyUseType**.<br>Nous allons le vérifier et créant une variable **Words** qui sera l'addition des trois dernièrs variables évoquées, et en la comparant avec la première."
   ]
  },
  {
   "cell_type": "code",
   "execution_count": 93,
   "metadata": {},
   "outputs": [],
   "source": [
    "# création de \"words\"\n",
    "df[\"words\"] = \"\"\n",
    "df[\"words\"][df[\"ThirdLargestPropertyUseType\"].notnull()] = df[\"LargestPropertyUseType\"].astype('str')\\\n",
    "            + \", \" + df[\"SecondLargestPropertyUseType\"].astype('str')\\\n",
    "            + \", \" + df[\"ThirdLargestPropertyUseType\"].astype('str')\n",
    "\n",
    "df[\"words\"][df[\"ThirdLargestPropertyUseType\"].isnull() & df[\"SecondLargestPropertyUseType\"].notnull()] = df[\"LargestPropertyUseType\"].astype('str')\\\n",
    "            + \", \" + df[\"SecondLargestPropertyUseType\"].astype('str')\n",
    "\n",
    "df[\"words\"][df[\"ThirdLargestPropertyUseType\"].isnull() & df[\"SecondLargestPropertyUseType\"].isnull() & df[\"LargestPropertyUseType\"].notnull()] = df[\"LargestPropertyUseType\"].astype('str')"
   ]
  },
  {
   "cell_type": "code",
   "execution_count": 94,
   "metadata": {},
   "outputs": [
    {
     "data": {
      "text/plain": [
       "True     3107\n",
       "False     731\n",
       "Name: table, dtype: int64"
      ]
     },
     "execution_count": 94,
     "metadata": {},
     "output_type": "execute_result"
    }
   ],
   "source": [
    "df[\"ListOfAllPropertyUseTypes\"] = df[\"ListOfAllPropertyUseTypes\"].fillna(\"\")\n",
    "\n",
    "# création d'une variable booléenne suite à la comparaison\n",
    "df['table'] = np.where(df[\"ListOfAllPropertyUseTypes\"] == df[\"words\"], True, False)\n",
    "\n",
    "# analyse des résultats\n",
    "df['table'].value_counts()"
   ]
  },
  {
   "cell_type": "markdown",
   "metadata": {},
   "source": [
    "Comme nous le pensions, la relation existe bien. Ceci dit, la comparaison renvoie aussi à suffisament de différence pour qu'on ne puisse pas simplement éliminer **ListOfAllPropertyUseTypes** sans risquer de perdre de l'information importante.<br>Au cours d'une démarche dont nous vous épargnons les détails, nous avons créé une nouvelle variable à partir des catégories se trouvant uniquement chez elle, variable dont la répartition était celle-ci...<br>\n",
    "<img src = \"Data/fig01.png\"><br>"
   ]
  },
  {
   "cell_type": "markdown",
   "metadata": {},
   "source": [
    "Ce qui la rendait en l'état assez peu utilisable.<br>Du coup, nous allons nous contenter, au cas où, de garder une variable catégorielle **OtherPropertyUse**, valant 1 ou 0, informant si une utilisation notable d'une propriété n'était indiquée que dans **ListOfAllPropertyUseTypes**."
   ]
  },
  {
   "cell_type": "code",
   "execution_count": 95,
   "metadata": {},
   "outputs": [],
   "source": [
    "df['OtherPropertyUse'] = np.where(df[\"ListOfAllPropertyUseTypes\"] == df[\"words\"], 0, 1)"
   ]
  },
  {
   "cell_type": "markdown",
   "metadata": {},
   "source": [
    "Avant de nous séparer de **ListOfAllPropertyUseTypes**, nous allons l'utiliser afin de compléter une poignée de valeurs manquantes."
   ]
  },
  {
   "cell_type": "code",
   "execution_count": 96,
   "metadata": {},
   "outputs": [],
   "source": [
    "df['ListOfAllPropertyUseTypes'] = df['ListOfAllPropertyUseTypes'].replace(\"\", np.nan)\n",
    "\n",
    "liste_val = df[df['LargestPropertyUseType'].isnull() & df['ListOfAllPropertyUseTypes'].notnull()]['ListOfAllPropertyUseTypes'].values.tolist()\n",
    "\n",
    "li_liste = []\n",
    "\n",
    "for s in liste_val :\n",
    "    l = s.split(\", \")\n",
    "    li_liste.append(l)\n",
    "    \n",
    "li_liste[1] = ['Fitness Center/Health Club/Gym', 'Office', 'Other']\n",
    "\n",
    "liste_index = df[df['LargestPropertyUseType'].isnull() & df['ListOfAllPropertyUseTypes'].notnull()]['ListOfAllPropertyUseTypes'].index.values.tolist()\n",
    "    \n",
    "# complétion des données manquantes\n",
    "\n",
    "col = ['LargestPropertyUseType', 'SecondLargestPropertyUseType', 'ThirdLargestPropertyUseType']\n",
    "\n",
    "for ind, mots in zip(liste_index, li_liste) :\n",
    "    \n",
    "    for i in range(len(mots)) :\n",
    "        df.loc[ind, col[i] ] = mots[i]"
   ]
  },
  {
   "cell_type": "markdown",
   "metadata": {},
   "source": [
    "Maintenant, nous allons remplir les derniers **LargestPropertyUseType** manquants (cette variable doit être renseignée car une propriété doit obligatoirement avoir au moins une fonction) en utilisant la valeur la plus fréquente de **LargestPropertyUseType** pour une valeur donnée de **PrimaryPropertyType**."
   ]
  },
  {
   "cell_type": "code",
   "execution_count": 97,
   "metadata": {},
   "outputs": [],
   "source": [
    "for i, elt in zip(df[df['LargestPropertyUseType'].isnull()][\"PrimaryPropertyType\"].index, df[df['LargestPropertyUseType'].isnull()][\"PrimaryPropertyType\"].to_list()):\n",
    "    df.loc[df['LargestPropertyUseType'].isnull().index[i], \"LargestPropertyUseType\"] = df[df[\"PrimaryPropertyType\"] == elt][\"LargestPropertyUseType\"].value_counts().index[0]"
   ]
  },
  {
   "cell_type": "markdown",
   "metadata": {},
   "source": [
    "Elimination des colonnes désormais inutiles"
   ]
  },
  {
   "cell_type": "code",
   "execution_count": 98,
   "metadata": {},
   "outputs": [],
   "source": [
    "df = df.drop([\"ListOfAllPropertyUseTypes\", \"words\", \"table\"], axis = 1)"
   ]
  },
  {
   "cell_type": "markdown",
   "metadata": {},
   "source": [
    " "
   ]
  },
  {
   "cell_type": "markdown",
   "metadata": {},
   "source": [
    "### Correction de **Compliance Status**"
   ]
  },
  {
   "cell_type": "markdown",
   "metadata": {},
   "source": [
    " "
   ]
  },
  {
   "cell_type": "code",
   "execution_count": 202,
   "metadata": {},
   "outputs": [
    {
     "data": {
      "text/plain": [
       "Compliant                       3678\n",
       "Error - Correct Default Data     110\n",
       "Non-Compliant                     34\n",
       "Missing Data                      15\n",
       "Not Compliant                      1\n",
       "Name: ComplianceStatus, dtype: int64"
      ]
     },
     "execution_count": 202,
     "metadata": {},
     "output_type": "execute_result"
    }
   ],
   "source": [
    "df.ComplianceStatus.value_counts()"
   ]
  },
  {
   "cell_type": "markdown",
   "metadata": {},
   "source": [
    "Cette variable appelle quelques corrections."
   ]
  },
  {
   "cell_type": "code",
   "execution_count": 99,
   "metadata": {},
   "outputs": [],
   "source": [
    "dic_compliance = {\"Compliant\" : \"Compliant\", \n",
    "                  \"Error - Correct Default Data\" : \"Missing Data\", \n",
    "                  \"Non-Compliant\" : \"Non-Compliant\", \n",
    "                  \"Missing Data\" : \"Missing Data\", \n",
    "                  \"Not Compliant\" : \"Non-Compliant\"}\n",
    "\n",
    "df[\"ComplianceStatus\"] = df[\"ComplianceStatus\"].map(dic_compliance)"
   ]
  },
  {
   "cell_type": "markdown",
   "metadata": {},
   "source": [
    " "
   ]
  },
  {
   "cell_type": "markdown",
   "metadata": {},
   "source": [
    "### Variable **YearBuilt**"
   ]
  },
  {
   "cell_type": "markdown",
   "metadata": {},
   "source": [
    " "
   ]
  },
  {
   "cell_type": "code",
   "execution_count": 204,
   "metadata": {},
   "outputs": [
    {
     "data": {
      "text/plain": [
       "113"
      ]
     },
     "execution_count": 204,
     "metadata": {},
     "output_type": "execute_result"
    }
   ],
   "source": [
    "df.YearBuilt.unique().shape[0]"
   ]
  },
  {
   "cell_type": "markdown",
   "metadata": {},
   "source": [
    "**YearBuilt** nous renseigne sur l'année de construction ou de dernière rénovation d'une propriété. Il s'agit d'une variable catégorielle contenant **113** valeurs.<br>Nous créons par avance une nouvelle variable **DecadeBuilt** qui nous sera peut-être utile dans le but de diminuer la complexité de nos modèles à venir."
   ]
  },
  {
   "cell_type": "code",
   "execution_count": 100,
   "metadata": {},
   "outputs": [],
   "source": [
    "df[\"DecadeBuilt\"] = (df[\"YearBuilt\"] // 10)*10"
   ]
  },
  {
   "cell_type": "markdown",
   "metadata": {},
   "source": [
    " "
   ]
  },
  {
   "cell_type": "code",
   "execution_count": 101,
   "metadata": {},
   "outputs": [],
   "source": [
    "cate = [\"BuildingType\", \"PrimaryPropertyType\", \"LargestPropertyUseType\", \"SecondLargestPropertyUseType\", \n",
    "        \"ThirdLargestPropertyUseType\", \"OtherPropertyUse\", \"ComplianceStatus\", \"YearBuilt\", \"DecadeBuilt\"]"
   ]
  },
  {
   "cell_type": "markdown",
   "metadata": {},
   "source": [
    " "
   ]
  },
  {
   "cell_type": "markdown",
   "metadata": {},
   "source": [
    "Pour en terminer avec ce bloc de variable, opérons une correction après avoir aperçu des erreurs, notamment dans **PrimaryPropertyType**."
   ]
  },
  {
   "cell_type": "code",
   "execution_count": 242,
   "metadata": {},
   "outputs": [
    {
     "data": {
      "text/plain": [
       "array(['Hotel', 'Low-Rise Multifamily', 'Mixed Use Property',\n",
       "       'Small- and Mid-Sized Office', 'Other', 'Large Office',\n",
       "       'Retail Store', 'Hospital', 'Supermarket/Grocery Store',\n",
       "       'Non-Refrigerated Warehouse', 'Medical Office',\n",
       "       'High-Rise Multifamily', 'Mid-Rise Multifamily',\n",
       "       'Senior Care Community', 'Residence Hall/Dormitory', 'K-12 School',\n",
       "       'Worship Facility', 'Restaurant', 'University',\n",
       "       'Self-Storage Facility', 'Warehouse', 'Residence Hall',\n",
       "       'Distribution Center', 'Supermarket / Grocery Store', 'Laboratory',\n",
       "       'Refrigerated Warehouse'], dtype=object)"
      ]
     },
     "execution_count": 242,
     "metadata": {},
     "output_type": "execute_result"
    }
   ],
   "source": [
    "df.PrimaryPropertyType.unique()"
   ]
  },
  {
   "cell_type": "code",
   "execution_count": 102,
   "metadata": {},
   "outputs": [],
   "source": [
    "def corrige(s):\n",
    "    \n",
    "    if type(s) != float  :\n",
    "        return s.strip(\"\\n\")\n",
    "\n",
    "\n",
    "df[\"PrimaryPropertyType\"] = df[\"PrimaryPropertyType\"].map(corrige)"
   ]
  },
  {
   "cell_type": "markdown",
   "metadata": {},
   "source": [
    "Enfin, nous remplissons nos valeurs manquantes par **No Data**."
   ]
  },
  {
   "cell_type": "code",
   "execution_count": 103,
   "metadata": {},
   "outputs": [],
   "source": [
    "df[cate] = df[cate].fillna(\"No Data\")"
   ]
  },
  {
   "cell_type": "markdown",
   "metadata": {},
   "source": [
    " "
   ]
  },
  {
   "cell_type": "code",
   "execution_count": 104,
   "metadata": {},
   "outputs": [],
   "source": [
    "df.to_csv(\"Data/df_clean3.csv\", index = False)"
   ]
  },
  {
   "cell_type": "code",
   "execution_count": 108,
   "metadata": {},
   "outputs": [],
   "source": [
    "df = pd.read_csv(\"Data/df_clean3.csv\")"
   ]
  },
  {
   "cell_type": "markdown",
   "metadata": {},
   "source": [
    " "
   ]
  },
  {
   "cell_type": "markdown",
   "metadata": {},
   "source": [
    " "
   ]
  },
  {
   "cell_type": "markdown",
   "metadata": {},
   "source": [
    "## Bloc **QUANT**"
   ]
  },
  {
   "cell_type": "markdown",
   "metadata": {},
   "source": [
    " "
   ]
  },
  {
   "cell_type": "code",
   "execution_count": 109,
   "metadata": {},
   "outputs": [],
   "source": [
    "quant = [\"NumberofBuildings\", \"NumberofFloors\", \"PropertyGFATotal\", \"PropertyGFAParking\", \n",
    "         \"PropertyGFABuilding(s)\", \"LargestPropertyUseTypeGFA\", \"SecondLargestPropertyUseTypeGFA\", \n",
    "         \"ThirdLargestPropertyUseTypeGFA\"]"
   ]
  },
  {
   "cell_type": "markdown",
   "metadata": {},
   "source": [
    "Ce bloc de variables quantitatives contient deux variables décrivant les nombres de bâtiments et d'étages des propriétés ainsi qu'un groupe de différentes superficies (Sup. totale, sup. \"couverte\", sup. occupée par les différentes utilisations des propriétés, etc.)"
   ]
  },
  {
   "cell_type": "markdown",
   "metadata": {},
   "source": [
    "### **NumberofBuildings** & **NumberofFloors**"
   ]
  },
  {
   "cell_type": "code",
   "execution_count": 120,
   "metadata": {},
   "outputs": [
    {
     "name": "stdout",
     "output_type": "stream",
     "text": [
      "NumberofBuildings ---------------------------\n",
      "\n",
      "count    3831.000000\n",
      "mean        1.066301\n",
      "std         0.872432\n",
      "min         0.000000\n",
      "25%         1.000000\n",
      "50%         1.000000\n",
      "75%         1.000000\n",
      "max        27.000000\n",
      "Name: NumberofBuildings, dtype: float64\n",
      "\n"
     ]
    },
    {
     "data": {
      "image/png": "[encoded data removed]",
      "text/plain": [
       "<Figure size 432x288 with 1 Axes>"
      ]
     },
     "metadata": {
      "needs_background": "light"
     },
     "output_type": "display_data"
    },
    {
     "data": {
      "image/png": "[encoded data removed]",
      "text/plain": [
       "<Figure size 432x288 with 1 Axes>"
      ]
     },
     "metadata": {
      "needs_background": "light"
     },
     "output_type": "display_data"
    },
    {
     "name": "stdout",
     "output_type": "stream",
     "text": [
      "\n",
      "NumberofFloors ---------------------------\n",
      "\n",
      "count    3838.000000\n",
      "mean        4.817092\n",
      "std         5.440454\n",
      "min         0.000000\n",
      "25%         3.000000\n",
      "50%         4.000000\n",
      "75%         5.000000\n",
      "max        99.000000\n",
      "Name: NumberofFloors, dtype: float64\n",
      "\n"
     ]
    },
    {
     "data": {
      "image/png": "[encoded data removed]",
      "text/plain": [
       "<Figure size 432x288 with 1 Axes>"
      ]
     },
     "metadata": {
      "needs_background": "light"
     },
     "output_type": "display_data"
    },
    {
     "data": {
      "image/png": "[encoded data removed]",
      "text/plain": [
       "<Figure size 432x288 with 1 Axes>"
      ]
     },
     "metadata": {
      "needs_background": "light"
     },
     "output_type": "display_data"
    },
    {
     "name": "stdout",
     "output_type": "stream",
     "text": [
      "\n"
     ]
    }
   ],
   "source": [
    "for col in [\"NumberofBuildings\", \"NumberofFloors\"] :\n",
    "    print(col + \" ---------------------------\")\n",
    "    print()\n",
    "    print(df[col].describe())\n",
    "    print()\n",
    "    sns.boxplot(df[col])\n",
    "    plt.show()\n",
    "    sns.distplot(df[col], kde_kws={\"color\": \"r\"}, hist_kws={'color':\"b\"})\n",
    "    plt.show()\n",
    "    print()"
   ]
  },
  {
   "cell_type": "markdown",
   "metadata": {},
   "source": [
    "Les données et graphs ci-dessus font ressortir la présence d'outliers. Sauf qu'après plusieurs vérifications en réutilisant le dataset joint original, nous sommes en mesure de considérer ces propriétés, aux nombres de bâtiments ou d'étages élevés, comme légitimes. Il s'agit juste en général de tours ou d'établissements comme des universités, etc..."
   ]
  },
  {
   "cell_type": "code",
   "execution_count": 64,
   "metadata": {},
   "outputs": [
    {
     "data": {
      "text/html": [
       "<div>\n",
       "<style scoped>\n",
       "    .dataframe tbody tr th:only-of-type {\n",
       "        vertical-align: middle;\n",
       "    }\n",
       "\n",
       "    .dataframe tbody tr th {\n",
       "        vertical-align: top;\n",
       "    }\n",
       "\n",
       "    .dataframe thead th {\n",
       "        text-align: right;\n",
       "    }\n",
       "</style>\n",
       "<table border=\"1\" class=\"dataframe\">\n",
       "  <thead>\n",
       "    <tr style=\"text-align: right;\">\n",
       "      <th></th>\n",
       "      <th>PrimaryPropertyType</th>\n",
       "      <th>PropertyName</th>\n",
       "      <th>NumberofFloors</th>\n",
       "      <th>Address</th>\n",
       "    </tr>\n",
       "  </thead>\n",
       "  <tbody>\n",
       "    <tr>\n",
       "      <th>235</th>\n",
       "      <td>Large Office</td>\n",
       "      <td>SEATTLE MUNICIPAL TOWER</td>\n",
       "      <td>63.0</td>\n",
       "      <td>NaN</td>\n",
       "    </tr>\n",
       "    <tr>\n",
       "      <th>271</th>\n",
       "      <td>Large Office</td>\n",
       "      <td>WASH MUTUAL TOWER (1201 THIRD AVE)</td>\n",
       "      <td>55.0</td>\n",
       "      <td>NaN</td>\n",
       "    </tr>\n",
       "    <tr>\n",
       "      <th>293</th>\n",
       "      <td>Large Office</td>\n",
       "      <td>TWO UNION SQUARE</td>\n",
       "      <td>56.0</td>\n",
       "      <td>NaN</td>\n",
       "    </tr>\n",
       "    <tr>\n",
       "      <th>581</th>\n",
       "      <td>Large Office</td>\n",
       "      <td>COLUMBIA CENTER</td>\n",
       "      <td>76.0</td>\n",
       "      <td>NaN</td>\n",
       "    </tr>\n",
       "    <tr>\n",
       "      <th>1371</th>\n",
       "      <td>Worship Facility</td>\n",
       "      <td>CHINESE BAPTIST CHURCH</td>\n",
       "      <td>99.0</td>\n",
       "      <td>NaN</td>\n",
       "    </tr>\n",
       "    <tr>\n",
       "      <th>3572</th>\n",
       "      <td>Large Office</td>\n",
       "      <td>Seattle Municipal Tower (2030)</td>\n",
       "      <td>63.0</td>\n",
       "      <td>700 Fifth Avenue</td>\n",
       "    </tr>\n",
       "    <tr>\n",
       "      <th>3608</th>\n",
       "      <td>Large Office</td>\n",
       "      <td>1201 Third Avenue</td>\n",
       "      <td>55.0</td>\n",
       "      <td>1201 3rd ave</td>\n",
       "    </tr>\n",
       "    <tr>\n",
       "      <th>3629</th>\n",
       "      <td>Large Office</td>\n",
       "      <td>Two Union Square</td>\n",
       "      <td>56.0</td>\n",
       "      <td>601 Union St.</td>\n",
       "    </tr>\n",
       "    <tr>\n",
       "      <th>3895</th>\n",
       "      <td>Large Office</td>\n",
       "      <td>Columbia Center - 2015</td>\n",
       "      <td>76.0</td>\n",
       "      <td>701 5th Avenue</td>\n",
       "    </tr>\n",
       "    <tr>\n",
       "      <th>4691</th>\n",
       "      <td>Worship Facility</td>\n",
       "      <td>Seattle Chinese Baptist Church</td>\n",
       "      <td>99.0</td>\n",
       "      <td>5801 Beacon Avenue South</td>\n",
       "    </tr>\n",
       "  </tbody>\n",
       "</table>\n",
       "</div>"
      ],
      "text/plain": [
       "     PrimaryPropertyType                        PropertyName  NumberofFloors  \\\n",
       "235         Large Office             SEATTLE MUNICIPAL TOWER            63.0   \n",
       "271         Large Office  WASH MUTUAL TOWER (1201 THIRD AVE)            55.0   \n",
       "293         Large Office                    TWO UNION SQUARE            56.0   \n",
       "581         Large Office                     COLUMBIA CENTER            76.0   \n",
       "1371    Worship Facility              CHINESE BAPTIST CHURCH            99.0   \n",
       "3572        Large Office      Seattle Municipal Tower (2030)            63.0   \n",
       "3608        Large Office                   1201 Third Avenue            55.0   \n",
       "3629        Large Office                    Two Union Square            56.0   \n",
       "3895        Large Office              Columbia Center - 2015            76.0   \n",
       "4691    Worship Facility      Seattle Chinese Baptist Church            99.0   \n",
       "\n",
       "                       Address  \n",
       "235                        NaN  \n",
       "271                        NaN  \n",
       "293                        NaN  \n",
       "581                        NaN  \n",
       "1371                       NaN  \n",
       "3572          700 Fifth Avenue  \n",
       "3608              1201 3rd ave  \n",
       "3629             601 Union St.  \n",
       "3895            701 5th Avenue  \n",
       "4691  5801 Beacon Avenue South  "
      ]
     },
     "execution_count": 64,
     "metadata": {},
     "output_type": "execute_result"
    }
   ],
   "source": [
    "df_raw = pd.read_csv(\"Data/df_raw.csv\")\n",
    "df_raw[[\"PrimaryPropertyType\", \"PropertyName\", \"NumberofFloors\", \"Address\"]][df_raw[\"NumberofFloors\"] > 50]"
   ]
  },
  {
   "cell_type": "markdown",
   "metadata": {},
   "source": [
    "Voici par exemple la **Seattle Municipal Tower**:"
   ]
  },
  {
   "cell_type": "markdown",
   "metadata": {},
   "source": [
    "<img src=\"Data/seattle_muni_tower.jpg\">"
   ]
  },
  {
   "cell_type": "markdown",
   "metadata": {},
   "source": [
    "Nous avons cependant détecté une erreur, car la **Seattle Chinese Baptist Church** se trouvant au **5801 Beacon Avenue South**, que voici :"
   ]
  },
  {
   "cell_type": "markdown",
   "metadata": {},
   "source": [
    "<img src = \"Data/chi_church.png\"><br>"
   ]
  },
  {
   "cell_type": "markdown",
   "metadata": {},
   "source": [
    "...ne fait à coup sûr pas **99** étages, mais plutôt 3 ou **4**..."
   ]
  },
  {
   "cell_type": "code",
   "execution_count": 110,
   "metadata": {},
   "outputs": [],
   "source": [
    "df.loc[df[\"NumberofFloors\"] == 99, \"NumberofFloors\"] = 4"
   ]
  },
  {
   "cell_type": "markdown",
   "metadata": {},
   "source": [
    "On va maintenant corriger les propriétés dont le nombre de bâtiment n'est pas renseigné."
   ]
  },
  {
   "cell_type": "code",
   "execution_count": 66,
   "metadata": {},
   "outputs": [
    {
     "data": {
      "text/html": [
       "<div>\n",
       "<style scoped>\n",
       "    .dataframe tbody tr th:only-of-type {\n",
       "        vertical-align: middle;\n",
       "    }\n",
       "\n",
       "    .dataframe tbody tr th {\n",
       "        vertical-align: top;\n",
       "    }\n",
       "\n",
       "    .dataframe thead th {\n",
       "        text-align: right;\n",
       "    }\n",
       "</style>\n",
       "<table border=\"1\" class=\"dataframe\">\n",
       "  <thead>\n",
       "    <tr style=\"text-align: right;\">\n",
       "      <th></th>\n",
       "      <th>CouncilDistrictCode</th>\n",
       "      <th>Neighborhood</th>\n",
       "      <th>ZipCode</th>\n",
       "      <th>BuildingType</th>\n",
       "      <th>PrimaryPropertyType</th>\n",
       "      <th>LargestPropertyUseType</th>\n",
       "      <th>SecondLargestPropertyUseType</th>\n",
       "      <th>ThirdLargestPropertyUseType</th>\n",
       "      <th>ComplianceStatus</th>\n",
       "      <th>YearBuilt</th>\n",
       "      <th>NumberofBuildings</th>\n",
       "      <th>NumberofFloors</th>\n",
       "      <th>PropertyGFATotal</th>\n",
       "      <th>PropertyGFAParking</th>\n",
       "      <th>PropertyGFABuilding(s)</th>\n",
       "      <th>LargestPropertyUseTypeGFA</th>\n",
       "      <th>SecondLargestPropertyUseTypeGFA</th>\n",
       "      <th>ThirdLargestPropertyUseTypeGFA</th>\n",
       "      <th>ENERGYSTARScore</th>\n",
       "      <th>SiteEUI(kBtu/sf)</th>\n",
       "      <th>SiteEUIWN(kBtu/sf)</th>\n",
       "      <th>SourceEUI(kBtu/sf)</th>\n",
       "      <th>SourceEUIWN(kBtu/sf)</th>\n",
       "      <th>SiteEnergyUse(kBtu)</th>\n",
       "      <th>SiteEnergyUseWN(kBtu)</th>\n",
       "      <th>SteamUse(kBtu)</th>\n",
       "      <th>Electricity(kWh)</th>\n",
       "      <th>Electricity(kBtu)</th>\n",
       "      <th>NaturalGas(therms)</th>\n",
       "      <th>NaturalGas(kBtu)</th>\n",
       "      <th>OtherFuelUse(kBtu)</th>\n",
       "      <th>GHGEmissions(MetricTonsCO2e)</th>\n",
       "      <th>GHGEmissionsIntensity(kgCO2e/ft2)</th>\n",
       "      <th>Coord</th>\n",
       "      <th>OtherPropertyUse</th>\n",
       "      <th>DecadeBuilt</th>\n",
       "    </tr>\n",
       "  </thead>\n",
       "  <tbody>\n",
       "    <tr>\n",
       "      <th>1128</th>\n",
       "      <td>7</td>\n",
       "      <td>DOWNTOWN</td>\n",
       "      <td>98104.0</td>\n",
       "      <td>NonResidential</td>\n",
       "      <td>Small- and Mid-Sized Office</td>\n",
       "      <td>NaN</td>\n",
       "      <td>NaN</td>\n",
       "      <td>NaN</td>\n",
       "      <td>Non-Compliant</td>\n",
       "      <td>NaN</td>\n",
       "      <td>NaN</td>\n",
       "      <td>4.0</td>\n",
       "      <td>63150</td>\n",
       "      <td>0</td>\n",
       "      <td>63150</td>\n",
       "      <td>NaN</td>\n",
       "      <td>NaN</td>\n",
       "      <td>NaN</td>\n",
       "      <td>NaN</td>\n",
       "      <td>NaN</td>\n",
       "      <td>NaN</td>\n",
       "      <td>NaN</td>\n",
       "      <td>NaN</td>\n",
       "      <td>NaN</td>\n",
       "      <td>NaN</td>\n",
       "      <td>NaN</td>\n",
       "      <td>NaN</td>\n",
       "      <td>NaN</td>\n",
       "      <td>NaN</td>\n",
       "      <td>NaN</td>\n",
       "      <td>0.0</td>\n",
       "      <td>NaN</td>\n",
       "      <td>NaN</td>\n",
       "      <td>(47.6038, -122.33293)</td>\n",
       "      <td>NaN</td>\n",
       "      <td>NaN</td>\n",
       "    </tr>\n",
       "    <tr>\n",
       "      <th>1307</th>\n",
       "      <td>4</td>\n",
       "      <td>NORTHEAST</td>\n",
       "      <td>98115.0</td>\n",
       "      <td>Multifamily LR (1-4)</td>\n",
       "      <td>Low-Rise Multifamily</td>\n",
       "      <td>NaN</td>\n",
       "      <td>NaN</td>\n",
       "      <td>NaN</td>\n",
       "      <td>Non-Compliant</td>\n",
       "      <td>NaN</td>\n",
       "      <td>NaN</td>\n",
       "      <td>3.0</td>\n",
       "      <td>33166</td>\n",
       "      <td>0</td>\n",
       "      <td>33166</td>\n",
       "      <td>NaN</td>\n",
       "      <td>NaN</td>\n",
       "      <td>NaN</td>\n",
       "      <td>NaN</td>\n",
       "      <td>NaN</td>\n",
       "      <td>NaN</td>\n",
       "      <td>NaN</td>\n",
       "      <td>NaN</td>\n",
       "      <td>NaN</td>\n",
       "      <td>NaN</td>\n",
       "      <td>NaN</td>\n",
       "      <td>NaN</td>\n",
       "      <td>NaN</td>\n",
       "      <td>NaN</td>\n",
       "      <td>NaN</td>\n",
       "      <td>NaN</td>\n",
       "      <td>NaN</td>\n",
       "      <td>NaN</td>\n",
       "      <td>(47.681490000000004, -122.26471000000001)</td>\n",
       "      <td>NaN</td>\n",
       "      <td>NaN</td>\n",
       "    </tr>\n",
       "    <tr>\n",
       "      <th>2313</th>\n",
       "      <td>1</td>\n",
       "      <td>SOUTHWEST</td>\n",
       "      <td>98136.0</td>\n",
       "      <td>Multifamily LR (1-4)</td>\n",
       "      <td>Low-Rise Multifamily</td>\n",
       "      <td>NaN</td>\n",
       "      <td>NaN</td>\n",
       "      <td>NaN</td>\n",
       "      <td>Compliant</td>\n",
       "      <td>NaN</td>\n",
       "      <td>NaN</td>\n",
       "      <td>4.0</td>\n",
       "      <td>29357</td>\n",
       "      <td>0</td>\n",
       "      <td>29357</td>\n",
       "      <td>NaN</td>\n",
       "      <td>NaN</td>\n",
       "      <td>NaN</td>\n",
       "      <td>NaN</td>\n",
       "      <td>19.200001</td>\n",
       "      <td>20.200001</td>\n",
       "      <td>NaN</td>\n",
       "      <td>NaN</td>\n",
       "      <td>5.636832e+05</td>\n",
       "      <td>593798.625</td>\n",
       "      <td>NaN</td>\n",
       "      <td>NaN</td>\n",
       "      <td>NaN</td>\n",
       "      <td>NaN</td>\n",
       "      <td>NaN</td>\n",
       "      <td>0.0</td>\n",
       "      <td>NaN</td>\n",
       "      <td>NaN</td>\n",
       "      <td>(47.547309999999996, -122.38656)</td>\n",
       "      <td>NaN</td>\n",
       "      <td>NaN</td>\n",
       "    </tr>\n",
       "    <tr>\n",
       "      <th>2863</th>\n",
       "      <td>4</td>\n",
       "      <td>NORTHEAST</td>\n",
       "      <td>98105.0</td>\n",
       "      <td>Multifamily LR (1-4)</td>\n",
       "      <td>Low-Rise Multifamily</td>\n",
       "      <td>NaN</td>\n",
       "      <td>NaN</td>\n",
       "      <td>NaN</td>\n",
       "      <td>Compliant</td>\n",
       "      <td>NaN</td>\n",
       "      <td>NaN</td>\n",
       "      <td>4.0</td>\n",
       "      <td>28472</td>\n",
       "      <td>0</td>\n",
       "      <td>28472</td>\n",
       "      <td>NaN</td>\n",
       "      <td>NaN</td>\n",
       "      <td>NaN</td>\n",
       "      <td>NaN</td>\n",
       "      <td>27.100000</td>\n",
       "      <td>28.000000</td>\n",
       "      <td>NaN</td>\n",
       "      <td>NaN</td>\n",
       "      <td>7.702755e+05</td>\n",
       "      <td>797507.000</td>\n",
       "      <td>NaN</td>\n",
       "      <td>NaN</td>\n",
       "      <td>NaN</td>\n",
       "      <td>NaN</td>\n",
       "      <td>NaN</td>\n",
       "      <td>0.0</td>\n",
       "      <td>NaN</td>\n",
       "      <td>NaN</td>\n",
       "      <td>(47.67025, -122.31232)</td>\n",
       "      <td>NaN</td>\n",
       "      <td>NaN</td>\n",
       "    </tr>\n",
       "    <tr>\n",
       "      <th>3016</th>\n",
       "      <td>6</td>\n",
       "      <td>NORTHWEST</td>\n",
       "      <td>98103.0</td>\n",
       "      <td>Multifamily LR (1-4)</td>\n",
       "      <td>Low-Rise Multifamily</td>\n",
       "      <td>NaN</td>\n",
       "      <td>NaN</td>\n",
       "      <td>NaN</td>\n",
       "      <td>Non-Compliant</td>\n",
       "      <td>NaN</td>\n",
       "      <td>NaN</td>\n",
       "      <td>4.0</td>\n",
       "      <td>29562</td>\n",
       "      <td>8531</td>\n",
       "      <td>21031</td>\n",
       "      <td>NaN</td>\n",
       "      <td>NaN</td>\n",
       "      <td>NaN</td>\n",
       "      <td>NaN</td>\n",
       "      <td>NaN</td>\n",
       "      <td>NaN</td>\n",
       "      <td>NaN</td>\n",
       "      <td>NaN</td>\n",
       "      <td>NaN</td>\n",
       "      <td>NaN</td>\n",
       "      <td>NaN</td>\n",
       "      <td>NaN</td>\n",
       "      <td>NaN</td>\n",
       "      <td>NaN</td>\n",
       "      <td>NaN</td>\n",
       "      <td>0.0</td>\n",
       "      <td>NaN</td>\n",
       "      <td>NaN</td>\n",
       "      <td>(47.69658, -122.34342)</td>\n",
       "      <td>NaN</td>\n",
       "      <td>NaN</td>\n",
       "    </tr>\n",
       "    <tr>\n",
       "      <th>3022</th>\n",
       "      <td>1</td>\n",
       "      <td>SOUTHWEST</td>\n",
       "      <td>98116.0</td>\n",
       "      <td>Multifamily LR (1-4)</td>\n",
       "      <td>Low-Rise Multifamily</td>\n",
       "      <td>NaN</td>\n",
       "      <td>NaN</td>\n",
       "      <td>NaN</td>\n",
       "      <td>Compliant</td>\n",
       "      <td>NaN</td>\n",
       "      <td>NaN</td>\n",
       "      <td>3.0</td>\n",
       "      <td>30420</td>\n",
       "      <td>0</td>\n",
       "      <td>30420</td>\n",
       "      <td>NaN</td>\n",
       "      <td>NaN</td>\n",
       "      <td>NaN</td>\n",
       "      <td>NaN</td>\n",
       "      <td>34.500000</td>\n",
       "      <td>37.000000</td>\n",
       "      <td>NaN</td>\n",
       "      <td>NaN</td>\n",
       "      <td>1.049639e+06</td>\n",
       "      <td>1126781.750</td>\n",
       "      <td>NaN</td>\n",
       "      <td>NaN</td>\n",
       "      <td>NaN</td>\n",
       "      <td>NaN</td>\n",
       "      <td>NaN</td>\n",
       "      <td>0.0</td>\n",
       "      <td>NaN</td>\n",
       "      <td>NaN</td>\n",
       "      <td>(47.58968, -122.38587)</td>\n",
       "      <td>NaN</td>\n",
       "      <td>NaN</td>\n",
       "    </tr>\n",
       "    <tr>\n",
       "      <th>3212</th>\n",
       "      <td>4</td>\n",
       "      <td>NORTHEAST</td>\n",
       "      <td>98105.0</td>\n",
       "      <td>NonResidential</td>\n",
       "      <td>Mixed Use Property</td>\n",
       "      <td>NaN</td>\n",
       "      <td>NaN</td>\n",
       "      <td>NaN</td>\n",
       "      <td>Non-Compliant</td>\n",
       "      <td>NaN</td>\n",
       "      <td>NaN</td>\n",
       "      <td>2.0</td>\n",
       "      <td>20760</td>\n",
       "      <td>0</td>\n",
       "      <td>20760</td>\n",
       "      <td>NaN</td>\n",
       "      <td>NaN</td>\n",
       "      <td>NaN</td>\n",
       "      <td>NaN</td>\n",
       "      <td>NaN</td>\n",
       "      <td>NaN</td>\n",
       "      <td>NaN</td>\n",
       "      <td>NaN</td>\n",
       "      <td>NaN</td>\n",
       "      <td>NaN</td>\n",
       "      <td>NaN</td>\n",
       "      <td>NaN</td>\n",
       "      <td>NaN</td>\n",
       "      <td>NaN</td>\n",
       "      <td>NaN</td>\n",
       "      <td>0.0</td>\n",
       "      <td>NaN</td>\n",
       "      <td>NaN</td>\n",
       "      <td>(47.66182, -122.31345)</td>\n",
       "      <td>NaN</td>\n",
       "      <td>NaN</td>\n",
       "    </tr>\n",
       "  </tbody>\n",
       "</table>\n",
       "</div>"
      ],
      "text/plain": [
       "      CouncilDistrictCode Neighborhood  ZipCode          BuildingType  \\\n",
       "1128                    7     DOWNTOWN  98104.0        NonResidential   \n",
       "1307                    4    NORTHEAST  98115.0  Multifamily LR (1-4)   \n",
       "2313                    1    SOUTHWEST  98136.0  Multifamily LR (1-4)   \n",
       "2863                    4    NORTHEAST  98105.0  Multifamily LR (1-4)   \n",
       "3016                    6    NORTHWEST  98103.0  Multifamily LR (1-4)   \n",
       "3022                    1    SOUTHWEST  98116.0  Multifamily LR (1-4)   \n",
       "3212                    4    NORTHEAST  98105.0        NonResidential   \n",
       "\n",
       "              PrimaryPropertyType LargestPropertyUseType  \\\n",
       "1128  Small- and Mid-Sized Office                    NaN   \n",
       "1307         Low-Rise Multifamily                    NaN   \n",
       "2313         Low-Rise Multifamily                    NaN   \n",
       "2863         Low-Rise Multifamily                    NaN   \n",
       "3016         Low-Rise Multifamily                    NaN   \n",
       "3022         Low-Rise Multifamily                    NaN   \n",
       "3212           Mixed Use Property                    NaN   \n",
       "\n",
       "     SecondLargestPropertyUseType ThirdLargestPropertyUseType  \\\n",
       "1128                          NaN                         NaN   \n",
       "1307                          NaN                         NaN   \n",
       "2313                          NaN                         NaN   \n",
       "2863                          NaN                         NaN   \n",
       "3016                          NaN                         NaN   \n",
       "3022                          NaN                         NaN   \n",
       "3212                          NaN                         NaN   \n",
       "\n",
       "     ComplianceStatus  YearBuilt  NumberofBuildings  NumberofFloors  \\\n",
       "1128    Non-Compliant        NaN                NaN             4.0   \n",
       "1307    Non-Compliant        NaN                NaN             3.0   \n",
       "2313        Compliant        NaN                NaN             4.0   \n",
       "2863        Compliant        NaN                NaN             4.0   \n",
       "3016    Non-Compliant        NaN                NaN             4.0   \n",
       "3022        Compliant        NaN                NaN             3.0   \n",
       "3212    Non-Compliant        NaN                NaN             2.0   \n",
       "\n",
       "      PropertyGFATotal  PropertyGFAParking  PropertyGFABuilding(s)  \\\n",
       "1128             63150                   0                   63150   \n",
       "1307             33166                   0                   33166   \n",
       "2313             29357                   0                   29357   \n",
       "2863             28472                   0                   28472   \n",
       "3016             29562                8531                   21031   \n",
       "3022             30420                   0                   30420   \n",
       "3212             20760                   0                   20760   \n",
       "\n",
       "      LargestPropertyUseTypeGFA  SecondLargestPropertyUseTypeGFA  \\\n",
       "1128                        NaN                              NaN   \n",
       "1307                        NaN                              NaN   \n",
       "2313                        NaN                              NaN   \n",
       "2863                        NaN                              NaN   \n",
       "3016                        NaN                              NaN   \n",
       "3022                        NaN                              NaN   \n",
       "3212                        NaN                              NaN   \n",
       "\n",
       "      ThirdLargestPropertyUseTypeGFA  ENERGYSTARScore  SiteEUI(kBtu/sf)  \\\n",
       "1128                             NaN              NaN               NaN   \n",
       "1307                             NaN              NaN               NaN   \n",
       "2313                             NaN              NaN         19.200001   \n",
       "2863                             NaN              NaN         27.100000   \n",
       "3016                             NaN              NaN               NaN   \n",
       "3022                             NaN              NaN         34.500000   \n",
       "3212                             NaN              NaN               NaN   \n",
       "\n",
       "      SiteEUIWN(kBtu/sf)  SourceEUI(kBtu/sf)  SourceEUIWN(kBtu/sf)  \\\n",
       "1128                 NaN                 NaN                   NaN   \n",
       "1307                 NaN                 NaN                   NaN   \n",
       "2313           20.200001                 NaN                   NaN   \n",
       "2863           28.000000                 NaN                   NaN   \n",
       "3016                 NaN                 NaN                   NaN   \n",
       "3022           37.000000                 NaN                   NaN   \n",
       "3212                 NaN                 NaN                   NaN   \n",
       "\n",
       "      SiteEnergyUse(kBtu)  SiteEnergyUseWN(kBtu)  SteamUse(kBtu)  \\\n",
       "1128                  NaN                    NaN             NaN   \n",
       "1307                  NaN                    NaN             NaN   \n",
       "2313         5.636832e+05             593798.625             NaN   \n",
       "2863         7.702755e+05             797507.000             NaN   \n",
       "3016                  NaN                    NaN             NaN   \n",
       "3022         1.049639e+06            1126781.750             NaN   \n",
       "3212                  NaN                    NaN             NaN   \n",
       "\n",
       "      Electricity(kWh)  Electricity(kBtu)  NaturalGas(therms)  \\\n",
       "1128               NaN                NaN                 NaN   \n",
       "1307               NaN                NaN                 NaN   \n",
       "2313               NaN                NaN                 NaN   \n",
       "2863               NaN                NaN                 NaN   \n",
       "3016               NaN                NaN                 NaN   \n",
       "3022               NaN                NaN                 NaN   \n",
       "3212               NaN                NaN                 NaN   \n",
       "\n",
       "      NaturalGas(kBtu)  OtherFuelUse(kBtu)  GHGEmissions(MetricTonsCO2e)  \\\n",
       "1128               NaN                 0.0                           NaN   \n",
       "1307               NaN                 NaN                           NaN   \n",
       "2313               NaN                 0.0                           NaN   \n",
       "2863               NaN                 0.0                           NaN   \n",
       "3016               NaN                 0.0                           NaN   \n",
       "3022               NaN                 0.0                           NaN   \n",
       "3212               NaN                 0.0                           NaN   \n",
       "\n",
       "      GHGEmissionsIntensity(kgCO2e/ft2)  \\\n",
       "1128                                NaN   \n",
       "1307                                NaN   \n",
       "2313                                NaN   \n",
       "2863                                NaN   \n",
       "3016                                NaN   \n",
       "3022                                NaN   \n",
       "3212                                NaN   \n",
       "\n",
       "                                          Coord  OtherPropertyUse  DecadeBuilt  \n",
       "1128                      (47.6038, -122.33293)               NaN          NaN  \n",
       "1307  (47.681490000000004, -122.26471000000001)               NaN          NaN  \n",
       "2313           (47.547309999999996, -122.38656)               NaN          NaN  \n",
       "2863                     (47.67025, -122.31232)               NaN          NaN  \n",
       "3016                     (47.69658, -122.34342)               NaN          NaN  \n",
       "3022                     (47.58968, -122.38587)               NaN          NaN  \n",
       "3212                     (47.66182, -122.31345)               NaN          NaN  "
      ]
     },
     "execution_count": 66,
     "metadata": {},
     "output_type": "execute_result"
    }
   ],
   "source": [
    "df[df[\"NumberofBuildings\"].isnull()]"
   ]
  },
  {
   "cell_type": "markdown",
   "metadata": {},
   "source": [
    "En nous basant sur les trois valeurs ci-dessous..."
   ]
  },
  {
   "cell_type": "code",
   "execution_count": 67,
   "metadata": {},
   "outputs": [
    {
     "data": {
      "text/plain": [
       "1.0518341307814991"
      ]
     },
     "execution_count": 67,
     "metadata": {},
     "output_type": "execute_result"
    }
   ],
   "source": [
    "df[\"NumberofBuildings\"][df[\"BuildingType\"] == \"Multifamily LR (1-4)\"].mean()"
   ]
  },
  {
   "cell_type": "code",
   "execution_count": 68,
   "metadata": {},
   "outputs": [
    {
     "data": {
      "text/plain": [
       "0.9833887043189369"
      ]
     },
     "execution_count": 68,
     "metadata": {},
     "output_type": "execute_result"
    }
   ],
   "source": [
    "df[\"NumberofBuildings\"][(df[\"BuildingType\"] == \"NonResidential\") & (df[\"PrimaryPropertyType\"] == \"Small- and Mid-Sized Office\")].mean()"
   ]
  },
  {
   "cell_type": "code",
   "execution_count": 69,
   "metadata": {},
   "outputs": [
    {
     "data": {
      "text/plain": [
       "1.0091743119266054"
      ]
     },
     "execution_count": 69,
     "metadata": {},
     "output_type": "execute_result"
    }
   ],
   "source": [
    "df[\"NumberofBuildings\"][(df[\"BuildingType\"] == \"NonResidential\") & (df[\"PrimaryPropertyType\"] == \"Mixed Use Property\")].mean()"
   ]
  },
  {
   "cell_type": "markdown",
   "metadata": {},
   "source": [
    "...nous décidons de peupler ces données manquantes par la valeur **1**."
   ]
  },
  {
   "cell_type": "code",
   "execution_count": 111,
   "metadata": {},
   "outputs": [],
   "source": [
    "df.loc[df[\"NumberofBuildings\"].isnull(), \"NumberofBuildings\"] = 1"
   ]
  },
  {
   "cell_type": "markdown",
   "metadata": {},
   "source": [
    " "
   ]
  },
  {
   "cell_type": "markdown",
   "metadata": {},
   "source": [
    "### Variables **GFA**"
   ]
  },
  {
   "cell_type": "code",
   "execution_count": 123,
   "metadata": {},
   "outputs": [
    {
     "name": "stdout",
     "output_type": "stream",
     "text": [
      "PropertyGFATotal ---------------------------\n",
      "\n",
      "count    3.838000e+03\n",
      "mean     9.348876e+04\n",
      "std      1.498970e+05\n",
      "min      1.630000e+04\n",
      "25%      2.939250e+04\n",
      "50%      4.529550e+04\n",
      "75%      9.395075e+04\n",
      "max      2.200000e+06\n",
      "Name: PropertyGFATotal, dtype: float64\n",
      "\n"
     ]
    },
    {
     "data": {
      "image/png": "[encoded data removed]",
      "text/plain": [
       "<Figure size 432x288 with 1 Axes>"
      ]
     },
     "metadata": {
      "needs_background": "light"
     },
     "output_type": "display_data"
    },
    {
     "name": "stdout",
     "output_type": "stream",
     "text": [
      "\n",
      "PropertyGFAParking ---------------------------\n",
      "\n",
      "count      3838.000000\n",
      "mean      10451.197238\n",
      "std       34078.383489\n",
      "min          -3.000000\n",
      "25%           0.000000\n",
      "50%           0.000000\n",
      "75%        1410.000000\n",
      "max      512608.000000\n",
      "Name: PropertyGFAParking, dtype: float64\n",
      "\n"
     ]
    },
    {
     "data": {
      "image/png": "[encoded data removed]",
      "text/plain": [
       "<Figure size 432x288 with 1 Axes>"
      ]
     },
     "metadata": {
      "needs_background": "light"
     },
     "output_type": "display_data"
    },
    {
     "name": "stdout",
     "output_type": "stream",
     "text": [
      "\n",
      "PropertyGFABuilding(s) ---------------------------\n",
      "\n",
      "count    3.838000e+03\n",
      "mean     8.303756e+04\n",
      "std      1.316030e+05\n",
      "min     -5.055000e+04\n",
      "25%      2.768075e+04\n",
      "50%      4.319150e+04\n",
      "75%      8.414475e+04\n",
      "max      2.200000e+06\n",
      "Name: PropertyGFABuilding(s), dtype: float64\n",
      "\n"
     ]
    },
    {
     "data": {
      "image/png": "[encoded data removed]",
      "text/plain": [
       "<Figure size 432x288 with 1 Axes>"
      ]
     },
     "metadata": {
      "needs_background": "light"
     },
     "output_type": "display_data"
    },
    {
     "name": "stdout",
     "output_type": "stream",
     "text": [
      "\n",
      "LargestPropertyUseTypeGFA ---------------------------\n",
      "\n",
      "count    3.790000e+03\n",
      "mean     7.662387e+04\n",
      "std      1.227771e+05\n",
      "min      5.656000e+03\n",
      "25%      2.546300e+04\n",
      "50%      4.026850e+04\n",
      "75%      7.776300e+04\n",
      "max      1.719643e+06\n",
      "Name: LargestPropertyUseTypeGFA, dtype: float64\n",
      "\n"
     ]
    },
    {
     "data": {
      "image/png": "[encoded data removed]",
      "text/plain": [
       "<Figure size 432x288 with 1 Axes>"
      ]
     },
     "metadata": {
      "needs_background": "light"
     },
     "output_type": "display_data"
    },
    {
     "name": "stdout",
     "output_type": "stream",
     "text": [
      "\n",
      "SecondLargestPropertyUseTypeGFA ---------------------------\n",
      "\n",
      "count      2015.000000\n",
      "mean      27753.091462\n",
      "std       50173.988139\n",
      "min           0.000000\n",
      "25%        5083.500000\n",
      "50%       11111.000000\n",
      "75%       27757.000000\n",
      "max      686750.000000\n",
      "Name: SecondLargestPropertyUseTypeGFA, dtype: float64\n",
      "\n"
     ]
    },
    {
     "data": {
      "image/png": "[encoded data removed]",
      "text/plain": [
       "<Figure size 432x288 with 1 Axes>"
      ]
     },
     "metadata": {
      "needs_background": "light"
     },
     "output_type": "display_data"
    },
    {
     "name": "stdout",
     "output_type": "stream",
     "text": [
      "\n",
      "ThirdLargestPropertyUseTypeGFA ---------------------------\n",
      "\n",
      "count       717.000000\n",
      "mean      11159.574893\n",
      "std       24039.744556\n",
      "min           0.000000\n",
      "25%        2377.000000\n",
      "50%        5149.000000\n",
      "75%       10270.000000\n",
      "max      303910.000000\n",
      "Name: ThirdLargestPropertyUseTypeGFA, dtype: float64\n",
      "\n"
     ]
    },
    {
     "data": {
      "image/png": "[encoded data removed]",
      "text/plain": [
       "<Figure size 432x288 with 1 Axes>"
      ]
     },
     "metadata": {
      "needs_background": "light"
     },
     "output_type": "display_data"
    },
    {
     "name": "stdout",
     "output_type": "stream",
     "text": [
      "\n"
     ]
    }
   ],
   "source": [
    "for col in quant[2:] :\n",
    "    print(col + \" ---------------------------\")\n",
    "    print()\n",
    "    print(df[col].describe())\n",
    "    print()\n",
    "    sns.boxplot(df[col])\n",
    "    plt.show()\n",
    "    print()"
   ]
  },
  {
   "cell_type": "markdown",
   "metadata": {},
   "source": [
    "Ici encore, nos données indiquent la présence d'outliers, mais comme les grandes superficies concernent des propriétés de type **campus**, **universités**, **complexes de bureaux** (...), nous les considérons comme légitimes."
   ]
  },
  {
   "cell_type": "markdown",
   "metadata": {},
   "source": [
    "Nous avons juste quelques superficies **négatives** à corriger."
   ]
  },
  {
   "cell_type": "code",
   "execution_count": 164,
   "metadata": {},
   "outputs": [
    {
     "data": {
      "text/html": [
       "<div>\n",
       "<style scoped>\n",
       "    .dataframe tbody tr th:only-of-type {\n",
       "        vertical-align: middle;\n",
       "    }\n",
       "\n",
       "    .dataframe tbody tr th {\n",
       "        vertical-align: top;\n",
       "    }\n",
       "\n",
       "    .dataframe thead th {\n",
       "        text-align: right;\n",
       "    }\n",
       "</style>\n",
       "<table border=\"1\" class=\"dataframe\">\n",
       "  <thead>\n",
       "    <tr style=\"text-align: right;\">\n",
       "      <th></th>\n",
       "      <th>CouncilDistrictCode</th>\n",
       "      <th>Neighborhood</th>\n",
       "      <th>ZipCode</th>\n",
       "      <th>BuildingType</th>\n",
       "      <th>PrimaryPropertyType</th>\n",
       "      <th>LargestPropertyUseType</th>\n",
       "      <th>SecondLargestPropertyUseType</th>\n",
       "      <th>ThirdLargestPropertyUseType</th>\n",
       "      <th>ComplianceStatus</th>\n",
       "      <th>YearBuilt</th>\n",
       "      <th>NumberofBuildings</th>\n",
       "      <th>NumberofFloors</th>\n",
       "      <th>PropertyGFATotal</th>\n",
       "      <th>PropertyGFAParking</th>\n",
       "      <th>PropertyGFABuilding(s)</th>\n",
       "      <th>LargestPropertyUseTypeGFA</th>\n",
       "      <th>SecondLargestPropertyUseTypeGFA</th>\n",
       "      <th>ThirdLargestPropertyUseTypeGFA</th>\n",
       "      <th>ENERGYSTARScore</th>\n",
       "      <th>SiteEUI(kBtu/sf)</th>\n",
       "      <th>SiteEUIWN(kBtu/sf)</th>\n",
       "      <th>SourceEUI(kBtu/sf)</th>\n",
       "      <th>SourceEUIWN(kBtu/sf)</th>\n",
       "      <th>SiteEnergyUse(kBtu)</th>\n",
       "      <th>SiteEnergyUseWN(kBtu)</th>\n",
       "      <th>SteamUse(kBtu)</th>\n",
       "      <th>Electricity(kWh)</th>\n",
       "      <th>Electricity(kBtu)</th>\n",
       "      <th>NaturalGas(therms)</th>\n",
       "      <th>NaturalGas(kBtu)</th>\n",
       "      <th>OtherFuelUse(kBtu)</th>\n",
       "      <th>GHGEmissions(MetricTonsCO2e)</th>\n",
       "      <th>GHGEmissionsIntensity(kgCO2e/ft2)</th>\n",
       "      <th>Coord</th>\n",
       "      <th>OtherPropertyUse</th>\n",
       "      <th>DecadeBuilt</th>\n",
       "    </tr>\n",
       "  </thead>\n",
       "  <tbody>\n",
       "    <tr>\n",
       "      <th>350</th>\n",
       "      <td>2</td>\n",
       "      <td>SOUTHEAST</td>\n",
       "      <td>98118.0</td>\n",
       "      <td>Multifamily MR (5-9)</td>\n",
       "      <td>Mid-Rise Multifamily</td>\n",
       "      <td>Multifamily Housing</td>\n",
       "      <td>NaN</td>\n",
       "      <td>NaN</td>\n",
       "      <td>Compliant</td>\n",
       "      <td>NaN</td>\n",
       "      <td>1.0</td>\n",
       "      <td>5.0</td>\n",
       "      <td>20967</td>\n",
       "      <td>-3</td>\n",
       "      <td>20970</td>\n",
       "      <td>20967.0</td>\n",
       "      <td>NaN</td>\n",
       "      <td>NaN</td>\n",
       "      <td>81.0</td>\n",
       "      <td>25.7</td>\n",
       "      <td>27.5</td>\n",
       "      <td>80.8</td>\n",
       "      <td>86.4</td>\n",
       "      <td>539271.0</td>\n",
       "      <td>576638.0</td>\n",
       "      <td>0.0</td>\n",
       "      <td>158051.0</td>\n",
       "      <td>539293.0</td>\n",
       "      <td>0.0</td>\n",
       "      <td>0.0</td>\n",
       "      <td>0.0</td>\n",
       "      <td>3.76</td>\n",
       "      <td>0.07</td>\n",
       "      <td>(47.52056437, -122.26026029999998)</td>\n",
       "      <td>NaN</td>\n",
       "      <td>NaN</td>\n",
       "    </tr>\n",
       "    <tr>\n",
       "      <th>489</th>\n",
       "      <td>2</td>\n",
       "      <td>DOWNTOWN</td>\n",
       "      <td>98104.0</td>\n",
       "      <td>NonResidential</td>\n",
       "      <td>Small- and Mid-Sized Office</td>\n",
       "      <td>Office</td>\n",
       "      <td>Bank Branch</td>\n",
       "      <td>NaN</td>\n",
       "      <td>Compliant</td>\n",
       "      <td>NaN</td>\n",
       "      <td>1.0</td>\n",
       "      <td>11.0</td>\n",
       "      <td>68452</td>\n",
       "      <td>-2</td>\n",
       "      <td>68454</td>\n",
       "      <td>61665.0</td>\n",
       "      <td>6787.0</td>\n",
       "      <td>NaN</td>\n",
       "      <td>81.0</td>\n",
       "      <td>53.6</td>\n",
       "      <td>58.3</td>\n",
       "      <td>168.4</td>\n",
       "      <td>182.9</td>\n",
       "      <td>3670298.0</td>\n",
       "      <td>3988260.0</td>\n",
       "      <td>0.0</td>\n",
       "      <td>1075703.0</td>\n",
       "      <td>3670451.0</td>\n",
       "      <td>0.0</td>\n",
       "      <td>0.0</td>\n",
       "      <td>0.0</td>\n",
       "      <td>25.59</td>\n",
       "      <td>0.14</td>\n",
       "      <td>(47.59725206, -122.3277466)</td>\n",
       "      <td>NaN</td>\n",
       "      <td>NaN</td>\n",
       "    </tr>\n",
       "  </tbody>\n",
       "</table>\n",
       "</div>"
      ],
      "text/plain": [
       "     CouncilDistrictCode Neighborhood  ZipCode          BuildingType  \\\n",
       "350                    2    SOUTHEAST  98118.0  Multifamily MR (5-9)   \n",
       "489                    2     DOWNTOWN  98104.0        NonResidential   \n",
       "\n",
       "             PrimaryPropertyType LargestPropertyUseType  \\\n",
       "350         Mid-Rise Multifamily    Multifamily Housing   \n",
       "489  Small- and Mid-Sized Office                 Office   \n",
       "\n",
       "    SecondLargestPropertyUseType ThirdLargestPropertyUseType ComplianceStatus  \\\n",
       "350                          NaN                         NaN        Compliant   \n",
       "489                  Bank Branch                         NaN        Compliant   \n",
       "\n",
       "     YearBuilt  NumberofBuildings  NumberofFloors  PropertyGFATotal  \\\n",
       "350        NaN                1.0             5.0             20967   \n",
       "489        NaN                1.0            11.0             68452   \n",
       "\n",
       "     PropertyGFAParking  PropertyGFABuilding(s)  LargestPropertyUseTypeGFA  \\\n",
       "350                  -3                   20970                    20967.0   \n",
       "489                  -2                   68454                    61665.0   \n",
       "\n",
       "     SecondLargestPropertyUseTypeGFA  ThirdLargestPropertyUseTypeGFA  \\\n",
       "350                              NaN                             NaN   \n",
       "489                           6787.0                             NaN   \n",
       "\n",
       "     ENERGYSTARScore  SiteEUI(kBtu/sf)  SiteEUIWN(kBtu/sf)  \\\n",
       "350             81.0              25.7                27.5   \n",
       "489             81.0              53.6                58.3   \n",
       "\n",
       "     SourceEUI(kBtu/sf)  SourceEUIWN(kBtu/sf)  SiteEnergyUse(kBtu)  \\\n",
       "350                80.8                  86.4             539271.0   \n",
       "489               168.4                 182.9            3670298.0   \n",
       "\n",
       "     SiteEnergyUseWN(kBtu)  SteamUse(kBtu)  Electricity(kWh)  \\\n",
       "350               576638.0             0.0          158051.0   \n",
       "489              3988260.0             0.0         1075703.0   \n",
       "\n",
       "     Electricity(kBtu)  NaturalGas(therms)  NaturalGas(kBtu)  \\\n",
       "350           539293.0                 0.0               0.0   \n",
       "489          3670451.0                 0.0               0.0   \n",
       "\n",
       "     OtherFuelUse(kBtu)  GHGEmissions(MetricTonsCO2e)  \\\n",
       "350                 0.0                          3.76   \n",
       "489                 0.0                         25.59   \n",
       "\n",
       "     GHGEmissionsIntensity(kgCO2e/ft2)                               Coord  \\\n",
       "350                               0.07  (47.52056437, -122.26026029999998)   \n",
       "489                               0.14         (47.59725206, -122.3277466)   \n",
       "\n",
       "     OtherPropertyUse  DecadeBuilt  \n",
       "350               NaN          NaN  \n",
       "489               NaN          NaN  "
      ]
     },
     "execution_count": 164,
     "metadata": {},
     "output_type": "execute_result"
    }
   ],
   "source": [
    "df[df[\"PropertyGFAParking\"] < 0]"
   ]
  },
  {
   "cell_type": "markdown",
   "metadata": {},
   "source": [
    "Ici nous allons remplacer ces valeurs négatives par **0**."
   ]
  },
  {
   "cell_type": "code",
   "execution_count": 112,
   "metadata": {},
   "outputs": [],
   "source": [
    "df.loc[df.index == 350, \"PropertyGFAParking\"] = 0\n",
    "df.loc[df.index == 489, \"PropertyGFAParking\"] = 0"
   ]
  },
  {
   "cell_type": "code",
   "execution_count": 165,
   "metadata": {},
   "outputs": [
    {
     "data": {
      "text/html": [
       "<div>\n",
       "<style scoped>\n",
       "    .dataframe tbody tr th:only-of-type {\n",
       "        vertical-align: middle;\n",
       "    }\n",
       "\n",
       "    .dataframe tbody tr th {\n",
       "        vertical-align: top;\n",
       "    }\n",
       "\n",
       "    .dataframe thead th {\n",
       "        text-align: right;\n",
       "    }\n",
       "</style>\n",
       "<table border=\"1\" class=\"dataframe\">\n",
       "  <thead>\n",
       "    <tr style=\"text-align: right;\">\n",
       "      <th></th>\n",
       "      <th>CouncilDistrictCode</th>\n",
       "      <th>Neighborhood</th>\n",
       "      <th>ZipCode</th>\n",
       "      <th>BuildingType</th>\n",
       "      <th>PrimaryPropertyType</th>\n",
       "      <th>LargestPropertyUseType</th>\n",
       "      <th>SecondLargestPropertyUseType</th>\n",
       "      <th>ThirdLargestPropertyUseType</th>\n",
       "      <th>ComplianceStatus</th>\n",
       "      <th>YearBuilt</th>\n",
       "      <th>NumberofBuildings</th>\n",
       "      <th>NumberofFloors</th>\n",
       "      <th>PropertyGFATotal</th>\n",
       "      <th>PropertyGFAParking</th>\n",
       "      <th>PropertyGFABuilding(s)</th>\n",
       "      <th>LargestPropertyUseTypeGFA</th>\n",
       "      <th>SecondLargestPropertyUseTypeGFA</th>\n",
       "      <th>ThirdLargestPropertyUseTypeGFA</th>\n",
       "      <th>ENERGYSTARScore</th>\n",
       "      <th>SiteEUI(kBtu/sf)</th>\n",
       "      <th>SiteEUIWN(kBtu/sf)</th>\n",
       "      <th>SourceEUI(kBtu/sf)</th>\n",
       "      <th>SourceEUIWN(kBtu/sf)</th>\n",
       "      <th>SiteEnergyUse(kBtu)</th>\n",
       "      <th>SiteEnergyUseWN(kBtu)</th>\n",
       "      <th>SteamUse(kBtu)</th>\n",
       "      <th>Electricity(kWh)</th>\n",
       "      <th>Electricity(kBtu)</th>\n",
       "      <th>NaturalGas(therms)</th>\n",
       "      <th>NaturalGas(kBtu)</th>\n",
       "      <th>OtherFuelUse(kBtu)</th>\n",
       "      <th>GHGEmissions(MetricTonsCO2e)</th>\n",
       "      <th>GHGEmissionsIntensity(kgCO2e/ft2)</th>\n",
       "      <th>Coord</th>\n",
       "      <th>OtherPropertyUse</th>\n",
       "      <th>DecadeBuilt</th>\n",
       "    </tr>\n",
       "  </thead>\n",
       "  <tbody>\n",
       "    <tr>\n",
       "      <th>490</th>\n",
       "      <td>7</td>\n",
       "      <td>MAGNOLIA / QUEEN ANNE</td>\n",
       "      <td>98119.0</td>\n",
       "      <td>NonResidential</td>\n",
       "      <td>Small- and Mid-Sized Office</td>\n",
       "      <td>Office</td>\n",
       "      <td>NaN</td>\n",
       "      <td>NaN</td>\n",
       "      <td>Compliant</td>\n",
       "      <td>NaN</td>\n",
       "      <td>1.0</td>\n",
       "      <td>5.0</td>\n",
       "      <td>54015</td>\n",
       "      <td>97325</td>\n",
       "      <td>-43310</td>\n",
       "      <td>54015.0</td>\n",
       "      <td>NaN</td>\n",
       "      <td>NaN</td>\n",
       "      <td>65.0</td>\n",
       "      <td>64.0</td>\n",
       "      <td>64.0</td>\n",
       "      <td>200.9</td>\n",
       "      <td>200.9</td>\n",
       "      <td>3455247.0</td>\n",
       "      <td>3455247.0</td>\n",
       "      <td>0.0</td>\n",
       "      <td>1012675.0</td>\n",
       "      <td>3455391.0</td>\n",
       "      <td>0.0</td>\n",
       "      <td>0.0</td>\n",
       "      <td>0.0</td>\n",
       "      <td>24.09</td>\n",
       "      <td>0.17</td>\n",
       "      <td>(47.62496806, -122.359705)</td>\n",
       "      <td>NaN</td>\n",
       "      <td>NaN</td>\n",
       "    </tr>\n",
       "    <tr>\n",
       "      <th>547</th>\n",
       "      <td>4</td>\n",
       "      <td>NORTHEAST</td>\n",
       "      <td>98105.0</td>\n",
       "      <td>NonResidential</td>\n",
       "      <td>Other</td>\n",
       "      <td>Parking</td>\n",
       "      <td>Automobile Dealership</td>\n",
       "      <td>NaN</td>\n",
       "      <td>Compliant</td>\n",
       "      <td>NaN</td>\n",
       "      <td>1.0</td>\n",
       "      <td>3.0</td>\n",
       "      <td>33648</td>\n",
       "      <td>84198</td>\n",
       "      <td>-50550</td>\n",
       "      <td>83600.0</td>\n",
       "      <td>39000.0</td>\n",
       "      <td>NaN</td>\n",
       "      <td>NaN</td>\n",
       "      <td>35.6</td>\n",
       "      <td>35.6</td>\n",
       "      <td>111.9</td>\n",
       "      <td>111.9</td>\n",
       "      <td>1389553.0</td>\n",
       "      <td>1389553.0</td>\n",
       "      <td>0.0</td>\n",
       "      <td>407255.0</td>\n",
       "      <td>1389610.0</td>\n",
       "      <td>0.0</td>\n",
       "      <td>0.0</td>\n",
       "      <td>0.0</td>\n",
       "      <td>9.69</td>\n",
       "      <td>0.11</td>\n",
       "      <td>(47.66411096, -122.3166394)</td>\n",
       "      <td>NaN</td>\n",
       "      <td>NaN</td>\n",
       "    </tr>\n",
       "  </tbody>\n",
       "</table>\n",
       "</div>"
      ],
      "text/plain": [
       "     CouncilDistrictCode           Neighborhood  ZipCode    BuildingType  \\\n",
       "490                    7  MAGNOLIA / QUEEN ANNE  98119.0  NonResidential   \n",
       "547                    4              NORTHEAST  98105.0  NonResidential   \n",
       "\n",
       "             PrimaryPropertyType LargestPropertyUseType  \\\n",
       "490  Small- and Mid-Sized Office                 Office   \n",
       "547                        Other                Parking   \n",
       "\n",
       "    SecondLargestPropertyUseType ThirdLargestPropertyUseType ComplianceStatus  \\\n",
       "490                          NaN                         NaN        Compliant   \n",
       "547        Automobile Dealership                         NaN        Compliant   \n",
       "\n",
       "     YearBuilt  NumberofBuildings  NumberofFloors  PropertyGFATotal  \\\n",
       "490        NaN                1.0             5.0             54015   \n",
       "547        NaN                1.0             3.0             33648   \n",
       "\n",
       "     PropertyGFAParking  PropertyGFABuilding(s)  LargestPropertyUseTypeGFA  \\\n",
       "490               97325                  -43310                    54015.0   \n",
       "547               84198                  -50550                    83600.0   \n",
       "\n",
       "     SecondLargestPropertyUseTypeGFA  ThirdLargestPropertyUseTypeGFA  \\\n",
       "490                              NaN                             NaN   \n",
       "547                          39000.0                             NaN   \n",
       "\n",
       "     ENERGYSTARScore  SiteEUI(kBtu/sf)  SiteEUIWN(kBtu/sf)  \\\n",
       "490             65.0              64.0                64.0   \n",
       "547              NaN              35.6                35.6   \n",
       "\n",
       "     SourceEUI(kBtu/sf)  SourceEUIWN(kBtu/sf)  SiteEnergyUse(kBtu)  \\\n",
       "490               200.9                 200.9            3455247.0   \n",
       "547               111.9                 111.9            1389553.0   \n",
       "\n",
       "     SiteEnergyUseWN(kBtu)  SteamUse(kBtu)  Electricity(kWh)  \\\n",
       "490              3455247.0             0.0         1012675.0   \n",
       "547              1389553.0             0.0          407255.0   \n",
       "\n",
       "     Electricity(kBtu)  NaturalGas(therms)  NaturalGas(kBtu)  \\\n",
       "490          3455391.0                 0.0               0.0   \n",
       "547          1389610.0                 0.0               0.0   \n",
       "\n",
       "     OtherFuelUse(kBtu)  GHGEmissions(MetricTonsCO2e)  \\\n",
       "490                 0.0                         24.09   \n",
       "547                 0.0                          9.69   \n",
       "\n",
       "     GHGEmissionsIntensity(kgCO2e/ft2)                        Coord  \\\n",
       "490                               0.17   (47.62496806, -122.359705)   \n",
       "547                               0.11  (47.66411096, -122.3166394)   \n",
       "\n",
       "     OtherPropertyUse  DecadeBuilt  \n",
       "490               NaN          NaN  \n",
       "547               NaN          NaN  "
      ]
     },
     "execution_count": 165,
     "metadata": {},
     "output_type": "execute_result"
    }
   ],
   "source": [
    "df[df[\"PropertyGFABuilding(s)\"] < 0]"
   ]
  },
  {
   "cell_type": "markdown",
   "metadata": {},
   "source": [
    "Ici, il nous semble que les colonnes **PropertyGFATotal** et **PropertyGFAParking** ont été **interverties**. On va corriger cela \"à la main\"."
   ]
  },
  {
   "cell_type": "code",
   "execution_count": 113,
   "metadata": {},
   "outputs": [],
   "source": [
    "df.loc[df.index == 490, \"PropertyGFATotal\"] = 97325\n",
    "df.loc[df.index == 490, \"PropertyGFAParking\"] = 54015\n",
    "df.loc[df.index == 490, \"PropertyGFABuilding(s)\"] = 43310\n",
    "\n",
    "df.loc[df.index == 547, \"PropertyGFATotal\"] = 84198\n",
    "df.loc[df.index == 547, \"PropertyGFAParking\"] = 33648\n",
    "df.loc[df.index == 547, \"PropertyGFABuilding(s)\"] = 50550"
   ]
  },
  {
   "cell_type": "markdown",
   "metadata": {},
   "source": [
    " "
   ]
  },
  {
   "cell_type": "markdown",
   "metadata": {},
   "source": [
    "### Création de **nouvelles variables**"
   ]
  },
  {
   "cell_type": "markdown",
   "metadata": {},
   "source": [
    " "
   ]
  },
  {
   "cell_type": "markdown",
   "metadata": {},
   "source": [
    "**PropertyBuildingGFARate**"
   ]
  },
  {
   "cell_type": "markdown",
   "metadata": {},
   "source": [
    "Comme nous le montre le graph suivant, la surface **totale** d'une propriété est égale à l'**addition** de ses surface **découvertes** et **couvertes**."
   ]
  },
  {
   "cell_type": "code",
   "execution_count": 267,
   "metadata": {},
   "outputs": [
    {
     "data": {
      "text/plain": [
       "<matplotlib.collections.PathCollection at 0x1c2353c8>"
      ]
     },
     "execution_count": 267,
     "metadata": {},
     "output_type": "execute_result"
    },
    {
     "data": {
      "image/png": "[encoded data removed]",
      "text/plain": [
       "<Figure size 432x288 with 1 Axes>"
      ]
     },
     "metadata": {
      "needs_background": "light"
     },
     "output_type": "display_data"
    }
   ],
   "source": [
    "plt.scatter(df['PropertyGFATotal'], (df['PropertyGFAParking'] + df[\"PropertyGFABuilding(s)\"]))"
   ]
  },
  {
   "cell_type": "markdown",
   "metadata": {},
   "source": [
    "On crée une variable **PropertyBuildingGFARate**, **fraction** de la surface **couverte** sur la surface **totale** d'une propriété."
   ]
  },
  {
   "cell_type": "code",
   "execution_count": 114,
   "metadata": {},
   "outputs": [],
   "source": [
    "df[\"PropertyBuildingGFARate\"] = df[\"PropertyGFABuilding(s)\"] / df['PropertyGFATotal']"
   ]
  },
  {
   "cell_type": "markdown",
   "metadata": {},
   "source": [
    "Cela nous permet d'éliminer deux variables."
   ]
  },
  {
   "cell_type": "code",
   "execution_count": 115,
   "metadata": {},
   "outputs": [],
   "source": [
    "df = df.drop([\"PropertyGFABuilding(s)\", \"PropertyGFAParking\"], axis=1)"
   ]
  },
  {
   "cell_type": "markdown",
   "metadata": {},
   "source": [
    " "
   ]
  },
  {
   "cell_type": "markdown",
   "metadata": {},
   "source": [
    "**LargestPropertyUseTypeGFA**"
   ]
  },
  {
   "cell_type": "code",
   "execution_count": 116,
   "metadata": {},
   "outputs": [],
   "source": [
    "liste = [\"LargestPropertyUseTypeGFA\", \"SecondLargestPropertyUseTypeGFA\", \n",
    "         \"ThirdLargestPropertyUseTypeGFA\"]"
   ]
  },
  {
   "cell_type": "markdown",
   "metadata": {},
   "source": [
    "A partir des trois variables de la liste ci-dessus, nous allons créer trois **ratio** en fonction de **PropertyGFATotal** (après avoir rempli les valeurs NaN de **0**)."
   ]
  },
  {
   "cell_type": "code",
   "execution_count": 117,
   "metadata": {},
   "outputs": [],
   "source": [
    "for col in liste :\n",
    "    df[liste] = df[liste].fillna(value = 0)\n",
    "\n",
    "df[\"L_PUTGFA\"] = df[\"LargestPropertyUseTypeGFA\"] / df[\"PropertyGFATotal\"]\n",
    "df[\"S_PUTGFA\"] = df[\"SecondLargestPropertyUseTypeGFA\"] / df[\"PropertyGFATotal\"]\n",
    "df[\"T_PUTGFA\"] = df[\"ThirdLargestPropertyUseTypeGFA\"] / df[\"PropertyGFATotal\"]\n",
    "\n",
    "df = df.drop(liste, axis = 1)"
   ]
  },
  {
   "cell_type": "code",
   "execution_count": 120,
   "metadata": {},
   "outputs": [],
   "source": [
    "quant = [\"NumberofBuildings\", \"NumberofFloors\", \"PropertyGFATotal\", \"PropertyBuildingGFARate\", \n",
    "         \"L_PUTGFA\", \"S_PUTGFA\", \"T_PUTGFA\"]"
   ]
  },
  {
   "cell_type": "markdown",
   "metadata": {},
   "source": [
    " "
   ]
  },
  {
   "cell_type": "markdown",
   "metadata": {},
   "source": [
    "## Bloc **TARGETS**"
   ]
  },
  {
   "cell_type": "code",
   "execution_count": 121,
   "metadata": {},
   "outputs": [],
   "source": [
    "targets = [\"ENERGYSTARScore\", \"SiteEUI(kBtu/sf)\", \"SiteEUIWN(kBtu/sf)\", \"SourceEUI(kBtu/sf)\", \n",
    "           \"SourceEUIWN(kBtu/sf)\", \"SiteEnergyUse(kBtu)\", \"SiteEnergyUseWN(kBtu)\", \"SteamUse(kBtu)\", \n",
    "           \"Electricity(kWh)\", \"Electricity(kBtu)\", \"NaturalGas(therms)\", \"NaturalGas(kBtu)\", \n",
    "           \"OtherFuelUse(kBtu)\", \"GHGEmissions(MetricTonsCO2e)\", \n",
    "           \"GHGEmissionsIntensity(kgCO2e/ft2)\"]"
   ]
  },
  {
   "cell_type": "markdown",
   "metadata": {},
   "source": [
    "De ces variables, nous ne garderons que nos deux cibles, **SiteEnergyUse(kBtu)**, **GHGEmissions(MetricTonsCO2e)**, ainsi que la variable **ENERGYSTARScore** que nous aurons à discuter."
   ]
  },
  {
   "cell_type": "markdown",
   "metadata": {},
   "source": [
    "Notre objectif étant de modéliser les consommations énergétiques et les émissions de gaz à effet de serre de nos propriétés, les seules choses que nous pouvons tirer de ce bloc sont des **variales binaires** nous disant si une propriété utilise **certains types d'énergie** (fuel/charbon, gaz naturel ou autre...)."
   ]
  },
  {
   "cell_type": "code",
   "execution_count": 122,
   "metadata": {},
   "outputs": [
    {
     "data": {
      "text/html": [
       "<div>\n",
       "<style scoped>\n",
       "    .dataframe tbody tr th:only-of-type {\n",
       "        vertical-align: middle;\n",
       "    }\n",
       "\n",
       "    .dataframe tbody tr th {\n",
       "        vertical-align: top;\n",
       "    }\n",
       "\n",
       "    .dataframe thead th {\n",
       "        text-align: right;\n",
       "    }\n",
       "</style>\n",
       "<table border=\"1\" class=\"dataframe\">\n",
       "  <thead>\n",
       "    <tr style=\"text-align: right;\">\n",
       "      <th></th>\n",
       "      <th>SteamUse(kBtu)</th>\n",
       "      <th>NaturalGas(kBtu)</th>\n",
       "      <th>OtherFuelUse(kBtu)</th>\n",
       "    </tr>\n",
       "  </thead>\n",
       "  <tbody>\n",
       "    <tr>\n",
       "      <th>count</th>\n",
       "      <td>3.829000e+03</td>\n",
       "      <td>3.829000e+03</td>\n",
       "      <td>3.827000e+03</td>\n",
       "    </tr>\n",
       "    <tr>\n",
       "      <th>mean</th>\n",
       "      <td>2.361399e+05</td>\n",
       "      <td>1.273132e+06</td>\n",
       "      <td>6.214754e+03</td>\n",
       "    </tr>\n",
       "    <tr>\n",
       "      <th>std</th>\n",
       "      <td>3.441115e+06</td>\n",
       "      <td>4.471811e+06</td>\n",
       "      <td>1.831031e+05</td>\n",
       "    </tr>\n",
       "    <tr>\n",
       "      <th>min</th>\n",
       "      <td>0.000000e+00</td>\n",
       "      <td>0.000000e+00</td>\n",
       "      <td>0.000000e+00</td>\n",
       "    </tr>\n",
       "    <tr>\n",
       "      <th>25%</th>\n",
       "      <td>0.000000e+00</td>\n",
       "      <td>0.000000e+00</td>\n",
       "      <td>0.000000e+00</td>\n",
       "    </tr>\n",
       "    <tr>\n",
       "      <th>50%</th>\n",
       "      <td>0.000000e+00</td>\n",
       "      <td>2.810480e+05</td>\n",
       "      <td>0.000000e+00</td>\n",
       "    </tr>\n",
       "    <tr>\n",
       "      <th>75%</th>\n",
       "      <td>0.000000e+00</td>\n",
       "      <td>1.166758e+06</td>\n",
       "      <td>0.000000e+00</td>\n",
       "    </tr>\n",
       "    <tr>\n",
       "      <th>max</th>\n",
       "      <td>1.349435e+08</td>\n",
       "      <td>1.381912e+08</td>\n",
       "      <td>8.269669e+06</td>\n",
       "    </tr>\n",
       "  </tbody>\n",
       "</table>\n",
       "</div>"
      ],
      "text/plain": [
       "       SteamUse(kBtu)  NaturalGas(kBtu)  OtherFuelUse(kBtu)\n",
       "count    3.829000e+03      3.829000e+03        3.827000e+03\n",
       "mean     2.361399e+05      1.273132e+06        6.214754e+03\n",
       "std      3.441115e+06      4.471811e+06        1.831031e+05\n",
       "min      0.000000e+00      0.000000e+00        0.000000e+00\n",
       "25%      0.000000e+00      0.000000e+00        0.000000e+00\n",
       "50%      0.000000e+00      2.810480e+05        0.000000e+00\n",
       "75%      0.000000e+00      1.166758e+06        0.000000e+00\n",
       "max      1.349435e+08      1.381912e+08        8.269669e+06"
      ]
     },
     "execution_count": 122,
     "metadata": {},
     "output_type": "execute_result"
    }
   ],
   "source": [
    "df_e = df[[\"SteamUse(kBtu)\", \"NaturalGas(kBtu)\", \"OtherFuelUse(kBtu)\"]]\n",
    "df_e.describe()"
   ]
  },
  {
   "cell_type": "code",
   "execution_count": 123,
   "metadata": {},
   "outputs": [],
   "source": [
    "energies = [\"Steam\", \"NaturalGas\", \"Other\"]\n",
    "\n",
    "def use_energy(n):\n",
    "    if n == 0 :\n",
    "        return 0\n",
    "    else :\n",
    "        return 1\n",
    "\n",
    "for energie in energies :    \n",
    "    df[energie] = df_e[df_e.columns[energies.index(energie)]].map(use_energy)"
   ]
  },
  {
   "cell_type": "code",
   "execution_count": 124,
   "metadata": {},
   "outputs": [],
   "source": [
    "targets = [\"Steam\", \"NaturalGas\", \"Other\", \"ENERGYSTARScore\", \"SiteEnergyUseWN(kBtu)\", \n",
    "           \"GHGEmissions(MetricTonsCO2e)\"]"
   ]
  },
  {
   "cell_type": "markdown",
   "metadata": {},
   "source": [
    " "
   ]
  },
  {
   "cell_type": "markdown",
   "metadata": {},
   "source": [
    "### Reorganisation et sauvegarde du dataset"
   ]
  },
  {
   "cell_type": "code",
   "execution_count": 125,
   "metadata": {},
   "outputs": [],
   "source": [
    "df = df[geo + cate + quant + targets]"
   ]
  },
  {
   "cell_type": "code",
   "execution_count": 127,
   "metadata": {},
   "outputs": [],
   "source": [
    "df.to_csv(\"Data/df_clean4.csv\", index = False)"
   ]
  },
  {
   "cell_type": "code",
   "execution_count": 130,
   "metadata": {},
   "outputs": [],
   "source": [
    "df = pd.read_csv(\"Data/df_clean4.csv\")"
   ]
  },
  {
   "cell_type": "markdown",
   "metadata": {},
   "source": [
    " "
   ]
  },
  {
   "cell_type": "markdown",
   "metadata": {},
   "source": [
    "# Analyses Bivariées"
   ]
  },
  {
   "cell_type": "markdown",
   "metadata": {},
   "source": [
    " "
   ]
  },
  {
   "cell_type": "markdown",
   "metadata": {},
   "source": [
    "Nous allons maintenant tenter de trouver d'éventuelles corrélations linéaires entre nos variables, en commençant par observer la **table de corrélation** de nos variables numériques."
   ]
  },
  {
   "cell_type": "markdown",
   "metadata": {},
   "source": [
    "Conversion de nos variables catégorielles en valeurs non-numériques"
   ]
  },
  {
   "cell_type": "code",
   "execution_count": 131,
   "metadata": {},
   "outputs": [],
   "source": [
    "liste_var = [\"CouncilDistrictCode\", \"ZipCode\", \"OtherPropertyUse\", \"YearBuilt\", \"DecadeBuilt\", \n",
    "                  \"Steam\", \"NaturalGas\", \"Other\"]\n",
    "\n",
    "for col in liste_var :\n",
    "    df[col] = df[col].astype(\"str\")"
   ]
  },
  {
   "cell_type": "markdown",
   "metadata": {},
   "source": [
    "Extraction de la liste de nos variables numériques."
   ]
  },
  {
   "cell_type": "code",
   "execution_count": 132,
   "metadata": {},
   "outputs": [],
   "source": [
    "var_num = df.select_dtypes(exclude=[\"object\"]).columns"
   ]
  },
  {
   "cell_type": "markdown",
   "metadata": {},
   "source": [
    "Affichage de la **table de corrélation** à partir d'un script importé du module **marko**."
   ]
  },
  {
   "cell_type": "code",
   "execution_count": 133,
   "metadata": {},
   "outputs": [
    {
     "data": {
      "image/png": "[encoded data removed]",
      "text/plain": [
       "<Figure size 864x864 with 2 Axes>"
      ]
     },
     "metadata": {
      "needs_background": "light"
     },
     "output_type": "display_data"
    }
   ],
   "source": [
    "table_cor(df, var_num)"
   ]
  },
  {
   "cell_type": "markdown",
   "metadata": {},
   "source": [
    "Nous avons quelques observations intéressantes :<br>- Concernant nos **cibles**, **SiteEnergyUseWN(kBtu)** et **GHGEmissions(MetricTonsCO2e)** semblent fortement corrélés.<br>- Parmi nos **variables quantitatives**, la superficie totale des propriétés, leur nombre d'étages et de bâtiments sont les facteurs les plus corrélés à la consommation d'énergie. "
   ]
  },
  {
   "cell_type": "markdown",
   "metadata": {},
   "source": [
    " "
   ]
  },
  {
   "cell_type": "markdown",
   "metadata": {},
   "source": [
    "Nous allons maintenant observer d'éventuelles corrélations entre nos **variables qualitatives** et **SiteEnergyUseWN(kBtu)**."
   ]
  },
  {
   "cell_type": "markdown",
   "metadata": {},
   "source": [
    "Extrayons nos **variables qualitatives** et générons un dataset de résultats des **anova**, entre ces variables et **SiteEnergyUseWN(kBtu)**, grâce à un script importé du module **marko**."
   ]
  },
  {
   "cell_type": "code",
   "execution_count": 134,
   "metadata": {},
   "outputs": [],
   "source": [
    "var_ob = df.select_dtypes(include=[\"object\"]).columns"
   ]
  },
  {
   "cell_type": "code",
   "execution_count": 74,
   "metadata": {},
   "outputs": [],
   "source": [
    "# utilisation de la fonction \"anova_g\"\n",
    "res = anova_g(df, var_ob, \"SiteEnergyUseWN(kBtu)\")"
   ]
  },
  {
   "cell_type": "code",
   "execution_count": 75,
   "metadata": {},
   "outputs": [
    {
     "data": {
      "text/html": [
       "<div>\n",
       "<style scoped>\n",
       "    .dataframe tbody tr th:only-of-type {\n",
       "        vertical-align: middle;\n",
       "    }\n",
       "\n",
       "    .dataframe tbody tr th {\n",
       "        vertical-align: top;\n",
       "    }\n",
       "\n",
       "    .dataframe thead th {\n",
       "        text-align: right;\n",
       "    }\n",
       "</style>\n",
       "<table border=\"1\" class=\"dataframe\">\n",
       "  <thead>\n",
       "    <tr style=\"text-align: right;\">\n",
       "      <th></th>\n",
       "      <th>vquant</th>\n",
       "      <th>vqual</th>\n",
       "      <th>R2</th>\n",
       "      <th>p-value</th>\n",
       "    </tr>\n",
       "  </thead>\n",
       "  <tbody>\n",
       "    <tr>\n",
       "      <th>3</th>\n",
       "      <td>SiteEnergyUseWN(kBtu)</td>\n",
       "      <td>Coord</td>\n",
       "      <td>0.9722997367871178</td>\n",
       "      <td>0.8390024710774467</td>\n",
       "    </tr>\n",
       "    <tr>\n",
       "      <th>6</th>\n",
       "      <td>SiteEnergyUseWN(kBtu)</td>\n",
       "      <td>LargestPropertyUseType</td>\n",
       "      <td>0.38250438415211485</td>\n",
       "      <td>0.0</td>\n",
       "    </tr>\n",
       "    <tr>\n",
       "      <th>5</th>\n",
       "      <td>SiteEnergyUseWN(kBtu)</td>\n",
       "      <td>PrimaryPropertyType</td>\n",
       "      <td>0.34957159058271375</td>\n",
       "      <td>0.0</td>\n",
       "    </tr>\n",
       "    <tr>\n",
       "      <th>8</th>\n",
       "      <td>SiteEnergyUseWN(kBtu)</td>\n",
       "      <td>ThirdLargestPropertyUseType</td>\n",
       "      <td>0.2002082624509825</td>\n",
       "      <td>3.1104376795513185e-15</td>\n",
       "    </tr>\n",
       "    <tr>\n",
       "      <th>4</th>\n",
       "      <td>SiteEnergyUseWN(kBtu)</td>\n",
       "      <td>BuildingType</td>\n",
       "      <td>0.09377758871978956</td>\n",
       "      <td>2.780653788586009e-78</td>\n",
       "    </tr>\n",
       "    <tr>\n",
       "      <th>2</th>\n",
       "      <td>SiteEnergyUseWN(kBtu)</td>\n",
       "      <td>ZipCode</td>\n",
       "      <td>0.05332783353661119</td>\n",
       "      <td>1.3154629595462633e-20</td>\n",
       "    </tr>\n",
       "    <tr>\n",
       "      <th>13</th>\n",
       "      <td>SiteEnergyUseWN(kBtu)</td>\n",
       "      <td>Steam</td>\n",
       "      <td>0.04964338817434808</td>\n",
       "      <td>2.6557751797391487e-44</td>\n",
       "    </tr>\n",
       "  </tbody>\n",
       "</table>\n",
       "</div>"
      ],
      "text/plain": [
       "                   vquant                        vqual                   R2  \\\n",
       "3   SiteEnergyUseWN(kBtu)                        Coord   0.9722997367871178   \n",
       "6   SiteEnergyUseWN(kBtu)       LargestPropertyUseType  0.38250438415211485   \n",
       "5   SiteEnergyUseWN(kBtu)          PrimaryPropertyType  0.34957159058271375   \n",
       "8   SiteEnergyUseWN(kBtu)  ThirdLargestPropertyUseType   0.2002082624509825   \n",
       "4   SiteEnergyUseWN(kBtu)                 BuildingType  0.09377758871978956   \n",
       "2   SiteEnergyUseWN(kBtu)                      ZipCode  0.05332783353661119   \n",
       "13  SiteEnergyUseWN(kBtu)                        Steam  0.04964338817434808   \n",
       "\n",
       "                   p-value  \n",
       "3       0.8390024710774467  \n",
       "6                      0.0  \n",
       "5                      0.0  \n",
       "8   3.1104376795513185e-15  \n",
       "4    2.780653788586009e-78  \n",
       "2   1.3154629595462633e-20  \n",
       "13  2.6557751797391487e-44  "
      ]
     },
     "execution_count": 75,
     "metadata": {},
     "output_type": "execute_result"
    }
   ],
   "source": [
    "# dataframe de résultats\n",
    "res.head(7)"
   ]
  },
  {
   "cell_type": "markdown",
   "metadata": {},
   "source": [
    "**LargestPropertyUseType**, **PrimaryPropertyType** et **ThirdLargestPropertyUseType** semblent être nos variables les plus corréllées."
   ]
  },
  {
   "cell_type": "markdown",
   "metadata": {},
   "source": [
    " "
   ]
  },
  {
   "cell_type": "markdown",
   "metadata": {},
   "source": [
    "**Conclusion**"
   ]
  },
  {
   "cell_type": "markdown",
   "metadata": {},
   "source": [
    "Nous allons conclure cette analyse par l'échantillonage **features / labels** de nos données, après les avoir réduites à des données cibles non-nulles."
   ]
  },
  {
   "cell_type": "code",
   "execution_count": 145,
   "metadata": {},
   "outputs": [],
   "source": [
    "df = df[df[\"SiteEnergyUseWN(kBtu)\"].notnull() & df[\"GHGEmissions(MetricTonsCO2e)\"].notnull()]"
   ]
  },
  {
   "cell_type": "code",
   "execution_count": 147,
   "metadata": {},
   "outputs": [],
   "source": [
    "X = df.drop([\"ENERGYSTARScore\", \"SiteEnergyUseWN(kBtu)\", \"GHGEmissions(MetricTonsCO2e)\"], axis = 1)\n",
    "y = df[[\"ENERGYSTARScore\", \"SiteEnergyUseWN(kBtu)\", \"GHGEmissions(MetricTonsCO2e)\"]]"
   ]
  },
  {
   "cell_type": "markdown",
   "metadata": {},
   "source": [
    "**Sauvegardes**"
   ]
  },
  {
   "cell_type": "code",
   "execution_count": 150,
   "metadata": {},
   "outputs": [],
   "source": [
    "pickle_out = open(\"Data/X.pickle\", \"wb\")\n",
    "pickle.dump(X, pickle_out)\n",
    "pickle_out.close()"
   ]
  },
  {
   "cell_type": "code",
   "execution_count": 151,
   "metadata": {},
   "outputs": [],
   "source": [
    "pickle_out = open(\"Data/y.pickle\", \"wb\")\n",
    "pickle.dump(y, pickle_out)\n",
    "pickle_out.close()"
   ]
  },
  {
   "cell_type": "markdown",
   "metadata": {},
   "source": [
    " "
   ]
  },
  {
   "cell_type": "markdown",
   "metadata": {},
   "source": [
    "**Fin de la première partie**"
   ]
  }
 ],
 "metadata": {
  "kernelspec": {
   "display_name": "Python 3",
   "language": "python",
   "name": "python3"
  },
  "language_info": {
   "codemirror_mode": {
    "name": "ipython",
    "version": 3
   },
   "file_extension": ".py",
   "mimetype": "text/x-python",
   "name": "python",
   "nbconvert_exporter": "python",
   "pygments_lexer": "ipython3",
   "version": "3.7.3"
  }
 },
 "nbformat": 4,
 "nbformat_minor": 4
}
