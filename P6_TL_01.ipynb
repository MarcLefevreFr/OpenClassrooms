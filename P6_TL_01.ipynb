{
  "nbformat": 4,
  "nbformat_minor": 0,
  "metadata": {
    "colab": {
      "name": "P6_TL_01.ipynb",
      "provenance": [],
      "machine_shape": "hm",
      "authorship_tag": "ABX9TyPlNUrNS0sJ/SgIEUm9SSht",
      "include_colab_link": true
    },
    "kernelspec": {
      "name": "python3",
      "display_name": "Python 3"
    },
    "language_info": {
      "name": "python"
    },
    "accelerator": "GPU"
  },
  "cells": [
    {
      "cell_type": "markdown",
      "metadata": {
        "id": "view-in-github",
        "colab_type": "text"
      },
      "source": [
        "<a href=\"https://colab.research.google.com/github/MarcLefevreFr/OpenClassrooms/blob/master/P6_TL_01.ipynb\" target=\"_parent\"><img src=\"https://colab.research.google.com/assets/colab-badge.svg\" alt=\"Open In Colab\"/></a>"
      ]
    },
    {
      "cell_type": "markdown",
      "metadata": {
        "id": "T3f9Y6LstAU2"
      },
      "source": [
        "# **Transfert Learning_01**"
      ]
    },
    {
      "cell_type": "markdown",
      "metadata": {
        "id": "Ffb_YcyotAX6"
      },
      "source": [
        "### **Préliminaires**<br>**Import :**<br>- google drive<br>- données<br>- bibliothèques python"
      ]
    },
    {
      "cell_type": "code",
      "metadata": {
        "colab": {
          "base_uri": "https://localhost:8080/"
        },
        "id": "TeEpCc7ls-EX",
        "outputId": "1bba3cef-1a2c-4106-b813-e30b40b3c622"
      },
      "source": [
        "# instal google drive\n",
        "from google.colab import drive\n",
        "\n",
        "drive.mount(\"/content/drive\")"
      ],
      "execution_count": 1,
      "outputs": [
        {
          "output_type": "stream",
          "text": [
            "Mounted at /content/drive\n"
          ],
          "name": "stdout"
        }
      ]
    },
    {
      "cell_type": "code",
      "metadata": {
        "colab": {
          "base_uri": "https://localhost:8080/"
        },
        "id": "955FL1f9s-G1",
        "outputId": "988cf240-86f5-4ef6-8176-5c54c4469dbe"
      },
      "source": [
        "# récupe des zip d'images et extractions\n",
        "import shutil\n",
        "import os\n",
        "import zipfile\n",
        "from time import time\n",
        "\n",
        "start = time()\n",
        "cwd = os.getcwd()\n",
        "\n",
        "shutil.copy(os.path.join(\"drive/MyDrive/P6/Data/\", \"test.zip\"), cwd)\n",
        "shutil.copy(os.path.join(\"drive/MyDrive/P6/Data/\", \"train.zip\"), cwd)\n",
        "\n",
        "# données \"low\" = image originales mais juste les 30 première classes\n",
        "shutil.copy(os.path.join(\"drive/MyDrive/P6/Data/\", \"test_light.zip\"), cwd)\n",
        "shutil.copy(os.path.join(\"drive/MyDrive/P6/Data/\", \"train_light.zip\"), cwd)\n",
        "\n",
        "\n",
        "\n",
        "with zipfile.ZipFile(cwd + \"/test.zip\", 'r') as zip_ref :\n",
        "    zip_ref.extractall(cwd)\n",
        "\n",
        "with zipfile.ZipFile(cwd + \"/train.zip\", 'r') as zip_ref :\n",
        "    zip_ref.extractall(cwd)\n",
        "\n",
        "with zipfile.ZipFile(cwd + \"/test_light.zip\", 'r') as zip_ref :\n",
        "    zip_ref.extractall(cwd)\n",
        "\n",
        "with zipfile.ZipFile(cwd + \"/train_light.zip\", 'r') as zip_ref :\n",
        "    zip_ref.extractall(cwd)\n",
        "\n",
        "print(f\"Import & extraction des data : {time()-start:.0f} secondes.\")"
      ],
      "execution_count": 2,
      "outputs": [
        {
          "output_type": "stream",
          "text": [
            "Import & extraction des data : 83 secondes.\n"
          ],
          "name": "stdout"
        }
      ]
    },
    {
      "cell_type": "code",
      "metadata": {
        "colab": {
          "base_uri": "https://localhost:8080/"
        },
        "id": "hqmmiDrPs-Jo",
        "outputId": "a8a7cd69-88aa-4d67-beff-586d9079b2f2"
      },
      "source": [
        "# vérif\n",
        "import os\n",
        "# chemin des répertoires contenant les photos\n",
        "PATH_TRAIN = \"train\"\n",
        "PATH_TRAIN_l = \"train_light\"\n",
        "PATH_TEST = \"test\"\n",
        "PATH_TEST_l = \"test_light\"\n",
        "\n",
        "len(os.listdir(PATH_TRAIN)), len(os.listdir(PATH_TEST)), len(os.listdir(PATH_TRAIN_l)), len(os.listdir(PATH_TEST_l))"
      ],
      "execution_count": 3,
      "outputs": [
        {
          "output_type": "execute_result",
          "data": {
            "text/plain": [
              "(120, 120, 30, 30)"
            ]
          },
          "metadata": {
            "tags": []
          },
          "execution_count": 3
        }
      ]
    },
    {
      "cell_type": "code",
      "metadata": {
        "id": "BZgDYDmzs-Mp"
      },
      "source": [
        "# Import python\n",
        "from PIL import Image, ImageOps\n",
        "import matplotlib.pyplot as plt\n",
        "import numpy as np\n",
        "import scipy.io\n",
        "import PIL.ImageOps as ops\n",
        "import os\n",
        "import pickle\n",
        "import random as rd\n",
        "from time import time\n",
        "\n",
        "import tensorflow as tf\n",
        "\n",
        "from tensorflow.keras.models import Sequential\n",
        "from tensorflow.keras.layers import Flatten, Dense, Dropout, Activation, Conv2D, MaxPooling2D\n",
        "from tensorflow.keras.callbacks import ModelCheckpoint\n",
        "from tensorflow.keras.preprocessing import image_dataset_from_directory\n",
        "from tensorflow.keras.preprocessing.image import ImageDataGenerator\n",
        "\n",
        "from tensorflow.keras.applications.vgg16 import VGG16, preprocess_input\n",
        "from tensorflow.keras.preprocessing import image\n",
        "from tensorflow.keras.models import Model"
      ],
      "execution_count": 21,
      "outputs": []
    },
    {
      "cell_type": "code",
      "metadata": {
        "id": "40JtFMadtee5"
      },
      "source": [
        "def modelize(model, nb_epochs, train_gen, val_gen, train_steps, val_steps, mod_name, verbose = 0):\n",
        "\n",
        "    model.compile(loss='categorical_crossentropy',\n",
        "                  optimizer='RMSprop',\n",
        "                  metrics=['accuracy'])\n",
        "\n",
        "    start = time()\n",
        "\n",
        "    history = model.fit(train_gen,\n",
        "                        steps_per_epoch = train_steps,\n",
        "                        epochs = nb_epochs,\n",
        "                        validation_data = val_gen,\n",
        "                        validation_steps = val_steps,\n",
        "                        verbose = verbose)\n",
        "    \n",
        "    model.save_weights(\"drive/MyDrive/P6/Data/models/\" + mod_name + \".h5\")\n",
        "    pickle.dump(history.history, open(\"drive/MyDrive/P6/Data/models/\" + mod_name + \"_hist.pickle\", \"wb\" ))\n",
        "\n",
        "    fig = plt.figure(figsize = (10,4))\n",
        "\n",
        "    train_acc = history.history[\"accuracy\"]\n",
        "    val_acc = history.history[\"val_accuracy\"]\n",
        "    \n",
        "    plt.plot(range(1, nb_epochs+1), train_acc, 'b', label='Train acc', color = \"red\")\n",
        "    plt.plot(range(1, nb_epochs+1), val_acc, 'b', label='Validation acc', color = \"blue\")\n",
        "    plt.title('Train & validation accuracies - ' + mod_name)\n",
        "    plt.xlabel(\"Epochs\")\n",
        "    plt.ylabel(\"Accuracy\")\n",
        "    plt.legend()\n",
        "\n",
        "    print(f\"Temps d'entrainements pour {nb_epochs} epochs : {time()-start:.0f} secondes.\")\n",
        "    print(f\"Meilleure train_acc = {np.max(train_acc):.2f}, meilleure val_acc = {np.max(val_acc):.2f}\")\n",
        "    print()\n",
        "\n",
        "    plt.show()\n",
        "\n",
        "def create_generator(batch, train_folder, size = (100, 100)):\n",
        "\n",
        "    generators = []\n",
        "\n",
        "    train_datagen = ImageDataGenerator(rescale = 1./255#, # normalisation\n",
        "                                    #rotation_range = 15,\n",
        "                                    #horizontal_flip=True,\n",
        "                                    #validation_split = 0.2\n",
        "                                    )\n",
        "\n",
        "    val_datagen = ImageDataGenerator(rescale = 1./255,\n",
        "                                    rotation_range = 10,\n",
        "                                    zoom_range = 0.1,\n",
        "                                    fill_mode = \"reflect\"\n",
        "                                    )\n",
        "\n",
        "    train_gen = train_datagen.flow_from_directory(train_folder,\n",
        "                                                target_size = size,\n",
        "                                                batch_size = batch,\n",
        "                                                class_mode = \"categorical\",\n",
        "                                                seed = SEED,\n",
        "                                                interpolation = \"nearest\"\n",
        "                                                )\n",
        "\n",
        "    val_gen = val_datagen.flow_from_directory(train_folder,\n",
        "                                            target_size = size,\n",
        "                                            batch_size = batch,\n",
        "                                            class_mode = \"categorical\",\n",
        "                                            seed = SEED,\n",
        "                                            interpolation = \"nearest\"\n",
        "                                            )\n",
        "    \n",
        "    return train_gen, val_gen\n",
        "\n",
        "\n",
        "def create_test_generators(batch, test_folder, size = (100, 100)):\n",
        "\n",
        "    # générateur d'images test, juste la normalisation\n",
        "    test_datagen = ImageDataGenerator(rescale = 1./255)\n",
        "\n",
        "    test_gen = train_datagen.flow_from_directory(test_folder,\n",
        "                                                target_size = size,\n",
        "                                                batch_size = batch,\n",
        "                                                class_mode = \"categorical\",\n",
        "                                                seed = SEED,\n",
        "                                                interpolation = \"nearest\"\n",
        "                                                )\n",
        "    \n",
        "    return test_gen\n",
        "\n",
        "    # RECUP DU DICO DES CLASSES :\n",
        "    # ---> mon_generator.class_indices"
      ],
      "execution_count": 5,
      "outputs": []
    },
    {
      "cell_type": "markdown",
      "metadata": {
        "id": "Q93mEsNXuRc8"
      },
      "source": [
        "## **Transfert**"
      ]
    },
    {
      "cell_type": "code",
      "metadata": {
        "id": "ei3-ZUSItehi"
      },
      "source": [
        "from tensorflow.keras.applications.vgg16 import VGG16, preprocess_input\n",
        "from tensorflow.keras.preprocessing import image"
      ],
      "execution_count": null,
      "outputs": []
    },
    {
      "cell_type": "code",
      "metadata": {
        "colab": {
          "base_uri": "https://localhost:8080/"
        },
        "id": "qWKfrKAttekV",
        "outputId": "de787a5c-9e76-4d6a-ac62-471edcdb16ef"
      },
      "source": [
        "# import vgg16 sans les couches denses\n",
        "model_convo = VGG16(weights='imagenet', include_top=False)"
      ],
      "execution_count": 7,
      "outputs": [
        {
          "output_type": "stream",
          "text": [
            "Downloading data from https://storage.googleapis.com/tensorflow/keras-applications/vgg16/vgg16_weights_tf_dim_ordering_tf_kernels_notop.h5\n",
            "58892288/58889256 [==============================] - 0s 0us/step\n"
          ],
          "name": "stdout"
        }
      ]
    },
    {
      "cell_type": "code",
      "metadata": {
        "colab": {
          "base_uri": "https://localhost:8080/"
        },
        "id": "8Xj9wVMvtenC",
        "outputId": "f9647f0f-20eb-444e-af4e-607d202cef60"
      },
      "source": [
        "model_convo.summary()"
      ],
      "execution_count": 8,
      "outputs": [
        {
          "output_type": "stream",
          "text": [
            "Model: \"vgg16\"\n",
            "_________________________________________________________________\n",
            "Layer (type)                 Output Shape              Param #   \n",
            "=================================================================\n",
            "input_1 (InputLayer)         [(None, None, None, 3)]   0         \n",
            "_________________________________________________________________\n",
            "block1_conv1 (Conv2D)        (None, None, None, 64)    1792      \n",
            "_________________________________________________________________\n",
            "block1_conv2 (Conv2D)        (None, None, None, 64)    36928     \n",
            "_________________________________________________________________\n",
            "block1_pool (MaxPooling2D)   (None, None, None, 64)    0         \n",
            "_________________________________________________________________\n",
            "block2_conv1 (Conv2D)        (None, None, None, 128)   73856     \n",
            "_________________________________________________________________\n",
            "block2_conv2 (Conv2D)        (None, None, None, 128)   147584    \n",
            "_________________________________________________________________\n",
            "block2_pool (MaxPooling2D)   (None, None, None, 128)   0         \n",
            "_________________________________________________________________\n",
            "block3_conv1 (Conv2D)        (None, None, None, 256)   295168    \n",
            "_________________________________________________________________\n",
            "block3_conv2 (Conv2D)        (None, None, None, 256)   590080    \n",
            "_________________________________________________________________\n",
            "block3_conv3 (Conv2D)        (None, None, None, 256)   590080    \n",
            "_________________________________________________________________\n",
            "block3_pool (MaxPooling2D)   (None, None, None, 256)   0         \n",
            "_________________________________________________________________\n",
            "block4_conv1 (Conv2D)        (None, None, None, 512)   1180160   \n",
            "_________________________________________________________________\n",
            "block4_conv2 (Conv2D)        (None, None, None, 512)   2359808   \n",
            "_________________________________________________________________\n",
            "block4_conv3 (Conv2D)        (None, None, None, 512)   2359808   \n",
            "_________________________________________________________________\n",
            "block4_pool (MaxPooling2D)   (None, None, None, 512)   0         \n",
            "_________________________________________________________________\n",
            "block5_conv1 (Conv2D)        (None, None, None, 512)   2359808   \n",
            "_________________________________________________________________\n",
            "block5_conv2 (Conv2D)        (None, None, None, 512)   2359808   \n",
            "_________________________________________________________________\n",
            "block5_conv3 (Conv2D)        (None, None, None, 512)   2359808   \n",
            "_________________________________________________________________\n",
            "block5_pool (MaxPooling2D)   (None, None, None, 512)   0         \n",
            "=================================================================\n",
            "Total params: 14,714,688\n",
            "Trainable params: 14,714,688\n",
            "Non-trainable params: 0\n",
            "_________________________________________________________________\n"
          ],
          "name": "stdout"
        }
      ]
    },
    {
      "cell_type": "code",
      "metadata": {
        "colab": {
          "base_uri": "https://localhost:8080/",
          "height": 288
        },
        "id": "2pt9Oz5stesc",
        "outputId": "8a14fce8-9c49-476b-e0b4-dbb81fc5e8c9"
      },
      "source": [
        "# SAMPLE KERAS\n",
        "\n",
        "# img_path = 'elephant.jpg'\n",
        "# img = image.load_img(img_path, target_size=(224, 224))\n",
        "# x = image.img_to_array(img)\n",
        "# x = np.expand_dims(x, axis=0)\n",
        "# x = preprocess_input(x)\n",
        "\n",
        "\n",
        "# on passe une image dans le réseau\n",
        "path =\"train\" + \"/\" + os.listdir(\"train\")[0] + \"/\" + os.listdir(\"train\" + \"/\" +os.listdir(\"train\")[0])[0]\n",
        "\n",
        "img = Image.open(path)\n",
        "\n",
        "plt.imshow(img)"
      ],
      "execution_count": 9,
      "outputs": [
        {
          "output_type": "execute_result",
          "data": {
            "text/plain": [
              "<matplotlib.image.AxesImage at 0x7f890a11b810>"
            ]
          },
          "metadata": {
            "tags": []
          },
          "execution_count": 9
        },
        {
          "output_type": "display_data",
          "data": {
            "image/png": "[encoded data removed]",
            "text/plain": [
              "<Figure size 432x288 with 1 Axes>"
            ]
          },
          "metadata": {
            "tags": [],
            "needs_background": "light"
          }
        }
      ]
    },
    {
      "cell_type": "code",
      "metadata": {
        "colab": {
          "base_uri": "https://localhost:8080/"
        },
        "id": "gP-e_LMewstm",
        "outputId": "1949c563-2132-410d-ddbb-a7f21ca68599"
      },
      "source": [
        "# transformation en array\n",
        "x = image.img_to_array(img)\n",
        "x.shape"
      ],
      "execution_count": 10,
      "outputs": [
        {
          "output_type": "execute_result",
          "data": {
            "text/plain": [
              "(333, 333, 3)"
            ]
          },
          "metadata": {
            "tags": []
          },
          "execution_count": 10
        }
      ]
    },
    {
      "cell_type": "code",
      "metadata": {
        "colab": {
          "base_uri": "https://localhost:8080/"
        },
        "id": "q26y5pvpwswP",
        "outputId": "ab553ae0-123e-4db9-84d9-68534dcc592f"
      },
      "source": [
        "# on rajoute une dims, comme si l'image était dans un batch de une image\n",
        "x = np.expand_dims(x, axis=0)\n",
        "x.shape"
      ],
      "execution_count": 11,
      "outputs": [
        {
          "output_type": "execute_result",
          "data": {
            "text/plain": [
              "(1, 333, 333, 3)"
            ]
          },
          "metadata": {
            "tags": []
          },
          "execution_count": 11
        }
      ]
    },
    {
      "cell_type": "code",
      "metadata": {
        "colab": {
          "base_uri": "https://localhost:8080/"
        },
        "id": "NvseNlzLwszM",
        "outputId": "092d50b7-eff6-4171-a761-ad1ab79183a1"
      },
      "source": [
        "# preprocessing propre à vgg 16... change pas les dims mais les valeurs...\n",
        "x = preprocess_input(x)\n",
        "x.shape"
      ],
      "execution_count": 12,
      "outputs": [
        {
          "output_type": "execute_result",
          "data": {
            "text/plain": [
              "(1, 333, 333, 3)"
            ]
          },
          "metadata": {
            "tags": []
          },
          "execution_count": 12
        }
      ]
    },
    {
      "cell_type": "code",
      "metadata": {
        "id": "c9jHSXlXws5E"
      },
      "source": [
        "# prediction avec VGG\n",
        "feat = model_convo.predict(x)"
      ],
      "execution_count": 14,
      "outputs": []
    },
    {
      "cell_type": "code",
      "metadata": {
        "colab": {
          "base_uri": "https://localhost:8080/"
        },
        "id": "g1KsMCLGws77",
        "outputId": "8f9e9de6-409d-4bc8-e4df-7260d8728973"
      },
      "source": [
        "# il en ressort l'output de VGG, cad les 512 feat-maps au format 11*11\n",
        "feat.shape"
      ],
      "execution_count": 15,
      "outputs": [
        {
          "output_type": "execute_result",
          "data": {
            "text/plain": [
              "(1, 10, 10, 512)"
            ]
          },
          "metadata": {
            "tags": []
          },
          "execution_count": 15
        }
      ]
    },
    {
      "cell_type": "code",
      "metadata": {
        "colab": {
          "base_uri": "https://localhost:8080/",
          "height": 284
        },
        "id": "6V3Am4kKws-h",
        "outputId": "a6d01feb-a7c7-41c5-c0f8-16d22cc1503f"
      },
      "source": [
        "# affichage de la featmap[x]\n",
        "plt.imshow(feat[0, :, :, 225])"
      ],
      "execution_count": 16,
      "outputs": [
        {
          "output_type": "execute_result",
          "data": {
            "text/plain": [
              "<matplotlib.image.AxesImage at 0x7f88f23069d0>"
            ]
          },
          "metadata": {
            "tags": []
          },
          "execution_count": 16
        },
        {
          "output_type": "display_data",
          "data": {
            "image/png": "[encoded data removed]",
            "text/plain": [
              "<Figure size 432x288 with 1 Axes>"
            ]
          },
          "metadata": {
            "tags": [],
            "needs_background": "light"
          }
        }
      ]
    },
    {
      "cell_type": "code",
      "metadata": {
        "id": "qJRTAQs2texW"
      },
      "source": [
        ""
      ],
      "execution_count": null,
      "outputs": []
    },
    {
      "cell_type": "markdown",
      "metadata": {
        "id": "80D_80YJDSBO"
      },
      "source": [
        "## **Transfert Model-1**"
      ]
    },
    {
      "cell_type": "code",
      "metadata": {
        "id": "0Or5qJ5RA0sH"
      },
      "source": [
        "# import vgg16 sans les couches denses\n",
        "model_convo = VGG16(weights = 'imagenet', include_top = False, input_shape = (224,224,3))"
      ],
      "execution_count": 66,
      "outputs": []
    },
    {
      "cell_type": "code",
      "metadata": {
        "id": "4wsY9vZyA0un"
      },
      "source": [
        "# définition de la sortie du model convo\n",
        "# on zappe la dernière couche de pooling qui rendrait des images trop petites\n",
        "\n",
        "for layer in model_convo.layers :\n",
        "    layer.trainable = False"
      ],
      "execution_count": 67,
      "outputs": []
    },
    {
      "cell_type": "code",
      "metadata": {
        "id": "idaf7P2-A0xd"
      },
      "source": [
        "# partie dense\n",
        "# entrée\n",
        "x = model_convo.layers[-1].output\n",
        "# applatissement\n",
        "x = Flatten()(x)\n",
        "# couche Dense 120 sortie directe\n",
        "preds = Dense(120, activation = \"softmax\")(x)"
      ],
      "execution_count": 68,
      "outputs": []
    },
    {
      "cell_type": "code",
      "metadata": {
        "id": "I7sbRO9dA00S",
        "colab": {
          "base_uri": "https://localhost:8080/"
        },
        "outputId": "a9a1013e-582d-4b1c-b616-33c645ac89ac"
      },
      "source": [
        "# Def du modèle totale\n",
        "model_1 = Model(inputs = model_convo.input, outputs = preds)\n",
        "model_1.summary()"
      ],
      "execution_count": 69,
      "outputs": [
        {
          "output_type": "stream",
          "text": [
            "Model: \"model_10\"\n",
            "_________________________________________________________________\n",
            "Layer (type)                 Output Shape              Param #   \n",
            "=================================================================\n",
            "input_5 (InputLayer)         [(None, 224, 224, 3)]     0         \n",
            "_________________________________________________________________\n",
            "block1_conv1 (Conv2D)        (None, 224, 224, 64)      1792      \n",
            "_________________________________________________________________\n",
            "block1_conv2 (Conv2D)        (None, 224, 224, 64)      36928     \n",
            "_________________________________________________________________\n",
            "block1_pool (MaxPooling2D)   (None, 112, 112, 64)      0         \n",
            "_________________________________________________________________\n",
            "block2_conv1 (Conv2D)        (None, 112, 112, 128)     73856     \n",
            "_________________________________________________________________\n",
            "block2_conv2 (Conv2D)        (None, 112, 112, 128)     147584    \n",
            "_________________________________________________________________\n",
            "block2_pool (MaxPooling2D)   (None, 56, 56, 128)       0         \n",
            "_________________________________________________________________\n",
            "block3_conv1 (Conv2D)        (None, 56, 56, 256)       295168    \n",
            "_________________________________________________________________\n",
            "block3_conv2 (Conv2D)        (None, 56, 56, 256)       590080    \n",
            "_________________________________________________________________\n",
            "block3_conv3 (Conv2D)        (None, 56, 56, 256)       590080    \n",
            "_________________________________________________________________\n",
            "block3_pool (MaxPooling2D)   (None, 28, 28, 256)       0         \n",
            "_________________________________________________________________\n",
            "block4_conv1 (Conv2D)        (None, 28, 28, 512)       1180160   \n",
            "_________________________________________________________________\n",
            "block4_conv2 (Conv2D)        (None, 28, 28, 512)       2359808   \n",
            "_________________________________________________________________\n",
            "block4_conv3 (Conv2D)        (None, 28, 28, 512)       2359808   \n",
            "_________________________________________________________________\n",
            "block4_pool (MaxPooling2D)   (None, 14, 14, 512)       0         \n",
            "_________________________________________________________________\n",
            "block5_conv1 (Conv2D)        (None, 14, 14, 512)       2359808   \n",
            "_________________________________________________________________\n",
            "block5_conv2 (Conv2D)        (None, 14, 14, 512)       2359808   \n",
            "_________________________________________________________________\n",
            "block5_conv3 (Conv2D)        (None, 14, 14, 512)       2359808   \n",
            "_________________________________________________________________\n",
            "block5_pool (MaxPooling2D)   (None, 7, 7, 512)         0         \n",
            "_________________________________________________________________\n",
            "flatten_10 (Flatten)         (None, 25088)             0         \n",
            "_________________________________________________________________\n",
            "dense_17 (Dense)             (None, 120)               3010680   \n",
            "=================================================================\n",
            "Total params: 17,725,368\n",
            "Trainable params: 3,010,680\n",
            "Non-trainable params: 14,714,688\n",
            "_________________________________________________________________\n"
          ],
          "name": "stdout"
        }
      ]
    },
    {
      "cell_type": "code",
      "metadata": {
        "colab": {
          "base_uri": "https://localhost:8080/"
        },
        "id": "0G-OZ3MqG5RF",
        "outputId": "4d91673d-9485-4198-d35f-56361a2ece50"
      },
      "source": [
        "BATCH = 32\n",
        "SEED = 47\n",
        "NB_TRAIN = 74137 # nb original\n",
        "#NB_TRAIN_light = 4917 # nb original\n",
        "\n",
        "TRAIN_STEPS = NB_TRAIN // BATCH\n",
        "#TRAIN_STEPS_light = NB_TRAIN_light // BATCH\n",
        "\n",
        "VAL_STEPS = TRAIN_STEPS // 5\n",
        "#VAL_STEPS_light = TRAIN_STEPS_light // 5\n",
        "\n",
        "print(TRAIN_STEPS, VAL_STEPS)"
      ],
      "execution_count": 71,
      "outputs": [
        {
          "output_type": "stream",
          "text": [
            "2316 463\n"
          ],
          "name": "stdout"
        }
      ]
    },
    {
      "cell_type": "code",
      "metadata": {
        "id": "qnnvS0tmA028",
        "colab": {
          "base_uri": "https://localhost:8080/"
        },
        "outputId": "938c3af0-9689-4eab-9712-e1137eb7a3d5"
      },
      "source": [
        "train_gen_1, val_gen_1 = create_generator(BATCH, PATH_TRAIN, (224, 224))"
      ],
      "execution_count": 72,
      "outputs": [
        {
          "output_type": "stream",
          "text": [
            "Found 74137 images belonging to 120 classes.\n",
            "Found 74137 images belonging to 120 classes.\n"
          ],
          "name": "stdout"
        }
      ]
    },
    {
      "cell_type": "code",
      "metadata": {
        "id": "vbKc_rBPA05i",
        "colab": {
          "base_uri": "https://localhost:8080/",
          "height": 725
        },
        "outputId": "28795f4c-d3e5-4bb2-a588-51c6b30f79a6"
      },
      "source": [
        "modelize(model_1, 10, train_gen_1, val_gen_1,  TRAIN_STEPS, VAL_STEPS, \"mod_TL_1\", 1)"
      ],
      "execution_count": 73,
      "outputs": [
        {
          "output_type": "stream",
          "text": [
            "Epoch 1/10\n",
            "2316/2316 [==============================] - 432s 185ms/step - loss: 6.3354 - accuracy: 0.1467 - val_loss: 3.0350 - val_accuracy: 0.4426\n",
            "Epoch 2/10\n",
            "2316/2316 [==============================] - 420s 181ms/step - loss: 2.5562 - accuracy: 0.5225 - val_loss: 2.0134 - val_accuracy: 0.6005\n",
            "Epoch 3/10\n",
            "2316/2316 [==============================] - 415s 179ms/step - loss: 1.5314 - accuracy: 0.6772 - val_loss: 1.6685 - val_accuracy: 0.6546\n",
            "Epoch 4/10\n",
            "2316/2316 [==============================] - 415s 179ms/step - loss: 0.9821 - accuracy: 0.7738 - val_loss: 1.2297 - val_accuracy: 0.7268\n",
            "Epoch 5/10\n",
            "2316/2316 [==============================] - 418s 180ms/step - loss: 0.6402 - accuracy: 0.8399 - val_loss: 1.0400 - val_accuracy: 0.7634\n",
            "Epoch 6/10\n",
            "2316/2316 [==============================] - 422s 182ms/step - loss: 0.4415 - accuracy: 0.8848 - val_loss: 1.1219 - val_accuracy: 0.7665\n",
            "Epoch 7/10\n",
            "2316/2316 [==============================] - 416s 179ms/step - loss: 0.3127 - accuracy: 0.9156 - val_loss: 0.8579 - val_accuracy: 0.8126\n",
            "Epoch 8/10\n",
            "2316/2316 [==============================] - 414s 179ms/step - loss: 0.2223 - accuracy: 0.9369 - val_loss: 0.9950 - val_accuracy: 0.7956\n",
            "Epoch 9/10\n",
            "2316/2316 [==============================] - 427s 184ms/step - loss: 0.1662 - accuracy: 0.9525 - val_loss: 0.7538 - val_accuracy: 0.8360\n",
            "Epoch 10/10\n",
            "2316/2316 [==============================] - 424s 183ms/step - loss: 0.1228 - accuracy: 0.9638 - val_loss: 0.7459 - val_accuracy: 0.8395\n",
            "Temps d'entrainements pour 10 epochs : 4202 secondes.\n",
            "Meilleure train_acc = 0.96, meilleure val_acc = 0.84\n",
            "\n"
          ],
          "name": "stdout"
        },
        {
          "output_type": "display_data",
          "data": {
            "image/png": "[encoded data removed]",
            "text/plain": [
              "<Figure size 720x288 with 1 Axes>"
            ]
          },
          "metadata": {
            "tags": [],
            "needs_background": "light"
          }
        }
      ]
    },
    {
      "cell_type": "markdown",
      "metadata": {
        "id": "mX7bscKVWC7X"
      },
      "source": [
        "## **Transfert Model-2**<br>\n",
        "Deux couches denses"
      ]
    },
    {
      "cell_type": "code",
      "metadata": {
        "id": "ZaJ0MxkQHJU7"
      },
      "source": [
        "# partie dense\n",
        "# entrée\n",
        "x = model_convo.layers[-1].output\n",
        "# applatissement\n",
        "x = Flatten()(x)\n",
        "# dense 120 avec RelU\n",
        "x = Dense(120, activation = \"relu\")(x)\n",
        "# dropout\n",
        "# x = Dropout(0.1)(x)\n",
        "# couche Dense 120 sortie\n",
        "preds = Dense(120, activation = \"softmax\")(x)"
      ],
      "execution_count": 74,
      "outputs": []
    },
    {
      "cell_type": "code",
      "metadata": {
        "colab": {
          "base_uri": "https://localhost:8080/"
        },
        "id": "yu_Fi34IHJX8",
        "outputId": "e005379c-e162-4d02-de41-a81214b8a62d"
      },
      "source": [
        "model_2 = Model(inputs = model_convo.input, outputs = preds)\n",
        "model_2.summary()"
      ],
      "execution_count": 75,
      "outputs": [
        {
          "output_type": "stream",
          "text": [
            "Model: \"model_11\"\n",
            "_________________________________________________________________\n",
            "Layer (type)                 Output Shape              Param #   \n",
            "=================================================================\n",
            "input_5 (InputLayer)         [(None, 224, 224, 3)]     0         \n",
            "_________________________________________________________________\n",
            "block1_conv1 (Conv2D)        (None, 224, 224, 64)      1792      \n",
            "_________________________________________________________________\n",
            "block1_conv2 (Conv2D)        (None, 224, 224, 64)      36928     \n",
            "_________________________________________________________________\n",
            "block1_pool (MaxPooling2D)   (None, 112, 112, 64)      0         \n",
            "_________________________________________________________________\n",
            "block2_conv1 (Conv2D)        (None, 112, 112, 128)     73856     \n",
            "_________________________________________________________________\n",
            "block2_conv2 (Conv2D)        (None, 112, 112, 128)     147584    \n",
            "_________________________________________________________________\n",
            "block2_pool (MaxPooling2D)   (None, 56, 56, 128)       0         \n",
            "_________________________________________________________________\n",
            "block3_conv1 (Conv2D)        (None, 56, 56, 256)       295168    \n",
            "_________________________________________________________________\n",
            "block3_conv2 (Conv2D)        (None, 56, 56, 256)       590080    \n",
            "_________________________________________________________________\n",
            "block3_conv3 (Conv2D)        (None, 56, 56, 256)       590080    \n",
            "_________________________________________________________________\n",
            "block3_pool (MaxPooling2D)   (None, 28, 28, 256)       0         \n",
            "_________________________________________________________________\n",
            "block4_conv1 (Conv2D)        (None, 28, 28, 512)       1180160   \n",
            "_________________________________________________________________\n",
            "block4_conv2 (Conv2D)        (None, 28, 28, 512)       2359808   \n",
            "_________________________________________________________________\n",
            "block4_conv3 (Conv2D)        (None, 28, 28, 512)       2359808   \n",
            "_________________________________________________________________\n",
            "block4_pool (MaxPooling2D)   (None, 14, 14, 512)       0         \n",
            "_________________________________________________________________\n",
            "block5_conv1 (Conv2D)        (None, 14, 14, 512)       2359808   \n",
            "_________________________________________________________________\n",
            "block5_conv2 (Conv2D)        (None, 14, 14, 512)       2359808   \n",
            "_________________________________________________________________\n",
            "block5_conv3 (Conv2D)        (None, 14, 14, 512)       2359808   \n",
            "_________________________________________________________________\n",
            "block5_pool (MaxPooling2D)   (None, 7, 7, 512)         0         \n",
            "_________________________________________________________________\n",
            "flatten_11 (Flatten)         (None, 25088)             0         \n",
            "_________________________________________________________________\n",
            "dense_18 (Dense)             (None, 120)               3010680   \n",
            "_________________________________________________________________\n",
            "dense_19 (Dense)             (None, 120)               14520     \n",
            "=================================================================\n",
            "Total params: 17,739,888\n",
            "Trainable params: 3,025,200\n",
            "Non-trainable params: 14,714,688\n",
            "_________________________________________________________________\n"
          ],
          "name": "stdout"
        }
      ]
    },
    {
      "cell_type": "code",
      "metadata": {
        "colab": {
          "base_uri": "https://localhost:8080/",
          "height": 460
        },
        "id": "PntNMt0EHJaw",
        "outputId": "7bc19e66-49bd-4a0f-bb00-8e8902bbc843"
      },
      "source": [
        "train_gen_1, val_gen_1 = create_generator(BATCH, PATH_TRAIN, (224, 224))\n",
        "modelize(model_2, 5, train_gen_1, val_gen_1,  TRAIN_STEPS, VAL_STEPS, \"mod_TL_2\", 1)"
      ],
      "execution_count": 77,
      "outputs": [
        {
          "output_type": "stream",
          "text": [
            "Found 74137 images belonging to 120 classes.\n",
            "Found 74137 images belonging to 120 classes.\n",
            "Epoch 1/5\n",
            "2316/2316 [==============================] - 434s 187ms/step - loss: 4.8766 - accuracy: 0.0099 - val_loss: 4.7786 - val_accuracy: 0.0121\n",
            "Epoch 2/5\n",
            " 732/2316 [========>.....................] - ETA: 2:47 - loss: 4.7823 - accuracy: 0.0115"
          ],
          "name": "stdout"
        },
        {
          "output_type": "error",
          "ename": "KeyboardInterrupt",
          "evalue": "ignored",
          "traceback": [
            "\u001b[0;31m---------------------------------------------------------------------------\u001b[0m",
            "\u001b[0;31mKeyboardInterrupt\u001b[0m                         Traceback (most recent call last)",
            "\u001b[0;32m<ipython-input-77-f3ed3b3b762b>\u001b[0m in \u001b[0;36m<module>\u001b[0;34m()\u001b[0m\n\u001b[1;32m      1\u001b[0m \u001b[0mtrain_gen_1\u001b[0m\u001b[0;34m,\u001b[0m \u001b[0mval_gen_1\u001b[0m \u001b[0;34m=\u001b[0m \u001b[0mcreate_generator\u001b[0m\u001b[0;34m(\u001b[0m\u001b[0mBATCH\u001b[0m\u001b[0;34m,\u001b[0m \u001b[0mPATH_TRAIN\u001b[0m\u001b[0;34m,\u001b[0m \u001b[0;34m(\u001b[0m\u001b[0;36m224\u001b[0m\u001b[0;34m,\u001b[0m \u001b[0;36m224\u001b[0m\u001b[0;34m)\u001b[0m\u001b[0;34m)\u001b[0m\u001b[0;34m\u001b[0m\u001b[0;34m\u001b[0m\u001b[0m\n\u001b[0;32m----> 2\u001b[0;31m \u001b[0mmodelize\u001b[0m\u001b[0;34m(\u001b[0m\u001b[0mmodel_2\u001b[0m\u001b[0;34m,\u001b[0m \u001b[0;36m5\u001b[0m\u001b[0;34m,\u001b[0m \u001b[0mtrain_gen_1\u001b[0m\u001b[0;34m,\u001b[0m \u001b[0mval_gen_1\u001b[0m\u001b[0;34m,\u001b[0m  \u001b[0mTRAIN_STEPS\u001b[0m\u001b[0;34m,\u001b[0m \u001b[0mVAL_STEPS\u001b[0m\u001b[0;34m,\u001b[0m \u001b[0;34m\"mod_TL_2\"\u001b[0m\u001b[0;34m,\u001b[0m \u001b[0;36m1\u001b[0m\u001b[0;34m)\u001b[0m\u001b[0;34m\u001b[0m\u001b[0;34m\u001b[0m\u001b[0m\n\u001b[0m",
            "\u001b[0;32m<ipython-input-5-3ed5ea6121af>\u001b[0m in \u001b[0;36mmodelize\u001b[0;34m(model, nb_epochs, train_gen, val_gen, train_steps, val_steps, mod_name, verbose)\u001b[0m\n\u001b[1;32m     12\u001b[0m                         \u001b[0mvalidation_data\u001b[0m \u001b[0;34m=\u001b[0m \u001b[0mval_gen\u001b[0m\u001b[0;34m,\u001b[0m\u001b[0;34m\u001b[0m\u001b[0;34m\u001b[0m\u001b[0m\n\u001b[1;32m     13\u001b[0m                         \u001b[0mvalidation_steps\u001b[0m \u001b[0;34m=\u001b[0m \u001b[0mval_steps\u001b[0m\u001b[0;34m,\u001b[0m\u001b[0;34m\u001b[0m\u001b[0;34m\u001b[0m\u001b[0m\n\u001b[0;32m---> 14\u001b[0;31m                         verbose = verbose)\n\u001b[0m\u001b[1;32m     15\u001b[0m \u001b[0;34m\u001b[0m\u001b[0m\n\u001b[1;32m     16\u001b[0m     \u001b[0mmodel\u001b[0m\u001b[0;34m.\u001b[0m\u001b[0msave_weights\u001b[0m\u001b[0;34m(\u001b[0m\u001b[0;34m\"drive/MyDrive/P6/Data/models/\"\u001b[0m \u001b[0;34m+\u001b[0m \u001b[0mmod_name\u001b[0m \u001b[0;34m+\u001b[0m \u001b[0;34m\".h5\"\u001b[0m\u001b[0;34m)\u001b[0m\u001b[0;34m\u001b[0m\u001b[0;34m\u001b[0m\u001b[0m\n",
            "\u001b[0;32m/usr/local/lib/python3.7/dist-packages/tensorflow/python/keras/engine/training.py\u001b[0m in \u001b[0;36mfit\u001b[0;34m(self, x, y, batch_size, epochs, verbose, callbacks, validation_split, validation_data, shuffle, class_weight, sample_weight, initial_epoch, steps_per_epoch, validation_steps, validation_batch_size, validation_freq, max_queue_size, workers, use_multiprocessing)\u001b[0m\n\u001b[1;32m   1098\u001b[0m                 _r=1):\n\u001b[1;32m   1099\u001b[0m               \u001b[0mcallbacks\u001b[0m\u001b[0;34m.\u001b[0m\u001b[0mon_train_batch_begin\u001b[0m\u001b[0;34m(\u001b[0m\u001b[0mstep\u001b[0m\u001b[0;34m)\u001b[0m\u001b[0;34m\u001b[0m\u001b[0;34m\u001b[0m\u001b[0m\n\u001b[0;32m-> 1100\u001b[0;31m               \u001b[0mtmp_logs\u001b[0m \u001b[0;34m=\u001b[0m \u001b[0mself\u001b[0m\u001b[0;34m.\u001b[0m\u001b[0mtrain_function\u001b[0m\u001b[0;34m(\u001b[0m\u001b[0miterator\u001b[0m\u001b[0;34m)\u001b[0m\u001b[0;34m\u001b[0m\u001b[0;34m\u001b[0m\u001b[0m\n\u001b[0m\u001b[1;32m   1101\u001b[0m               \u001b[0;32mif\u001b[0m \u001b[0mdata_handler\u001b[0m\u001b[0;34m.\u001b[0m\u001b[0mshould_sync\u001b[0m\u001b[0;34m:\u001b[0m\u001b[0;34m\u001b[0m\u001b[0;34m\u001b[0m\u001b[0m\n\u001b[1;32m   1102\u001b[0m                 \u001b[0mcontext\u001b[0m\u001b[0;34m.\u001b[0m\u001b[0masync_wait\u001b[0m\u001b[0;34m(\u001b[0m\u001b[0;34m)\u001b[0m\u001b[0;34m\u001b[0m\u001b[0;34m\u001b[0m\u001b[0m\n",
            "\u001b[0;32m/usr/local/lib/python3.7/dist-packages/tensorflow/python/eager/def_function.py\u001b[0m in \u001b[0;36m__call__\u001b[0;34m(self, *args, **kwds)\u001b[0m\n\u001b[1;32m    826\u001b[0m     \u001b[0mtracing_count\u001b[0m \u001b[0;34m=\u001b[0m \u001b[0mself\u001b[0m\u001b[0;34m.\u001b[0m\u001b[0mexperimental_get_tracing_count\u001b[0m\u001b[0;34m(\u001b[0m\u001b[0;34m)\u001b[0m\u001b[0;34m\u001b[0m\u001b[0;34m\u001b[0m\u001b[0m\n\u001b[1;32m    827\u001b[0m     \u001b[0;32mwith\u001b[0m \u001b[0mtrace\u001b[0m\u001b[0;34m.\u001b[0m\u001b[0mTrace\u001b[0m\u001b[0;34m(\u001b[0m\u001b[0mself\u001b[0m\u001b[0;34m.\u001b[0m\u001b[0m_name\u001b[0m\u001b[0;34m)\u001b[0m \u001b[0;32mas\u001b[0m \u001b[0mtm\u001b[0m\u001b[0;34m:\u001b[0m\u001b[0;34m\u001b[0m\u001b[0;34m\u001b[0m\u001b[0m\n\u001b[0;32m--> 828\u001b[0;31m       \u001b[0mresult\u001b[0m \u001b[0;34m=\u001b[0m \u001b[0mself\u001b[0m\u001b[0;34m.\u001b[0m\u001b[0m_call\u001b[0m\u001b[0;34m(\u001b[0m\u001b[0;34m*\u001b[0m\u001b[0margs\u001b[0m\u001b[0;34m,\u001b[0m \u001b[0;34m**\u001b[0m\u001b[0mkwds\u001b[0m\u001b[0;34m)\u001b[0m\u001b[0;34m\u001b[0m\u001b[0;34m\u001b[0m\u001b[0m\n\u001b[0m\u001b[1;32m    829\u001b[0m       \u001b[0mcompiler\u001b[0m \u001b[0;34m=\u001b[0m \u001b[0;34m\"xla\"\u001b[0m \u001b[0;32mif\u001b[0m \u001b[0mself\u001b[0m\u001b[0;34m.\u001b[0m\u001b[0m_experimental_compile\u001b[0m \u001b[0;32melse\u001b[0m \u001b[0;34m\"nonXla\"\u001b[0m\u001b[0;34m\u001b[0m\u001b[0;34m\u001b[0m\u001b[0m\n\u001b[1;32m    830\u001b[0m       \u001b[0mnew_tracing_count\u001b[0m \u001b[0;34m=\u001b[0m \u001b[0mself\u001b[0m\u001b[0;34m.\u001b[0m\u001b[0mexperimental_get_tracing_count\u001b[0m\u001b[0;34m(\u001b[0m\u001b[0;34m)\u001b[0m\u001b[0;34m\u001b[0m\u001b[0;34m\u001b[0m\u001b[0m\n",
            "\u001b[0;32m/usr/local/lib/python3.7/dist-packages/tensorflow/python/eager/def_function.py\u001b[0m in \u001b[0;36m_call\u001b[0;34m(self, *args, **kwds)\u001b[0m\n\u001b[1;32m    853\u001b[0m       \u001b[0;31m# In this case we have created variables on the first call, so we run the\u001b[0m\u001b[0;34m\u001b[0m\u001b[0;34m\u001b[0m\u001b[0;34m\u001b[0m\u001b[0m\n\u001b[1;32m    854\u001b[0m       \u001b[0;31m# defunned version which is guaranteed to never create variables.\u001b[0m\u001b[0;34m\u001b[0m\u001b[0;34m\u001b[0m\u001b[0;34m\u001b[0m\u001b[0m\n\u001b[0;32m--> 855\u001b[0;31m       \u001b[0;32mreturn\u001b[0m \u001b[0mself\u001b[0m\u001b[0;34m.\u001b[0m\u001b[0m_stateless_fn\u001b[0m\u001b[0;34m(\u001b[0m\u001b[0;34m*\u001b[0m\u001b[0margs\u001b[0m\u001b[0;34m,\u001b[0m \u001b[0;34m**\u001b[0m\u001b[0mkwds\u001b[0m\u001b[0;34m)\u001b[0m  \u001b[0;31m# pylint: disable=not-callable\u001b[0m\u001b[0;34m\u001b[0m\u001b[0;34m\u001b[0m\u001b[0m\n\u001b[0m\u001b[1;32m    856\u001b[0m     \u001b[0;32melif\u001b[0m \u001b[0mself\u001b[0m\u001b[0;34m.\u001b[0m\u001b[0m_stateful_fn\u001b[0m \u001b[0;32mis\u001b[0m \u001b[0;32mnot\u001b[0m \u001b[0;32mNone\u001b[0m\u001b[0;34m:\u001b[0m\u001b[0;34m\u001b[0m\u001b[0;34m\u001b[0m\u001b[0m\n\u001b[1;32m    857\u001b[0m       \u001b[0;31m# Release the lock early so that multiple threads can perform the call\u001b[0m\u001b[0;34m\u001b[0m\u001b[0;34m\u001b[0m\u001b[0;34m\u001b[0m\u001b[0m\n",
            "\u001b[0;32m/usr/local/lib/python3.7/dist-packages/tensorflow/python/eager/function.py\u001b[0m in \u001b[0;36m__call__\u001b[0;34m(self, *args, **kwargs)\u001b[0m\n\u001b[1;32m   2941\u001b[0m        filtered_flat_args) = self._maybe_define_function(args, kwargs)\n\u001b[1;32m   2942\u001b[0m     return graph_function._call_flat(\n\u001b[0;32m-> 2943\u001b[0;31m         filtered_flat_args, captured_inputs=graph_function.captured_inputs)  # pylint: disable=protected-access\n\u001b[0m\u001b[1;32m   2944\u001b[0m \u001b[0;34m\u001b[0m\u001b[0m\n\u001b[1;32m   2945\u001b[0m   \u001b[0;34m@\u001b[0m\u001b[0mproperty\u001b[0m\u001b[0;34m\u001b[0m\u001b[0;34m\u001b[0m\u001b[0m\n",
            "\u001b[0;32m/usr/local/lib/python3.7/dist-packages/tensorflow/python/eager/function.py\u001b[0m in \u001b[0;36m_call_flat\u001b[0;34m(self, args, captured_inputs, cancellation_manager)\u001b[0m\n\u001b[1;32m   1917\u001b[0m       \u001b[0;31m# No tape is watching; skip to running the function.\u001b[0m\u001b[0;34m\u001b[0m\u001b[0;34m\u001b[0m\u001b[0;34m\u001b[0m\u001b[0m\n\u001b[1;32m   1918\u001b[0m       return self._build_call_outputs(self._inference_function.call(\n\u001b[0;32m-> 1919\u001b[0;31m           ctx, args, cancellation_manager=cancellation_manager))\n\u001b[0m\u001b[1;32m   1920\u001b[0m     forward_backward = self._select_forward_and_backward_functions(\n\u001b[1;32m   1921\u001b[0m         \u001b[0margs\u001b[0m\u001b[0;34m,\u001b[0m\u001b[0;34m\u001b[0m\u001b[0;34m\u001b[0m\u001b[0m\n",
            "\u001b[0;32m/usr/local/lib/python3.7/dist-packages/tensorflow/python/eager/function.py\u001b[0m in \u001b[0;36mcall\u001b[0;34m(self, ctx, args, cancellation_manager)\u001b[0m\n\u001b[1;32m    558\u001b[0m               \u001b[0minputs\u001b[0m\u001b[0;34m=\u001b[0m\u001b[0margs\u001b[0m\u001b[0;34m,\u001b[0m\u001b[0;34m\u001b[0m\u001b[0;34m\u001b[0m\u001b[0m\n\u001b[1;32m    559\u001b[0m               \u001b[0mattrs\u001b[0m\u001b[0;34m=\u001b[0m\u001b[0mattrs\u001b[0m\u001b[0;34m,\u001b[0m\u001b[0;34m\u001b[0m\u001b[0;34m\u001b[0m\u001b[0m\n\u001b[0;32m--> 560\u001b[0;31m               ctx=ctx)\n\u001b[0m\u001b[1;32m    561\u001b[0m         \u001b[0;32melse\u001b[0m\u001b[0;34m:\u001b[0m\u001b[0;34m\u001b[0m\u001b[0;34m\u001b[0m\u001b[0m\n\u001b[1;32m    562\u001b[0m           outputs = execute.execute_with_cancellation(\n",
            "\u001b[0;32m/usr/local/lib/python3.7/dist-packages/tensorflow/python/eager/execute.py\u001b[0m in \u001b[0;36mquick_execute\u001b[0;34m(op_name, num_outputs, inputs, attrs, ctx, name)\u001b[0m\n\u001b[1;32m     58\u001b[0m     \u001b[0mctx\u001b[0m\u001b[0;34m.\u001b[0m\u001b[0mensure_initialized\u001b[0m\u001b[0;34m(\u001b[0m\u001b[0;34m)\u001b[0m\u001b[0;34m\u001b[0m\u001b[0;34m\u001b[0m\u001b[0m\n\u001b[1;32m     59\u001b[0m     tensors = pywrap_tfe.TFE_Py_Execute(ctx._handle, device_name, op_name,\n\u001b[0;32m---> 60\u001b[0;31m                                         inputs, attrs, num_outputs)\n\u001b[0m\u001b[1;32m     61\u001b[0m   \u001b[0;32mexcept\u001b[0m \u001b[0mcore\u001b[0m\u001b[0;34m.\u001b[0m\u001b[0m_NotOkStatusException\u001b[0m \u001b[0;32mas\u001b[0m \u001b[0me\u001b[0m\u001b[0;34m:\u001b[0m\u001b[0;34m\u001b[0m\u001b[0;34m\u001b[0m\u001b[0m\n\u001b[1;32m     62\u001b[0m     \u001b[0;32mif\u001b[0m \u001b[0mname\u001b[0m \u001b[0;32mis\u001b[0m \u001b[0;32mnot\u001b[0m \u001b[0;32mNone\u001b[0m\u001b[0;34m:\u001b[0m\u001b[0;34m\u001b[0m\u001b[0;34m\u001b[0m\u001b[0m\n",
            "\u001b[0;31mKeyboardInterrupt\u001b[0m: "
          ]
        }
      ]
    },
    {
      "cell_type": "code",
      "metadata": {
        "id": "UCjgp1WjHJdm"
      },
      "source": [
        ""
      ],
      "execution_count": null,
      "outputs": []
    },
    {
      "cell_type": "code",
      "metadata": {
        "id": "svRU6-64HJgV"
      },
      "source": [
        ""
      ],
      "execution_count": null,
      "outputs": []
    },
    {
      "cell_type": "code",
      "metadata": {
        "id": "ajR0HW3MHJjG"
      },
      "source": [
        ""
      ],
      "execution_count": null,
      "outputs": []
    },
    {
      "cell_type": "code",
      "metadata": {
        "id": "b_xMnsrnHJl8"
      },
      "source": [
        ""
      ],
      "execution_count": null,
      "outputs": []
    },
    {
      "cell_type": "code",
      "metadata": {
        "id": "Q4TBk6voHJo3"
      },
      "source": [
        ""
      ],
      "execution_count": null,
      "outputs": []
    },
    {
      "cell_type": "code",
      "metadata": {
        "id": "0l928ZIrHJrT"
      },
      "source": [
        ""
      ],
      "execution_count": null,
      "outputs": []
    },
    {
      "cell_type": "code",
      "metadata": {
        "id": "sLn5-tLDA08Y"
      },
      "source": [
        ""
      ],
      "execution_count": null,
      "outputs": []
    }
  ]
}