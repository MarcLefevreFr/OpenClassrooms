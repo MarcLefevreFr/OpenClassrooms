{
 "cells": [
  {
   "cell_type": "markdown",
   "metadata": {},
   "source": [
    "Formation OpenClassrooms DS-IML"
   ]
  },
  {
   "cell_type": "markdown",
   "metadata": {},
   "source": [
    "**Projet 2**"
   ]
  },
  {
   "cell_type": "markdown",
   "metadata": {},
   "source": [
    "Par **Marc Lefèvre**, <marc.lefevre@noos.fr>"
   ]
  },
  {
   "cell_type": "markdown",
   "metadata": {},
   "source": [
    "# ANALYSE DE DONNÉES EXPLORATOIRE : Open Food Facts"
   ]
  },
  {
   "cell_type": "markdown",
   "metadata": {},
   "source": [
    "## 2ème Partie"
   ]
  },
  {
   "cell_type": "markdown",
   "metadata": {},
   "source": [
    "# Analyses Univariées & Nettoyage des données"
   ]
  },
  {
   "cell_type": "markdown",
   "metadata": {},
   "source": [
    " "
   ]
  },
  {
   "cell_type": "markdown",
   "metadata": {},
   "source": [
    "Récupération des données et chargement des bibliothèques Python que nous allons utiliser."
   ]
  },
  {
   "cell_type": "code",
   "execution_count": 1,
   "metadata": {},
   "outputs": [],
   "source": [
    "%matplotlib inline\n",
    "\n",
    "import pandas as pd\n",
    "import numpy as np\n",
    "import scipy.stats as st\n",
    "import matplotlib.pyplot as plt\n",
    "import seaborn as sns\n",
    "from anova import *"
   ]
  },
  {
   "cell_type": "code",
   "execution_count": 2,
   "metadata": {},
   "outputs": [
    {
     "name": "stdout",
     "output_type": "stream",
     "text": [
      "<class 'pandas.core.frame.DataFrame'>\n",
      "RangeIndex: 1443749 entries, 0 to 1443748\n",
      "Data columns (total 29 columns):\n",
      "code                                       1443749 non-null object\n",
      "url                                        1443749 non-null object\n",
      "countries_en                               1441453 non-null object\n",
      "product_name                               1378190 non-null object\n",
      "brands                                     795370 non-null object\n",
      "allergens                                  168478 non-null object\n",
      "nova_group                                 556104 non-null float64\n",
      "additives_en                               371718 non-null object\n",
      "additives_n                                640108 non-null float64\n",
      "ingredients_from_palm_oil_n                640108 non-null float64\n",
      "ingredients_that_may_be_from_palm_oil_n    640108 non-null float64\n",
      "nutriscore_score                           582895 non-null float64\n",
      "nutriscore_grade                           582895 non-null object\n",
      "energy-kcal_100g                           1094597 non-null float64\n",
      "energy_100g                                1163796 non-null float64\n",
      "fat_100g                                   1154801 non-null float64\n",
      "saturated-fat_100g                         1107973 non-null float64\n",
      "trans-fat_100g                             263918 non-null float64\n",
      "cholesterol_100g                           267905 non-null float64\n",
      "carbohydrates_100g                         1154252 non-null float64\n",
      "sugars_100g                                1133169 non-null float64\n",
      "fiber_100g                                 445866 non-null float64\n",
      "proteins_100g                              1156050 non-null float64\n",
      "salt_100g                                  1134624 non-null float64\n",
      "sodium_100g                                1134618 non-null float64\n",
      "vitamin-a_100g                             211774 non-null float64\n",
      "vitamin-c_100g                             219324 non-null float64\n",
      "calcium_100g                               268502 non-null float64\n",
      "iron_100g                                  263862 non-null float64\n",
      "dtypes: float64(21), object(8)\n",
      "memory usage: 319.4+ MB\n"
     ]
    }
   ],
   "source": [
    "df = pd.read_csv(\"Data/df_red1.csv\")\n",
    "df.info()"
   ]
  },
  {
   "cell_type": "markdown",
   "metadata": {},
   "source": [
    " "
   ]
  },
  {
   "cell_type": "markdown",
   "metadata": {},
   "source": [
    "## Analyse succinte des variables qualitatives *texte*"
   ]
  },
  {
   "cell_type": "markdown",
   "metadata": {},
   "source": [
    " "
   ]
  },
  {
   "cell_type": "markdown",
   "metadata": {},
   "source": [
    "Nous avons observé que les champs textes de nos variables étaient soit composées d'un mot, soit d'expressions de plusieurs mots, soit de plusieurs mots ou expressions séparés par des virgules. Nous allons nous contenter, pour l'instant, d'observer les distributions du nombre de **mots uniques** dans ces variables.<br><br>Les mots et expressions auront été au préalable, grâce à la fonction ci-dessous :<br>- Passés en minuscules<br>- Débarassés de préfixes tels **\"en:\"**, **\"fr:\"** ou **\"es\"**:\"<br>- Regroupés dans des suites de mots uniques séparés entre eux par des *espaces*."
   ]
  },
  {
   "cell_type": "code",
   "execution_count": 3,
   "metadata": {},
   "outputs": [],
   "source": [
    "# Fonction de mise en forme    \n",
    "def conv_suite_mots(s):\n",
    "    \n",
    "    # on ne touche pas aux valeurs nulles\n",
    "    if type(s) != float :\n",
    "  \n",
    "        liste = s.lower().split(\", \")\n",
    "        new = []\n",
    "        \n",
    "        for w in liste :\n",
    "            \n",
    "            if w.startswith(\"en:\"):\n",
    "                w = w[3:]\n",
    "            elif w.startswith(\"fr:\"):\n",
    "                w = w[3:]\n",
    "            elif w.startswith(\"es:\"):\n",
    "                w = w[3:]\n",
    "            new.append(w)\n",
    "        \n",
    "        new = list(set(new))\n",
    "        return \" \".join(new)"
   ]
  },
  {
   "cell_type": "markdown",
   "metadata": {},
   "source": [
    "Application du traitement"
   ]
  },
  {
   "cell_type": "code",
   "execution_count": 4,
   "metadata": {},
   "outputs": [],
   "source": [
    "colonnes = df.columns[2:8].tolist()\n",
    "colonnes.remove(\"nova_group\")\n",
    "\n",
    "for col in colonnes :\n",
    "    df[col] = df[col].map(conv_suite_mots)"
   ]
  },
  {
   "cell_type": "markdown",
   "metadata": {},
   "source": [
    "Boucle de création des histogrammes"
   ]
  },
  {
   "cell_type": "code",
   "execution_count": 5,
   "metadata": {},
   "outputs": [
    {
     "data": {
      "image/png": "[encoded data removed]",
      "text/plain": [
       "<Figure size 864x1728 with 5 Axes>"
      ]
     },
     "metadata": {
      "needs_background": "light"
     },
     "output_type": "display_data"
    }
   ],
   "source": [
    "plt.figure(figsize=(12,24))\n",
    "i=1\n",
    "\n",
    "for col in colonnes :   \n",
    "    \n",
    "    mots = df[df[col].notnull()][col].str.split(\" \").apply(lambda x: len(x))\n",
    "    plt.subplot(6,2,i)\n",
    "    plt.hist(mots, bins=15)\n",
    "    plt.title(f'Distribution du nombre de mots pour : {col}')\n",
    "    i+=1\n",
    "\n",
    "plt.show()"
   ]
  },
  {
   "cell_type": "markdown",
   "metadata": {},
   "source": [
    "On peut remarquer qu'il existe parfois d'importantes disparités, au sein d'une même variable, dans la façon dont cette variable a été renseignées. C'est juste que certains produits ont été plus détaillés ou contiennent beaucoup d'additifs ou d'allergènes."
   ]
  },
  {
   "cell_type": "markdown",
   "metadata": {},
   "source": [
    " "
   ]
  },
  {
   "cell_type": "markdown",
   "metadata": {},
   "source": [
    "### Autre variable qualitative : **Nova Group**"
   ]
  },
  {
   "cell_type": "code",
   "execution_count": 6,
   "metadata": {},
   "outputs": [
    {
     "data": {
      "image/png": "[encoded data removed]",
      "text/plain": [
       "<Figure size 432x288 with 1 Axes>"
      ]
     },
     "metadata": {
      "needs_background": "light"
     },
     "output_type": "display_data"
    }
   ],
   "source": [
    "df.nova_group.hist()\n",
    "plt.title(\"Histogramme variable : Nova Group\")\n",
    "plt.show()"
   ]
  },
  {
   "cell_type": "markdown",
   "metadata": {},
   "source": [
    "La variable **Nova Group**, qui est un *indice de transformation des aliments* (avec des valeurs allant de 1 à 4 du moins au plus transformé), semble correctemment renseignée.<br>Nous reviendrons plus tard sur elle en l'analysant avec le **Nutriscore_grade**.<br>En attendant, il est intéressant de voir que pour environ les deux tiers des produits renseignés, l'indice est maximum..."
   ]
  },
  {
   "cell_type": "markdown",
   "metadata": {},
   "source": [
    " "
   ]
  },
  {
   "cell_type": "markdown",
   "metadata": {},
   "source": [
    "## Variables quantitatives discontinues"
   ]
  },
  {
   "cell_type": "markdown",
   "metadata": {},
   "source": [
    "Observons nos quatre variables suivantes."
   ]
  },
  {
   "cell_type": "code",
   "execution_count": 7,
   "metadata": {},
   "outputs": [
    {
     "data": {
      "text/html": [
       "<div>\n",
       "<style scoped>\n",
       "    .dataframe tbody tr th:only-of-type {\n",
       "        vertical-align: middle;\n",
       "    }\n",
       "\n",
       "    .dataframe tbody tr th {\n",
       "        vertical-align: top;\n",
       "    }\n",
       "\n",
       "    .dataframe thead th {\n",
       "        text-align: right;\n",
       "    }\n",
       "</style>\n",
       "<table border=\"1\" class=\"dataframe\">\n",
       "  <thead>\n",
       "    <tr style=\"text-align: right;\">\n",
       "      <th></th>\n",
       "      <th>additives_n</th>\n",
       "      <th>ingredients_from_palm_oil_n</th>\n",
       "      <th>ingredients_that_may_be_from_palm_oil_n</th>\n",
       "    </tr>\n",
       "  </thead>\n",
       "  <tbody>\n",
       "    <tr>\n",
       "      <th>count</th>\n",
       "      <td>640108.000000</td>\n",
       "      <td>640108.000000</td>\n",
       "      <td>640108.000000</td>\n",
       "    </tr>\n",
       "    <tr>\n",
       "      <th>mean</th>\n",
       "      <td>2.010467</td>\n",
       "      <td>0.020811</td>\n",
       "      <td>0.069804</td>\n",
       "    </tr>\n",
       "    <tr>\n",
       "      <th>std</th>\n",
       "      <td>2.846657</td>\n",
       "      <td>0.144587</td>\n",
       "      <td>0.302400</td>\n",
       "    </tr>\n",
       "    <tr>\n",
       "      <th>min</th>\n",
       "      <td>0.000000</td>\n",
       "      <td>0.000000</td>\n",
       "      <td>0.000000</td>\n",
       "    </tr>\n",
       "    <tr>\n",
       "      <th>25%</th>\n",
       "      <td>0.000000</td>\n",
       "      <td>0.000000</td>\n",
       "      <td>0.000000</td>\n",
       "    </tr>\n",
       "    <tr>\n",
       "      <th>50%</th>\n",
       "      <td>1.000000</td>\n",
       "      <td>0.000000</td>\n",
       "      <td>0.000000</td>\n",
       "    </tr>\n",
       "    <tr>\n",
       "      <th>75%</th>\n",
       "      <td>3.000000</td>\n",
       "      <td>0.000000</td>\n",
       "      <td>0.000000</td>\n",
       "    </tr>\n",
       "    <tr>\n",
       "      <th>max</th>\n",
       "      <td>49.000000</td>\n",
       "      <td>3.000000</td>\n",
       "      <td>6.000000</td>\n",
       "    </tr>\n",
       "  </tbody>\n",
       "</table>\n",
       "</div>"
      ],
      "text/plain": [
       "         additives_n  ingredients_from_palm_oil_n  \\\n",
       "count  640108.000000                640108.000000   \n",
       "mean        2.010467                     0.020811   \n",
       "std         2.846657                     0.144587   \n",
       "min         0.000000                     0.000000   \n",
       "25%         0.000000                     0.000000   \n",
       "50%         1.000000                     0.000000   \n",
       "75%         3.000000                     0.000000   \n",
       "max        49.000000                     3.000000   \n",
       "\n",
       "       ingredients_that_may_be_from_palm_oil_n  \n",
       "count                            640108.000000  \n",
       "mean                                  0.069804  \n",
       "std                                   0.302400  \n",
       "min                                   0.000000  \n",
       "25%                                   0.000000  \n",
       "50%                                   0.000000  \n",
       "75%                                   0.000000  \n",
       "max                                   6.000000  "
      ]
     },
     "execution_count": 7,
     "metadata": {},
     "output_type": "execute_result"
    }
   ],
   "source": [
    "df[df.columns[8:11].tolist()].describe()"
   ]
  },
  {
   "cell_type": "markdown",
   "metadata": {},
   "source": [
    "Si les deux autres ne semblent pas montrer d'irrégularités, avec la variable **additives_n** la différence entre sa valeur maximum et son **Q3** nous laisse fortement penser qu'elle contient des **outliers**. C'est aussi frappant visuellement."
   ]
  },
  {
   "cell_type": "code",
   "execution_count": 8,
   "metadata": {},
   "outputs": [
    {
     "data": {
      "image/png": "[encoded data removed]",
      "text/plain": [
       "<Figure size 432x288 with 1 Axes>"
      ]
     },
     "metadata": {
      "needs_background": "light"
     },
     "output_type": "display_data"
    }
   ],
   "source": [
    "sns.boxplot(data=df[\"additives_n\"])\n",
    "plt.title(\"Boxplot varriable : additives_n\")\n",
    "plt.show()"
   ]
  },
  {
   "cell_type": "markdown",
   "metadata": {},
   "source": [
    "Nous décidon d'éliminer les observations, que nous considérons comme aberrantes, dont les valeurs pour cette variable seront **supérieures à 30**."
   ]
  },
  {
   "cell_type": "code",
   "execution_count": 9,
   "metadata": {},
   "outputs": [],
   "source": [
    "df = df[(df.additives_n.isnull()) | (df.additives_n <= 30)]"
   ]
  },
  {
   "cell_type": "markdown",
   "metadata": {},
   "source": [
    " "
   ]
  },
  {
   "cell_type": "markdown",
   "metadata": {},
   "source": [
    " "
   ]
  },
  {
   "cell_type": "markdown",
   "metadata": {},
   "source": [
    "## Nutriscore :  score & grade"
   ]
  },
  {
   "cell_type": "markdown",
   "metadata": {},
   "source": [
    "La valeur numérique du **Nutriscore**, c'est à dire la variable **\"nutriscore_score\"**, dont on peut trouver le détail des calculs et les modalités ici :<br>https://www.santepubliquefrance.fr/media/files/02-determinants-de-sante/nutrition-et-activite-physique/nutri-score/qr-scientifique-technique-en<br>est une valeur numérique comprise entre **-15** et **40**."
   ]
  },
  {
   "cell_type": "code",
   "execution_count": 11,
   "metadata": {},
   "outputs": [
    {
     "data": {
      "text/html": [
       "<div>\n",
       "<style scoped>\n",
       "    .dataframe tbody tr th:only-of-type {\n",
       "        vertical-align: middle;\n",
       "    }\n",
       "\n",
       "    .dataframe tbody tr th {\n",
       "        vertical-align: top;\n",
       "    }\n",
       "\n",
       "    .dataframe thead th {\n",
       "        text-align: right;\n",
       "    }\n",
       "</style>\n",
       "<table border=\"1\" class=\"dataframe\">\n",
       "  <thead>\n",
       "    <tr style=\"text-align: right;\">\n",
       "      <th></th>\n",
       "      <th>nutriscore_score</th>\n",
       "    </tr>\n",
       "  </thead>\n",
       "  <tbody>\n",
       "    <tr>\n",
       "      <th>count</th>\n",
       "      <td>582888.000000</td>\n",
       "    </tr>\n",
       "    <tr>\n",
       "      <th>mean</th>\n",
       "      <td>9.173872</td>\n",
       "    </tr>\n",
       "    <tr>\n",
       "      <th>std</th>\n",
       "      <td>8.914258</td>\n",
       "    </tr>\n",
       "    <tr>\n",
       "      <th>min</th>\n",
       "      <td>-15.000000</td>\n",
       "    </tr>\n",
       "    <tr>\n",
       "      <th>25%</th>\n",
       "      <td>1.000000</td>\n",
       "    </tr>\n",
       "    <tr>\n",
       "      <th>50%</th>\n",
       "      <td>10.000000</td>\n",
       "    </tr>\n",
       "    <tr>\n",
       "      <th>75%</th>\n",
       "      <td>16.000000</td>\n",
       "    </tr>\n",
       "    <tr>\n",
       "      <th>max</th>\n",
       "      <td>40.000000</td>\n",
       "    </tr>\n",
       "  </tbody>\n",
       "</table>\n",
       "</div>"
      ],
      "text/plain": [
       "       nutriscore_score\n",
       "count     582888.000000\n",
       "mean           9.173872\n",
       "std            8.914258\n",
       "min          -15.000000\n",
       "25%            1.000000\n",
       "50%           10.000000\n",
       "75%           16.000000\n",
       "max           40.000000"
      ]
     },
     "execution_count": 11,
     "metadata": {},
     "output_type": "execute_result"
    }
   ],
   "source": [
    "df[df.columns[11:12]].describe()"
   ]
  },
  {
   "cell_type": "code",
   "execution_count": 12,
   "metadata": {},
   "outputs": [
    {
     "data": {
      "image/png": "[encoded data removed]",
      "text/plain": [
       "<Figure size 936x360 with 2 Axes>"
      ]
     },
     "metadata": {
      "needs_background": "light"
     },
     "output_type": "display_data"
    }
   ],
   "source": [
    "plt.figure(figsize = (13,5))\n",
    "\n",
    "plt.subplot(1,2,1)\n",
    "plt.title(\"Boxplot du nutriscore_score\")\n",
    "sns.boxplot(df[\"nutriscore_score\"])\n",
    "\n",
    "plt.subplot(1,2,2)\n",
    "plt.title(\"Distribution du nutriscore_score\")\n",
    "df.nutriscore_score.hist(bins=20)\n",
    "\n",
    "plt.show()"
   ]
  },
  {
   "cell_type": "markdown",
   "metadata": {},
   "source": [
    "Si ce n'est sa distribution multi-modale, on ne remarque rien de particulier avec cette variable qui ne semble pas appeler de correction."
   ]
  },
  {
   "cell_type": "markdown",
   "metadata": {},
   "source": [
    "Quant au Classement Nutriscore, une appréciation sous forme de lettre **A, B, C, D** ou **E**, il est donné par la variable qualitative **\"nutriscore_grade\"**."
   ]
  },
  {
   "cell_type": "markdown",
   "metadata": {},
   "source": [
    "La relation entre le **nutriscoe_score** et le **nutriscore_grade** est expliquée dans le tableau suivant :\n",
    "<img src=\"calc_nutri.png\">"
   ]
  },
  {
   "cell_type": "code",
   "execution_count": 13,
   "metadata": {},
   "outputs": [
    {
     "data": {
      "text/plain": [
       "d    180667\n",
       "c    122401\n",
       "e    110512\n",
       "a     94450\n",
       "b     74858\n",
       "Name: nutriscore_grade, dtype: int64"
      ]
     },
     "execution_count": 13,
     "metadata": {},
     "output_type": "execute_result"
    }
   ],
   "source": [
    "df.nutriscore_grade.value_counts()"
   ]
  },
  {
   "cell_type": "markdown",
   "metadata": {},
   "source": [
    "Toutes les valeurs renseignées correspondent bien à ce qui est attendu. On peut même observer visuellement la répartition des valeurs dans un diagramme circulaire."
   ]
  },
  {
   "cell_type": "code",
   "execution_count": 14,
   "metadata": {},
   "outputs": [
    {
     "data": {
      "image/png": "[encoded data removed]",
      "text/plain": [
       "<Figure size 576x576 with 1 Axes>"
      ]
     },
     "metadata": {},
     "output_type": "display_data"
    }
   ],
   "source": [
    "plt.figure(figsize = (8,8))\n",
    "plt.title('Répartition du Nutriscore Grade')\n",
    "plt.pie(df[\"nutriscore_grade\"].value_counts(), autopct='%.2f', \n",
    "        labels = df[\"nutriscore_grade\"].value_counts().index, startangle=90)\n",
    "plt.show()"
   ]
  },
  {
   "cell_type": "markdown",
   "metadata": {},
   "source": [
    "En prenant un peu d'avance et sans attendre la partie de cette étude consacrée aux analyses multivariées du dataset, nous allons regarder la relation entre les deux **nutriscores**."
   ]
  },
  {
   "cell_type": "code",
   "execution_count": 15,
   "metadata": {},
   "outputs": [
    {
     "data": {
      "image/png": "[encoded data removed]",
      "text/plain": [
       "<Figure size 432x288 with 1 Axes>"
      ]
     },
     "metadata": {
      "needs_background": "light"
     },
     "output_type": "display_data"
    }
   ],
   "source": [
    "plt.title(\"Le nutriscore_grade en fonction du nutriscore_score\")\n",
    "sns.boxplot(df[\"nutriscore_score\"], df[\"nutriscore_grade\"].sort_values(), showmeans=True)\n",
    "plt.show()"
   ]
  },
  {
   "cell_type": "markdown",
   "metadata": {},
   "source": [
    "Et nous avons bien fait...<br>En effet, au regard du diagramme, et en tenant compte des règles d'attribution du **nutriscore_grade** en fonction du **nutriscore_score**, il semble y avoir un certain nombre d'erreurs avec sa population de classe **\"a\"**.<br>Cellee-ci, d'après ces règles, ne peut avoir un nutriscore supérieur à **-1**.<br>Or :"
   ]
  },
  {
   "cell_type": "code",
   "execution_count": 16,
   "metadata": {},
   "outputs": [
    {
     "data": {
      "text/plain": [
       "count    94450.000000\n",
       "mean        -3.396379\n",
       "std          2.307783\n",
       "min        -15.000000\n",
       "25%         -5.000000\n",
       "50%         -3.000000\n",
       "75%         -1.000000\n",
       "max         26.000000\n",
       "Name: nutriscore_score, dtype: float64"
      ]
     },
     "execution_count": 16,
     "metadata": {},
     "output_type": "execute_result"
    }
   ],
   "source": [
    "df[df.nutriscore_grade == \"a\"][\"nutriscore_score\"].describe()"
   ]
  },
  {
   "cell_type": "code",
   "execution_count": 17,
   "metadata": {},
   "outputs": [
    {
     "data": {
      "text/plain": [
       "2282"
      ]
     },
     "execution_count": 17,
     "metadata": {},
     "output_type": "execute_result"
    }
   ],
   "source": [
    "len(df[(df.nutriscore_score > -1) & (df.nutriscore_grade == \"a\")])"
   ]
  },
  {
   "cell_type": "markdown",
   "metadata": {},
   "source": [
    "Nous voyons qu'un groupe de **2282** individus de cette population (dont le **nutriscore_score** se situe dans l'intervalle **Q3** - **max**) se trouve dans cette situation d'incohérence."
   ]
  },
  {
   "cell_type": "markdown",
   "metadata": {},
   "source": [
    "Comme nous n'avons pas le moyen de savoir d'où vient cette erreur, nous allons au moins essayer de rendre la variable plus cohérente en ventilant (un peu arbitrairement) ses valeurs erronées (de classe **a** avec des **nutriscore_score** supérieurs à **\"-1\"**) dans les autres catégories **b**, **c**, **d** et **e**."
   ]
  },
  {
   "cell_type": "code",
   "execution_count": 18,
   "metadata": {},
   "outputs": [],
   "source": [
    "df.loc[(df[\"nutriscore_grade\"] == \"a\") & (df[\"nutriscore_score\"] > -1) & (df[\"nutriscore_score\"] <= 2), \n",
    "       \"nutriscore_grade\"] = \"b\"\n",
    "df.loc[(df[\"nutriscore_grade\"] == \"a\") & (df[\"nutriscore_score\"] > 2) & (df[\"nutriscore_score\"] <= 10), \n",
    "       \"nutriscore_grade\"] = \"c\"\n",
    "df.loc[(df[\"nutriscore_grade\"] == \"a\") & (df[\"nutriscore_score\"] > 10) & (df[\"nutriscore_score\"] <= 18), \n",
    "       \"nutriscore_grade\"] = \"d\"\n",
    "df.loc[(df[\"nutriscore_grade\"] == \"a\") & (df[\"nutriscore_score\"] > 18), \n",
    "       \"nutriscore_grade\"] = \"e\""
   ]
  },
  {
   "cell_type": "markdown",
   "metadata": {},
   "source": [
    "Notre **nutriscore_grade** a maintenant meilleure allure !"
   ]
  },
  {
   "cell_type": "code",
   "execution_count": 20,
   "metadata": {},
   "outputs": [
    {
     "data": {
      "image/png": "[encoded data removed]",
      "text/plain": [
       "<Figure size 432x288 with 1 Axes>"
      ]
     },
     "metadata": {
      "needs_background": "light"
     },
     "output_type": "display_data"
    }
   ],
   "source": [
    "plt.title(\"Le nutriscore_grade en fonction du nutriscore_score\")\n",
    "sns.boxplot(df[\"nutriscore_score\"], df[\"nutriscore_grade\"].sort_values(), showmeans=True)\n",
    "plt.show()"
   ]
  },
  {
   "cell_type": "markdown",
   "metadata": {},
   "source": [
    " "
   ]
  },
  {
   "cell_type": "markdown",
   "metadata": {},
   "source": [
    "### **ANOVA** des nutriscores"
   ]
  },
  {
   "cell_type": "markdown",
   "metadata": {},
   "source": [
    "On utilise la fonction **anova** importée du module **anova.py** (voir cellule ci-dessous).<br>Elle affiche la **table anova** de cette analyse (avec en plus le **SCT** et **R2**), nous fournissant ainsi les indicateurs nous permettant de statuer réellement sur une éventuelle corrélation linéaire entre nos deux variables, et d'autres couples de variables quantitatives et qualitatives en général."
   ]
  },
  {
   "cell_type": "raw",
   "metadata": {
    "jupyter": {
     "source_hidden": true
    }
   },
   "source": [
    "import pandas as pd\n",
    "import statsmodels.api as sm\n",
    "from statsmodels.formula.api import ols\n",
    "import numpy as np\n",
    "import scipy.stats as st\n",
    "\n",
    "\n",
    "# lors des réutilisation, attention à LEN(GROUPS)\n",
    "\n",
    "# anova(df, \"var_qual\", \"var_quant\")\n",
    "def anova(df, vqual, vquant):\n",
    "    \n",
    "    #df = df[(df[vqual].notnull()) & (df[vquant]).notnull()]\n",
    "    val_qual = []\n",
    "    val_qual = df[vqual].value_counts().index\n",
    "    groups =[df[df[vqual] == val][vquant] for val in val_qual]\n",
    "    \n",
    "    print(f\"TABLE ANOVA {vqual} en fonction {vquant}\")\n",
    "    print()\n",
    "    \n",
    "    # # test normalité shapiro  \n",
    "    # test_norm = True\n",
    "    \n",
    "    # for u in groups :\n",
    "    #     if st.shapiro(u)[1] < 0.05 :\n",
    "    #         test_norm = False\n",
    "        \n",
    "    # if test_norm == True:\n",
    "    #     print(\"Test de normalité de Shapiro-Wilk : OK\")\n",
    "    # else :\n",
    "    #     print(\"Test de normalité de Shapiro-Wilk : RATE\")\n",
    "        \n",
    "    # # test homogénéité de Bartlett\n",
    "    \n",
    "    # if len(groups) == 5 :\n",
    "    #     bart_p = st.bartlett(groups[0], groups[1], groups[2], groups[3], groups[4])[1]\n",
    "    #     if bart_p < 0.05 :\n",
    "    #         print(f\"Test d'homogénéité de Bartlett, p = {bart_p}, test RATE\")\n",
    "    #     else :\n",
    "    #         print(f\"Test d'homogénéité de Bartlett, p = {bart_p}, test OK\")\n",
    "    #     print()   \n",
    "\n",
    "    # if len(groups) == 4 :\n",
    "    #     bart_p = st.bartlett(groups[0], groups[1], groups[2], groups[3])[1]\n",
    "    #     if bart_p < 0.05 :\n",
    "    #         print(f\"Test d'homogénéité de Bartlett, p = {bart_p}, test RATE\")\n",
    "    #     else :\n",
    "    #         print(f\"Test d'homogénéité de Bartlett, p = {bart_p}, test OK\")\n",
    "    #     print()\n",
    "\n",
    "    \n",
    "    # calcul table ANOVA\n",
    "    lin_mod = ols(\"Q(vquant) ~ Q(vqual)\", data = df).fit()\n",
    "    t_anova = sm.stats.anova_lm(lin_mod)\n",
    "    \n",
    "    print(t_anova)\n",
    "    \n",
    "    # calcul SCT\n",
    "    SCT = t_anova[\"sum_sq\"].sum()\n",
    "    str_SCT = \"{:2e}\".format(SCT)\n",
    "    print(f\"SCT                         \"+str_SCT)\n",
    "    \n",
    "    #calcul R2\n",
    "    R2 = t_anova[\"sum_sq\"][0] / SCT\n",
    "    print(f\"R2 = {R2}\")"
   ]
  },
  {
   "cell_type": "code",
   "execution_count": 21,
   "metadata": {},
   "outputs": [
    {
     "name": "stdout",
     "output_type": "stream",
     "text": [
      "TABLE ANOVA nutriscore_grade en fonction nutriscore_score\n",
      "\n",
      "                df        sum_sq       mean_sq             F  PR(>F)\n",
      "Q(vqual)       4.0  4.221583e+07  1.055396e+07  1.499432e+06     0.0\n",
      "Residual  582883.0  4.102700e+06  7.038635e+00           NaN     NaN\n",
      "SCT                         4.631853e+07\n",
      "R2 = 0.9114242011779303\n"
     ]
    }
   ],
   "source": [
    "anova(df, \"nutriscore_grade\", \"nutriscore_score\")"
   ]
  },
  {
   "cell_type": "markdown",
   "metadata": {},
   "source": [
    "Comme on s'y attendait, l'hypothèse nulle d'indépendance des deux variables est clairement rejetée. Néanmoins, la corrélation aurait pu être encore plus marquée si le système d'attribution du **nutriscore_grade** pour les **boissons** ne provoquait pas en chevauchement de valeurs."
   ]
  },
  {
   "cell_type": "markdown",
   "metadata": {},
   "source": [
    " "
   ]
  },
  {
   "cell_type": "markdown",
   "metadata": {},
   "source": [
    "## Variables quantitatives continues"
   ]
  },
  {
   "cell_type": "markdown",
   "metadata": {},
   "source": [
    "### Les valeurs énergétiques"
   ]
  },
  {
   "cell_type": "code",
   "execution_count": 23,
   "metadata": {},
   "outputs": [
    {
     "data": {
      "text/html": [
       "<div>\n",
       "<style scoped>\n",
       "    .dataframe tbody tr th:only-of-type {\n",
       "        vertical-align: middle;\n",
       "    }\n",
       "\n",
       "    .dataframe tbody tr th {\n",
       "        vertical-align: top;\n",
       "    }\n",
       "\n",
       "    .dataframe thead th {\n",
       "        text-align: right;\n",
       "    }\n",
       "</style>\n",
       "<table border=\"1\" class=\"dataframe\">\n",
       "  <thead>\n",
       "    <tr style=\"text-align: right;\">\n",
       "      <th></th>\n",
       "      <th>energy-kcal_100g</th>\n",
       "      <th>energy_100g</th>\n",
       "    </tr>\n",
       "  </thead>\n",
       "  <tbody>\n",
       "    <tr>\n",
       "      <th>count</th>\n",
       "      <td>1.094588e+06</td>\n",
       "      <td>1.163787e+06</td>\n",
       "    </tr>\n",
       "    <tr>\n",
       "      <th>mean</th>\n",
       "      <td>7.944650e+06</td>\n",
       "      <td>5.727473e+36</td>\n",
       "    </tr>\n",
       "    <tr>\n",
       "      <th>std</th>\n",
       "      <td>8.309733e+09</td>\n",
       "      <td>6.178739e+39</td>\n",
       "    </tr>\n",
       "    <tr>\n",
       "      <th>min</th>\n",
       "      <td>0.000000e+00</td>\n",
       "      <td>0.000000e+00</td>\n",
       "    </tr>\n",
       "    <tr>\n",
       "      <th>25%</th>\n",
       "      <td>1.010000e+02</td>\n",
       "      <td>4.180000e+02</td>\n",
       "    </tr>\n",
       "    <tr>\n",
       "      <th>50%</th>\n",
       "      <td>2.640000e+02</td>\n",
       "      <td>1.092000e+03</td>\n",
       "    </tr>\n",
       "    <tr>\n",
       "      <th>75%</th>\n",
       "      <td>4.000000e+02</td>\n",
       "      <td>1.674000e+03</td>\n",
       "    </tr>\n",
       "    <tr>\n",
       "      <th>max</th>\n",
       "      <td>8.693855e+12</td>\n",
       "      <td>6.665559e+42</td>\n",
       "    </tr>\n",
       "  </tbody>\n",
       "</table>\n",
       "</div>"
      ],
      "text/plain": [
       "       energy-kcal_100g   energy_100g\n",
       "count      1.094588e+06  1.163787e+06\n",
       "mean       7.944650e+06  5.727473e+36\n",
       "std        8.309733e+09  6.178739e+39\n",
       "min        0.000000e+00  0.000000e+00\n",
       "25%        1.010000e+02  4.180000e+02\n",
       "50%        2.640000e+02  1.092000e+03\n",
       "75%        4.000000e+02  1.674000e+03\n",
       "max        8.693855e+12  6.665559e+42"
      ]
     },
     "execution_count": 23,
     "metadata": {},
     "output_type": "execute_result"
    }
   ],
   "source": [
    "df[df.columns[13:15]].describe()"
   ]
  },
  {
   "cell_type": "markdown",
   "metadata": {},
   "source": [
    "Avec ces deux variables représentants l'apports énergétique des produits concernés, la première en **kcal**, la seconde en **kj** (on rappelle que **1 kcal = 4,1868 kJ**), on se rend bien compte que nous sommes en présence d'**outliers** assez extrêmes. L'ordre de grandeur de l'énergie, en kcal , apportée par 100g de nourriture, est la centaine *10e2*. En kj, on peut attendre le millier, **10e3**.<br>Avec ici des énergies de l'ordre de **10e12** (presque l'énergie dégagée par une bombe atomique) et **10e42** (10e30 bombes atomiques), nous sommes en présence d'outliers, de \"pics\", absurdement grands.<br>On remarquera au passage que valeurs moyennes et écarts-types sont particulièrement sensibles à ce type d'outliers extrêmes, contrairement à la valeur médianne et autres quantiles."
   ]
  },
  {
   "cell_type": "markdown",
   "metadata": {},
   "source": [
    "Nous fixons deux seuils. le premier de **1500** pour **\"energy-kcal_100g\"** et le second de **6200** pour **\"energy_100g\"** au dessus desquels nous décidons d\"effacer les observations."
   ]
  },
  {
   "cell_type": "code",
   "execution_count": 24,
   "metadata": {},
   "outputs": [],
   "source": [
    "df = df[(df[\"energy-kcal_100g\"].isnull()) | (df[\"energy-kcal_100g\"] <= 1500)]\n",
    "df = df[(df[\"energy_100g\"].isnull()) | (df[\"energy_100g\"] <= 6200)]"
   ]
  },
  {
   "cell_type": "markdown",
   "metadata": {},
   "source": [
    " "
   ]
  },
  {
   "cell_type": "markdown",
   "metadata": {},
   "source": [
    "### Données nutritionnelles"
   ]
  },
  {
   "cell_type": "code",
   "execution_count": 25,
   "metadata": {},
   "outputs": [
    {
     "data": {
      "text/html": [
       "<div>\n",
       "<style scoped>\n",
       "    .dataframe tbody tr th:only-of-type {\n",
       "        vertical-align: middle;\n",
       "    }\n",
       "\n",
       "    .dataframe tbody tr th {\n",
       "        vertical-align: top;\n",
       "    }\n",
       "\n",
       "    .dataframe thead th {\n",
       "        text-align: right;\n",
       "    }\n",
       "</style>\n",
       "<table border=\"1\" class=\"dataframe\">\n",
       "  <thead>\n",
       "    <tr style=\"text-align: right;\">\n",
       "      <th></th>\n",
       "      <th>fat_100g</th>\n",
       "      <th>saturated-fat_100g</th>\n",
       "      <th>trans-fat_100g</th>\n",
       "      <th>cholesterol_100g</th>\n",
       "      <th>carbohydrates_100g</th>\n",
       "      <th>sugars_100g</th>\n",
       "      <th>fiber_100g</th>\n",
       "      <th>proteins_100g</th>\n",
       "      <th>salt_100g</th>\n",
       "      <th>sodium_100g</th>\n",
       "      <th>vitamin-a_100g</th>\n",
       "      <th>vitamin-c_100g</th>\n",
       "      <th>calcium_100g</th>\n",
       "      <th>iron_100g</th>\n",
       "    </tr>\n",
       "  </thead>\n",
       "  <tbody>\n",
       "    <tr>\n",
       "      <th>count</th>\n",
       "      <td>1.154305e+06</td>\n",
       "      <td>1.107510e+06</td>\n",
       "      <td>263902.000000</td>\n",
       "      <td>267888.000000</td>\n",
       "      <td>1.153760e+06</td>\n",
       "      <td>1.132704e+06</td>\n",
       "      <td>445640.000000</td>\n",
       "      <td>1.155552e+06</td>\n",
       "      <td>1.134185e+06</td>\n",
       "      <td>1.134179e+06</td>\n",
       "      <td>211762.000000</td>\n",
       "      <td>219312.000000</td>\n",
       "      <td>268485.000000</td>\n",
       "      <td>263848.000000</td>\n",
       "    </tr>\n",
       "    <tr>\n",
       "      <th>mean</th>\n",
       "      <td>1.381774e+01</td>\n",
       "      <td>1.227980e+08</td>\n",
       "      <td>0.046625</td>\n",
       "      <td>0.046948</td>\n",
       "      <td>2.850017e+01</td>\n",
       "      <td>1.386366e+01</td>\n",
       "      <td>2.940072</td>\n",
       "      <td>8.447355e+00</td>\n",
       "      <td>2.020402e+00</td>\n",
       "      <td>8.082414e-01</td>\n",
       "      <td>0.003606</td>\n",
       "      <td>0.024592</td>\n",
       "      <td>0.170965</td>\n",
       "      <td>0.006437</td>\n",
       "    </tr>\n",
       "    <tr>\n",
       "      <th>std</th>\n",
       "      <td>1.716359e+02</td>\n",
       "      <td>1.292305e+11</td>\n",
       "      <td>1.062264</td>\n",
       "      <td>1.459132</td>\n",
       "      <td>2.856277e+01</td>\n",
       "      <td>2.008663e+01</td>\n",
       "      <td>5.000099</td>\n",
       "      <td>1.274801e+01</td>\n",
       "      <td>1.410919e+02</td>\n",
       "      <td>5.643743e+01</td>\n",
       "      <td>0.507448</td>\n",
       "      <td>0.754796</td>\n",
       "      <td>7.849169</td>\n",
       "      <td>0.266175</td>\n",
       "    </tr>\n",
       "    <tr>\n",
       "      <th>min</th>\n",
       "      <td>0.000000e+00</td>\n",
       "      <td>0.000000e+00</td>\n",
       "      <td>0.000000</td>\n",
       "      <td>0.000000</td>\n",
       "      <td>0.000000e+00</td>\n",
       "      <td>-1.000000e+00</td>\n",
       "      <td>-20.000000</td>\n",
       "      <td>-5.000000e+02</td>\n",
       "      <td>0.000000e+00</td>\n",
       "      <td>0.000000e+00</td>\n",
       "      <td>-0.000340</td>\n",
       "      <td>0.000000</td>\n",
       "      <td>0.000000</td>\n",
       "      <td>-0.000260</td>\n",
       "    </tr>\n",
       "    <tr>\n",
       "      <th>25%</th>\n",
       "      <td>6.000000e-01</td>\n",
       "      <td>1.000000e-01</td>\n",
       "      <td>0.000000</td>\n",
       "      <td>0.000000</td>\n",
       "      <td>3.570000e+00</td>\n",
       "      <td>7.000000e-01</td>\n",
       "      <td>0.000000</td>\n",
       "      <td>1.200000e+00</td>\n",
       "      <td>6.000000e-02</td>\n",
       "      <td>2.400000e-02</td>\n",
       "      <td>0.000000</td>\n",
       "      <td>0.000000</td>\n",
       "      <td>0.000000</td>\n",
       "      <td>0.000000</td>\n",
       "    </tr>\n",
       "    <tr>\n",
       "      <th>50%</th>\n",
       "      <td>6.900000e+00</td>\n",
       "      <td>1.900000e+00</td>\n",
       "      <td>0.000000</td>\n",
       "      <td>0.000000</td>\n",
       "      <td>1.570000e+01</td>\n",
       "      <td>3.900000e+00</td>\n",
       "      <td>1.560000</td>\n",
       "      <td>5.800000e+00</td>\n",
       "      <td>5.350000e-01</td>\n",
       "      <td>2.140000e-01</td>\n",
       "      <td>0.000000</td>\n",
       "      <td>0.000000</td>\n",
       "      <td>0.036000</td>\n",
       "      <td>0.001000</td>\n",
       "    </tr>\n",
       "    <tr>\n",
       "      <th>75%</th>\n",
       "      <td>2.142857e+01</td>\n",
       "      <td>7.220000e+00</td>\n",
       "      <td>0.000000</td>\n",
       "      <td>0.022000</td>\n",
       "      <td>5.357000e+01</td>\n",
       "      <td>2.000000e+01</td>\n",
       "      <td>3.600000</td>\n",
       "      <td>1.200000e+01</td>\n",
       "      <td>1.353820e+00</td>\n",
       "      <td>5.415280e-01</td>\n",
       "      <td>0.000107</td>\n",
       "      <td>0.004000</td>\n",
       "      <td>0.109000</td>\n",
       "      <td>0.002400</td>\n",
       "    </tr>\n",
       "    <tr>\n",
       "      <th>max</th>\n",
       "      <td>1.536795e+05</td>\n",
       "      <td>1.360000e+14</td>\n",
       "      <td>369.000000</td>\n",
       "      <td>300.000000</td>\n",
       "      <td>2.916670e+03</td>\n",
       "      <td>1.350000e+03</td>\n",
       "      <td>439.000000</td>\n",
       "      <td>8.466000e+03</td>\n",
       "      <td>1.050000e+05</td>\n",
       "      <td>4.200000e+04</td>\n",
       "      <td>126.000000</td>\n",
       "      <td>100.000000</td>\n",
       "      <td>3400.000000</td>\n",
       "      <td>50.000000</td>\n",
       "    </tr>\n",
       "  </tbody>\n",
       "</table>\n",
       "</div>"
      ],
      "text/plain": [
       "           fat_100g  saturated-fat_100g  trans-fat_100g  cholesterol_100g  \\\n",
       "count  1.154305e+06        1.107510e+06   263902.000000     267888.000000   \n",
       "mean   1.381774e+01        1.227980e+08        0.046625          0.046948   \n",
       "std    1.716359e+02        1.292305e+11        1.062264          1.459132   \n",
       "min    0.000000e+00        0.000000e+00        0.000000          0.000000   \n",
       "25%    6.000000e-01        1.000000e-01        0.000000          0.000000   \n",
       "50%    6.900000e+00        1.900000e+00        0.000000          0.000000   \n",
       "75%    2.142857e+01        7.220000e+00        0.000000          0.022000   \n",
       "max    1.536795e+05        1.360000e+14      369.000000        300.000000   \n",
       "\n",
       "       carbohydrates_100g   sugars_100g     fiber_100g  proteins_100g  \\\n",
       "count        1.153760e+06  1.132704e+06  445640.000000   1.155552e+06   \n",
       "mean         2.850017e+01  1.386366e+01       2.940072   8.447355e+00   \n",
       "std          2.856277e+01  2.008663e+01       5.000099   1.274801e+01   \n",
       "min          0.000000e+00 -1.000000e+00     -20.000000  -5.000000e+02   \n",
       "25%          3.570000e+00  7.000000e-01       0.000000   1.200000e+00   \n",
       "50%          1.570000e+01  3.900000e+00       1.560000   5.800000e+00   \n",
       "75%          5.357000e+01  2.000000e+01       3.600000   1.200000e+01   \n",
       "max          2.916670e+03  1.350000e+03     439.000000   8.466000e+03   \n",
       "\n",
       "          salt_100g   sodium_100g  vitamin-a_100g  vitamin-c_100g  \\\n",
       "count  1.134185e+06  1.134179e+06   211762.000000   219312.000000   \n",
       "mean   2.020402e+00  8.082414e-01        0.003606        0.024592   \n",
       "std    1.410919e+02  5.643743e+01        0.507448        0.754796   \n",
       "min    0.000000e+00  0.000000e+00       -0.000340        0.000000   \n",
       "25%    6.000000e-02  2.400000e-02        0.000000        0.000000   \n",
       "50%    5.350000e-01  2.140000e-01        0.000000        0.000000   \n",
       "75%    1.353820e+00  5.415280e-01        0.000107        0.004000   \n",
       "max    1.050000e+05  4.200000e+04      126.000000      100.000000   \n",
       "\n",
       "        calcium_100g      iron_100g  \n",
       "count  268485.000000  263848.000000  \n",
       "mean        0.170965       0.006437  \n",
       "std         7.849169       0.266175  \n",
       "min         0.000000      -0.000260  \n",
       "25%         0.000000       0.000000  \n",
       "50%         0.036000       0.001000  \n",
       "75%         0.109000       0.002400  \n",
       "max      3400.000000      50.000000  "
      ]
     },
     "execution_count": 25,
     "metadata": {},
     "output_type": "execute_result"
    }
   ],
   "source": [
    "df[df.columns[15:]].describe()"
   ]
  },
  {
   "cell_type": "markdown",
   "metadata": {},
   "source": [
    "Toutes ces données représentent une masse de *quelque chose* (graisse, sucre, etc.) pour 100g du produit concerné.<br>Nous avons donc deux **règles métier** implicites pour traiter une grande partie des **outliers** de celles-ci :<br>Nous pouvons nous séparer des observations dont les valeurs sont soit **négatives**, soit **supérieures ou égales à 100**."
   ]
  },
  {
   "cell_type": "code",
   "execution_count": 26,
   "metadata": {},
   "outputs": [],
   "source": [
    "for col in df.columns[15:]:\n",
    "    df = df[(df[col].isnull()) | (df[col] >= 0)]\n",
    "    df = df[(df[col].isnull()) | (df[col] < 100)]"
   ]
  },
  {
   "cell_type": "markdown",
   "metadata": {},
   "source": [
    "On peut maintenant observer nos variables après cette premier nettoyage."
   ]
  },
  {
   "cell_type": "code",
   "execution_count": 27,
   "metadata": {},
   "outputs": [
    {
     "data": {
      "image/png": "[encoded data removed]",
      "text/plain": [
       "<Figure size 864x1872 with 14 Axes>"
      ]
     },
     "metadata": {
      "needs_background": "light"
     },
     "output_type": "display_data"
    }
   ],
   "source": [
    "plt.figure(figsize=(12,26))\n",
    "i=1\n",
    "for col in df.columns[15:]:    \n",
    "    plt.subplot(7,2,i)\n",
    "    plt.hist(df[col], bins=20)\n",
    "    plt.title(f'Histogramme variable : {col}')\n",
    "    i+=1\n",
    "plt.show()"
   ]
  },
  {
   "cell_type": "markdown",
   "metadata": {},
   "source": [
    " "
   ]
  },
  {
   "cell_type": "markdown",
   "metadata": {},
   "source": [
    "## Note sur les valeurs manquantes"
   ]
  },
  {
   "cell_type": "markdown",
   "metadata": {},
   "source": [
    "- Nous tenterons plus tard de compléter autant que possible les valeurs manquantes de la variable **nutriscore_grade** par le moyen d'un modèle.\n",
    "- Pour ce qui est des autres variables, et pour le moment, nous comptons préserver et *faire avec* les valeurs nulles. Particulièrement pour ce qui est de variables quantitatives, nous n'avons pas d'élément nous permettant de décider d'une valeur à leur attribuer, nous ne pouvont pas non plus les éliminer, car cela réduirait trop le dataset."
   ]
  },
  {
   "cell_type": "markdown",
   "metadata": {},
   "source": [
    " "
   ]
  },
  {
   "cell_type": "markdown",
   "metadata": {},
   "source": [
    "Avant de passer à la suite, nous sauvegardons notre dataset sous le nom de **df_red2.csv**."
   ]
  },
  {
   "cell_type": "code",
   "execution_count": 28,
   "metadata": {},
   "outputs": [],
   "source": [
    "df.to_csv(\"Data/df_red2.csv\", index=False)"
   ]
  },
  {
   "cell_type": "markdown",
   "metadata": {},
   "source": [
    " "
   ]
  },
  {
   "cell_type": "markdown",
   "metadata": {},
   "source": [
    "Fin de la **2ème partie**."
   ]
  }
 ],
 "metadata": {
  "kernelspec": {
   "display_name": "Python 3",
   "language": "python",
   "name": "python3"
  },
  "language_info": {
   "codemirror_mode": {
    "name": "ipython",
    "version": 3
   },
   "file_extension": ".py",
   "mimetype": "text/x-python",
   "name": "python",
   "nbconvert_exporter": "python",
   "pygments_lexer": "ipython3",
   "version": "3.7.3"
  }
 },
 "nbformat": 4,
 "nbformat_minor": 4
}
