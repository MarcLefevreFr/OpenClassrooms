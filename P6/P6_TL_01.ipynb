{
  "nbformat": 4,
  "nbformat_minor": 0,
  "metadata": {
    "colab": {
      "name": "P6_TL_01.ipynb",
      "provenance": [],
      "authorship_tag": "ABX9TyPVSg8W3gPHdAeV1udAX2Du",
      "include_colab_link": true
    },
    "kernelspec": {
      "name": "python3",
      "display_name": "Python 3"
    },
    "language_info": {
      "name": "python"
    }
  },
  "cells": [
    {
      "cell_type": "markdown",
      "metadata": {
        "id": "view-in-github",
        "colab_type": "text"
      },
      "source": [
        "<a href=\"https://colab.research.google.com/github/MarcLefevreFr/OpenClassrooms/blob/master/P6/P6_TL_01.ipynb\" target=\"_parent\"><img src=\"https://colab.research.google.com/assets/colab-badge.svg\" alt=\"Open In Colab\"/></a>"
      ]
    },
    {
      "cell_type": "markdown",
      "metadata": {
        "id": "T3f9Y6LstAU2"
      },
      "source": [
        "# **Transfert Learning_01**"
      ]
    },
    {
      "cell_type": "markdown",
      "metadata": {
        "id": "Ffb_YcyotAX6"
      },
      "source": [
        "### **Préliminaires**<br>**Import :**<br>- google drive<br>- données<br>- bibliothèques python"
      ]
    },
    {
      "cell_type": "code",
      "metadata": {
        "colab": {
          "base_uri": "https://localhost:8080/"
        },
        "id": "TeEpCc7ls-EX",
        "outputId": "6cc24ea2-e285-4264-cb94-dedafeef822d"
      },
      "source": [
        "# instal google drive\n",
        "from google.colab import drive\n",
        "\n",
        "drive.mount(\"/content/drive\")"
      ],
      "execution_count": 1,
      "outputs": [
        {
          "output_type": "stream",
          "text": [
            "Mounted at /content/drive\n"
          ],
          "name": "stdout"
        }
      ]
    },
    {
      "cell_type": "code",
      "metadata": {
        "colab": {
          "base_uri": "https://localhost:8080/"
        },
        "id": "955FL1f9s-G1",
        "outputId": "4dfecfae-aa2f-45e7-c2af-2ee7c3a45326"
      },
      "source": [
        "# récupe des zip d'images et extractions\n",
        "import shutil\n",
        "import os\n",
        "import zipfile\n",
        "from time import time\n",
        "\n",
        "start = time()\n",
        "cwd = os.getcwd()\n",
        "\n",
        "shutil.copy(os.path.join(\"drive/MyDrive/P6/Data/\", \"test.zip\"), cwd)\n",
        "shutil.copy(os.path.join(\"drive/MyDrive/P6/Data/\", \"train.zip\"), cwd)\n",
        "\n",
        "# données \"low\" = image originales mais juste les 30 première classes\n",
        "shutil.copy(os.path.join(\"drive/MyDrive/P6/Data/\", \"test_light.zip\"), cwd)\n",
        "shutil.copy(os.path.join(\"drive/MyDrive/P6/Data/\", \"train_light.zip\"), cwd)\n",
        "\n",
        "\n",
        "\n",
        "with zipfile.ZipFile(cwd + \"/test.zip\", 'r') as zip_ref :\n",
        "    zip_ref.extractall(cwd)\n",
        "\n",
        "with zipfile.ZipFile(cwd + \"/train.zip\", 'r') as zip_ref :\n",
        "    zip_ref.extractall(cwd)\n",
        "\n",
        "with zipfile.ZipFile(cwd + \"/test_light.zip\", 'r') as zip_ref :\n",
        "    zip_ref.extractall(cwd)\n",
        "\n",
        "with zipfile.ZipFile(cwd + \"/train_light.zip\", 'r') as zip_ref :\n",
        "    zip_ref.extractall(cwd)\n",
        "\n",
        "print(f\"Import & extraction des data : {time()-start:.0f} secondes.\")"
      ],
      "execution_count": 2,
      "outputs": [
        {
          "output_type": "stream",
          "text": [
            "Import & extraction des data : 84 secondes.\n"
          ],
          "name": "stdout"
        }
      ]
    },
    {
      "cell_type": "code",
      "metadata": {
        "colab": {
          "base_uri": "https://localhost:8080/"
        },
        "id": "hqmmiDrPs-Jo",
        "outputId": "b6b4d43e-e74a-4862-c3f6-74ab4574e9a7"
      },
      "source": [
        "# vérif\n",
        "import os\n",
        "# chemin des répertoires contenant les photos\n",
        "PATH_TRAIN = \"train\"\n",
        "PATH_TRAIN_l = \"train_light\"\n",
        "PATH_TEST = \"test\"\n",
        "PATH_TEST_l = \"test_light\"\n",
        "\n",
        "len(os.listdir(PATH_TRAIN)), len(os.listdir(PATH_TEST)), len(os.listdir(PATH_TRAIN_l)), len(os.listdir(PATH_TEST_l))"
      ],
      "execution_count": 3,
      "outputs": [
        {
          "output_type": "execute_result",
          "data": {
            "text/plain": [
              "(120, 120, 30, 30)"
            ]
          },
          "metadata": {
            "tags": []
          },
          "execution_count": 3
        }
      ]
    },
    {
      "cell_type": "code",
      "metadata": {
        "id": "BZgDYDmzs-Mp"
      },
      "source": [
        "# Import python\n",
        "from PIL import Image, ImageOps\n",
        "import matplotlib.pyplot as plt\n",
        "import numpy as np\n",
        "import scipy.io\n",
        "import PIL.ImageOps as ops\n",
        "import os\n",
        "import pickle\n",
        "import random as rd\n",
        "from time import time\n",
        "\n",
        "import tensorflow as tf\n",
        "\n",
        "from tensorflow.keras.models import Sequential\n",
        "from tensorflow.keras.layers import Flatten, Dense, Dropout, Activation, Conv2D, MaxPooling2D\n",
        "from tensorflow.keras.callbacks import ModelCheckpoint\n",
        "from tensorflow.keras.preprocessing import image_dataset_from_directory\n",
        "from tensorflow.keras.preprocessing.image import ImageDataGenerator\n",
        "\n",
        "from tensorflow.keras.applications.vgg16 import VGG16, preprocess_input"
      ],
      "execution_count": 4,
      "outputs": []
    },
    {
      "cell_type": "code",
      "metadata": {
        "id": "40JtFMadtee5"
      },
      "source": [
        "def modelize(model, nb_epochs, train_gen, val_gen, train_steps, val_steps, mod_name, verbose = 0):\n",
        "\n",
        "    model.compile(loss='categorical_crossentropy',\n",
        "                  optimizer='RMSprop',\n",
        "                  metrics=['accuracy'])\n",
        "\n",
        "    start = time()\n",
        "\n",
        "    history = model.fit(train_gen,\n",
        "                        steps_per_epoch = train_steps,\n",
        "                        epochs = nb_epochs,\n",
        "                        validation_data = val_gen,\n",
        "                        validation_steps = val_steps,\n",
        "                        verbose = verbose)\n",
        "    \n",
        "    model.save_weights(\"drive/MyDrive/P6/Data/models/\" + mod_name + \".h5\")\n",
        "    pickle.dump(history.history, open(\"drive/MyDrive/P6/Data/models/\" + mod_name + \"_hist.pickle\", \"wb\" ))\n",
        "\n",
        "    fig = plt.figure(figsize = (10,4))\n",
        "\n",
        "    train_acc = history.history[\"accuracy\"]\n",
        "    val_acc = history.history[\"val_accuracy\"]\n",
        "    \n",
        "    plt.plot(range(1, nb_epochs+1), train_acc, 'b', label='Train acc', color = \"red\")\n",
        "    plt.plot(range(1, nb_epochs+1), val_acc, 'b', label='Validation acc', color = \"blue\")\n",
        "    plt.title('Train & validation accuracies - ' + mod_name)\n",
        "    plt.xlabel(\"Epochs\")\n",
        "    plt.ylabel(\"Accuracy\")\n",
        "    plt.legend()\n",
        "\n",
        "    print(f\"Temps d'entrainements pour {nb_epochs} epochs : {time()-start:.0f} secondes.\")\n",
        "    print(f\"Meilleure train_acc = {np.max(train_acc):.2f}, meilleure val_acc = {np.max(val_acc):.2f}\")\n",
        "    print()\n",
        "\n",
        "    plt.show()\n",
        "\n",
        "def create_generator(batch, train_folder, size = (100, 100)):\n",
        "\n",
        "    generators = []\n",
        "\n",
        "    train_datagen = ImageDataGenerator(rescale = 1./255#, # normalisation\n",
        "                                    #rotation_range = 15,\n",
        "                                    #horizontal_flip=True,\n",
        "                                    #validation_split = 0.2\n",
        "                                    )\n",
        "\n",
        "    val_datagen = ImageDataGenerator(rescale = 1./255,\n",
        "                                    rotation_range = 10,\n",
        "                                    zoom_range = 0.1,\n",
        "                                    fill_mode = \"reflect\"\n",
        "                                    )\n",
        "\n",
        "    train_gen = train_datagen.flow_from_directory(train_folder,\n",
        "                                                target_size = size,\n",
        "                                                batch_size = batch,\n",
        "                                                class_mode = \"categorical\",\n",
        "                                                seed = SEED,\n",
        "                                                interpolation = \"nearest\"\n",
        "                                                )\n",
        "\n",
        "    val_gen = val_datagen.flow_from_directory(train_folder,\n",
        "                                            target_size = size,\n",
        "                                            batch_size = batch,\n",
        "                                            class_mode = \"categorical\",\n",
        "                                            seed = SEED,\n",
        "                                            interpolation = \"nearest\"\n",
        "                                            )\n",
        "    \n",
        "    return train_gen, val_gen\n",
        "\n",
        "\n",
        "def create_test_generators(batch, test_folder, size = (100, 100)):\n",
        "\n",
        "    # générateur d'images test, juste la normalisation\n",
        "    test_datagen = ImageDataGenerator(rescale = 1./255)\n",
        "\n",
        "    test_gen = train_datagen.flow_from_directory(test_folder,\n",
        "                                                target_size = size,\n",
        "                                                batch_size = batch,\n",
        "                                                class_mode = \"categorical\",\n",
        "                                                seed = SEED,\n",
        "                                                interpolation = \"nearest\"\n",
        "                                                )\n",
        "    \n",
        "    return test_gen\n",
        "\n",
        "    # RECUP DU DICO DES CLASSES :\n",
        "    # ---> mon_generator.class_indices"
      ],
      "execution_count": 5,
      "outputs": []
    },
    {
      "cell_type": "markdown",
      "metadata": {
        "id": "Q93mEsNXuRc8"
      },
      "source": [
        "## **Transfert**"
      ]
    },
    {
      "cell_type": "code",
      "metadata": {
        "id": "ei3-ZUSItehi"
      },
      "source": [
        "from tensorflow.keras.applications.vgg16 import VGG16, preprocess_input"
      ],
      "execution_count": 8,
      "outputs": []
    },
    {
      "cell_type": "code",
      "metadata": {
        "colab": {
          "base_uri": "https://localhost:8080/"
        },
        "id": "qWKfrKAttekV",
        "outputId": "d08e6838-0f12-4d0c-8729-9cc206bfffe1"
      },
      "source": [
        "# import vgg16 sans les couches denses\n",
        "model = VGG16(weights='imagenet', include_top=False)"
      ],
      "execution_count": 9,
      "outputs": [
        {
          "output_type": "stream",
          "text": [
            "Downloading data from https://storage.googleapis.com/tensorflow/keras-applications/vgg16/vgg16_weights_tf_dim_ordering_tf_kernels_notop.h5\n",
            "58892288/58889256 [==============================] - 1s 0us/step\n"
          ],
          "name": "stdout"
        }
      ]
    },
    {
      "cell_type": "code",
      "metadata": {
        "colab": {
          "base_uri": "https://localhost:8080/"
        },
        "id": "8Xj9wVMvtenC",
        "outputId": "4247be9b-c3d4-421c-fcac-59456ae349a1"
      },
      "source": [
        "model.summary()"
      ],
      "execution_count": 10,
      "outputs": [
        {
          "output_type": "stream",
          "text": [
            "Model: \"vgg16\"\n",
            "_________________________________________________________________\n",
            "Layer (type)                 Output Shape              Param #   \n",
            "=================================================================\n",
            "input_1 (InputLayer)         [(None, None, None, 3)]   0         \n",
            "_________________________________________________________________\n",
            "block1_conv1 (Conv2D)        (None, None, None, 64)    1792      \n",
            "_________________________________________________________________\n",
            "block1_conv2 (Conv2D)        (None, None, None, 64)    36928     \n",
            "_________________________________________________________________\n",
            "block1_pool (MaxPooling2D)   (None, None, None, 64)    0         \n",
            "_________________________________________________________________\n",
            "block2_conv1 (Conv2D)        (None, None, None, 128)   73856     \n",
            "_________________________________________________________________\n",
            "block2_conv2 (Conv2D)        (None, None, None, 128)   147584    \n",
            "_________________________________________________________________\n",
            "block2_pool (MaxPooling2D)   (None, None, None, 128)   0         \n",
            "_________________________________________________________________\n",
            "block3_conv1 (Conv2D)        (None, None, None, 256)   295168    \n",
            "_________________________________________________________________\n",
            "block3_conv2 (Conv2D)        (None, None, None, 256)   590080    \n",
            "_________________________________________________________________\n",
            "block3_conv3 (Conv2D)        (None, None, None, 256)   590080    \n",
            "_________________________________________________________________\n",
            "block3_pool (MaxPooling2D)   (None, None, None, 256)   0         \n",
            "_________________________________________________________________\n",
            "block4_conv1 (Conv2D)        (None, None, None, 512)   1180160   \n",
            "_________________________________________________________________\n",
            "block4_conv2 (Conv2D)        (None, None, None, 512)   2359808   \n",
            "_________________________________________________________________\n",
            "block4_conv3 (Conv2D)        (None, None, None, 512)   2359808   \n",
            "_________________________________________________________________\n",
            "block4_pool (MaxPooling2D)   (None, None, None, 512)   0         \n",
            "_________________________________________________________________\n",
            "block5_conv1 (Conv2D)        (None, None, None, 512)   2359808   \n",
            "_________________________________________________________________\n",
            "block5_conv2 (Conv2D)        (None, None, None, 512)   2359808   \n",
            "_________________________________________________________________\n",
            "block5_conv3 (Conv2D)        (None, None, None, 512)   2359808   \n",
            "_________________________________________________________________\n",
            "block5_pool (MaxPooling2D)   (None, None, None, 512)   0         \n",
            "=================================================================\n",
            "Total params: 14,714,688\n",
            "Trainable params: 14,714,688\n",
            "Non-trainable params: 0\n",
            "_________________________________________________________________\n"
          ],
          "name": "stdout"
        }
      ]
    },
    {
      "cell_type": "code",
      "metadata": {
        "id": "SgweZO1otepz"
      },
      "source": [
        ""
      ],
      "execution_count": null,
      "outputs": []
    },
    {
      "cell_type": "code",
      "metadata": {
        "id": "2pt9Oz5stesc"
      },
      "source": [
        ""
      ],
      "execution_count": null,
      "outputs": []
    },
    {
      "cell_type": "code",
      "metadata": {
        "id": "gP-e_LMewstm"
      },
      "source": [
        ""
      ],
      "execution_count": null,
      "outputs": []
    },
    {
      "cell_type": "code",
      "metadata": {
        "id": "q26y5pvpwswP"
      },
      "source": [
        ""
      ],
      "execution_count": null,
      "outputs": []
    },
    {
      "cell_type": "code",
      "metadata": {
        "id": "NvseNlzLwszM"
      },
      "source": [
        ""
      ],
      "execution_count": null,
      "outputs": []
    },
    {
      "cell_type": "code",
      "metadata": {
        "id": "i6K19jMBws2K"
      },
      "source": [
        ""
      ],
      "execution_count": null,
      "outputs": []
    },
    {
      "cell_type": "code",
      "metadata": {
        "id": "c9jHSXlXws5E"
      },
      "source": [
        ""
      ],
      "execution_count": null,
      "outputs": []
    },
    {
      "cell_type": "code",
      "metadata": {
        "id": "g1KsMCLGws77"
      },
      "source": [
        ""
      ],
      "execution_count": null,
      "outputs": []
    },
    {
      "cell_type": "code",
      "metadata": {
        "id": "6V3Am4kKws-h"
      },
      "source": [
        ""
      ],
      "execution_count": null,
      "outputs": []
    },
    {
      "cell_type": "code",
      "metadata": {
        "id": "i1HRNmvwwtBJ"
      },
      "source": [
        ""
      ],
      "execution_count": null,
      "outputs": []
    },
    {
      "cell_type": "code",
      "metadata": {
        "id": "ExaJhaY-wtD-"
      },
      "source": [
        ""
      ],
      "execution_count": null,
      "outputs": []
    },
    {
      "cell_type": "code",
      "metadata": {
        "id": "1zTvzK4QtevE"
      },
      "source": [
        ""
      ],
      "execution_count": null,
      "outputs": []
    },
    {
      "cell_type": "code",
      "metadata": {
        "id": "qJRTAQs2texW"
      },
      "source": [
        ""
      ],
      "execution_count": null,
      "outputs": []
    }
  ]
}