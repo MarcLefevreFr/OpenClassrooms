{
 "cells": [
  {
   "cell_type": "markdown",
   "metadata": {},
   "source": [
    "Formation OpenClassrooms DS-IML"
   ]
  },
  {
   "cell_type": "markdown",
   "metadata": {},
   "source": [
    "**Projet 2**"
   ]
  },
  {
   "cell_type": "markdown",
   "metadata": {},
   "source": [
    "Par **Marc Lefèvre**, <marc.lefevre@noos.fr>"
   ]
  },
  {
   "cell_type": "markdown",
   "metadata": {},
   "source": [
    "## 4ème Partie"
   ]
  },
  {
   "cell_type": "markdown",
   "metadata": {},
   "source": [
    "# Modèle"
   ]
  },
  {
   "cell_type": "markdown",
   "metadata": {},
   "source": [
    " "
   ]
  },
  {
   "cell_type": "code",
   "execution_count": 2,
   "metadata": {},
   "outputs": [],
   "source": [
    "import pandas as pd\n",
    "import numpy as np\n",
    "import matplotlib.pyplot as plt\n",
    "import seaborn as sns\n",
    "import random\n",
    "import pickle\n",
    "import re\n",
    "\n",
    "from sklearn.model_selection import train_test_split\n",
    "from sklearn.ensemble import RandomForestClassifier\n",
    "from sklearn.metrics import accuracy_score\n",
    "from sklearn.metrics import f1_score\n",
    "from sklearn.metrics import plot_confusion_matrix"
   ]
  },
  {
   "cell_type": "markdown",
   "metadata": {},
   "source": [
    "Définissons deux classes, **Produit** et **Repartiteur**, qui vont nous servir à construire des échantillons d'entrainement équilibrés en terme de **labels**."
   ]
  },
  {
   "cell_type": "code",
   "execution_count": 2,
   "metadata": {},
   "outputs": [],
   "source": [
    "SEUILS = [15810, 13220, 21010, 31000, 18960]\n",
    "\n",
    "\n",
    "class Produit() :\n",
    "    \n",
    "    def __init__(self, feats_array, rating):\n",
    "        self.feats_array = feats_array\n",
    "        self.rating = rating\n",
    "\n",
    "# Classe servant à créer des échantillons dont les classes seront également fournies.\n",
    "# Le paramètre \"limite\" peut servir à fixer le nombre de samples par classe.\n",
    "# \"seuil\" peut servir à avoir une distribution de classes précise dans l'échantillon de test.\n",
    "\n",
    "class Repartiteur() :\n",
    "    \n",
    "    def __init__(self, liste_produits, limite=None, seuils=None):\n",
    "        self.liste_produits = liste_produits\n",
    "        self.limite = limite\n",
    "        self.seuils = seuils\n",
    "        \n",
    "    def repartition(self) :\n",
    "        \n",
    "        liste_a = []\n",
    "        liste_b = []\n",
    "        liste_c = []\n",
    "        liste_d = []\n",
    "        liste_e = []\n",
    "        \n",
    "        for p in self.liste_produits :\n",
    "            if p.rating == \"a\" :\n",
    "                liste_a.append(p)\n",
    "            if p.rating == \"b\" :\n",
    "                liste_b.append(p)\n",
    "            if p.rating == \"c\" :\n",
    "                liste_c.append(p)\n",
    "            if p.rating == \"d\" :\n",
    "                liste_d.append(p)\n",
    "            if p.rating == \"e\" :\n",
    "                liste_e.append(p)\n",
    "        \n",
    "        if self.limite == None :\n",
    "            seuil = min(len(liste_a), len(liste_b), len(liste_c), len(liste_d), len(liste_e),)\n",
    "        else :\n",
    "            seuil = self.limite\n",
    "        \n",
    "        liste_a = liste_a[:seuil]\n",
    "        liste_b = liste_b[:seuil]\n",
    "        liste_c = liste_c[:seuil]\n",
    "        liste_d = liste_d[:seuil]\n",
    "        liste_e = liste_e[:seuil]\n",
    "        \n",
    "        self.liste_produits = liste_a + liste_b + liste_c + liste_d + liste_e\n",
    "        random.shuffle(self.liste_produits)\n",
    "        \n",
    "    def repartition_test(self) :\n",
    "        \n",
    "        liste_a = []\n",
    "        liste_b = []\n",
    "        liste_c = []\n",
    "        liste_d = []\n",
    "        liste_e = []\n",
    "        \n",
    "        for p in self.liste_produits :\n",
    "            if p.rating == \"a\" :\n",
    "                liste_a.append(p)\n",
    "            if p.rating == \"b\" :\n",
    "                liste_b.append(p)\n",
    "            if p.rating == \"c\" :\n",
    "                liste_c.append(p)\n",
    "            if p.rating == \"d\" :\n",
    "                liste_d.append(p)\n",
    "            if p.rating == \"e\" :\n",
    "                liste_e.append(p)\n",
    "        \n",
    "        liste_a = liste_a[:self.seuils[0]]\n",
    "        liste_b = liste_b[:self.seuils[1]]\n",
    "        liste_c = liste_c[:self.seuils[2]]\n",
    "        liste_d = liste_d[:self.seuils[3]]\n",
    "        liste_e = liste_e[:self.seuils[4]]\n",
    "        \n",
    "        self.liste_produits = liste_a + liste_b + liste_c + liste_d + liste_e\n",
    "        random.shuffle(self.liste_produits)        \n",
    "        \n",
    "        \n",
    "        \n",
    "    def get_feats_array(self):\n",
    "        \n",
    "        return [p.feats_array for p in self.liste_produits]\n",
    "\n",
    "    def get_rating(self):\n",
    "        \n",
    "        return [p.rating for p in self.liste_produits]"
   ]
  },
  {
   "cell_type": "markdown",
   "metadata": {},
   "source": [
    "Récupération des données"
   ]
  },
  {
   "cell_type": "code",
   "execution_count": 3,
   "metadata": {},
   "outputs": [
    {
     "data": {
      "text/plain": [
       "(1429501, 28)"
      ]
     },
     "execution_count": 3,
     "metadata": {},
     "output_type": "execute_result"
    }
   ],
   "source": [
    "df = pd.read_csv(\"Data/df_mod.csv\")\n",
    "df.shape"
   ]
  },
  {
   "cell_type": "markdown",
   "metadata": {},
   "source": [
    "On ne garde dans notre dataframe que les données **bien renseignées** avec lesquelles nous allons travailler."
   ]
  },
  {
   "cell_type": "code",
   "execution_count": 4,
   "metadata": {},
   "outputs": [
    {
     "data": {
      "text/plain": [
       "(540620, 9)"
      ]
     },
     "execution_count": 4,
     "metadata": {},
     "output_type": "execute_result"
    }
   ],
   "source": [
    "liste_drop = ['code', 'url', 'countries_en', 'product_name', 'brands', 'allergens', 'additives_en', \n",
    "              'nova_group', 'nutriscore_score', 'trans-fat_100g', 'cholesterol_100g', \n",
    "              'vitamin-a_100g', 'vitamin-c_100g', 'calcium_100g', 'iron_100g', \n",
    "              'ingredients_from_palm_oil_n', 'ingredients_that_may_be_from_palm_oil_n', \"fiber_100g\", \n",
    "              \"additives_n\"]\n",
    "\n",
    "df = df.drop(liste_drop, axis = 1)\n",
    "df = df.dropna(axis = 0)\n",
    "df.shape"
   ]
  },
  {
   "cell_type": "code",
   "execution_count": 5,
   "metadata": {},
   "outputs": [
    {
     "data": {
      "text/plain": [
       "<matplotlib.axes._subplots.AxesSubplot at 0x39f00710>"
      ]
     },
     "execution_count": 5,
     "metadata": {},
     "output_type": "execute_result"
    },
    {
     "data": {
      "image/png": "[encoded data removed]",
      "text/plain": [
       "<Figure size 432x288 with 1 Axes>"
      ]
     },
     "metadata": {
      "needs_background": "light"
     },
     "output_type": "display_data"
    }
   ],
   "source": [
    "df.notnull().mean().plot.barh()"
   ]
  },
  {
   "cell_type": "markdown",
   "metadata": {},
   "source": [
    "Liste des variables choisies pour notre modèle :"
   ]
  },
  {
   "cell_type": "code",
   "execution_count": 9,
   "metadata": {},
   "outputs": [],
   "source": [
    "feats = [\"energy_100g\", \"fat_100g\", \"saturated-fat_100g\", \"TSu\", 'proteins_100g', \"salt_100g\" , \n",
    "         \"sugars_100g\"]"
   ]
  },
  {
   "cell_type": "code",
   "execution_count": 6,
   "metadata": {},
   "outputs": [],
   "source": [
    "df.to_csv(\"Data/data.csv\", index = False)"
   ]
  },
  {
   "cell_type": "markdown",
   "metadata": {},
   "source": [
    "## Préparation des données"
   ]
  },
  {
   "cell_type": "code",
   "execution_count": 7,
   "metadata": {},
   "outputs": [],
   "source": [
    "data = pd.read_csv(\"Data/data.csv\")"
   ]
  },
  {
   "cell_type": "code",
   "execution_count": 10,
   "metadata": {},
   "outputs": [],
   "source": [
    "# itération dans la DF pour créer notre liste de produits\n",
    "\n",
    "produits = []\n",
    "\n",
    "for i in data.index :\n",
    "    \n",
    "    features = []\n",
    "    \n",
    "    for feat in feats :\n",
    "        features.append(data[feat][i])\n",
    "    \n",
    "    prod = Produit(features, data[\"nutriscore_grade\"][i])\n",
    "    produits.append(prod)\n",
    "    \n",
    "# Echantillonage train / test\n",
    "\n",
    "train, test = train_test_split(produits, test_size = 0.2, random_state = 32)\n",
    "\n",
    "# echantillonage features / labels\n",
    "\n",
    "rep1 = Repartiteur(train)\n",
    "rep1.repartition()\n",
    "\n",
    "train_X = rep1.get_feats_array()\n",
    "train_y = rep1.get_rating()\n",
    "\n",
    "rep2 = Repartiteur(test)\n",
    "#rep2.repartition()\n",
    "\n",
    "test_X = rep2.get_feats_array()\n",
    "test_y = rep2.get_rating()"
   ]
  },
  {
   "cell_type": "code",
   "execution_count": 11,
   "metadata": {},
   "outputs": [
    {
     "name": "stdout",
     "output_type": "stream",
     "text": [
      "432496\n",
      "108124\n",
      "270300\n",
      "270300\n",
      "108124\n",
      "108124\n"
     ]
    }
   ],
   "source": [
    "print(len(train))\n",
    "print(len(test))\n",
    "print(len(train_X))\n",
    "print(len(train_y))\n",
    "print(len(test_X))\n",
    "print(len(test_y))"
   ]
  },
  {
   "cell_type": "markdown",
   "metadata": {},
   "source": [
    "# Modèles"
   ]
  },
  {
   "cell_type": "markdown",
   "metadata": {},
   "source": [
    "Résultats avec échantillon de test uniforme en terme de classes"
   ]
  },
  {
   "cell_type": "markdown",
   "metadata": {},
   "source": [
    "### **Random Forest Classifier**"
   ]
  },
  {
   "cell_type": "code",
   "execution_count": 13,
   "metadata": {
    "collapsed": true,
    "jupyter": {
     "outputs_hidden": true
    }
   },
   "outputs": [
    {
     "name": "stdout",
     "output_type": "stream",
     "text": [
      "Pour critère = gini et n_esti = 10, l'accuracy est : 0.848294550701047\n",
      "Le F1_Score est : [0.86693999 0.7494943  0.79257035 0.88153085 0.90568401]\n",
      "\n",
      "Pour critère = gini et n_esti = 20, l'accuracy est : 0.8485720099145425\n",
      "Le F1_Score est : [0.86615706 0.7518936  0.79356592 0.88152124 0.9048304 ]\n",
      "\n",
      "Pour critère = gini et n_esti = 30, l'accuracy est : 0.8487199881617402\n",
      "Le F1_Score est : [0.86578797 0.75292611 0.79372846 0.88162577 0.9050007 ]\n",
      "\n",
      "Pour critère = gini et n_esti = 40, l'accuracy est : 0.848858717768488\n",
      "Le F1_Score est : [0.86626689 0.75307676 0.79398302 0.88175904 0.90480941]\n",
      "\n",
      "Pour critère = gini et n_esti = 50, l'accuracy est : 0.8479800969257519\n",
      "Le F1_Score est : [0.86528854 0.75094862 0.79298683 0.88152342 0.90409688]\n",
      "\n",
      "Pour critère = gini et n_esti = 60, l'accuracy est : 0.8485627612740927\n",
      "Le F1_Score est : [0.86576065 0.75128779 0.79411961 0.88174551 0.90481606]\n",
      "\n",
      "Pour critère = gini et n_esti = 70, l'accuracy est : 0.8487754800044394\n",
      "Le F1_Score est : [0.86630678 0.75308072 0.79398884 0.88134917 0.90504245]\n",
      "\n",
      "Pour critère = gini et n_esti = 80, l'accuracy est : 0.8492471606673819\n",
      "Le F1_Score est : [0.86468666 0.75339254 0.79576776 0.88248841 0.90495197]\n",
      "\n",
      "Pour critère = gini et n_esti = 90, l'accuracy est : 0.8494136361954793\n",
      "Le F1_Score est : [0.86690379 0.75349266 0.79476566 0.88232587 0.90527049]\n",
      "\n",
      "Pour critère = gini et n_esti = 100, l'accuracy est : 0.848858717768488\n",
      "Le F1_Score est : [0.8659522  0.75171409 0.79443765 0.88173462 0.90552113]\n",
      "\n",
      "Pour critère = gini et n_esti = 110, l'accuracy est : 0.8483777884650956\n",
      "Le F1_Score est : [0.86531408 0.75195563 0.79342921 0.88154481 0.90481273]\n",
      "\n",
      "Pour critère = gini et n_esti = 120, l'accuracy est : 0.8483962857459953\n",
      "Le F1_Score est : [0.86580012 0.75003551 0.79352155 0.88199653 0.90501497]\n",
      "\n",
      "Pour critère = gini et n_esti = 130, l'accuracy est : 0.8482113129369983\n",
      "Le F1_Score est : [0.86537523 0.7506129  0.79381948 0.88202015 0.90372779]\n",
      "\n",
      "Pour critère = gini et n_esti = 140, l'accuracy est : 0.8482760534201472\n",
      "Le F1_Score est : [0.86490977 0.75077361 0.79474234 0.88109228 0.90465467]\n",
      "\n",
      "Pour critère = gini et n_esti = 150, l'accuracy est : 0.849052939217935\n",
      "Le F1_Score est : [0.86601073 0.75244994 0.79522571 0.88187454 0.90507152]\n",
      "\n",
      "Pour critère = entropy et n_esti = 10, l'accuracy est : 0.8500240464651696\n",
      "Le F1_Score est : [0.86712525 0.75361906 0.79552644 0.88311848 0.90570501]\n",
      "\n",
      "Pour critère = entropy et n_esti = 20, l'accuracy est : 0.849052939217935\n",
      "Le F1_Score est : [0.86680797 0.7520717  0.79489862 0.88163992 0.90509324]\n",
      "\n",
      "Pour critère = entropy et n_esti = 30, l'accuracy est : 0.8494876253190781\n",
      "Le F1_Score est : [0.8666877  0.75384124 0.79494088 0.88231774 0.90528318]\n",
      "\n",
      "Pour critère = entropy et n_esti = 40, l'accuracy est : 0.849496873959528\n",
      "Le F1_Score est : [0.86723585 0.75453317 0.79433572 0.88175111 0.90578029]\n",
      "\n",
      "Pour critère = entropy et n_esti = 50, l'accuracy est : 0.849182420184233\n",
      "Le F1_Score est : [0.86615482 0.75269429 0.7943657  0.88256326 0.90503467]\n",
      "\n",
      "Pour critère = entropy et n_esti = 60, l'accuracy est : 0.849108431060634\n",
      "Le F1_Score est : [0.86684043 0.75298138 0.79383781 0.88168941 0.90582585]\n",
      "\n",
      "Pour critère = entropy et n_esti = 70, l'accuracy est : 0.84873848544264\n",
      "Le F1_Score est : [0.86574353 0.75286416 0.79410064 0.88151455 0.90488337]\n",
      "\n",
      "Pour critère = entropy et n_esti = 80, l'accuracy est : 0.8493119011505309\n",
      "Le F1_Score est : [0.86611419 0.75325692 0.79608287 0.88181092 0.90480386]\n",
      "\n",
      "Pour critère = entropy et n_esti = 90, l'accuracy est : 0.8492841552291813\n",
      "Le F1_Score est : [0.86619819 0.75215739 0.79528207 0.8823394  0.90535839]\n",
      "\n",
      "Pour critère = entropy et n_esti = 100, l'accuracy est : 0.8490714364988347\n",
      "Le F1_Score est : [0.8666724  0.75322094 0.79415753 0.88200988 0.90505051]\n",
      "\n",
      "Pour critère = entropy et n_esti = 110, l'accuracy est : 0.8495061225999778\n",
      "Le F1_Score est : [0.86688833 0.753721   0.79415103 0.88232407 0.90608607]\n",
      "\n",
      "Pour critère = entropy et n_esti = 120, l'accuracy est : 0.8494598793977285\n",
      "Le F1_Score est : [0.86643737 0.75259669 0.79460724 0.88278231 0.90585667]\n",
      "\n",
      "Pour critère = entropy et n_esti = 130, l'accuracy est : 0.8499778032629204\n",
      "Le F1_Score est : [0.86761338 0.75519145 0.79637003 0.88203066 0.90485797]\n",
      "\n",
      "Pour critère = entropy et n_esti = 140, l'accuracy est : 0.8485720099145425\n",
      "Le F1_Score est : [0.86630126 0.75266146 0.79325533 0.88097176 0.90562714]\n",
      "\n",
      "Pour critère = entropy et n_esti = 150, l'accuracy est : 0.8495708630831268\n",
      "Le F1_Score est : [0.86666858 0.75493439 0.79510131 0.88218254 0.90484915]\n",
      "\n"
     ]
    }
   ],
   "source": [
    "results_rfc = []\n",
    "methodes = [\"gini\", \"entropy\"]\n",
    "esti = [10, 20, 30, 40, 50, 60, 70, 80, 90, 100, 110, 120, 130, 140, 150]\n",
    "\n",
    "for met in methodes :\n",
    "    for n in esti :\n",
    "        rfc = RandomForestClassifier(criterion = met, n_estimators = 100)\n",
    "        rfc.fit(train_X, train_y)\n",
    "        pred_rfc = rfc.predict(test_X)\n",
    "        print(f\"Pour critère = {met} et n_esti = {n},\\\n",
    "              l'accuracy est : {accuracy_score(test_y, pred_rfc)}\")\n",
    "        f1 = f1_score(test_y, pred_rfc, average = None, labels=[\"a\", \"b\", \"c\", \"d\", \"e\"])\n",
    "        print(f\"Le F1_Score est : {f1}\")\n",
    "        print()\n",
    "        results_rfc.append((met, n, float(accuracy_score(test_y, pred_rfc))))"
   ]
  },
  {
   "cell_type": "code",
   "execution_count": 14,
   "metadata": {},
   "outputs": [],
   "source": [
    "resa = np.array(results_rfc)\n",
    "res_rfc = pd.DataFrame(resa, columns=[\"type\", \"n\", \"acc\"])\n",
    "\n",
    "def to_int(v):\n",
    "    v = int(v)\n",
    "    return v\n",
    "\n",
    "def to_float(v):\n",
    "    v = float(v)\n",
    "    return v\n",
    "\n",
    "res_rfc.n = res_rfc.n.map(to_int)\n",
    "res_rfc.acc = res_rfc.acc.map(to_float)"
   ]
  },
  {
   "cell_type": "code",
   "execution_count": 15,
   "metadata": {},
   "outputs": [
    {
     "data": {
      "image/png": "[encoded data removed]",
      "text/plain": [
       "<Figure size 432x288 with 1 Axes>"
      ]
     },
     "metadata": {
      "needs_background": "light"
     },
     "output_type": "display_data"
    },
    {
     "name": "stdout",
     "output_type": "stream",
     "text": [
      "La meilleure performance et ses paramètres correspondants sont :\n"
     ]
    },
    {
     "data": {
      "text/html": [
       "<div>\n",
       "<style scoped>\n",
       "    .dataframe tbody tr th:only-of-type {\n",
       "        vertical-align: middle;\n",
       "    }\n",
       "\n",
       "    .dataframe tbody tr th {\n",
       "        vertical-align: top;\n",
       "    }\n",
       "\n",
       "    .dataframe thead th {\n",
       "        text-align: right;\n",
       "    }\n",
       "</style>\n",
       "<table border=\"1\" class=\"dataframe\">\n",
       "  <thead>\n",
       "    <tr style=\"text-align: right;\">\n",
       "      <th></th>\n",
       "      <th>type</th>\n",
       "      <th>n</th>\n",
       "      <th>acc</th>\n",
       "    </tr>\n",
       "  </thead>\n",
       "  <tbody>\n",
       "    <tr>\n",
       "      <th>15</th>\n",
       "      <td>entropy</td>\n",
       "      <td>10</td>\n",
       "      <td>0.850024</td>\n",
       "    </tr>\n",
       "  </tbody>\n",
       "</table>\n",
       "</div>"
      ],
      "text/plain": [
       "       type   n       acc\n",
       "15  entropy  10  0.850024"
      ]
     },
     "execution_count": 15,
     "metadata": {},
     "output_type": "execute_result"
    }
   ],
   "source": [
    "plt.figure()\n",
    "plt.plot(res_rfc[res_rfc.type==\"gini\"][\"n\"],res_rfc[res_rfc.type==\"gini\"][\"acc\"], label = \"gini\")\n",
    "plt.plot(res_rfc[res_rfc.type==\"entropy\"][\"n\"],res_rfc[res_rfc.type==\"entropy\"][\"acc\"], \n",
    "         label = \"entropy\")\n",
    "plt.legend()\n",
    "plt.show()\n",
    "print(\"La meilleure performance et ses paramètres correspondants sont :\")\n",
    "res_rfc.sort_values(\"acc\", ascending = False).head(1)"
   ]
  },
  {
   "cell_type": "markdown",
   "metadata": {},
   "source": [
    "### Matrice de confusion du modèle"
   ]
  },
  {
   "cell_type": "code",
   "execution_count": 60,
   "metadata": {},
   "outputs": [
    {
     "data": {
      "image/png": "[encoded data removed]",
      "text/plain": [
       "<Figure size 432x288 with 2 Axes>"
      ]
     },
     "metadata": {
      "needs_background": "light"
     },
     "output_type": "display_data"
    }
   ],
   "source": [
    "classes = sorted((set(test_y)))\n",
    "\n",
    "conf_matrix = plot_confusion_matrix(model_rfc, test_X, test_y, display_labels = classes, \n",
    "                                    cmap=plt.cm.Blues, normalize = \"true\")"
   ]
  },
  {
   "cell_type": "markdown",
   "metadata": {},
   "source": [
    "### Sauvegarde du modèle"
   ]
  },
  {
   "cell_type": "code",
   "execution_count": 62,
   "metadata": {},
   "outputs": [],
   "source": [
    "model_rfc = RandomForestClassifier(criterion = \"entropy\", n_estimators = 130)\n",
    "model_rfc.fit(train_X, train_y)\n",
    "\n",
    "pickle_out = open(\"Data/model_rfc.pickle\", \"wb\")\n",
    "pickle.dump(model_rfc, pickle_out)\n",
    "pickle_out.close()"
   ]
  },
  {
   "cell_type": "markdown",
   "metadata": {},
   "source": [
    " "
   ]
  },
  {
   "cell_type": "markdown",
   "metadata": {},
   "source": [
    "# Mise à jour du dataset"
   ]
  },
  {
   "cell_type": "markdown",
   "metadata": {},
   "source": [
    "Récupération des données et du modèle"
   ]
  },
  {
   "cell_type": "code",
   "execution_count": 6,
   "metadata": {},
   "outputs": [],
   "source": [
    "df = pd.read_csv(\"Data/df_mod.csv\")\n",
    "modele = pickle.load(open(\"Data/model_rfc.pickle\", \"rb\"))"
   ]
  },
  {
   "cell_type": "markdown",
   "metadata": {},
   "source": [
    "Prédictions et MAJ du dataset"
   ]
  },
  {
   "cell_type": "code",
   "execution_count": 7,
   "metadata": {},
   "outputs": [],
   "source": [
    "feats = [\"energy_100g\", \"fat_100g\", \"saturated-fat_100g\", \"TSu\", 'proteins_100g', \"salt_100g\" , \n",
    "         \"sugars_100g\"]\n",
    "\n",
    "# soit df_ac la partie de df ou le nutriscore_grade est nul\n",
    "df_ac = df[df.nutriscore_grade.isnull()]\n",
    "\n",
    "# réduction du dataset telle que les \"feats\" soient renseignés\n",
    "for col in feats :\n",
    "    df_ac = df_ac[df_ac[col].notnull()]\n",
    "\n",
    "# définition de X\n",
    "X = df_ac[feats]\n",
    "\n",
    "# prédictions\n",
    "df_ac[\"nutriscore_grade\"] = modele.predict(X)\n",
    "\n",
    "# on complète le dataset original avec les valeurs prédites\n",
    "df.loc[df[\"nutriscore_grade\"].isnull(), \"nutriscore_grade\"] = df_ac.nutriscore_grade"
   ]
  },
  {
   "cell_type": "markdown",
   "metadata": {},
   "source": [
    " "
   ]
  },
  {
   "cell_type": "markdown",
   "metadata": {},
   "source": [
    "Maintenant que nous avons complété ce que l'on souhaitait, il est temps d'appliquer **certaines restrictions** qu'on peut souhaiter avant de passer à la phase \"moteur de recommandation\"."
   ]
  },
  {
   "cell_type": "markdown",
   "metadata": {},
   "source": [
    "## Restriction du dataset à la sphère francophone"
   ]
  },
  {
   "cell_type": "markdown",
   "metadata": {},
   "source": [
    "Avant de passer à la suite, nous allons réduire le dataset aux produits de la sphère francophone."
   ]
  },
  {
   "cell_type": "code",
   "execution_count": 8,
   "metadata": {},
   "outputs": [],
   "source": [
    "liste_fr = [\"France\", \"French\", \"french\", \"france\", \"français\", \"Français\", \"française\", \"Française\", \n",
    "            \"FR\", \"fr\", \"Fr\", \"Belgique\", \"belgique\", \"belgium\", \"Belgium\", \"belge\", \"Suisse\", \n",
    "            \"suisse\", \"Frankreich\", \"frankreich\", \"francais\", \"francaise\", \"Francia\", \"francia\"]\n",
    "\n",
    "# les valeurs \"countries_en\" avec une expression de la liste seront classées \"francophone\"\n",
    "def mapping_fr(value):\n",
    "    \n",
    "    for val in re.findall(r\"[\\w']+\", str(value)): # utilisation d'une RE   \n",
    "        if val in liste_fr :\n",
    "            return \"francophone\"\n",
    "    \n",
    "    return value"
   ]
  },
  {
   "cell_type": "markdown",
   "metadata": {},
   "source": [
    "Réduction du dataset à la sphère francophone"
   ]
  },
  {
   "cell_type": "code",
   "execution_count": 10,
   "metadata": {},
   "outputs": [],
   "source": [
    "df[\"countries_en\"] = df[\"countries_en\"].map(mapping_fr)\n",
    "df = df[df[\"countries_en\"] == \"francophone\"]\n",
    "df = df.drop([\"countries_en\"], axis=1)"
   ]
  },
  {
   "cell_type": "code",
   "execution_count": 11,
   "metadata": {
    "collapsed": true,
    "jupyter": {
     "outputs_hidden": true
    }
   },
   "outputs": [
    {
     "name": "stdout",
     "output_type": "stream",
     "text": [
      "<class 'pandas.core.frame.DataFrame'>\n",
      "Int64Index: 743271 entries, 0 to 1429500\n",
      "Data columns (total 27 columns):\n",
      "code                                       743271 non-null object\n",
      "url                                        743271 non-null object\n",
      "product_name                               723409 non-null object\n",
      "brands                                     403917 non-null object\n",
      "allergens                                  81501 non-null object\n",
      "nova_group                                 191157 non-null float64\n",
      "additives_en                               123239 non-null object\n",
      "nutriscore_score                           247410 non-null float64\n",
      "nutriscore_grade                           541853 non-null object\n",
      "additives_n                                231382 non-null float64\n",
      "ingredients_from_palm_oil_n                231382 non-null float64\n",
      "ingredients_that_may_be_from_palm_oil_n    231382 non-null float64\n",
      "energy_100g                                587584 non-null float64\n",
      "saturated-fat_100g                         583245 non-null float64\n",
      "trans-fat_100g                             3599 non-null float64\n",
      "fat_100g                                   581490 non-null float64\n",
      "cholesterol_100g                           3570 non-null float64\n",
      "carbohydrates_100g                         581286 non-null float64\n",
      "TSu                                        541489 non-null float64\n",
      "sugars_100g                                582220 non-null float64\n",
      "fiber_100g                                 134176 non-null float64\n",
      "proteins_100g                              583677 non-null float64\n",
      "salt_100g                                  572493 non-null float64\n",
      "vitamin-a_100g                             3347 non-null float64\n",
      "vitamin-c_100g                             4738 non-null float64\n",
      "calcium_100g                               8181 non-null float64\n",
      "iron_100g                                  5193 non-null float64\n",
      "dtypes: float64(20), object(7)\n",
      "memory usage: 158.8+ MB\n"
     ]
    }
   ],
   "source": [
    "df.info()"
   ]
  },
  {
   "cell_type": "markdown",
   "metadata": {},
   "source": [
    " "
   ]
  },
  {
   "cell_type": "markdown",
   "metadata": {},
   "source": [
    "Sauvegarde du dataset aux \"nutriscore_grade\" complétés et réduit à la sphère francophone."
   ]
  },
  {
   "cell_type": "code",
   "execution_count": 12,
   "metadata": {},
   "outputs": [],
   "source": [
    "# sauvegarde sous le nom \"df_mot\"\n",
    "df.to_csv(\"Data/df_mot.csv\", index = False)"
   ]
  },
  {
   "cell_type": "markdown",
   "metadata": {},
   "source": [
    " "
   ]
  },
  {
   "cell_type": "markdown",
   "metadata": {},
   "source": [
    "Fin de la **4ème partie**."
   ]
  }
 ],
 "metadata": {
  "kernelspec": {
   "display_name": "Python 3",
   "language": "python",
   "name": "python3"
  },
  "language_info": {
   "codemirror_mode": {
    "name": "ipython",
    "version": 3
   },
   "file_extension": ".py",
   "mimetype": "text/x-python",
   "name": "python",
   "nbconvert_exporter": "python",
   "pygments_lexer": "ipython3",
   "version": "3.7.3"
  }
 },
 "nbformat": 4,
 "nbformat_minor": 4
}
