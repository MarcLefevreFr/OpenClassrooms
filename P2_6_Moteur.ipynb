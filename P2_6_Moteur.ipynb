{
 "cells": [
  {
   "cell_type": "markdown",
   "metadata": {},
   "source": [
    "Formation OpenClassrooms DS-IML"
   ]
  },
  {
   "cell_type": "markdown",
   "metadata": {},
   "source": [
    "**Projet 2**"
   ]
  },
  {
   "cell_type": "markdown",
   "metadata": {},
   "source": [
    "Par **Marc Lefèvre**, <marc.lefevre@noos.fr>"
   ]
  },
  {
   "cell_type": "markdown",
   "metadata": {},
   "source": [
    "## 6ème Partie"
   ]
  },
  {
   "cell_type": "markdown",
   "metadata": {},
   "source": [
    "# Moteur de Recommandation"
   ]
  },
  {
   "cell_type": "markdown",
   "metadata": {},
   "source": [
    " "
   ]
  },
  {
   "cell_type": "code",
   "execution_count": 1,
   "metadata": {},
   "outputs": [],
   "source": [
    "import pandas as pd\n",
    "import numpy as np\n",
    "import pickle\n",
    "\n",
    "from sklearn.metrics.pairwise import cosine_similarity\n",
    "\n",
    "from nltk.corpus import stopwords\n",
    "from nltk.stem.snowball import FrenchStemmer"
   ]
  },
  {
   "cell_type": "markdown",
   "metadata": {},
   "source": [
    " "
   ]
  },
  {
   "cell_type": "markdown",
   "metadata": {},
   "source": [
    "Récupération des données et outils divers"
   ]
  },
  {
   "cell_type": "code",
   "execution_count": 2,
   "metadata": {},
   "outputs": [],
   "source": [
    "df = pd.read_csv(\"Data/df.csv\")\n",
    "vect = pickle.load(open(\"Data/vect.pickle\", \"rb\"))\n",
    "matrix = pickle.load(open(\"Data/matrix.pickle\", \"rb\"))\n",
    "tokenizer = pickle.load(open(\"Data/tokenizer.pickle\", \"rb\"))\n",
    "\n",
    "sw = stopwords.words(\"french\")\n",
    "\n",
    "stemmer = FrenchStemmer()\n",
    "\n",
    "def sw_stem_str(l):\n",
    "    \n",
    "    for elt in l:\n",
    "        if elt in sw :\n",
    "            l.remove(elt)\n",
    "\n",
    "    li = [stemmer.stem(w) for w in l]\n",
    "        \n",
    "    ligne = \" \".join(li)\n",
    "    return ligne"
   ]
  },
  {
   "cell_type": "markdown",
   "metadata": {},
   "source": [
    "**Fonctionnement du moteur** :<br>Dans un premier temps, la requête utilisateur, une fois saisie, sera traitée de la même manière que les données de notre colonne **tokens** (mise en caractères minuscules, tokenisation, stop words, stemming...)."
   ]
  },
  {
   "cell_type": "markdown",
   "metadata": {},
   "source": [
    "### Saisie et traitement du texte d'une requête"
   ]
  },
  {
   "cell_type": "code",
   "execution_count": 3,
   "metadata": {},
   "outputs": [
    {
     "name": "stdin",
     "output_type": "stream",
     "text": [
      "entrez votre recherche : Coke Light\n"
     ]
    },
    {
     "name": "stdout",
     "output_type": "stream",
     "text": [
      "Texte de la requête traité : cok light\n"
     ]
    }
   ],
   "source": [
    "input_text = input(\"Entrez votre recherche :\")\n",
    "entry = sw_stem_str(tokenizer.tokenize(input_text.lower()))\n",
    "print(f\"Texte de la requête traité : {entry}\")"
   ]
  },
  {
   "cell_type": "markdown",
   "metadata": {},
   "source": [
    "La requête est ensuite vectorisée par le même vectorisateur que précédemment :"
   ]
  },
  {
   "cell_type": "code",
   "execution_count": 4,
   "metadata": {},
   "outputs": [],
   "source": [
    "entry_v = vect.transform([entry])"
   ]
  },
  {
   "cell_type": "markdown",
   "metadata": {},
   "source": [
    "On crée maintenant une nouvelle colonne **score** au dataset. Cette colonne contient le score de **similarité cosinusoidale** entre la requête et chaque ligne de notre matrice (dont chaque ligne est la donnée texte **tokens** vectorisée).<br>Ainsi, pour chaque produit du dataset, on se retrouve avec son **score de pertinence sémantique** avec la requête utilisateur.<br><br>**Rappel** : La méthode **cosine_similarity** de **sklearn.metrics.pairwise** calcule la similarité cosinusoidale entre deux vecteurs. Dans notre cas, c'est une manière efficace de mesurer la proximité sémantique entre deux textes.<br>Ce score se situe entre **0** et **1**, plus il est proche de **1** plus la similarité est grande."
   ]
  },
  {
   "cell_type": "code",
   "execution_count": 5,
   "metadata": {},
   "outputs": [],
   "source": [
    "df[\"score\"] = cosine_similarity(entry_v, matrix)[0]"
   ]
  },
  {
   "cell_type": "code",
   "execution_count": 6,
   "metadata": {},
   "outputs": [
    {
     "data": {
      "text/html": [
       "<style  type=\"text/css\" >\n",
       "</style><table id=\"T_69e06ffa_f37d_11ea_a450_d43d7ee4f686\" ><thead>    <tr>        <th class=\"col_heading level0 col0\" >product_name</th>        <th class=\"col_heading level0 col1\" >score</th>    </tr></thead><tbody>\n",
       "                <tr>\n",
       "                                <td id=\"T_69e06ffa_f37d_11ea_a450_d43d7ee4f686row0_col0\" class=\"data row0 col0\" >coke</td>\n",
       "                        <td id=\"T_69e06ffa_f37d_11ea_a450_d43d7ee4f686row0_col1\" class=\"data row0 col1\" >0.82181</td>\n",
       "            </tr>\n",
       "            <tr>\n",
       "                                <td id=\"T_69e06ffa_f37d_11ea_a450_d43d7ee4f686row1_col0\" class=\"data row1 col0\" >diet coke</td>\n",
       "                        <td id=\"T_69e06ffa_f37d_11ea_a450_d43d7ee4f686row1_col1\" class=\"data row1 col1\" >0.770238</td>\n",
       "            </tr>\n",
       "            <tr>\n",
       "                                <td id=\"T_69e06ffa_f37d_11ea_a450_d43d7ee4f686row2_col0\" class=\"data row2 col0\" >coke zero</td>\n",
       "                        <td id=\"T_69e06ffa_f37d_11ea_a450_d43d7ee4f686row2_col1\" class=\"data row2 col1\" >0.669702</td>\n",
       "            </tr>\n",
       "            <tr>\n",
       "                                <td id=\"T_69e06ffa_f37d_11ea_a450_d43d7ee4f686row3_col0\" class=\"data row3 col0\" >diet coke</td>\n",
       "                        <td id=\"T_69e06ffa_f37d_11ea_a450_d43d7ee4f686row3_col1\" class=\"data row3 col1\" >0.659333</td>\n",
       "            </tr>\n",
       "            <tr>\n",
       "                                <td id=\"T_69e06ffa_f37d_11ea_a450_d43d7ee4f686row4_col0\" class=\"data row4 col0\" >coke diet</td>\n",
       "                        <td id=\"T_69e06ffa_f37d_11ea_a450_d43d7ee4f686row4_col1\" class=\"data row4 col1\" >0.659333</td>\n",
       "            </tr>\n",
       "            <tr>\n",
       "                                <td id=\"T_69e06ffa_f37d_11ea_a450_d43d7ee4f686row5_col0\" class=\"data row5 col0\" >diet coke</td>\n",
       "                        <td id=\"T_69e06ffa_f37d_11ea_a450_d43d7ee4f686row5_col1\" class=\"data row5 col1\" >0.659333</td>\n",
       "            </tr>\n",
       "            <tr>\n",
       "                                <td id=\"T_69e06ffa_f37d_11ea_a450_d43d7ee4f686row6_col0\" class=\"data row6 col0\" >diet coke</td>\n",
       "                        <td id=\"T_69e06ffa_f37d_11ea_a450_d43d7ee4f686row6_col1\" class=\"data row6 col1\" >0.659333</td>\n",
       "            </tr>\n",
       "            <tr>\n",
       "                                <td id=\"T_69e06ffa_f37d_11ea_a450_d43d7ee4f686row7_col0\" class=\"data row7 col0\" >diet coke</td>\n",
       "                        <td id=\"T_69e06ffa_f37d_11ea_a450_d43d7ee4f686row7_col1\" class=\"data row7 col1\" >0.659333</td>\n",
       "            </tr>\n",
       "            <tr>\n",
       "                                <td id=\"T_69e06ffa_f37d_11ea_a450_d43d7ee4f686row8_col0\" class=\"data row8 col0\" >diet coke</td>\n",
       "                        <td id=\"T_69e06ffa_f37d_11ea_a450_d43d7ee4f686row8_col1\" class=\"data row8 col1\" >0.659333</td>\n",
       "            </tr>\n",
       "            <tr>\n",
       "                                <td id=\"T_69e06ffa_f37d_11ea_a450_d43d7ee4f686row9_col0\" class=\"data row9 col0\" >cokies pur beurre mini</td>\n",
       "                        <td id=\"T_69e06ffa_f37d_11ea_a450_d43d7ee4f686row9_col1\" class=\"data row9 col1\" >0.623943</td>\n",
       "            </tr>\n",
       "    </tbody></table>"
      ],
      "text/plain": [
       "<pandas.io.formats.style.Styler at 0xb93a208>"
      ]
     },
     "execution_count": 6,
     "metadata": {},
     "output_type": "execute_result"
    }
   ],
   "source": [
    "df[[\"product_name\", \"score\"]].sort_values(\"score\", ascending = False).head(10).style.hide_index()"
   ]
  },
  {
   "cell_type": "markdown",
   "metadata": {},
   "source": [
    "Dans notre exemple, on renvoie les dix réponses les plus pertinentes à la requête **\"Coke Light\"** en affichant ici l'index, le nom, et le score du produit. Le choix des infos par produit à retourner, parmi tout ce qui est disponible dans le dataset, est à déterminer ultérieurement."
   ]
  },
  {
   "cell_type": "markdown",
   "metadata": {},
   "source": [
    "### Filtres"
   ]
  },
  {
   "cell_type": "markdown",
   "metadata": {},
   "source": [
    "On peut également définir un système de **filtres** permettant à l'utilisateur de restreindre le champ de ses recherches en fonctions de certains critères en fonction des données dont on dispose.<br>Par exemple, rechercher (sous réserve qu'on ait assez de données) :<br>- au sein d'une certaine classe du **nutriscore_grade** ou du **nova_group**.<br>- des produits sans **allergènes**, **alcohol**, **huile de palme**...<br>- des produits contenant tel ou tel **nutriment**...<br>**Etc.**"
   ]
  },
  {
   "cell_type": "markdown",
   "metadata": {},
   "source": [
    "En pratique, cela reviendra simplement à afficher les résultats de requêtes depuis une version filtrée du dataset.<br>Le choix éventuel du filtre se ferait via un élément d'interface aboutissant, par exemple, à la saisie d'une clé d'un \"dictionnaire de filtres\"."
   ]
  },
  {
   "cell_type": "markdown",
   "metadata": {},
   "source": [
    " "
   ]
  },
  {
   "cell_type": "markdown",
   "metadata": {},
   "source": [
    "## Prototype de moteur"
   ]
  },
  {
   "cell_type": "markdown",
   "metadata": {},
   "source": [
    "Vous trouverez ci-dessous une démonstration de notre *embryon* de moteur. Pour le faire marcher, sous réserve d'avoir tout ce qu'il faut (données originales modifiées par le script **P2_Pipeline.py**), il suffit d'invoquer la classe **moteur** et de jouer avec ses méthodes **query** (pour entrer une requete et recevoir ses résultats) ou **set_filter** (pour tester les filtres de *démonstration*).<br> On peut aussi modifier les paramètres présents sous forme de **constantes** au début du code."
   ]
  },
  {
   "cell_type": "markdown",
   "metadata": {},
   "source": [
    "**Syntaxe** :<br>- Création du moteur : mot = Moteur()<br>- Requête : mot.query()<br>- Choix d'un filtre : mot.set_filter()\n",
    "\n"
   ]
  },
  {
   "cell_type": "code",
   "execution_count": 18,
   "metadata": {},
   "outputs": [],
   "source": [
    "# Nombre de résultats à afficher\n",
    "NB_RESULTS = 15\n",
    "\n",
    "# Liste des colonnes de données dans les réponses du moteur\n",
    "LISTE_COL = [\"product_name\", \"nutriscore_grade\", \"nova_group\", \"fiber_100g\", \"score\"]\n",
    "\n",
    "# Classe définissant notre moteur de recommandation\n",
    "\n",
    "class Moteur():\n",
    "    \n",
    "    # Initialisation de la classe\n",
    "    def __init__(self):\n",
    "        \n",
    "        self.df = pd.read_csv(\"Data/df.csv\")\n",
    "        self.df_req = self.df.copy()\n",
    "        self.vect = pickle.load(open(\"Data/vect.pickle\", \"rb\"))\n",
    "        self.matrix = pickle.load(open(\"Data/matrix.pickle\", \"rb\"))\n",
    "        self.tokenizer = pickle.load(open(\"Data/tokenizer.pickle\", \"rb\"))\n",
    "        self.entry = None\n",
    "        self.filter_idx = None\n",
    "        self.apply_filter = False\n",
    "        self.sw = stopwords.words(\"french\")\n",
    "        self.stemmer = FrenchStemmer()\n",
    "        self.input_text = None\n",
    "        self.need_reinit = False\n",
    "        \n",
    "        # Quelques exemples de filtres pré-définis en démonstration\n",
    "        self.filters = {\"1\":(self.df[\"nutriscore_grade\"] == \"a\"), \"2\":(self.df[\"nova_group\"] == 1.0), \n",
    "                   \"3\":(self.df[\"fiber_100g\"].notnull()) & (self.df[\"fiber_100g\"] > 0)}\n",
    "        \n",
    "    # méthode de traitement du texte de requête\n",
    "    def sw_stem_str(self, l):\n",
    "    \n",
    "        for elt in l:\n",
    "            if elt in self.sw :\n",
    "                l.remove(elt)\n",
    "\n",
    "        li = [self.stemmer.stem(w) for w in l]\n",
    "\n",
    "        ligne = \" \".join(li)\n",
    "        return ligne\n",
    "        \n",
    "    # Méthode permettant d'activer un filtre\n",
    "    def set_filter(self):\n",
    "        \n",
    "        texte = \"\"\n",
    "    \n",
    "        while texte not in [\"1\", \"2\", \"3\", \"4\"]:\n",
    "            print(\"1 - Nutriscore = A\")\n",
    "            print(\"2 - Aliment non trasformé : Nova Group = 1\")\n",
    "            print(\"3 - Contient des fibres\")\n",
    "            print(\"4 - Non, aucun filtre\")\n",
    "            texte = str(input(\"Choisissez votre filtre :\"))\n",
    "    \n",
    "        if texte in [\"1\", \"2\", \"3\"] :\n",
    "        \n",
    "            self.filter_idx = texte\n",
    "            self.apply_filter = True\n",
    "    \n",
    "        else :\n",
    "            self.filter_idx = None\n",
    "            self.apply_filter = False\n",
    "            \n",
    "    # méthode permettant d'entrée une requête et de recevoir le résultat du moteur\n",
    "    def query(self):\n",
    "        \n",
    "        if self.need_reinit :\n",
    "            self.df_req = self.df.copy()\n",
    "            self.need_reinit = False\n",
    "        \n",
    "        self.input_text = input(\"Entrez votre recherche :\")\n",
    "        \n",
    "        self.entry = self.vect.transform([self.sw_stem_str(self.tokenizer.tokenize(self.input_text.lower()))])        \n",
    "        \n",
    "        self.df_req[\"score\"] = cosine_similarity(self.entry, self.matrix)[0]\n",
    "\n",
    "        if self.apply_filter :\n",
    "            self.df_req = self.df_req[self.filters[self.filter_idx]]\n",
    "            self.apply_filter = False\n",
    "            self.need_reinit = True\n",
    "\n",
    "        return self.df_req[LISTE_COL].sort_values(\"score\", \n",
    "                                                  ascending = False).head(NB_RESULTS).style.hide_index()"
   ]
  },
  {
   "cell_type": "code",
   "execution_count": 19,
   "metadata": {},
   "outputs": [],
   "source": [
    "mot = Moteur()"
   ]
  },
  {
   "cell_type": "code",
   "execution_count": 21,
   "metadata": {},
   "outputs": [
    {
     "name": "stdout",
     "output_type": "stream",
     "text": [
      "1 - Nutriscore = A\n",
      "2 - Aliment non trasformé : Nova Group = 1\n",
      "3 - Contient des fibres\n",
      "4 - Non, aucun filtre\n"
     ]
    },
    {
     "name": "stdin",
     "output_type": "stream",
     "text": [
      "Choisissez votre filtre : 2\n"
     ]
    }
   ],
   "source": [
    "mot.set_filter()"
   ]
  },
  {
   "cell_type": "code",
   "execution_count": 22,
   "metadata": {},
   "outputs": [
    {
     "name": "stdin",
     "output_type": "stream",
     "text": [
      "Entrez votre recherche : raisin\n"
     ]
    },
    {
     "data": {
      "text/html": [
       "<style  type=\"text/css\" >\n",
       "</style><table id=\"T_87c2560c_f380_11ea_a72b_d43d7ee4f686\" ><thead>    <tr>        <th class=\"col_heading level0 col0\" >product_name</th>        <th class=\"col_heading level0 col1\" >nutriscore_grade</th>        <th class=\"col_heading level0 col2\" >nova_group</th>        <th class=\"col_heading level0 col3\" >fiber_100g</th>        <th class=\"col_heading level0 col4\" >score</th>    </tr></thead><tbody>\n",
       "                <tr>\n",
       "                                <td id=\"T_87c2560c_f380_11ea_a72b_d43d7ee4f686row0_col0\" class=\"data row0 col0\" >raisin</td>\n",
       "                        <td id=\"T_87c2560c_f380_11ea_a72b_d43d7ee4f686row0_col1\" class=\"data row0 col1\" >e</td>\n",
       "                        <td id=\"T_87c2560c_f380_11ea_a72b_d43d7ee4f686row0_col2\" class=\"data row0 col2\" >1</td>\n",
       "                        <td id=\"T_87c2560c_f380_11ea_a72b_d43d7ee4f686row0_col3\" class=\"data row0 col3\" >nan</td>\n",
       "                        <td id=\"T_87c2560c_f380_11ea_a72b_d43d7ee4f686row0_col4\" class=\"data row0 col4\" >1</td>\n",
       "            </tr>\n",
       "            <tr>\n",
       "                                <td id=\"T_87c2560c_f380_11ea_a72b_d43d7ee4f686row1_col0\" class=\"data row1 col0\" >jus de raisin</td>\n",
       "                        <td id=\"T_87c2560c_f380_11ea_a72b_d43d7ee4f686row1_col1\" class=\"data row1 col1\" >e</td>\n",
       "                        <td id=\"T_87c2560c_f380_11ea_a72b_d43d7ee4f686row1_col2\" class=\"data row1 col2\" >1</td>\n",
       "                        <td id=\"T_87c2560c_f380_11ea_a72b_d43d7ee4f686row1_col3\" class=\"data row1 col3\" >0</td>\n",
       "                        <td id=\"T_87c2560c_f380_11ea_a72b_d43d7ee4f686row1_col4\" class=\"data row1 col4\" >0.769837</td>\n",
       "            </tr>\n",
       "            <tr>\n",
       "                                <td id=\"T_87c2560c_f380_11ea_a72b_d43d7ee4f686row2_col0\" class=\"data row2 col0\" >jus de raisin</td>\n",
       "                        <td id=\"T_87c2560c_f380_11ea_a72b_d43d7ee4f686row2_col1\" class=\"data row2 col1\" >e</td>\n",
       "                        <td id=\"T_87c2560c_f380_11ea_a72b_d43d7ee4f686row2_col2\" class=\"data row2 col2\" >1</td>\n",
       "                        <td id=\"T_87c2560c_f380_11ea_a72b_d43d7ee4f686row2_col3\" class=\"data row2 col3\" >0</td>\n",
       "                        <td id=\"T_87c2560c_f380_11ea_a72b_d43d7ee4f686row2_col4\" class=\"data row2 col4\" >0.769837</td>\n",
       "            </tr>\n",
       "            <tr>\n",
       "                                <td id=\"T_87c2560c_f380_11ea_a72b_d43d7ee4f686row3_col0\" class=\"data row3 col0\" >le jus - raisin</td>\n",
       "                        <td id=\"T_87c2560c_f380_11ea_a72b_d43d7ee4f686row3_col1\" class=\"data row3 col1\" >e</td>\n",
       "                        <td id=\"T_87c2560c_f380_11ea_a72b_d43d7ee4f686row3_col2\" class=\"data row3 col2\" >1</td>\n",
       "                        <td id=\"T_87c2560c_f380_11ea_a72b_d43d7ee4f686row3_col3\" class=\"data row3 col3\" >nan</td>\n",
       "                        <td id=\"T_87c2560c_f380_11ea_a72b_d43d7ee4f686row3_col4\" class=\"data row3 col4\" >0.769837</td>\n",
       "            </tr>\n",
       "            <tr>\n",
       "                                <td id=\"T_87c2560c_f380_11ea_a72b_d43d7ee4f686row4_col0\" class=\"data row4 col0\" >raisin secs</td>\n",
       "                        <td id=\"T_87c2560c_f380_11ea_a72b_d43d7ee4f686row4_col1\" class=\"data row4 col1\" >nan</td>\n",
       "                        <td id=\"T_87c2560c_f380_11ea_a72b_d43d7ee4f686row4_col2\" class=\"data row4 col2\" >1</td>\n",
       "                        <td id=\"T_87c2560c_f380_11ea_a72b_d43d7ee4f686row4_col3\" class=\"data row4 col3\" >nan</td>\n",
       "                        <td id=\"T_87c2560c_f380_11ea_a72b_d43d7ee4f686row4_col4\" class=\"data row4 col4\" >0.730936</td>\n",
       "            </tr>\n",
       "            <tr>\n",
       "                                <td id=\"T_87c2560c_f380_11ea_a72b_d43d7ee4f686row5_col0\" class=\"data row5 col0\" >jus de raisin</td>\n",
       "                        <td id=\"T_87c2560c_f380_11ea_a72b_d43d7ee4f686row5_col1\" class=\"data row5 col1\" >e</td>\n",
       "                        <td id=\"T_87c2560c_f380_11ea_a72b_d43d7ee4f686row5_col2\" class=\"data row5 col2\" >1</td>\n",
       "                        <td id=\"T_87c2560c_f380_11ea_a72b_d43d7ee4f686row5_col3\" class=\"data row5 col3\" >nan</td>\n",
       "                        <td id=\"T_87c2560c_f380_11ea_a72b_d43d7ee4f686row5_col4\" class=\"data row5 col4\" >0.669604</td>\n",
       "            </tr>\n",
       "            <tr>\n",
       "                                <td id=\"T_87c2560c_f380_11ea_a72b_d43d7ee4f686row6_col0\" class=\"data row6 col0\" >jus de raisin</td>\n",
       "                        <td id=\"T_87c2560c_f380_11ea_a72b_d43d7ee4f686row6_col1\" class=\"data row6 col1\" >e</td>\n",
       "                        <td id=\"T_87c2560c_f380_11ea_a72b_d43d7ee4f686row6_col2\" class=\"data row6 col2\" >1</td>\n",
       "                        <td id=\"T_87c2560c_f380_11ea_a72b_d43d7ee4f686row6_col3\" class=\"data row6 col3\" >nan</td>\n",
       "                        <td id=\"T_87c2560c_f380_11ea_a72b_d43d7ee4f686row6_col4\" class=\"data row6 col4\" >0.669604</td>\n",
       "            </tr>\n",
       "            <tr>\n",
       "                                <td id=\"T_87c2560c_f380_11ea_a72b_d43d7ee4f686row7_col0\" class=\"data row7 col0\" >jus de raisin</td>\n",
       "                        <td id=\"T_87c2560c_f380_11ea_a72b_d43d7ee4f686row7_col1\" class=\"data row7 col1\" >e</td>\n",
       "                        <td id=\"T_87c2560c_f380_11ea_a72b_d43d7ee4f686row7_col2\" class=\"data row7 col2\" >1</td>\n",
       "                        <td id=\"T_87c2560c_f380_11ea_a72b_d43d7ee4f686row7_col3\" class=\"data row7 col3\" >0.1</td>\n",
       "                        <td id=\"T_87c2560c_f380_11ea_a72b_d43d7ee4f686row7_col4\" class=\"data row7 col4\" >0.661258</td>\n",
       "            </tr>\n",
       "            <tr>\n",
       "                                <td id=\"T_87c2560c_f380_11ea_a72b_d43d7ee4f686row8_col0\" class=\"data row8 col0\" >100% jus raisin</td>\n",
       "                        <td id=\"T_87c2560c_f380_11ea_a72b_d43d7ee4f686row8_col1\" class=\"data row8 col1\" >e</td>\n",
       "                        <td id=\"T_87c2560c_f380_11ea_a72b_d43d7ee4f686row8_col2\" class=\"data row8 col2\" >1</td>\n",
       "                        <td id=\"T_87c2560c_f380_11ea_a72b_d43d7ee4f686row8_col3\" class=\"data row8 col3\" >0</td>\n",
       "                        <td id=\"T_87c2560c_f380_11ea_a72b_d43d7ee4f686row8_col4\" class=\"data row8 col4\" >0.654863</td>\n",
       "            </tr>\n",
       "            <tr>\n",
       "                                <td id=\"T_87c2560c_f380_11ea_a72b_d43d7ee4f686row9_col0\" class=\"data row9 col0\" >raisin de france</td>\n",
       "                        <td id=\"T_87c2560c_f380_11ea_a72b_d43d7ee4f686row9_col1\" class=\"data row9 col1\" >e</td>\n",
       "                        <td id=\"T_87c2560c_f380_11ea_a72b_d43d7ee4f686row9_col2\" class=\"data row9 col2\" >1</td>\n",
       "                        <td id=\"T_87c2560c_f380_11ea_a72b_d43d7ee4f686row9_col3\" class=\"data row9 col3\" >nan</td>\n",
       "                        <td id=\"T_87c2560c_f380_11ea_a72b_d43d7ee4f686row9_col4\" class=\"data row9 col4\" >0.63299</td>\n",
       "            </tr>\n",
       "            <tr>\n",
       "                                <td id=\"T_87c2560c_f380_11ea_a72b_d43d7ee4f686row10_col0\" class=\"data row10 col0\" >jus de raisin à base de jus de raisin concentré</td>\n",
       "                        <td id=\"T_87c2560c_f380_11ea_a72b_d43d7ee4f686row10_col1\" class=\"data row10 col1\" >e</td>\n",
       "                        <td id=\"T_87c2560c_f380_11ea_a72b_d43d7ee4f686row10_col2\" class=\"data row10 col2\" >1</td>\n",
       "                        <td id=\"T_87c2560c_f380_11ea_a72b_d43d7ee4f686row10_col3\" class=\"data row10 col3\" >0.5</td>\n",
       "                        <td id=\"T_87c2560c_f380_11ea_a72b_d43d7ee4f686row10_col4\" class=\"data row10 col4\" >0.607126</td>\n",
       "            </tr>\n",
       "            <tr>\n",
       "                                <td id=\"T_87c2560c_f380_11ea_a72b_d43d7ee4f686row11_col0\" class=\"data row11 col0\" >pur jus de raisin</td>\n",
       "                        <td id=\"T_87c2560c_f380_11ea_a72b_d43d7ee4f686row11_col1\" class=\"data row11 col1\" >e</td>\n",
       "                        <td id=\"T_87c2560c_f380_11ea_a72b_d43d7ee4f686row11_col2\" class=\"data row11 col2\" >1</td>\n",
       "                        <td id=\"T_87c2560c_f380_11ea_a72b_d43d7ee4f686row11_col3\" class=\"data row11 col3\" >0.1</td>\n",
       "                        <td id=\"T_87c2560c_f380_11ea_a72b_d43d7ee4f686row11_col4\" class=\"data row11 col4\" >0.589345</td>\n",
       "            </tr>\n",
       "            <tr>\n",
       "                                <td id=\"T_87c2560c_f380_11ea_a72b_d43d7ee4f686row12_col0\" class=\"data row12 col0\" >jus de raisin bio</td>\n",
       "                        <td id=\"T_87c2560c_f380_11ea_a72b_d43d7ee4f686row12_col1\" class=\"data row12 col1\" >e</td>\n",
       "                        <td id=\"T_87c2560c_f380_11ea_a72b_d43d7ee4f686row12_col2\" class=\"data row12 col2\" >1</td>\n",
       "                        <td id=\"T_87c2560c_f380_11ea_a72b_d43d7ee4f686row12_col3\" class=\"data row12 col3\" >nan</td>\n",
       "                        <td id=\"T_87c2560c_f380_11ea_a72b_d43d7ee4f686row12_col4\" class=\"data row12 col4\" >0.587901</td>\n",
       "            </tr>\n",
       "            <tr>\n",
       "                                <td id=\"T_87c2560c_f380_11ea_a72b_d43d7ee4f686row13_col0\" class=\"data row13 col0\" >pur jus  raisin</td>\n",
       "                        <td id=\"T_87c2560c_f380_11ea_a72b_d43d7ee4f686row13_col1\" class=\"data row13 col1\" >e</td>\n",
       "                        <td id=\"T_87c2560c_f380_11ea_a72b_d43d7ee4f686row13_col2\" class=\"data row13 col2\" >1</td>\n",
       "                        <td id=\"T_87c2560c_f380_11ea_a72b_d43d7ee4f686row13_col3\" class=\"data row13 col3\" >nan</td>\n",
       "                        <td id=\"T_87c2560c_f380_11ea_a72b_d43d7ee4f686row13_col4\" class=\"data row13 col4\" >0.587687</td>\n",
       "            </tr>\n",
       "            <tr>\n",
       "                                <td id=\"T_87c2560c_f380_11ea_a72b_d43d7ee4f686row14_col0\" class=\"data row14 col0\" >pur jus raisin</td>\n",
       "                        <td id=\"T_87c2560c_f380_11ea_a72b_d43d7ee4f686row14_col1\" class=\"data row14 col1\" >e</td>\n",
       "                        <td id=\"T_87c2560c_f380_11ea_a72b_d43d7ee4f686row14_col2\" class=\"data row14 col2\" >1</td>\n",
       "                        <td id=\"T_87c2560c_f380_11ea_a72b_d43d7ee4f686row14_col3\" class=\"data row14 col3\" >0.5</td>\n",
       "                        <td id=\"T_87c2560c_f380_11ea_a72b_d43d7ee4f686row14_col4\" class=\"data row14 col4\" >0.587687</td>\n",
       "            </tr>\n",
       "    </tbody></table>"
      ],
      "text/plain": [
       "<pandas.io.formats.style.Styler at 0x5a014f28>"
      ]
     },
     "execution_count": 22,
     "metadata": {},
     "output_type": "execute_result"
    }
   ],
   "source": [
    "mot.query()"
   ]
  },
  {
   "cell_type": "markdown",
   "metadata": {},
   "source": [
    " "
   ]
  },
  {
   "cell_type": "markdown",
   "metadata": {},
   "source": [
    "# Conclusion et améliorations possibles"
   ]
  },
  {
   "cell_type": "code",
   "execution_count": null,
   "metadata": {},
   "outputs": [],
   "source": []
  },
  {
   "cell_type": "code",
   "execution_count": null,
   "metadata": {},
   "outputs": [],
   "source": []
  },
  {
   "cell_type": "code",
   "execution_count": null,
   "metadata": {},
   "outputs": [],
   "source": []
  },
  {
   "cell_type": "code",
   "execution_count": null,
   "metadata": {},
   "outputs": [],
   "source": []
  },
  {
   "cell_type": "code",
   "execution_count": null,
   "metadata": {},
   "outputs": [],
   "source": []
  },
  {
   "cell_type": "code",
   "execution_count": null,
   "metadata": {},
   "outputs": [],
   "source": []
  },
  {
   "cell_type": "code",
   "execution_count": null,
   "metadata": {},
   "outputs": [],
   "source": []
  },
  {
   "cell_type": "code",
   "execution_count": null,
   "metadata": {},
   "outputs": [],
   "source": []
  }
 ],
 "metadata": {
  "kernelspec": {
   "display_name": "Python 3",
   "language": "python",
   "name": "python3"
  },
  "language_info": {
   "codemirror_mode": {
    "name": "ipython",
    "version": 3
   },
   "file_extension": ".py",
   "mimetype": "text/x-python",
   "name": "python",
   "nbconvert_exporter": "python",
   "pygments_lexer": "ipython3",
   "version": "3.7.3"
  }
 },
 "nbformat": 4,
 "nbformat_minor": 4
}
