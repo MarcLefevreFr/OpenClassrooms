{
  "nbformat": 4,
  "nbformat_minor": 0,
  "metadata": {
    "colab": {
      "name": "P7_03.ipynb",
      "provenance": [],
      "collapsed_sections": [],
      "machine_shape": "hm",
      "authorship_tag": "ABX9TyPicEv4bKA9N3bSbGB8XbW6",
      "include_colab_link": true
    },
    "kernelspec": {
      "name": "python3",
      "display_name": "Python 3"
    },
    "language_info": {
      "name": "python"
    },
    "widgets": {
      "application/vnd.jupyter.widget-state+json": {
        "d3ca73ccfb0e4b08b68b90de7a5e1b4e": {
          "model_module": "@jupyter-widgets/controls",
          "model_name": "HBoxModel",
          "state": {
            "_view_name": "HBoxView",
            "_dom_classes": [],
            "_model_name": "HBoxModel",
            "_view_module": "@jupyter-widgets/controls",
            "_model_module_version": "1.5.0",
            "_view_count": null,
            "_view_module_version": "1.5.0",
            "box_style": "",
            "layout": "IPY_MODEL_9a189e5d0057415b9f12d58f55073a7a",
            "_model_module": "@jupyter-widgets/controls",
            "children": [
              "IPY_MODEL_d09b2d7db08040f497ce4b2365b7cb5f",
              "IPY_MODEL_0ef50f99c0d9468faf00cfd21a83338d"
            ]
          }
        },
        "9a189e5d0057415b9f12d58f55073a7a": {
          "model_module": "@jupyter-widgets/base",
          "model_name": "LayoutModel",
          "state": {
            "_view_name": "LayoutView",
            "grid_template_rows": null,
            "right": null,
            "justify_content": null,
            "_view_module": "@jupyter-widgets/base",
            "overflow": null,
            "_model_module_version": "1.2.0",
            "_view_count": null,
            "flex_flow": null,
            "width": null,
            "min_width": null,
            "border": null,
            "align_items": null,
            "bottom": null,
            "_model_module": "@jupyter-widgets/base",
            "top": null,
            "grid_column": null,
            "overflow_y": null,
            "overflow_x": null,
            "grid_auto_flow": null,
            "grid_area": null,
            "grid_template_columns": null,
            "flex": null,
            "_model_name": "LayoutModel",
            "justify_items": null,
            "grid_row": null,
            "max_height": null,
            "align_content": null,
            "visibility": null,
            "align_self": null,
            "height": null,
            "min_height": null,
            "padding": null,
            "grid_auto_rows": null,
            "grid_gap": null,
            "max_width": null,
            "order": null,
            "_view_module_version": "1.2.0",
            "grid_template_areas": null,
            "object_position": null,
            "object_fit": null,
            "grid_auto_columns": null,
            "margin": null,
            "display": null,
            "left": null
          }
        },
        "d09b2d7db08040f497ce4b2365b7cb5f": {
          "model_module": "@jupyter-widgets/controls",
          "model_name": "FloatProgressModel",
          "state": {
            "_view_name": "ProgressView",
            "style": "IPY_MODEL_dfeea1d13c9b402ba7fec486bf7a0e39",
            "_dom_classes": [],
            "description": "Downloading: 100%",
            "_model_name": "FloatProgressModel",
            "bar_style": "success",
            "max": 231508,
            "_view_module": "@jupyter-widgets/controls",
            "_model_module_version": "1.5.0",
            "value": 231508,
            "_view_count": null,
            "_view_module_version": "1.5.0",
            "orientation": "horizontal",
            "min": 0,
            "description_tooltip": null,
            "_model_module": "@jupyter-widgets/controls",
            "layout": "IPY_MODEL_d2f747f370b54f03a6c112503bec59ed"
          }
        },
        "0ef50f99c0d9468faf00cfd21a83338d": {
          "model_module": "@jupyter-widgets/controls",
          "model_name": "HTMLModel",
          "state": {
            "_view_name": "HTMLView",
            "style": "IPY_MODEL_3e968ffabf724d44b069d1533144eb95",
            "_dom_classes": [],
            "description": "",
            "_model_name": "HTMLModel",
            "placeholder": "​",
            "_view_module": "@jupyter-widgets/controls",
            "_model_module_version": "1.5.0",
            "value": " 232k/232k [00:01&lt;00:00, 229kB/s]",
            "_view_count": null,
            "_view_module_version": "1.5.0",
            "description_tooltip": null,
            "_model_module": "@jupyter-widgets/controls",
            "layout": "IPY_MODEL_b8e34a0962064774bac4a43c1b8c5807"
          }
        },
        "dfeea1d13c9b402ba7fec486bf7a0e39": {
          "model_module": "@jupyter-widgets/controls",
          "model_name": "ProgressStyleModel",
          "state": {
            "_view_name": "StyleView",
            "_model_name": "ProgressStyleModel",
            "description_width": "initial",
            "_view_module": "@jupyter-widgets/base",
            "_model_module_version": "1.5.0",
            "_view_count": null,
            "_view_module_version": "1.2.0",
            "bar_color": null,
            "_model_module": "@jupyter-widgets/controls"
          }
        },
        "d2f747f370b54f03a6c112503bec59ed": {
          "model_module": "@jupyter-widgets/base",
          "model_name": "LayoutModel",
          "state": {
            "_view_name": "LayoutView",
            "grid_template_rows": null,
            "right": null,
            "justify_content": null,
            "_view_module": "@jupyter-widgets/base",
            "overflow": null,
            "_model_module_version": "1.2.0",
            "_view_count": null,
            "flex_flow": null,
            "width": null,
            "min_width": null,
            "border": null,
            "align_items": null,
            "bottom": null,
            "_model_module": "@jupyter-widgets/base",
            "top": null,
            "grid_column": null,
            "overflow_y": null,
            "overflow_x": null,
            "grid_auto_flow": null,
            "grid_area": null,
            "grid_template_columns": null,
            "flex": null,
            "_model_name": "LayoutModel",
            "justify_items": null,
            "grid_row": null,
            "max_height": null,
            "align_content": null,
            "visibility": null,
            "align_self": null,
            "height": null,
            "min_height": null,
            "padding": null,
            "grid_auto_rows": null,
            "grid_gap": null,
            "max_width": null,
            "order": null,
            "_view_module_version": "1.2.0",
            "grid_template_areas": null,
            "object_position": null,
            "object_fit": null,
            "grid_auto_columns": null,
            "margin": null,
            "display": null,
            "left": null
          }
        },
        "3e968ffabf724d44b069d1533144eb95": {
          "model_module": "@jupyter-widgets/controls",
          "model_name": "DescriptionStyleModel",
          "state": {
            "_view_name": "StyleView",
            "_model_name": "DescriptionStyleModel",
            "description_width": "",
            "_view_module": "@jupyter-widgets/base",
            "_model_module_version": "1.5.0",
            "_view_count": null,
            "_view_module_version": "1.2.0",
            "_model_module": "@jupyter-widgets/controls"
          }
        },
        "b8e34a0962064774bac4a43c1b8c5807": {
          "model_module": "@jupyter-widgets/base",
          "model_name": "LayoutModel",
          "state": {
            "_view_name": "LayoutView",
            "grid_template_rows": null,
            "right": null,
            "justify_content": null,
            "_view_module": "@jupyter-widgets/base",
            "overflow": null,
            "_model_module_version": "1.2.0",
            "_view_count": null,
            "flex_flow": null,
            "width": null,
            "min_width": null,
            "border": null,
            "align_items": null,
            "bottom": null,
            "_model_module": "@jupyter-widgets/base",
            "top": null,
            "grid_column": null,
            "overflow_y": null,
            "overflow_x": null,
            "grid_auto_flow": null,
            "grid_area": null,
            "grid_template_columns": null,
            "flex": null,
            "_model_name": "LayoutModel",
            "justify_items": null,
            "grid_row": null,
            "max_height": null,
            "align_content": null,
            "visibility": null,
            "align_self": null,
            "height": null,
            "min_height": null,
            "padding": null,
            "grid_auto_rows": null,
            "grid_gap": null,
            "max_width": null,
            "order": null,
            "_view_module_version": "1.2.0",
            "grid_template_areas": null,
            "object_position": null,
            "object_fit": null,
            "grid_auto_columns": null,
            "margin": null,
            "display": null,
            "left": null
          }
        },
        "9dc11eaeaf4f47e6a53eb9af64fd5ea0": {
          "model_module": "@jupyter-widgets/controls",
          "model_name": "HBoxModel",
          "state": {
            "_view_name": "HBoxView",
            "_dom_classes": [],
            "_model_name": "HBoxModel",
            "_view_module": "@jupyter-widgets/controls",
            "_model_module_version": "1.5.0",
            "_view_count": null,
            "_view_module_version": "1.5.0",
            "box_style": "",
            "layout": "IPY_MODEL_5e2deda3bf974f97a7812cf6a1787a77",
            "_model_module": "@jupyter-widgets/controls",
            "children": [
              "IPY_MODEL_c6521bce61cc41c8acfe106c375957b8",
              "IPY_MODEL_2d275f8f847240e9a26a95b1ee71ddaa"
            ]
          }
        },
        "5e2deda3bf974f97a7812cf6a1787a77": {
          "model_module": "@jupyter-widgets/base",
          "model_name": "LayoutModel",
          "state": {
            "_view_name": "LayoutView",
            "grid_template_rows": null,
            "right": null,
            "justify_content": null,
            "_view_module": "@jupyter-widgets/base",
            "overflow": null,
            "_model_module_version": "1.2.0",
            "_view_count": null,
            "flex_flow": null,
            "width": null,
            "min_width": null,
            "border": null,
            "align_items": null,
            "bottom": null,
            "_model_module": "@jupyter-widgets/base",
            "top": null,
            "grid_column": null,
            "overflow_y": null,
            "overflow_x": null,
            "grid_auto_flow": null,
            "grid_area": null,
            "grid_template_columns": null,
            "flex": null,
            "_model_name": "LayoutModel",
            "justify_items": null,
            "grid_row": null,
            "max_height": null,
            "align_content": null,
            "visibility": null,
            "align_self": null,
            "height": null,
            "min_height": null,
            "padding": null,
            "grid_auto_rows": null,
            "grid_gap": null,
            "max_width": null,
            "order": null,
            "_view_module_version": "1.2.0",
            "grid_template_areas": null,
            "object_position": null,
            "object_fit": null,
            "grid_auto_columns": null,
            "margin": null,
            "display": null,
            "left": null
          }
        },
        "c6521bce61cc41c8acfe106c375957b8": {
          "model_module": "@jupyter-widgets/controls",
          "model_name": "FloatProgressModel",
          "state": {
            "_view_name": "ProgressView",
            "style": "IPY_MODEL_cf7a0a85883146c2b67ec89005da2f97",
            "_dom_classes": [],
            "description": "Downloading: 100%",
            "_model_name": "FloatProgressModel",
            "bar_style": "success",
            "max": 28,
            "_view_module": "@jupyter-widgets/controls",
            "_model_module_version": "1.5.0",
            "value": 28,
            "_view_count": null,
            "_view_module_version": "1.5.0",
            "orientation": "horizontal",
            "min": 0,
            "description_tooltip": null,
            "_model_module": "@jupyter-widgets/controls",
            "layout": "IPY_MODEL_1db36aba256145eb9d6980678e331486"
          }
        },
        "2d275f8f847240e9a26a95b1ee71ddaa": {
          "model_module": "@jupyter-widgets/controls",
          "model_name": "HTMLModel",
          "state": {
            "_view_name": "HTMLView",
            "style": "IPY_MODEL_d4ce46357c674a2ca1b6632e71bcc034",
            "_dom_classes": [],
            "description": "",
            "_model_name": "HTMLModel",
            "placeholder": "​",
            "_view_module": "@jupyter-widgets/controls",
            "_model_module_version": "1.5.0",
            "value": " 28.0/28.0 [00:00&lt;00:00, 68.9B/s]",
            "_view_count": null,
            "_view_module_version": "1.5.0",
            "description_tooltip": null,
            "_model_module": "@jupyter-widgets/controls",
            "layout": "IPY_MODEL_56e17cbfcf104a599358f66328bfab98"
          }
        },
        "cf7a0a85883146c2b67ec89005da2f97": {
          "model_module": "@jupyter-widgets/controls",
          "model_name": "ProgressStyleModel",
          "state": {
            "_view_name": "StyleView",
            "_model_name": "ProgressStyleModel",
            "description_width": "initial",
            "_view_module": "@jupyter-widgets/base",
            "_model_module_version": "1.5.0",
            "_view_count": null,
            "_view_module_version": "1.2.0",
            "bar_color": null,
            "_model_module": "@jupyter-widgets/controls"
          }
        },
        "1db36aba256145eb9d6980678e331486": {
          "model_module": "@jupyter-widgets/base",
          "model_name": "LayoutModel",
          "state": {
            "_view_name": "LayoutView",
            "grid_template_rows": null,
            "right": null,
            "justify_content": null,
            "_view_module": "@jupyter-widgets/base",
            "overflow": null,
            "_model_module_version": "1.2.0",
            "_view_count": null,
            "flex_flow": null,
            "width": null,
            "min_width": null,
            "border": null,
            "align_items": null,
            "bottom": null,
            "_model_module": "@jupyter-widgets/base",
            "top": null,
            "grid_column": null,
            "overflow_y": null,
            "overflow_x": null,
            "grid_auto_flow": null,
            "grid_area": null,
            "grid_template_columns": null,
            "flex": null,
            "_model_name": "LayoutModel",
            "justify_items": null,
            "grid_row": null,
            "max_height": null,
            "align_content": null,
            "visibility": null,
            "align_self": null,
            "height": null,
            "min_height": null,
            "padding": null,
            "grid_auto_rows": null,
            "grid_gap": null,
            "max_width": null,
            "order": null,
            "_view_module_version": "1.2.0",
            "grid_template_areas": null,
            "object_position": null,
            "object_fit": null,
            "grid_auto_columns": null,
            "margin": null,
            "display": null,
            "left": null
          }
        },
        "d4ce46357c674a2ca1b6632e71bcc034": {
          "model_module": "@jupyter-widgets/controls",
          "model_name": "DescriptionStyleModel",
          "state": {
            "_view_name": "StyleView",
            "_model_name": "DescriptionStyleModel",
            "description_width": "",
            "_view_module": "@jupyter-widgets/base",
            "_model_module_version": "1.5.0",
            "_view_count": null,
            "_view_module_version": "1.2.0",
            "_model_module": "@jupyter-widgets/controls"
          }
        },
        "56e17cbfcf104a599358f66328bfab98": {
          "model_module": "@jupyter-widgets/base",
          "model_name": "LayoutModel",
          "state": {
            "_view_name": "LayoutView",
            "grid_template_rows": null,
            "right": null,
            "justify_content": null,
            "_view_module": "@jupyter-widgets/base",
            "overflow": null,
            "_model_module_version": "1.2.0",
            "_view_count": null,
            "flex_flow": null,
            "width": null,
            "min_width": null,
            "border": null,
            "align_items": null,
            "bottom": null,
            "_model_module": "@jupyter-widgets/base",
            "top": null,
            "grid_column": null,
            "overflow_y": null,
            "overflow_x": null,
            "grid_auto_flow": null,
            "grid_area": null,
            "grid_template_columns": null,
            "flex": null,
            "_model_name": "LayoutModel",
            "justify_items": null,
            "grid_row": null,
            "max_height": null,
            "align_content": null,
            "visibility": null,
            "align_self": null,
            "height": null,
            "min_height": null,
            "padding": null,
            "grid_auto_rows": null,
            "grid_gap": null,
            "max_width": null,
            "order": null,
            "_view_module_version": "1.2.0",
            "grid_template_areas": null,
            "object_position": null,
            "object_fit": null,
            "grid_auto_columns": null,
            "margin": null,
            "display": null,
            "left": null
          }
        },
        "d4f8828a15314e8da33a067633152ec9": {
          "model_module": "@jupyter-widgets/controls",
          "model_name": "HBoxModel",
          "state": {
            "_view_name": "HBoxView",
            "_dom_classes": [],
            "_model_name": "HBoxModel",
            "_view_module": "@jupyter-widgets/controls",
            "_model_module_version": "1.5.0",
            "_view_count": null,
            "_view_module_version": "1.5.0",
            "box_style": "",
            "layout": "IPY_MODEL_e1d2009daa8443c7822df59be94626d9",
            "_model_module": "@jupyter-widgets/controls",
            "children": [
              "IPY_MODEL_aaa14f7d97a240a5bc3677d1bbde6d3c",
              "IPY_MODEL_9ec9774ec6af4b9fae305710c57a81f4"
            ]
          }
        },
        "e1d2009daa8443c7822df59be94626d9": {
          "model_module": "@jupyter-widgets/base",
          "model_name": "LayoutModel",
          "state": {
            "_view_name": "LayoutView",
            "grid_template_rows": null,
            "right": null,
            "justify_content": null,
            "_view_module": "@jupyter-widgets/base",
            "overflow": null,
            "_model_module_version": "1.2.0",
            "_view_count": null,
            "flex_flow": null,
            "width": null,
            "min_width": null,
            "border": null,
            "align_items": null,
            "bottom": null,
            "_model_module": "@jupyter-widgets/base",
            "top": null,
            "grid_column": null,
            "overflow_y": null,
            "overflow_x": null,
            "grid_auto_flow": null,
            "grid_area": null,
            "grid_template_columns": null,
            "flex": null,
            "_model_name": "LayoutModel",
            "justify_items": null,
            "grid_row": null,
            "max_height": null,
            "align_content": null,
            "visibility": null,
            "align_self": null,
            "height": null,
            "min_height": null,
            "padding": null,
            "grid_auto_rows": null,
            "grid_gap": null,
            "max_width": null,
            "order": null,
            "_view_module_version": "1.2.0",
            "grid_template_areas": null,
            "object_position": null,
            "object_fit": null,
            "grid_auto_columns": null,
            "margin": null,
            "display": null,
            "left": null
          }
        },
        "aaa14f7d97a240a5bc3677d1bbde6d3c": {
          "model_module": "@jupyter-widgets/controls",
          "model_name": "FloatProgressModel",
          "state": {
            "_view_name": "ProgressView",
            "style": "IPY_MODEL_c757ce620c8041c3aa949cbc2da52c61",
            "_dom_classes": [],
            "description": "Downloading: 100%",
            "_model_name": "FloatProgressModel",
            "bar_style": "success",
            "max": 466062,
            "_view_module": "@jupyter-widgets/controls",
            "_model_module_version": "1.5.0",
            "value": 466062,
            "_view_count": null,
            "_view_module_version": "1.5.0",
            "orientation": "horizontal",
            "min": 0,
            "description_tooltip": null,
            "_model_module": "@jupyter-widgets/controls",
            "layout": "IPY_MODEL_4d2aa6847a9d4b55b508075b1767d901"
          }
        },
        "9ec9774ec6af4b9fae305710c57a81f4": {
          "model_module": "@jupyter-widgets/controls",
          "model_name": "HTMLModel",
          "state": {
            "_view_name": "HTMLView",
            "style": "IPY_MODEL_7011f4876f524ec7bea458e66f770107",
            "_dom_classes": [],
            "description": "",
            "_model_name": "HTMLModel",
            "placeholder": "​",
            "_view_module": "@jupyter-widgets/controls",
            "_model_module_version": "1.5.0",
            "value": " 466k/466k [00:00&lt;00:00, 4.64MB/s]",
            "_view_count": null,
            "_view_module_version": "1.5.0",
            "description_tooltip": null,
            "_model_module": "@jupyter-widgets/controls",
            "layout": "IPY_MODEL_8669b145488a42aa94ee1e730eaf3095"
          }
        },
        "c757ce620c8041c3aa949cbc2da52c61": {
          "model_module": "@jupyter-widgets/controls",
          "model_name": "ProgressStyleModel",
          "state": {
            "_view_name": "StyleView",
            "_model_name": "ProgressStyleModel",
            "description_width": "initial",
            "_view_module": "@jupyter-widgets/base",
            "_model_module_version": "1.5.0",
            "_view_count": null,
            "_view_module_version": "1.2.0",
            "bar_color": null,
            "_model_module": "@jupyter-widgets/controls"
          }
        },
        "4d2aa6847a9d4b55b508075b1767d901": {
          "model_module": "@jupyter-widgets/base",
          "model_name": "LayoutModel",
          "state": {
            "_view_name": "LayoutView",
            "grid_template_rows": null,
            "right": null,
            "justify_content": null,
            "_view_module": "@jupyter-widgets/base",
            "overflow": null,
            "_model_module_version": "1.2.0",
            "_view_count": null,
            "flex_flow": null,
            "width": null,
            "min_width": null,
            "border": null,
            "align_items": null,
            "bottom": null,
            "_model_module": "@jupyter-widgets/base",
            "top": null,
            "grid_column": null,
            "overflow_y": null,
            "overflow_x": null,
            "grid_auto_flow": null,
            "grid_area": null,
            "grid_template_columns": null,
            "flex": null,
            "_model_name": "LayoutModel",
            "justify_items": null,
            "grid_row": null,
            "max_height": null,
            "align_content": null,
            "visibility": null,
            "align_self": null,
            "height": null,
            "min_height": null,
            "padding": null,
            "grid_auto_rows": null,
            "grid_gap": null,
            "max_width": null,
            "order": null,
            "_view_module_version": "1.2.0",
            "grid_template_areas": null,
            "object_position": null,
            "object_fit": null,
            "grid_auto_columns": null,
            "margin": null,
            "display": null,
            "left": null
          }
        },
        "7011f4876f524ec7bea458e66f770107": {
          "model_module": "@jupyter-widgets/controls",
          "model_name": "DescriptionStyleModel",
          "state": {
            "_view_name": "StyleView",
            "_model_name": "DescriptionStyleModel",
            "description_width": "",
            "_view_module": "@jupyter-widgets/base",
            "_model_module_version": "1.5.0",
            "_view_count": null,
            "_view_module_version": "1.2.0",
            "_model_module": "@jupyter-widgets/controls"
          }
        },
        "8669b145488a42aa94ee1e730eaf3095": {
          "model_module": "@jupyter-widgets/base",
          "model_name": "LayoutModel",
          "state": {
            "_view_name": "LayoutView",
            "grid_template_rows": null,
            "right": null,
            "justify_content": null,
            "_view_module": "@jupyter-widgets/base",
            "overflow": null,
            "_model_module_version": "1.2.0",
            "_view_count": null,
            "flex_flow": null,
            "width": null,
            "min_width": null,
            "border": null,
            "align_items": null,
            "bottom": null,
            "_model_module": "@jupyter-widgets/base",
            "top": null,
            "grid_column": null,
            "overflow_y": null,
            "overflow_x": null,
            "grid_auto_flow": null,
            "grid_area": null,
            "grid_template_columns": null,
            "flex": null,
            "_model_name": "LayoutModel",
            "justify_items": null,
            "grid_row": null,
            "max_height": null,
            "align_content": null,
            "visibility": null,
            "align_self": null,
            "height": null,
            "min_height": null,
            "padding": null,
            "grid_auto_rows": null,
            "grid_gap": null,
            "max_width": null,
            "order": null,
            "_view_module_version": "1.2.0",
            "grid_template_areas": null,
            "object_position": null,
            "object_fit": null,
            "grid_auto_columns": null,
            "margin": null,
            "display": null,
            "left": null
          }
        }
      }
    },
    "accelerator": "TPU"
  },
  "cells": [
    {
      "cell_type": "markdown",
      "metadata": {
        "id": "view-in-github",
        "colab_type": "text"
      },
      "source": [
        "<a href=\"https://colab.research.google.com/github/MarcLefevreFr/OpenClassrooms/blob/master/P7/P7_03.ipynb\" target=\"_parent\"><img src=\"https://colab.research.google.com/assets/colab-badge.svg\" alt=\"Open In Colab\"/></a>"
      ]
    },
    {
      "cell_type": "code",
      "metadata": {
        "id": "dP4um3XPM5Jx"
      },
      "source": [
        ""
      ],
      "execution_count": null,
      "outputs": []
    },
    {
      "cell_type": "markdown",
      "metadata": {
        "id": "BsbGZWvw8DWM"
      },
      "source": [
        "Approche à partir de :<br>https://www.kaggle.com/anasofiauzsoy/tutorial-notebook<br>https://www.kaggle.com/c/contradictory-my-dear-watson"
      ]
    },
    {
      "cell_type": "markdown",
      "metadata": {
        "id": "IykbUdodNA0F"
      },
      "source": [
        "### **Liaison Google Drive**\n"
      ]
    },
    {
      "cell_type": "code",
      "metadata": {
        "colab": {
          "base_uri": "https://localhost:8080/"
        },
        "id": "jgOzEwS5M8k8",
        "outputId": "2577953f-5e0a-442a-8950-fcb354aebe14"
      },
      "source": [
        "# instal google drive\n",
        "from google.colab import drive\n",
        "\n",
        "drive.mount(\"/content/drive\")"
      ],
      "execution_count": 1,
      "outputs": [
        {
          "output_type": "stream",
          "text": [
            "Mounted at /content/drive\n"
          ],
          "name": "stdout"
        }
      ]
    },
    {
      "cell_type": "markdown",
      "metadata": {
        "id": "57n8JfD4O0Wf"
      },
      "source": [
        "### **Importation en local des données**"
      ]
    },
    {
      "cell_type": "code",
      "metadata": {
        "colab": {
          "base_uri": "https://localhost:8080/"
        },
        "id": "mmtRROy6rK8k",
        "outputId": "e96cd777-697e-4de9-d037-0d423aa027b7"
      },
      "source": [
        "# install librairie huggin face transformers\n",
        "pip install transformers"
      ],
      "execution_count": 2,
      "outputs": [
        {
          "output_type": "stream",
          "text": [
            "Collecting transformers\n",
            "\u001b[?25l  Downloading https://files.pythonhosted.org/packages/6e/f7/9287c330b0a195f67b6ce92f471c94084cdec1f596eb13b374704831f15a/transformers-4.8.0-py3-none-any.whl (2.5MB)\n",
            "\u001b[K     |████████████████████████████████| 2.5MB 5.3MB/s \n",
            "\u001b[?25hRequirement already satisfied: importlib-metadata; python_version < \"3.8\" in /usr/local/lib/python3.7/dist-packages (from transformers) (4.5.0)\n",
            "Requirement already satisfied: tqdm>=4.27 in /usr/local/lib/python3.7/dist-packages (from transformers) (4.41.1)\n",
            "Requirement already satisfied: numpy>=1.17 in /usr/local/lib/python3.7/dist-packages (from transformers) (1.19.5)\n",
            "Requirement already satisfied: packaging in /usr/local/lib/python3.7/dist-packages (from transformers) (20.9)\n",
            "Requirement already satisfied: pyyaml in /usr/local/lib/python3.7/dist-packages (from transformers) (3.13)\n",
            "Collecting tokenizers<0.11,>=0.10.1\n",
            "\u001b[?25l  Downloading https://files.pythonhosted.org/packages/d4/e2/df3543e8ffdab68f5acc73f613de9c2b155ac47f162e725dcac87c521c11/tokenizers-0.10.3-cp37-cp37m-manylinux_2_5_x86_64.manylinux1_x86_64.manylinux_2_12_x86_64.manylinux2010_x86_64.whl (3.3MB)\n",
            "\u001b[K     |████████████████████████████████| 3.3MB 38.2MB/s \n",
            "\u001b[?25hCollecting huggingface-hub==0.0.12\n",
            "  Downloading https://files.pythonhosted.org/packages/2f/ee/97e253668fda9b17e968b3f97b2f8e53aa0127e8807d24a547687423fe0b/huggingface_hub-0.0.12-py3-none-any.whl\n",
            "Requirement already satisfied: filelock in /usr/local/lib/python3.7/dist-packages (from transformers) (3.0.12)\n",
            "Collecting sacremoses\n",
            "\u001b[?25l  Downloading https://files.pythonhosted.org/packages/75/ee/67241dc87f266093c533a2d4d3d69438e57d7a90abb216fa076e7d475d4a/sacremoses-0.0.45-py3-none-any.whl (895kB)\n",
            "\u001b[K     |████████████████████████████████| 901kB 59.6MB/s \n",
            "\u001b[?25hRequirement already satisfied: regex!=2019.12.17 in /usr/local/lib/python3.7/dist-packages (from transformers) (2019.12.20)\n",
            "Requirement already satisfied: requests in /usr/local/lib/python3.7/dist-packages (from transformers) (2.23.0)\n",
            "Requirement already satisfied: zipp>=0.5 in /usr/local/lib/python3.7/dist-packages (from importlib-metadata; python_version < \"3.8\"->transformers) (3.4.1)\n",
            "Requirement already satisfied: typing-extensions>=3.6.4; python_version < \"3.8\" in /usr/local/lib/python3.7/dist-packages (from importlib-metadata; python_version < \"3.8\"->transformers) (3.7.4.3)\n",
            "Requirement already satisfied: pyparsing>=2.0.2 in /usr/local/lib/python3.7/dist-packages (from packaging->transformers) (2.4.7)\n",
            "Requirement already satisfied: click in /usr/local/lib/python3.7/dist-packages (from sacremoses->transformers) (7.1.2)\n",
            "Requirement already satisfied: joblib in /usr/local/lib/python3.7/dist-packages (from sacremoses->transformers) (1.0.1)\n",
            "Requirement already satisfied: six in /usr/local/lib/python3.7/dist-packages (from sacremoses->transformers) (1.15.0)\n",
            "Requirement already satisfied: certifi>=2017.4.17 in /usr/local/lib/python3.7/dist-packages (from requests->transformers) (2021.5.30)\n",
            "Requirement already satisfied: urllib3!=1.25.0,!=1.25.1,<1.26,>=1.21.1 in /usr/local/lib/python3.7/dist-packages (from requests->transformers) (1.24.3)\n",
            "Requirement already satisfied: idna<3,>=2.5 in /usr/local/lib/python3.7/dist-packages (from requests->transformers) (2.10)\n",
            "Requirement already satisfied: chardet<4,>=3.0.2 in /usr/local/lib/python3.7/dist-packages (from requests->transformers) (3.0.4)\n",
            "Installing collected packages: tokenizers, huggingface-hub, sacremoses, transformers\n",
            "Successfully installed huggingface-hub-0.0.12 sacremoses-0.0.45 tokenizers-0.10.3 transformers-4.8.0\n"
          ],
          "name": "stdout"
        }
      ]
    },
    {
      "cell_type": "code",
      "metadata": {
        "id": "SHglzYtDR3Ka"
      },
      "source": [
        "# début données\n",
        "import shutil\n",
        "import os\n",
        "import pickle\n",
        "import numpy as np\n",
        "from time import time\n",
        "\n",
        "os.environ[\"WANDB_API_KEY\"] = \"0\" ## to silence warning\n",
        "\n",
        "from tensorflow.keras.callbacks import ModelCheckpoint\n",
        "from transformers import BertTokenizer, TFBertModel\n",
        "import matplotlib.pyplot as plt\n",
        "import tensorflow as tf\n",
        "from sklearn.metrics import f1_score"
      ],
      "execution_count": 26,
      "outputs": []
    },
    {
      "cell_type": "code",
      "metadata": {
        "colab": {
          "base_uri": "https://localhost:8080/"
        },
        "id": "L2kgoMpWM8v7",
        "outputId": "bcb5f245-9d93-412c-ee66-66d2aa37b370"
      },
      "source": [
        "cwd = os.getcwd()\n",
        "\n",
        "path_data = cwd + \"/drive/MyDrive/P7/Data/\"\n",
        "\n",
        "# pour keras implé, les données qui nous intéressent sont les données textes préparés, en token cad :\n",
        "# feat_train_clean_tk + feat_test_clean_tk\n",
        "\n",
        "for file in os.listdir(path_data) :\n",
        "    shutil.copy(os.path.join(path_data, file), cwd)\n",
        "\n",
        "os.listdir(cwd)"
      ],
      "execution_count": 4,
      "outputs": [
        {
          "output_type": "execute_result",
          "data": {
            "text/plain": [
              "['.config',\n",
              " 'y_test.pickle',\n",
              " 'drive',\n",
              " 'y_train.pickle',\n",
              " 'X_train_ft_pca.pickle',\n",
              " 'feat_test_clean.pickle',\n",
              " 'labels.pickle',\n",
              " 'X_test_ft_pca.pickle',\n",
              " 'feat_train_clean.pickle',\n",
              " 'sample_data']"
            ]
          },
          "metadata": {
            "tags": []
          },
          "execution_count": 4
        }
      ]
    },
    {
      "cell_type": "markdown",
      "metadata": {
        "id": "GFyQz34uY4ZL"
      },
      "source": [
        "### **Récup Données**"
      ]
    },
    {
      "cell_type": "code",
      "metadata": {
        "id": "wuenAOSZX7bp"
      },
      "source": [
        "X_train = pickle.load(open(\"feat_train_clean.pickle\", \"rb\"))\n",
        "X_test = pickle.load(open(\"feat_test_clean.pickle\", \"rb\"))\n",
        "\n",
        "y_train = pickle.load(open(\"y_train.pickle\", \"rb\"))\n",
        "y_test = pickle.load(open(\"y_test.pickle\", \"rb\"))\n",
        "\n",
        "y_train = y_train.toarray()\n",
        "y_test = y_test.toarray()"
      ],
      "execution_count": 5,
      "outputs": []
    },
    {
      "cell_type": "code",
      "metadata": {
        "id": "24LDxiyVeQnG"
      },
      "source": [
        ""
      ],
      "execution_count": null,
      "outputs": []
    },
    {
      "cell_type": "markdown",
      "metadata": {
        "id": "7TIAN8eoZJRS"
      },
      "source": [
        "### **Elements stats sur les données**"
      ]
    },
    {
      "cell_type": "code",
      "metadata": {
        "id": "vXZ68jUYM9C6",
        "colab": {
          "base_uri": "https://localhost:8080/"
        },
        "outputId": "27f9c575-8fdd-430f-99a0-dcd042ca5157"
      },
      "source": [
        "print(f\"Nombre de questions d'entrainement : {len(X_train)}\")\n",
        "print(f\"Nombre de questions de test : {len(X_test)}\")"
      ],
      "execution_count": null,
      "outputs": [
        {
          "output_type": "stream",
          "text": [
            "Nombre de questions d'entrainement : 20000\n",
            "Nombre de questions de test : 5555\n"
          ],
          "name": "stdout"
        }
      ]
    },
    {
      "cell_type": "code",
      "metadata": {
        "colab": {
          "base_uri": "https://localhost:8080/"
        },
        "id": "m183xhVaUQ02",
        "outputId": "bb16e553-1c4c-4dc3-c644-8df31ff863f5"
      },
      "source": [
        "longueurs_train = []\n",
        "longueurs_test = []\n",
        "\n",
        "for quest in X_train :\n",
        "    longueurs_train.append(len(quest))\n",
        "l_train_max = max(longueurs_train)\n",
        "\n",
        "for quest in X_test :\n",
        "    longueurs_test.append(len(quest))\n",
        "l_test_max = max(longueurs_test)\n",
        "\n",
        "\n",
        "print(f\"Nombre de mots max dans les données d'entrainement : {l_train_max}\")\n",
        "print(f\"Nombre de mots moyen dans les données d'entrainement : {np.mean(longueurs_train)}\")\n",
        "print(f\"Déviation standart du nombre de mots dans les données d'entrainement : {np.std(longueurs_train)}\")\n",
        "\n",
        "print()\n",
        "print(f\"Nombre de mots max dans les données de test : {l_test_max}\")\n",
        "print(f\"Nombre de mots moyen dans les données de test : {np.mean(longueurs_test)}\")\n",
        "print(f\"Déviation standart du nombre de mots dans les données de test : {np.std(longueurs_test)}\")\n",
        "\n",
        "print()\n",
        "print(f\"Nombre de mots max totale : {max([l_train_max, l_test_max])}\")"
      ],
      "execution_count": null,
      "outputs": [
        {
          "output_type": "stream",
          "text": [
            "Nombre de mots max dans les données d'entrainement : 1127\n",
            "Nombre de mots moyen dans les données d'entrainement : 43.4608\n",
            "Déviation standart du nombre de mots dans les données d'entrainement : 34.77525073036857\n",
            "\n",
            "Nombre de mots max dans les données de test : 826\n",
            "Nombre de mots moyen dans les données de test : 43.437443744374434\n",
            "Déviation standart du nombre de mots dans les données de test : 35.55000031446479\n",
            "\n",
            "Nombre de mots max totale : 1127\n"
          ],
          "name": "stdout"
        }
      ]
    },
    {
      "cell_type": "markdown",
      "metadata": {
        "id": "e4iAc_zp-xA2"
      },
      "source": [
        "**En longueur de nombre de mots pour nos questions, on prendra la valeur de 90**"
      ]
    },
    {
      "cell_type": "markdown",
      "metadata": {
        "id": "O56E7rqIgf5m"
      },
      "source": [
        "### **Vocabulaire**"
      ]
    },
    {
      "cell_type": "code",
      "metadata": {
        "colab": {
          "base_uri": "https://localhost:8080/"
        },
        "id": "OFbNNkhhggNu",
        "outputId": "3564dc72-1c74-40a6-a246-523a633e7020"
      },
      "source": [
        "def get_vocab_length(data):\n",
        "\n",
        "    vocab = []\n",
        "\n",
        "    for ligne in data :\n",
        "\n",
        "        for word in set(ligne) :\n",
        "\n",
        "            vocab.append(word)\n",
        "    \n",
        "    return len(set(vocab)), set(vocab)\n",
        "\n",
        "nb_train, voc_train = get_vocab_length(X_train)\n",
        "nb_test, voc_test = get_vocab_length(X_test)\n",
        "\n",
        "unique_test = [x for x in voc_test if x not in voc_train]\n",
        "\n",
        "common = list(set(voc_test).intersection(voc_train))\n",
        "print(len(common))\n",
        "\n",
        "print(f\"Vocabulaire des données train : {nb_train}\")\n",
        "print(f\"Vocabulaire des données test : {nb_test}\")\n",
        "print(f\"Nombres de mots des données test inconnus des données train : {len(unique_test)}\")"
      ],
      "execution_count": null,
      "outputs": [
        {
          "output_type": "stream",
          "text": [
            "11766\n",
            "Vocabulaire des données train : 62211\n",
            "Vocabulaire des données test : 24367\n",
            "Nombres de mots des données test inconnus des données train : 12601\n"
          ],
          "name": "stdout"
        }
      ]
    },
    {
      "cell_type": "code",
      "metadata": {
        "id": "XKuQXLRl8_T3"
      },
      "source": [
        ""
      ],
      "execution_count": null,
      "outputs": []
    },
    {
      "cell_type": "markdown",
      "metadata": {
        "id": "1vOITKKp5VC9"
      },
      "source": [
        "### **Implémentation 2**"
      ]
    },
    {
      "cell_type": "markdown",
      "metadata": {
        "id": "UoNR8l7M_RYr"
      },
      "source": [
        "**Liste de modèles Bert**<br>https://huggingface.co/transformers/pretrained_models.html<br>On va utiliser \"bert_base_uncased\""
      ]
    },
    {
      "cell_type": "code",
      "metadata": {
        "id": "Q4H5phPTddo6",
        "colab": {
          "base_uri": "https://localhost:8080/",
          "height": 168,
          "referenced_widgets": [
            "d3ca73ccfb0e4b08b68b90de7a5e1b4e",
            "9a189e5d0057415b9f12d58f55073a7a",
            "d09b2d7db08040f497ce4b2365b7cb5f",
            "0ef50f99c0d9468faf00cfd21a83338d",
            "dfeea1d13c9b402ba7fec486bf7a0e39",
            "d2f747f370b54f03a6c112503bec59ed",
            "3e968ffabf724d44b069d1533144eb95",
            "b8e34a0962064774bac4a43c1b8c5807",
            "9dc11eaeaf4f47e6a53eb9af64fd5ea0",
            "5e2deda3bf974f97a7812cf6a1787a77",
            "c6521bce61cc41c8acfe106c375957b8",
            "2d275f8f847240e9a26a95b1ee71ddaa",
            "cf7a0a85883146c2b67ec89005da2f97",
            "1db36aba256145eb9d6980678e331486",
            "d4ce46357c674a2ca1b6632e71bcc034",
            "56e17cbfcf104a599358f66328bfab98",
            "d4f8828a15314e8da33a067633152ec9",
            "e1d2009daa8443c7822df59be94626d9",
            "aaa14f7d97a240a5bc3677d1bbde6d3c",
            "9ec9774ec6af4b9fae305710c57a81f4",
            "c757ce620c8041c3aa949cbc2da52c61",
            "4d2aa6847a9d4b55b508075b1767d901",
            "7011f4876f524ec7bea458e66f770107",
            "8669b145488a42aa94ee1e730eaf3095"
          ]
        },
        "outputId": "c10190bc-7018-4e55-dc1e-e4c0ef133f58"
      },
      "source": [
        "model_name = 'bert-base-uncased'\n",
        "tokenizer = BertTokenizer.from_pretrained(model_name)"
      ],
      "execution_count": 12,
      "outputs": [
        {
          "output_type": "display_data",
          "data": {
            "application/vnd.jupyter.widget-view+json": {
              "model_id": "d3ca73ccfb0e4b08b68b90de7a5e1b4e",
              "version_minor": 0,
              "version_major": 2
            },
            "text/plain": [
              "HBox(children=(FloatProgress(value=0.0, description='Downloading', max=231508.0, style=ProgressStyle(descripti…"
            ]
          },
          "metadata": {
            "tags": []
          }
        },
        {
          "output_type": "stream",
          "text": [
            "\n"
          ],
          "name": "stdout"
        },
        {
          "output_type": "display_data",
          "data": {
            "application/vnd.jupyter.widget-view+json": {
              "model_id": "9dc11eaeaf4f47e6a53eb9af64fd5ea0",
              "version_minor": 0,
              "version_major": 2
            },
            "text/plain": [
              "HBox(children=(FloatProgress(value=0.0, description='Downloading', max=28.0, style=ProgressStyle(description_w…"
            ]
          },
          "metadata": {
            "tags": []
          }
        },
        {
          "output_type": "stream",
          "text": [
            "\n"
          ],
          "name": "stdout"
        },
        {
          "output_type": "display_data",
          "data": {
            "application/vnd.jupyter.widget-view+json": {
              "model_id": "d4f8828a15314e8da33a067633152ec9",
              "version_minor": 0,
              "version_major": 2
            },
            "text/plain": [
              "HBox(children=(FloatProgress(value=0.0, description='Downloading', max=466062.0, style=ProgressStyle(descripti…"
            ]
          },
          "metadata": {
            "tags": []
          }
        },
        {
          "output_type": "stream",
          "text": [
            "\n"
          ],
          "name": "stdout"
        }
      ]
    },
    {
      "cell_type": "code",
      "metadata": {
        "id": "rwpDddbuddry"
      },
      "source": [
        "# IDS = position dans la liste demots différents classés par freq décroissante...\n",
        "\n",
        "\n",
        "# renvoie les token_ids et ajoutant les ['CLS] de début de phrase et les \"[SEP] de fin de phrase\"\n",
        "def bert_encode_ids(quest):\n",
        "\n",
        "    tokens = list(tokenizer.tokenize(quest))\n",
        "    tokens.append('[SEP]')\n",
        "    tokens.insert(0, \"[CLS]\")\n",
        "    return tokenizer.convert_tokens_to_ids(tokens)"
      ],
      "execution_count": 11,
      "outputs": []
    },
    {
      "cell_type": "code",
      "metadata": {
        "colab": {
          "base_uri": "https://localhost:8080/"
        },
        "id": "Od3BZ9zAuTfi",
        "outputId": "0979e069-eb65-41db-e1b3-bd2c94c54ea6"
      },
      "source": [
        "print(bert_encode_ids(X_train[0]))"
      ],
      "execution_count": null,
      "outputs": [
        {
          "output_type": "stream",
          "text": [
            "[101, 24234, 5896, 2517, 2503, 22091, 2015, 23375, 3853, 4339, 24234, 5896, 2503, 23375, 3853, 3191, 22091, 2015, 9986, 2015, 15389, 3642, 2517, 18750, 13045, 22578, 9262, 3855, 5491, 2825, 2224, 24234, 5509, 3350, 4637, 2742, 102]\n"
          ],
          "name": "stdout"
        }
      ]
    },
    {
      "cell_type": "markdown",
      "metadata": {
        "id": "Z-NuwkALyTIF"
      },
      "source": [
        "Ici **subword based toenisation** --> cf vidéo hugginface"
      ]
    },
    {
      "cell_type": "markdown",
      "metadata": {
        "id": "7-lBQSRc09eR"
      },
      "source": [
        "**Essai 1**<br>juste les ids..."
      ]
    },
    {
      "cell_type": "code",
      "metadata": {
        "id": "Z_rVfWvVddur"
      },
      "source": [
        "def bert_encode_1(data):\n",
        "\n",
        "    questions_enc = tf.ragged.constant([bert_encode_ids(q) for q in np.array(data)])\n",
        "\n",
        "    return questions_enc"
      ],
      "execution_count": null,
      "outputs": []
    },
    {
      "cell_type": "code",
      "metadata": {
        "id": "TTd4X6Psddx0"
      },
      "source": [
        "data_enc = bert_encode_1(X_train)"
      ],
      "execution_count": null,
      "outputs": []
    },
    {
      "cell_type": "code",
      "metadata": {
        "id": "0mOhAk6IURkZ",
        "colab": {
          "base_uri": "https://localhost:8080/"
        },
        "outputId": "0b43de2d-5e62-4f58-b05a-ff333ac399a2"
      },
      "source": [
        "data_enc[100]"
      ],
      "execution_count": null,
      "outputs": [
        {
          "output_type": "execute_result",
          "data": {
            "text/plain": [
              "<tf.Tensor: shape=(100,), dtype=int32, numpy=\n",
              "array([  101, 14817,  5746,  4942, 27430,  2678, 21461,  8737, 13910,\n",
              "        3674,  5746,  3162,  4942, 27430, 14817,  2309,  1012, 12395,\n",
              "        2615,  5371,  1049,  2047, 21461,  8737, 13910, 10954,  2310,\n",
              "        2699,  5746, 21461,  8737, 13910,  2678,  1012, 12395,  2615,\n",
              "        1058,  2078,  9353, 10244,  2278,  6100,  5746,  1012,  9779,\n",
              "        2278, 14817,  5746,  2215,  2425, 21461,  8737, 13910, 14817,\n",
              "        2309,  5746,  6764,  4942,  3775,  9286,  6764,  7688,  2434,\n",
              "        6764, 14305, 23961,  2113,  5331,  5746,  6764,  2672,  1012,\n",
              "       13109,  6305,  1012,  9779,  2278,  1049,  2469,  7300,  1040,\n",
              "        2179,  3784,  8552,  2342, 17959,  2113,  2573, 17708,  3094,\n",
              "        2925,  2126,  3740,  2448,  3642,  3645,  4642,  2094,  4283,\n",
              "         102], dtype=int32)>"
            ]
          },
          "metadata": {
            "tags": []
          },
          "execution_count": 105
        }
      ]
    },
    {
      "cell_type": "markdown",
      "metadata": {
        "id": "oo4U1k641Z58"
      },
      "source": [
        "On a un array de dim fluctuante"
      ]
    },
    {
      "cell_type": "code",
      "metadata": {
        "id": "RAtLsSq_02eb"
      },
      "source": [
        "cls = [tokenizer.convert_tokens_to_ids(['[CLS]'])]*data_enc.shape[0]\n",
        "input_word_ids = tf.concat([cls, data_enc], axis=-1)"
      ],
      "execution_count": null,
      "outputs": []
    },
    {
      "cell_type": "code",
      "metadata": {
        "colab": {
          "base_uri": "https://localhost:8080/"
        },
        "id": "X7JVtc4F02hL",
        "outputId": "1f37f711-1cf9-4ec1-a7d2-b4408684da99"
      },
      "source": [
        "input_word_ids[0]"
      ],
      "execution_count": null,
      "outputs": [
        {
          "output_type": "execute_result",
          "data": {
            "text/plain": [
              "<tf.Tensor: shape=(38,), dtype=int32, numpy=\n",
              "array([  101,   101, 24234,  5896,  2517,  2503, 22091,  2015, 23375,\n",
              "        3853,  4339, 24234,  5896,  2503, 23375,  3853,  3191, 22091,\n",
              "        2015,  9986,  2015, 15389,  3642,  2517, 18750, 13045, 22578,\n",
              "        9262,  3855,  5491,  2825,  2224, 24234,  5509,  3350,  4637,\n",
              "        2742,   102], dtype=int32)>"
            ]
          },
          "metadata": {
            "tags": []
          },
          "execution_count": 104
        }
      ]
    },
    {
      "cell_type": "code",
      "metadata": {
        "id": "oyyRUidg02kB"
      },
      "source": [
        ""
      ],
      "execution_count": null,
      "outputs": []
    },
    {
      "cell_type": "code",
      "metadata": {
        "id": "Ws3RMcHI02mu"
      },
      "source": [
        "input_mask = tf.ones_like(data_enc).to_tensor()"
      ],
      "execution_count": null,
      "outputs": []
    },
    {
      "cell_type": "code",
      "metadata": {
        "colab": {
          "base_uri": "https://localhost:8080/"
        },
        "id": "UZejDrp_02ph",
        "outputId": "59c6fe0b-bf82-42c4-d2bb-d601e96029af"
      },
      "source": [
        "input_mask.shape"
      ],
      "execution_count": null,
      "outputs": [
        {
          "output_type": "execute_result",
          "data": {
            "text/plain": [
              "TensorShape([20000, 6421])"
            ]
          },
          "metadata": {
            "tags": []
          },
          "execution_count": 107
        }
      ]
    },
    {
      "cell_type": "code",
      "metadata": {
        "colab": {
          "base_uri": "https://localhost:8080/"
        },
        "id": "o593lAHk02sJ",
        "outputId": "4d2084fe-dea1-46b7-beb8-b8af7e29766d"
      },
      "source": [
        "input_mask[100]"
      ],
      "execution_count": null,
      "outputs": [
        {
          "output_type": "execute_result",
          "data": {
            "text/plain": [
              "<tf.Tensor: shape=(6421,), dtype=int32, numpy=array([1, 1, 1, ..., 0, 0, 0], dtype=int32)>"
            ]
          },
          "metadata": {
            "tags": []
          },
          "execution_count": 109
        }
      ]
    },
    {
      "cell_type": "code",
      "metadata": {
        "colab": {
          "base_uri": "https://localhost:8080/"
        },
        "id": "VOu9W8N3dQ5x",
        "outputId": "6ede4a0f-b0ff-4307-eacb-1324f29563f6"
      },
      "source": [
        ""
      ],
      "execution_count": null,
      "outputs": [
        {
          "output_type": "stream",
          "text": [
            "Number of replicas: 1\n"
          ],
          "name": "stdout"
        }
      ]
    },
    {
      "cell_type": "markdown",
      "metadata": {
        "id": "Kr5-4UnA7YqD"
      },
      "source": [
        "**Test sur la longueur des vecteurs**"
      ]
    },
    {
      "cell_type": "code",
      "metadata": {
        "id": "g7w2FxaV51bu"
      },
      "source": [
        "# test :\n",
        "input_wordids = tf.ragged.constant([bert_encode_ids(q) for q in np.array(X_train)])"
      ],
      "execution_count": null,
      "outputs": []
    },
    {
      "cell_type": "code",
      "metadata": {
        "colab": {
          "base_uri": "https://localhost:8080/"
        },
        "id": "px3uyQUb58Yq",
        "outputId": "1080d2b7-8969-4fe8-96df-037e61ebbbb2"
      },
      "source": [
        "# forme objet et formes d'éléments...\n",
        "# les éléments ont des longueurs différentes...\n",
        "input_wordids.shape, input_wordids[0].shape, input_wordids[154].shape"
      ],
      "execution_count": null,
      "outputs": [
        {
          "output_type": "execute_result",
          "data": {
            "text/plain": [
              "(TensorShape([20000, None]), TensorShape([37]), TensorShape([54]))"
            ]
          },
          "metadata": {
            "tags": []
          },
          "execution_count": 153
        }
      ]
    },
    {
      "cell_type": "code",
      "metadata": {
        "id": "9ePTQwD658bY"
      },
      "source": [
        "# mise son forme de tenseur ---> ca va créer le PADDING -> mise à même longueur de tous les vecteurs avec des 0\n",
        "input_wordids = input_wordids.to_tensor(shape = [input_wordids.shape[0], 150])"
      ],
      "execution_count": null,
      "outputs": []
    },
    {
      "cell_type": "code",
      "metadata": {
        "colab": {
          "base_uri": "https://localhost:8080/"
        },
        "id": "CPvNZ8OQ58eL",
        "outputId": "cbf71987-192f-479b-90b8-6b792e928de8"
      },
      "source": [
        "# vérification\n",
        "input_wordids.shape, input_wordids[0].shape, input_wordids[154].shape"
      ],
      "execution_count": null,
      "outputs": [
        {
          "output_type": "execute_result",
          "data": {
            "text/plain": [
              "(TensorShape([20000, 150]), TensorShape([150]), TensorShape([150]))"
            ]
          },
          "metadata": {
            "tags": []
          },
          "execution_count": 156
        }
      ]
    },
    {
      "cell_type": "code",
      "metadata": {
        "colab": {
          "base_uri": "https://localhost:8080/"
        },
        "id": "Puu6li2r58hI",
        "outputId": "bf8d16d6-ee8c-44e0-a20f-22fcaccb9e79"
      },
      "source": [
        "print(input_wordids[0])"
      ],
      "execution_count": null,
      "outputs": [
        {
          "output_type": "stream",
          "text": [
            "tf.Tensor(\n",
            "[  101 24234  5896  2517  2503 22091  2015 23375  3853  4339 24234  5896\n",
            "  2503 23375  3853  3191 22091  2015  9986  2015 15389  3642  2517 18750\n",
            " 13045 22578  9262  3855  5491  2825  2224 24234  5509  3350  4637  2742\n",
            "   102     0     0     0     0     0     0     0     0     0     0     0\n",
            "     0     0     0     0     0     0     0     0     0     0     0     0\n",
            "     0     0     0     0     0     0     0     0     0     0     0     0\n",
            "     0     0     0     0     0     0     0     0     0     0     0     0\n",
            "     0     0     0     0     0     0     0     0     0     0     0     0\n",
            "     0     0     0     0     0     0     0     0     0     0     0     0\n",
            "     0     0     0     0     0     0     0     0     0     0     0     0\n",
            "     0     0     0     0     0     0     0     0     0     0     0     0\n",
            "     0     0     0     0     0     0     0     0     0     0     0     0\n",
            "     0     0     0     0     0     0], shape=(150,), dtype=int32)\n"
          ],
          "name": "stdout"
        }
      ]
    },
    {
      "cell_type": "code",
      "metadata": {
        "id": "6O7MCIWmW8Oq"
      },
      "source": [
        "model_name = 'bert-base-uncased'\n",
        "tokenizer = BertTokenizer.from_pretrained(model_name)"
      ],
      "execution_count": null,
      "outputs": []
    },
    {
      "cell_type": "code",
      "metadata": {
        "id": "FWq7_y1J02ut"
      },
      "source": [
        "def bert_encode_ids(quest):\n",
        "\n",
        "    tokens = list(tokenizer.tokenize(quest))\n",
        "    tokens.append('[SEP]')\n",
        "    tokens.insert(0, \"[CLS]\")\n",
        "    return tokenizer.convert_tokens_to_ids(tokens)\n",
        "\n",
        "\n",
        "def bert_encode(data, question_length):\n",
        "\n",
        "    data = np.array(data)\n",
        "\n",
        "    shape_data = [data.shape[0], question_length]\n",
        "\n",
        "    input_word_ids = tf.ragged.constant([bert_encode_ids(q) for q in data])\n",
        "\n",
        "    input_mask = tf.ones_like(input_word_ids).to_tensor(shape = shape_data)\n",
        "\n",
        "    input_type_ids = tf.zeros_like(input_word_ids).to_tensor(shape = shape_data)\n",
        "\n",
        "    #input_mask = tf.ones_like(input_word_ids).to_tensor()\n",
        "\n",
        "    #input_type_ids = tf.zeros_like(input_word_ids).to_tensor()\n",
        "\n",
        "\n",
        "    inputs = {\n",
        "    'input_word_ids': input_word_ids.to_tensor(shape = shape_data),\n",
        "#    'input_word_ids': input_word_ids.to_tensor(),\n",
        "\n",
        "    'input_mask': input_mask,\n",
        "    'input_type_ids': input_type_ids}\n",
        "\n",
        "    return inputs"
      ],
      "execution_count": 31,
      "outputs": []
    },
    {
      "cell_type": "code",
      "metadata": {
        "id": "xcPs6JiM02xF"
      },
      "source": [
        "train_inputs = bert_encode(X_train, 90)\n",
        "test_inputs = bert_encode(X_test, 90)\n",
        "#inputs = bert_encode(X_train)"
      ],
      "execution_count": 32,
      "outputs": []
    },
    {
      "cell_type": "code",
      "metadata": {
        "id": "ixG9ZaKL02zl",
        "colab": {
          "base_uri": "https://localhost:8080/"
        },
        "outputId": "81674315-2585-4c9c-ce2b-314cce93d3e7"
      },
      "source": [
        "for k in train_inputs.keys():\n",
        "\n",
        "    print(train_inputs[k].shape)\n",
        "\n",
        "for k in test_inputs.keys():\n",
        "\n",
        "    print(test_inputs[k].shape)"
      ],
      "execution_count": 38,
      "outputs": [
        {
          "output_type": "stream",
          "text": [
            "(20000, 90)\n",
            "(20000, 90)\n",
            "(20000, 90)\n",
            "(5555, 90)\n",
            "(5555, 90)\n",
            "(5555, 90)\n"
          ],
          "name": "stdout"
        }
      ]
    },
    {
      "cell_type": "code",
      "metadata": {
        "id": "irRVrZZRCdsX"
      },
      "source": [
        ""
      ],
      "execution_count": null,
      "outputs": []
    },
    {
      "cell_type": "code",
      "metadata": {
        "id": "MLlci8et022I"
      },
      "source": [
        "\n",
        "def build_model():\n",
        "\n",
        "    max_len = 90\n",
        "\n",
        "    bert_encoder = TFBertModel.from_pretrained(model_name)\n",
        "    input_word_ids = tf.keras.Input(shape=(max_len,), dtype=tf.int32, name=\"input_word_ids\")\n",
        "    input_mask = tf.keras.Input(shape=(max_len,), dtype=tf.int32, name=\"input_mask\")\n",
        "    input_type_ids = tf.keras.Input(shape=(max_len,), dtype=tf.int32, name=\"input_type_ids\")\n",
        "\n",
        "    embedding = bert_encoder([input_word_ids, input_mask, input_type_ids])[0]\n",
        "\n",
        "    output = tf.keras.layers.Dense(25, activation='sigmoid')(embedding[:,0,:])\n",
        "\n",
        "    model = tf.keras.Model(inputs=[input_word_ids, input_mask, input_type_ids], outputs=output)\n",
        "\n",
        "    model.compile(tf.keras.optimizers.Adam(learning_rate = 1e-5), loss='binary_crossentropy', metrics=['accuracy'])\n",
        "\n",
        "    return model\n",
        "\n",
        "def f1sw(preds, target):\n",
        "\n",
        "    f1_sc = f1_score(target, preds, average = \"weighted\")\n",
        "\n",
        "    return f1_sc"
      ],
      "execution_count": 36,
      "outputs": []
    },
    {
      "cell_type": "markdown",
      "metadata": {
        "id": "d9XekwuM_gBm"
      },
      "source": [
        "**Config env TPU**"
      ]
    },
    {
      "cell_type": "code",
      "metadata": {
        "id": "KiHlkDOj_gQV"
      },
      "source": [
        "try:\n",
        "    tpu = tf.distribute.cluster_resolver.TPUClusterResolver() # KM: detect and init the TPU: TPUClusterResolver() locates the TPUs on the network\n",
        "    tf.config.experimental_connect_to_cluster(tpu)\n",
        "    tf.tpu.experimental.initialize_tpu_system(tpu)\n",
        "    strategy = tf.distribute.experimental.TPUStrategy(tpu) # KM: \"strategy\" contains the necessary distributed training code that will work on the TPUs\n",
        "except ValueError: # KM: in case Accelerator is not set to TPU in the Notebook Settings\n",
        "    strategy = tf.distribute.get_strategy() # for CPU and single GPU\n",
        "    print('Number of replicas:', strategy.num_replicas_in_sync) # KM: returns the number of cores"
      ],
      "execution_count": null,
      "outputs": []
    },
    {
      "cell_type": "markdown",
      "metadata": {
        "id": "yPlCh-Kl_lGP"
      },
      "source": [
        "Création du modèle dans cette env..."
      ]
    },
    {
      "cell_type": "code",
      "metadata": {
        "id": "L0EPWHXC0244"
      },
      "source": [
        "with strategy.scope():\n",
        "    model = build_model()\n",
        "    model.summary()"
      ],
      "execution_count": null,
      "outputs": []
    },
    {
      "cell_type": "code",
      "metadata": {
        "colab": {
          "base_uri": "https://localhost:8080/",
          "height": 387
        },
        "id": "8-6BaKstEMvI",
        "outputId": "4001de4e-2235-4e39-b0cc-83cdecd350b9"
      },
      "source": [
        "tf.keras.utils.plot_model(model, \"my_model.png\", show_shapes=True)"
      ],
      "execution_count": 23,
      "outputs": [
        {
          "output_type": "execute_result",
          "data": {
            "image/png": "[encoded data removed]",
            "text/plain": [
              "<IPython.core.display.Image object>"
            ]
          },
          "metadata": {
            "tags": []
          },
          "execution_count": 23
        }
      ]
    },
    {
      "cell_type": "code",
      "metadata": {
        "id": "Dby_fLE3027O"
      },
      "source": [
        "start = time()\n",
        "\n",
        "model.fit(inputs, y_train, epochs = 10, verbose = 1, batch_size = 32, validation_split = 0.2)\n",
        "\n",
        "print(f\"L'entrainement a pris : {time()-start:.0f} sec.\")"
      ],
      "execution_count": null,
      "outputs": []
    },
    {
      "cell_type": "code",
      "metadata": {
        "id": "KLpgRMFn02-L"
      },
      "source": [
        ""
      ],
      "execution_count": null,
      "outputs": []
    },
    {
      "cell_type": "code",
      "metadata": {
        "id": "p0HyYfSp03Ay"
      },
      "source": [
        ""
      ],
      "execution_count": null,
      "outputs": []
    },
    {
      "cell_type": "code",
      "metadata": {
        "id": "cCRSjgWI03Dl"
      },
      "source": [
        "def modelize(model, epochs, data, mod_name):\n",
        "    \"\"\"\n",
        "    Fonction de modélisation.\n",
        "    \"\"\"\n",
        "    # checkpoint = ModelCheckpoint(filepath = \"/drive/MyDrive/P7/Data/\" + mod_name, \n",
        "    #                              monitor = \"val_accuracy\",\n",
        "    #                              verbose = 1,\n",
        "    #                              save_best_only = True)\n",
        "    \n",
        "    start = time()\n",
        "\n",
        "    history = model.fit(data[0], \n",
        "                        data[1],\n",
        "                        epochs = epochs,\n",
        "                        batch_size = 32,\n",
        "                        validation_split = 0.2)#,\n",
        "                        #callbacks = [checkpoint])\n",
        "    \n",
        "    #val_acc = history.history['val_accuracy'][-1]\n",
        "    \n",
        "    preds = model.predict(data[2])\n",
        "    \n",
        "    pred = preds.round()\n",
        "    \n",
        "    f1_sc = f1_score(data[3],\n",
        "                     pred,\n",
        "                     average = \"weighted\")\n",
        "    \n",
        "    fig = plt.figure(figsize = (10,4))\n",
        "\n",
        "    train_acc = history.history[\"accuracy\"]\n",
        "    val_acc = history.history[\"val_accuracy\"]\n",
        "    \n",
        "    plt.plot(range(1, epochs+1), train_acc, 'b', label='Train acc', color = \"red\")\n",
        "    plt.plot(range(1, epochs+1), val_acc, 'b', label='Validation acc', color = \"blue\")\n",
        "    plt.title('Train & validation accuracies - ' + mod_name)\n",
        "    plt.xlabel(\"Epochs\")\n",
        "    plt.ylabel(\"Accuracy\")\n",
        "    plt.legend()\n",
        "    \n",
        "    print()\n",
        "    print(f\"Temps d'entrainements pour {epochs} epochs : {time()-start:.0f} secondes.\")\n",
        "    print(f\"Meilleure train_acc = {np.max(train_acc):.3f}, meilleure val_acc = {np.max(val_acc):.3f}\")\n",
        "    print()\n",
        "    print(f\"F1_score obtenu : {f1_sc:.2f}\")\n",
        "\n",
        "    plt.show()"
      ],
      "execution_count": 57,
      "outputs": []
    },
    {
      "cell_type": "code",
      "metadata": {
        "colab": {
          "base_uri": "https://localhost:8080/"
        },
        "id": "ltLlQIbGJhEa",
        "outputId": "176fd608-69a0-469e-c5da-8230ea0a339f"
      },
      "source": [
        "with strategy.scope():\n",
        "    model1 = build_model()\n",
        "    model1.summary()"
      ],
      "execution_count": 58,
      "outputs": [
        {
          "output_type": "stream",
          "text": [
            "Some layers from the model checkpoint at bert-base-uncased were not used when initializing TFBertModel: ['mlm___cls', 'nsp___cls']\n",
            "- This IS expected if you are initializing TFBertModel from the checkpoint of a model trained on another task or with another architecture (e.g. initializing a BertForSequenceClassification model from a BertForPreTraining model).\n",
            "- This IS NOT expected if you are initializing TFBertModel from the checkpoint of a model that you expect to be exactly identical (initializing a BertForSequenceClassification model from a BertForSequenceClassification model).\n",
            "All the layers of TFBertModel were initialized from the model checkpoint at bert-base-uncased.\n",
            "If your task is similar to the task the model of the checkpoint was trained on, you can already use TFBertModel for predictions without further training.\n"
          ],
          "name": "stderr"
        },
        {
          "output_type": "stream",
          "text": [
            "WARNING:tensorflow:The parameters `output_attentions`, `output_hidden_states` and `use_cache` cannot be updated when calling a model.They have to be set to True/False in the config object (i.e.: `config=XConfig.from_pretrained('name', output_attentions=True)`).\n"
          ],
          "name": "stdout"
        },
        {
          "output_type": "stream",
          "text": [
            "WARNING:tensorflow:The parameters `output_attentions`, `output_hidden_states` and `use_cache` cannot be updated when calling a model.They have to be set to True/False in the config object (i.e.: `config=XConfig.from_pretrained('name', output_attentions=True)`).\n"
          ],
          "name": "stderr"
        },
        {
          "output_type": "stream",
          "text": [
            "WARNING:tensorflow:The parameter `return_dict` cannot be set in graph mode and will always be set to `True`.\n"
          ],
          "name": "stdout"
        },
        {
          "output_type": "stream",
          "text": [
            "WARNING:tensorflow:The parameter `return_dict` cannot be set in graph mode and will always be set to `True`.\n"
          ],
          "name": "stderr"
        },
        {
          "output_type": "stream",
          "text": [
            "Model: \"model_7\"\n",
            "__________________________________________________________________________________________________\n",
            "Layer (type)                    Output Shape         Param #     Connected to                     \n",
            "==================================================================================================\n",
            "input_word_ids (InputLayer)     [(None, 90)]         0                                            \n",
            "__________________________________________________________________________________________________\n",
            "input_mask (InputLayer)         [(None, 90)]         0                                            \n",
            "__________________________________________________________________________________________________\n",
            "input_type_ids (InputLayer)     [(None, 90)]         0                                            \n",
            "__________________________________________________________________________________________________\n",
            "tf_bert_model_7 (TFBertModel)   TFBaseModelOutputWit 109482240   input_word_ids[0][0]             \n",
            "                                                                 input_mask[0][0]                 \n",
            "                                                                 input_type_ids[0][0]             \n",
            "__________________________________________________________________________________________________\n",
            "tf.__operators__.getitem_7 (Sli (None, 768)          0           tf_bert_model_7[0][0]            \n",
            "__________________________________________________________________________________________________\n",
            "dense_7 (Dense)                 (None, 25)           19225       tf.__operators__.getitem_7[0][0] \n",
            "==================================================================================================\n",
            "Total params: 109,501,465\n",
            "Trainable params: 109,501,465\n",
            "Non-trainable params: 0\n",
            "__________________________________________________________________________________________________\n"
          ],
          "name": "stdout"
        }
      ]
    },
    {
      "cell_type": "code",
      "metadata": {
        "id": "rYSeu2hY03GT"
      },
      "source": [
        "DATA = [train_inputs, y_train, test_inputs, y_test]"
      ],
      "execution_count": 59,
      "outputs": []
    },
    {
      "cell_type": "code",
      "metadata": {
        "id": "F-zbtQfI03Jd",
        "colab": {
          "base_uri": "https://localhost:8080/",
          "height": 1000
        },
        "outputId": "227b2b41-248c-484c-e234-83cca0916eae"
      },
      "source": [
        "modelize(model1, 10, DATA, \"model_01\")"
      ],
      "execution_count": 60,
      "outputs": [
        {
          "output_type": "stream",
          "text": [
            "Epoch 1/10\n",
            "WARNING:tensorflow:The parameters `output_attentions`, `output_hidden_states` and `use_cache` cannot be updated when calling a model.They have to be set to True/False in the config object (i.e.: `config=XConfig.from_pretrained('name', output_attentions=True)`).\n"
          ],
          "name": "stdout"
        },
        {
          "output_type": "stream",
          "text": [
            "WARNING:tensorflow:The parameters `output_attentions`, `output_hidden_states` and `use_cache` cannot be updated when calling a model.They have to be set to True/False in the config object (i.e.: `config=XConfig.from_pretrained('name', output_attentions=True)`).\n"
          ],
          "name": "stderr"
        },
        {
          "output_type": "stream",
          "text": [
            "WARNING:tensorflow:The parameter `return_dict` cannot be set in graph mode and will always be set to `True`.\n"
          ],
          "name": "stdout"
        },
        {
          "output_type": "stream",
          "text": [
            "WARNING:tensorflow:The parameter `return_dict` cannot be set in graph mode and will always be set to `True`.\n"
          ],
          "name": "stderr"
        },
        {
          "output_type": "stream",
          "text": [
            "WARNING:tensorflow:Gradients do not exist for variables ['tf_bert_model_7/bert/pooler/dense/kernel:0', 'tf_bert_model_7/bert/pooler/dense/bias:0'] when minimizing the loss.\n"
          ],
          "name": "stdout"
        },
        {
          "output_type": "stream",
          "text": [
            "WARNING:tensorflow:Gradients do not exist for variables ['tf_bert_model_7/bert/pooler/dense/kernel:0', 'tf_bert_model_7/bert/pooler/dense/bias:0'] when minimizing the loss.\n"
          ],
          "name": "stderr"
        },
        {
          "output_type": "stream",
          "text": [
            "WARNING:tensorflow:The parameters `output_attentions`, `output_hidden_states` and `use_cache` cannot be updated when calling a model.They have to be set to True/False in the config object (i.e.: `config=XConfig.from_pretrained('name', output_attentions=True)`).\n"
          ],
          "name": "stdout"
        },
        {
          "output_type": "stream",
          "text": [
            "WARNING:tensorflow:The parameters `output_attentions`, `output_hidden_states` and `use_cache` cannot be updated when calling a model.They have to be set to True/False in the config object (i.e.: `config=XConfig.from_pretrained('name', output_attentions=True)`).\n"
          ],
          "name": "stderr"
        },
        {
          "output_type": "stream",
          "text": [
            "WARNING:tensorflow:The parameter `return_dict` cannot be set in graph mode and will always be set to `True`.\n"
          ],
          "name": "stdout"
        },
        {
          "output_type": "stream",
          "text": [
            "WARNING:tensorflow:The parameter `return_dict` cannot be set in graph mode and will always be set to `True`.\n"
          ],
          "name": "stderr"
        },
        {
          "output_type": "stream",
          "text": [
            "WARNING:tensorflow:Gradients do not exist for variables ['tf_bert_model_7/bert/pooler/dense/kernel:0', 'tf_bert_model_7/bert/pooler/dense/bias:0'] when minimizing the loss.\n"
          ],
          "name": "stdout"
        },
        {
          "output_type": "stream",
          "text": [
            "WARNING:tensorflow:Gradients do not exist for variables ['tf_bert_model_7/bert/pooler/dense/kernel:0', 'tf_bert_model_7/bert/pooler/dense/bias:0'] when minimizing the loss.\n"
          ],
          "name": "stderr"
        },
        {
          "output_type": "stream",
          "text": [
            "500/500 [==============================] - ETA: 0s - loss: 0.1555 - accuracy: 0.4254WARNING:tensorflow:The parameters `output_attentions`, `output_hidden_states` and `use_cache` cannot be updated when calling a model.They have to be set to True/False in the config object (i.e.: `config=XConfig.from_pretrained('name', output_attentions=True)`).\n"
          ],
          "name": "stdout"
        },
        {
          "output_type": "stream",
          "text": [
            "WARNING:tensorflow:The parameters `output_attentions`, `output_hidden_states` and `use_cache` cannot be updated when calling a model.They have to be set to True/False in the config object (i.e.: `config=XConfig.from_pretrained('name', output_attentions=True)`).\n"
          ],
          "name": "stderr"
        },
        {
          "output_type": "stream",
          "text": [
            "WARNING:tensorflow:The parameter `return_dict` cannot be set in graph mode and will always be set to `True`.\n"
          ],
          "name": "stdout"
        },
        {
          "output_type": "stream",
          "text": [
            "WARNING:tensorflow:The parameter `return_dict` cannot be set in graph mode and will always be set to `True`.\n"
          ],
          "name": "stderr"
        },
        {
          "output_type": "stream",
          "text": [
            "500/500 [==============================] - 99s 78ms/step - loss: 0.1555 - accuracy: 0.4254 - val_loss: 0.0839 - val_accuracy: 0.6488\n",
            "Epoch 2/10\n",
            "500/500 [==============================] - 34s 67ms/step - loss: 0.0792 - accuracy: 0.6642 - val_loss: 0.0714 - val_accuracy: 0.6848\n",
            "Epoch 3/10\n",
            "500/500 [==============================] - 34s 67ms/step - loss: 0.0657 - accuracy: 0.7048 - val_loss: 0.0672 - val_accuracy: 0.6900\n",
            "Epoch 4/10\n",
            "500/500 [==============================] - 34s 67ms/step - loss: 0.0570 - accuracy: 0.7306 - val_loss: 0.0667 - val_accuracy: 0.6975\n",
            "Epoch 5/10\n",
            "500/500 [==============================] - 33s 67ms/step - loss: 0.0498 - accuracy: 0.7537 - val_loss: 0.0648 - val_accuracy: 0.7058\n",
            "Epoch 6/10\n",
            "500/500 [==============================] - 33s 67ms/step - loss: 0.0436 - accuracy: 0.7728 - val_loss: 0.0661 - val_accuracy: 0.7033\n",
            "Epoch 7/10\n",
            "500/500 [==============================] - 34s 67ms/step - loss: 0.0375 - accuracy: 0.7931 - val_loss: 0.0669 - val_accuracy: 0.7068\n",
            "Epoch 8/10\n",
            "500/500 [==============================] - 34s 67ms/step - loss: 0.0321 - accuracy: 0.8104 - val_loss: 0.0716 - val_accuracy: 0.6983\n",
            "Epoch 9/10\n",
            "500/500 [==============================] - 34s 67ms/step - loss: 0.0272 - accuracy: 0.8242 - val_loss: 0.0735 - val_accuracy: 0.7018\n",
            "Epoch 10/10\n",
            "500/500 [==============================] - 33s 67ms/step - loss: 0.0234 - accuracy: 0.8318 - val_loss: 0.0765 - val_accuracy: 0.6985\n"
          ],
          "name": "stdout"
        },
        {
          "output_type": "stream",
          "text": [
            "INFO:absl:TPU has inputs with dynamic shapes: [<tf.Tensor 'Const:0' shape=() dtype=int32>, <tf.Tensor 'cond_8/Identity:0' shape=(None, 90) dtype=int32>, <tf.Tensor 'cond_8/Identity_1:0' shape=(None, 90) dtype=int32>, <tf.Tensor 'cond_8/Identity_2:0' shape=(None, 90) dtype=int32>]\n"
          ],
          "name": "stderr"
        },
        {
          "output_type": "stream",
          "text": [
            "WARNING:tensorflow:The parameters `output_attentions`, `output_hidden_states` and `use_cache` cannot be updated when calling a model.They have to be set to True/False in the config object (i.e.: `config=XConfig.from_pretrained('name', output_attentions=True)`).\n"
          ],
          "name": "stdout"
        },
        {
          "output_type": "stream",
          "text": [
            "WARNING:tensorflow:The parameters `output_attentions`, `output_hidden_states` and `use_cache` cannot be updated when calling a model.They have to be set to True/False in the config object (i.e.: `config=XConfig.from_pretrained('name', output_attentions=True)`).\n"
          ],
          "name": "stderr"
        },
        {
          "output_type": "stream",
          "text": [
            "WARNING:tensorflow:The parameter `return_dict` cannot be set in graph mode and will always be set to `True`.\n"
          ],
          "name": "stdout"
        },
        {
          "output_type": "stream",
          "text": [
            "WARNING:tensorflow:The parameter `return_dict` cannot be set in graph mode and will always be set to `True`.\n"
          ],
          "name": "stderr"
        },
        {
          "output_type": "stream",
          "text": [
            "\n",
            "Temps d'entrainements pour 10 epochs : 418 secondes.\n",
            "Meilleure train_acc = 0.832, meilleure val_acc = 0.707\n",
            "\n",
            "F1_score obtenu : 0.78\n"
          ],
          "name": "stdout"
        },
        {
          "output_type": "display_data",
          "data": {
            "image/png": "[encoded data removed]",
            "text/plain": [
              "<Figure size 720x288 with 1 Axes>"
            ]
          },
          "metadata": {
            "tags": [],
            "needs_background": "light"
          }
        }
      ]
    },
    {
      "cell_type": "code",
      "metadata": {
        "id": "HPwMlbOQURpS"
      },
      "source": [
        ""
      ],
      "execution_count": null,
      "outputs": []
    }
  ]
}